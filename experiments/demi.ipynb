{
 "cells": [
  {
   "cell_type": "code",
   "execution_count": 10,
   "id": "3c27e5ed",
   "metadata": {},
   "outputs": [],
   "source": [
    "from tqdm import tqdm\n",
    "import matplotlib.pyplot as plt\n",
    "import numpy as np\n",
    "\n",
    "import torch\n",
    "from torch import nn\n",
    "from torch.utils.data import DataLoader, Dataset, ConcatDataset\n",
    "from torchvision.transforms import functional as F\n",
    "\n",
    "import torchvision\n",
    "from torchvision import datasets\n",
    "import torchvision.transforms as transforms\n",
    "from torchvision.transforms import ToTensor, RandomCrop"
   ]
  },
  {
   "cell_type": "code",
   "execution_count": 2,
   "id": "4e6b0a74",
   "metadata": {},
   "outputs": [],
   "source": [
    "%load_ext tensorboard"
   ]
  },
  {
   "cell_type": "code",
   "execution_count": 3,
   "id": "43a185b0",
   "metadata": {},
   "outputs": [],
   "source": [
    "from torch.utils.tensorboard import SummaryWriter"
   ]
  },
  {
   "cell_type": "code",
   "execution_count": 4,
   "id": "1b140056",
   "metadata": {},
   "outputs": [
    {
     "data": {
      "text/plain": [
       "device(type='cuda', index=0)"
      ]
     },
     "execution_count": 4,
     "metadata": {},
     "output_type": "execute_result"
    }
   ],
   "source": [
    "import os\n",
    "device = torch.device('cuda:0') if torch.cuda.is_available() else 'cpu'\n",
    "device"
   ]
  },
  {
   "cell_type": "code",
   "execution_count": 5,
   "id": "32033063",
   "metadata": {},
   "outputs": [],
   "source": [
    "size_h = size_w = 32\n",
    "image_mean = [0.4914, 0.4822, 0.4465]\n",
    "image_std = [0.2023, 0.1994, 0.2010]\n",
    "batch_size = 2048\n",
    "\n",
    "trans_aug = torchvision.transforms.Compose([\n",
    "    transforms.ToTensor(),\n",
    "    transforms.Normalize(image_mean, image_std)]\n",
    ")\n",
    "\n",
    "trans = torchvision.transforms.Compose([\n",
    "    transforms.ToTensor(),\n",
    "    transforms.Normalize(image_mean, image_std)])"
   ]
  },
  {
   "cell_type": "code",
   "execution_count": 6,
   "id": "f1de71de",
   "metadata": {},
   "outputs": [
    {
     "name": "stdout",
     "output_type": "stream",
     "text": [
      "Files already downloaded and verified\n",
      "Files already downloaded and verified\n",
      "Files already downloaded and verified\n"
     ]
    }
   ],
   "source": [
    "train_dataset = datasets.CIFAR10(\n",
    "    root=\"data\",\n",
    "    train=True,\n",
    "    download=True,\n",
    "    transform=trans\n",
    ")\n",
    "\n",
    "train_dataset_aug = datasets.CIFAR10(\n",
    "    root=\"data\",\n",
    "    train=True,\n",
    "    download=True,\n",
    "    transform=trans_aug\n",
    ")\n",
    "\n",
    "test_dataset = datasets.CIFAR10(\n",
    "    root=\"data\",\n",
    "    train=False,\n",
    "    download=True,\n",
    "    transform=trans\n",
    ")"
   ]
  },
  {
   "cell_type": "code",
   "execution_count": 7,
   "id": "0d6557f8",
   "metadata": {},
   "outputs": [],
   "source": [
    "train_dataset_concat = ConcatDataset([train_dataset, train_dataset_aug])\n",
    "train_loader = DataLoader(dataset=train_dataset, batch_size=batch_size, shuffle=True) \n",
    "#train_loader = DataLoader(dataset=train_dataset_concat, batch_size=batch_size, shuffle=True) \n",
    "test_loader = DataLoader(dataset=test_dataset, batch_size=batch_size, shuffle=False)"
   ]
  },
  {
   "cell_type": "code",
   "execution_count": 8,
   "id": "54b04991",
   "metadata": {},
   "outputs": [
    {
     "data": {
      "image/png": "[encoded data removed]",
      "text/plain": [
       "<Figure size 640x480 with 1 Axes>"
      ]
     },
     "metadata": {},
     "output_type": "display_data"
    }
   ],
   "source": [
    "def imshow(imgs):\n",
    "    image_to_show = imgs.transpose(0, 1).transpose(1, 2).numpy()\n",
    "    image_to_show = (image_to_show * np.array([0.229, 0.224, 0.225])) + np.array([0.485, 0.456, 0.406])\n",
    "    image_to_show = np.clip(image_to_show, 0, 1)\n",
    "\n",
    "    plt.imshow(image_to_show)\n",
    "    \n",
    "    \n",
    "\n",
    "\n",
    "# get some random training images\n",
    "for images, labels in train_loader:\n",
    "    break\n",
    "\n",
    "# show images\n",
    "imshow(torchvision.utils.make_grid(images[0]))"
   ]
  },
  {
   "cell_type": "code",
   "execution_count": 10,
   "id": "033a6764",
   "metadata": {},
   "outputs": [],
   "source": [
    "class ResidualBlock(nn.Module):\n",
    "    def __init__(self, inchannel, outchannel, stride=1, use_BN=True, dropout=0.0, skip=True, activation=nn.ReLU(inplace=False)):\n",
    "        super(ResidualBlock, self).__init__()\n",
    "        self.skip = skip\n",
    "        self.activation = activation\n",
    "        if use_BN:\n",
    "            self.left = nn.Sequential(\n",
    "                nn.Conv2d(inchannel, outchannel, kernel_size=3, stride=stride, padding=1, bias=False),\n",
    "                nn.BatchNorm2d(outchannel),\n",
    "                nn.Dropout(dropout),\n",
    "                activation,\n",
    "                nn.Conv2d(outchannel, outchannel, kernel_size=3, stride=1, padding=1, bias=False),\n",
    "                nn.BatchNorm2d(outchannel),\n",
    "                nn.Dropout(dropout)\n",
    "            )\n",
    "        else:\n",
    "            self.left = nn.Sequential(\n",
    "                nn.Conv2d(inchannel, outchannel, kernel_size=3, stride=stride, padding=1, bias=False),\n",
    "                activation,\n",
    "                nn.Dropout(dropout),\n",
    "                nn.Conv2d(outchannel, outchannel, kernel_size=3, stride=1, padding=1, bias=False),\n",
    "                nn.Dropout(dropout)\n",
    "            )\n",
    "        if skip:\n",
    "            self.shortcut = nn.Sequential()\n",
    "        if (stride != 1 or inchannel != outchannel) and skip:\n",
    "            if use_BN:\n",
    "                self.shortcut = nn.Sequential(\n",
    "                    nn.Conv2d(inchannel, outchannel, kernel_size=1, stride=stride, bias=False),\n",
    "                    nn.Dropout(dropout),\n",
    "                    nn.BatchNorm2d(outchannel)\n",
    "                )\n",
    "            else:\n",
    "                self.shortcut = nn.Sequential(\n",
    "                    nn.Conv2d(inchannel, outchannel, kernel_size=1, stride=stride, bias=False),\n",
    "                    nn.Dropout(dropout)\n",
    "                )\n",
    "            \n",
    "    def forward(self, x):\n",
    "        out = self.left(x)\n",
    "        if self.skip:\n",
    "            out = out + self.shortcut(x)\n",
    "        out = self.activation(out)\n",
    "        \n",
    "        return out\n",
    "\n",
    "class ResNet(nn.Module):\n",
    "    def __init__(self, ResidualBlock, num_classes=10, use_BN=True, dropout=0.0, width=1, depth=2, skip=True, init='kaiming', activation=nn.ReLU(inplace=False)):\n",
    "        super(ResNet, self).__init__()\n",
    "        self.inchannel = 16*width\n",
    "        self.use_BN = use_BN\n",
    "        self.activation = activation\n",
    "        self.dropout = dropout\n",
    "        self.skip = skip\n",
    "        if use_BN:\n",
    "            self.conv1 = nn.Sequential(\n",
    "                nn.Conv2d(3, 16*width, kernel_size=3, stride=1, padding=1, bias=False),\n",
    "                nn.Dropout(dropout),\n",
    "                nn.BatchNorm2d(16*width),\n",
    "                activation\n",
    "            )\n",
    "        else:\n",
    "            self.conv1 = nn.Sequential(\n",
    "                nn.Conv2d(3, 16*width, kernel_size=3, stride=1, padding=1, bias=False),\n",
    "                nn.Dropout(dropout),\n",
    "                activation\n",
    "            )\n",
    "        self.layer1 = self.make_layer(ResidualBlock, 16*width, depth, stride=1)\n",
    "        self.layer2 = self.make_layer(ResidualBlock, 32*width, depth, stride=2)\n",
    "        self.layer3 = self.make_layer(ResidualBlock, 64*width, depth, stride=2)        \n",
    "        self.layer4 = self.make_layer(ResidualBlock, 64*width, depth, stride=2)        \n",
    "        self.fc = nn.Linear(16, 1)\n",
    "        if init is not None:\n",
    "            self.init_weights(init)\n",
    "        \n",
    "    def make_layer(self, block, channels, num_blocks, stride):\n",
    "        strides = [stride] + [1] * (num_blocks - 1)\n",
    "        layers = []\n",
    "        for stride in strides:\n",
    "            layers.append(block(self.inchannel, channels, stride, self.use_BN, self.dropout, self.skip, self.activation))\n",
    "            self.inchannel = channels\n",
    "        return nn.Sequential(*layers)\n",
    "\n",
    "    def init_weights(self, init):\n",
    "        for m in self.modules():\n",
    "            if isinstance(m, nn.Conv2d):\n",
    "                if init == 'kaiming':\n",
    "                    nn.init.kaiming_normal_(m.weight, mode='fan_in', nonlinearity='relu')\n",
    "                elif init == 'xavier':\n",
    "                    nn.init.xavier_normal_(m.weight)\n",
    "    \n",
    "    def forward(self, x):\n",
    "        out = self.conv1(x)\n",
    "        out = self.layer1(out)\n",
    "        out = self.layer2(out)\n",
    "        out = self.layer3(out)\n",
    "        feature_map = self.layer4(out)\n",
    "        # out = F.avg_pool2d(out, 4)\n",
    "        # print(out.shape)\n",
    "        # out = out.view(out.size(0), -1)\n",
    "        batch, channnels, h, w = feature_map.shape\n",
    "        out = self.fc(feature_map.reshape(batch, channnels, h * w))\n",
    "        return feature_map, out"
   ]
  },
  {
   "cell_type": "code",
   "execution_count": 11,
   "id": "2b391e51",
   "metadata": {},
   "outputs": [],
   "source": [
    "def ResNet18(num_classes=10, use_BN=True, dropout=0.0, width=1, depth=2, skip=True, init='kaiming', activation=nn.ReLU(inplace=False)):\n",
    "    return ResNet(ResidualBlock, num_classes=num_classes, use_BN=use_BN, dropout=dropout, width=width, depth=depth, skip=skip, init=init, activation=activation)"
   ]
  },
  {
   "cell_type": "code",
   "execution_count": 12,
   "id": "16fc017d",
   "metadata": {},
   "outputs": [],
   "source": [
    "class ConvMI_NN(nn.Module):\n",
    "    def __init__(self, input_channels, feature_map_size, num_classes=2):\n",
    "        super(ConvMI_NN, self).__init__()\n",
    "        \n",
    "        self.input_channels = input_channels\n",
    "        self.feature_map_size = feature_map_size\n",
    "        self.num_classes = num_classes\n",
    "\n",
    "        self.conv  = nn.Conv2d(self.input_channels, 1, kernel_size=1, stride=1, bias=False)\n",
    "        self.fc = nn.Linear(self.feature_map_size, self.num_classes)\n",
    "\n",
    "    def forward(self, x):\n",
    "        out = nn.ReLU(inplace=False)(self.conv(x))\n",
    "        out = torch.flatten(out, start_dim=1)\n",
    "        return self.fc(out)\n",
    "    \n",
    "class MI1x1ConvNet(nn.Module):\n",
    "    \"\"\"Simple custorm 1x1 convnet.\n",
    "    \"\"\"\n",
    "    def __init__(self, n_input, n_units,):\n",
    "        \"\"\"\n",
    "        Args:\n",
    "            n_input: Number of input units.\n",
    "            n_units: Number of output units.\n",
    "        \"\"\"\n",
    "\n",
    "        super().__init__()\n",
    "\n",
    "        self.block_nonlinear = nn.Sequential(\n",
    "            nn.Conv2d(n_input, n_units, kernel_size=1, stride=1, padding=0, bias=False),\n",
    "            nn.BatchNorm2d(n_units),\n",
    "            nn.ReLU(inplace=False),\n",
    "            nn.Conv2d(n_units, n_units, kernel_size=1, stride=1, padding=0, bias=True),\n",
    "        )\n",
    "\n",
    "        self.block_ln = nn.Sequential(\n",
    "            torchvision.ops.Permute([0, 2, 3, 1]),\n",
    "            nn.LayerNorm(n_units),\n",
    "            nn.ReLU(inplace=False),\n",
    "            torchvision.ops.Permute([0, 3, 1, 2])\n",
    "        )\n",
    "\n",
    "        self.linear_shortcut = nn.Conv2d(n_input, n_units, kernel_size=1,\n",
    "                                         stride=1, padding=0, bias=False)\n",
    "\n",
    "        # initialize shortcut to be like identity (if possible)\n",
    "        if n_units >= n_input:\n",
    "            eye_mask = np.zeros((n_units, n_input, 1, 1), dtype=np.uint8)\n",
    "            for i in range(n_input):\n",
    "                eye_mask[i, i, 0, 0] = 1\n",
    "            self.linear_shortcut.weight.data.uniform_(-0.01, 0.01)\n",
    "            self.linear_shortcut.weight.data.masked_fill_(torch.tensor(eye_mask), 1.)\n",
    "\n",
    "    def forward(self, x):\n",
    "        \"\"\"\n",
    "            Args:\n",
    "                x: Input tensor.\n",
    "            Returns:\n",
    "                torch.Tensor: network output.\n",
    "        \"\"\"\n",
    "\n",
    "        h = self.block_ln(self.block_nonlinear(x) + self.linear_shortcut(x))\n",
    "        return h"
   ]
  },
  {
   "cell_type": "code",
   "execution_count": 13,
   "id": "4ed126ad",
   "metadata": {},
   "outputs": [],
   "source": [
    "def infonce_loss(l, m):\n",
    "    '''Computes the noise contrastive estimation-based loss, a.k.a. infoNCE.\n",
    "    Note that vectors should be sent as 1x1.\n",
    "    Args:\n",
    "        l: Local feature map.\n",
    "        m: Multiple globals feature map.\n",
    "    Returns:\n",
    "        torch.Tensor: Loss.\n",
    "    '''\n",
    "    N, units, n_locals = l.size()\n",
    "    _, _ , n_multis = m.size()\n",
    "\n",
    "    # First we make the input tensors the right shape.\n",
    "    l_p = l.permute(0, 2, 1)\n",
    "    m_p = m.permute(0, 2, 1)\n",
    "\n",
    "    l_n = l_p.reshape(-1, units)\n",
    "    m_n = m_p.reshape(-1, units)\n",
    "\n",
    "    # Inner product for positive samples. Outer product for negative. We need to do it this way\n",
    "    # for the multiclass loss. For the outer product, we want a N x N x n_local x n_multi tensor.\n",
    "    u_p = torch.matmul(l_p, m).unsqueeze(2)\n",
    "    u_n = torch.mm(m_n, l_n.t())\n",
    "    u_n = u_n.reshape(N, n_multis, N, n_locals).permute(0, 2, 3, 1)\n",
    "\n",
    "    # We need to mask the diagonal part of the negative tensor.\n",
    "    mask = torch.eye(N)[:, :, None, None].to(l.device)\n",
    "    n_mask = 1 - mask\n",
    "\n",
    "    # Masking is done by shifting the diagonal before exp.\n",
    "    u_n = (n_mask * u_n) - (10. * (1 - n_mask))  # mask out \"self\" examples\n",
    "    u_n = u_n.reshape(N, N * n_locals, n_multis).unsqueeze(dim=1).expand(-1, n_locals, -1, -1)\n",
    "\n",
    "    # Since this is multiclass, we concat the positive along the class dimension before performing log softmax.\n",
    "    pred_lgt = torch.cat([u_p, u_n], dim=2)\n",
    "    pred_log = F.log_softmax(pred_lgt, dim=2)\n",
    "\n",
    "    # The positive score is the first element of the log softmax.\n",
    "    loss = -pred_log[:, :, 0].sum()\n",
    "\n",
    "    return loss"
   ]
  },
  {
   "cell_type": "code",
   "execution_count": 14,
   "id": "cff6cb36",
   "metadata": {},
   "outputs": [],
   "source": [
    "import math\n",
    "\n",
    "def get_positive_expectation(p_samples, measure, average=False):\n",
    "    \"\"\"Computes the positive part of a divergence / difference.\n",
    "    Args:\n",
    "        p_samples: Positive samples.\n",
    "        measure: Measure to compute for.\n",
    "        average: Average the result over samples.\n",
    "    Returns:\n",
    "        torch.Tensor\n",
    "    \"\"\"\n",
    "    log_2 = math.log(2.)\n",
    "\n",
    "    if measure == 'GAN':\n",
    "        Ep = - F.softplus(-p_samples)\n",
    "    elif measure == 'JSD':\n",
    "        Ep = log_2 - F.softplus(-p_samples)  # Note JSD will be shifted\n",
    "    elif measure == 'X2':\n",
    "        Ep = p_samples ** 2\n",
    "    elif measure == 'KL':\n",
    "        Ep = p_samples\n",
    "    elif measure == 'RKL':\n",
    "        Ep = -torch.exp(-p_samples)\n",
    "    elif measure == 'DV':\n",
    "        Ep = p_samples\n",
    "    elif measure == 'H2':\n",
    "        Ep = 1. - torch.exp(-p_samples)\n",
    "    elif measure == 'W1':\n",
    "        Ep = p_samples\n",
    "    else:\n",
    "        raise_measure_error(measure)\n",
    "\n",
    "    if average:\n",
    "        return Ep.mean()\n",
    "    else:\n",
    "        return Ep\n",
    "\n",
    "def get_negative_expectation(q_samples, measure, average=False):\n",
    "    \"\"\"Computes the negative part of a divergence / difference.\n",
    "    Args:\n",
    "        q_samples: Negative samples.\n",
    "        measure: Measure to compute for.\n",
    "        average: Average the result over samples.\n",
    "    Returns:\n",
    "        torch.Tensor\n",
    "    \"\"\"\n",
    "    log_2 = math.log(2.)\n",
    "\n",
    "    if measure == 'GAN':\n",
    "        Eq = F.softplus(-q_samples) + q_samples\n",
    "    elif measure == 'JSD':\n",
    "        Eq = F.softplus(-q_samples) + q_samples - log_2  # Note JSD will be shifted\n",
    "    elif measure == 'X2':\n",
    "        Eq = -0.5 * ((torch.sqrt(q_samples ** 2) + 1.) ** 2)\n",
    "    elif measure == 'KL':\n",
    "        Eq = torch.exp(q_samples - 1.)\n",
    "    elif measure == 'RKL':\n",
    "        Eq = q_samples - 1.\n",
    "    elif measure == 'DV':\n",
    "        Eq = log_sum_exp(q_samples, 0) - math.log(q_samples.size(0))\n",
    "    elif measure == 'H2':\n",
    "        Eq = torch.exp(q_samples) - 1.\n",
    "    elif measure == 'W1':\n",
    "        Eq = q_samples\n",
    "    else:\n",
    "        raise_measure_error(measure)\n",
    "\n",
    "    if average:\n",
    "        return Eq.mean()\n",
    "    else:\n",
    "        return Eq\n",
    "\n",
    "\n",
    "def fenchel_dual_loss(l, m, measure='JSD'):\n",
    "    '''Computes the f-divergence distance between positive and negative joint distributions.\n",
    "    Note that vectors should be sent as 1x1.\n",
    "    Divergences supported are Jensen-Shannon `JSD`, `GAN` (equivalent to JSD),\n",
    "    Squared Hellinger `H2`, Chi-squeared `X2`, `KL`, and reverse KL `RKL`.\n",
    "    Args:\n",
    "        l: Local feature map.\n",
    "        m: Multiple globals feature map.\n",
    "        measure: f-divergence measure.\n",
    "    Returns:\n",
    "        torch.Tensor: Loss.\n",
    "    '''\n",
    "    N, units, n_locals = l.size()\n",
    "    n_multis = m.size(2)\n",
    "\n",
    "    # First we make the input tensors the right shape.\n",
    "    l = l.view(N, units, n_locals)\n",
    "    l = l.permute(0, 2, 1)\n",
    "    l = l.reshape(-1, units)\n",
    "\n",
    "    m = m.view(N, units, n_multis)\n",
    "    m = m.permute(0, 2, 1)\n",
    "    m = m.reshape(-1, units)\n",
    "\n",
    "    # Outer product, we want a N x N x n_local x n_multi tensor.\n",
    "    u = torch.mm(m, l.t())\n",
    "    u = u.reshape(N, n_multis, N, n_locals).permute(0, 2, 3, 1)\n",
    "\n",
    "    # Since we have a big tensor with both positive and negative samples, we need to mask.\n",
    "    mask = torch.eye(N).to(l.device)\n",
    "    n_mask = 1 - mask\n",
    "\n",
    "    # Compute the positive and negative score. Average the spatial locations.\n",
    "    E_pos = get_positive_expectation(u, measure, average=False).mean(2).mean(2)\n",
    "    E_neg = get_negative_expectation(u, measure, average=False).mean(2).mean(2)\n",
    "\n",
    "    # Mask positive and negative terms for positive and negative parts of loss\n",
    "    E_pos = (E_pos * mask).sum() / mask.sum()\n",
    "    E_neg = (E_neg * n_mask).sum() / n_mask.sum()\n",
    "    loss = E_neg - E_pos\n",
    "\n",
    "    return loss"
   ]
  },
  {
   "cell_type": "code",
   "execution_count": 15,
   "id": "ba9c9aa5",
   "metadata": {},
   "outputs": [],
   "source": [
    "class Classifier_NN(nn.Module):\n",
    "    def __init__(self, input_dim, num_classes=10):\n",
    "        super(Classifier_NN, self).__init__()\n",
    "        \n",
    "        self.input_dim = input_dim\n",
    "        self.num_classes = num_classes\n",
    "\n",
    "        self.block = nn.Sequential(\n",
    "            nn.Linear(self.input_dim, 1000),\n",
    "            nn.ReLU(inplace=False),\n",
    "            nn.Linear(1000, 200),\n",
    "            nn.ReLU(inplace=False),\n",
    "            nn.Linear(200, self.num_classes)\n",
    "        )\n",
    "\n",
    "    def forward(self, x):\n",
    "        return self.block(x)"
   ]
  },
  {
   "cell_type": "code",
   "execution_count": 16,
   "id": "21fc57ab",
   "metadata": {},
   "outputs": [],
   "source": [
    "class SubSeq_NN(nn.Module):\n",
    "    def __init__(self, input_dim, num_classes=2):\n",
    "        super(SubSeq_NN, self).__init__()\n",
    "        \n",
    "        self.input_dim = input_dim\n",
    "        self.num_classes = num_classes\n",
    "\n",
    "        self.block = nn.Sequential(\n",
    "            nn.Linear(self.input_dim, 1000),\n",
    "            nn.ReLU(inplace=False),\n",
    "            nn.Linear(1000, 200),\n",
    "            nn.ReLU(inplace=False),\n",
    "            nn.Linear(200, self.num_classes)\n",
    "        )\n",
    "\n",
    "    def forward(self, x, subseq):\n",
    "        x = torch.squeeze(torch.cat([x, subseq], 1))\n",
    "        out = self.block(x)\n",
    "        if out.shape[1] > 2:\n",
    "            out[:, 2:] = nn.Sigmoid()(out[:, 2:])\n",
    "        return out"
   ]
  },
  {
   "cell_type": "code",
   "execution_count": 17,
   "id": "b94a43d9",
   "metadata": {},
   "outputs": [],
   "source": [
    "writer = SummaryWriter(log_dir=f\"logs/SubSeq\")"
   ]
  },
  {
   "cell_type": "code",
   "execution_count": 65,
   "id": "bba4c987",
   "metadata": {},
   "outputs": [],
   "source": [
    "def train_epoch(dataloader, model_enc, minet_local, minet_global, loss_fn, optimizer_enc, \n",
    "                optimizer_mi_loc, optimizer_mi_glob, device, writer=writer):\n",
    "    model_enc.train()\n",
    "    minet_local.train()\n",
    "    minet_global.train()\n",
    "    \n",
    "    for idx, (x, label) in enumerate(dataloader):\n",
    "        optimizer_enc.zero_grad()\n",
    "        optimizer_mi_loc.zero_grad()\n",
    "        optimizer_mi_glob.zero_grad()\n",
    "        \n",
    "        x, label = x.to(device), label.to(device)\n",
    "        feture_map, y = model_enc(x)\n",
    "        \n",
    "#         joint = torch.ones(x.shape[0], 128, 4, 4).to(device) * y.squeeze()[:,:, None, None]\n",
    "#         joint = torch.cat([feture_map, joint], dim=1)\n",
    "#         marg_idx = torch.tensor(np.random.choice(x.shape[0], x.shape[0]))\n",
    "#         marginal = torch.ones(x.shape[0], 128, 4, 4).to(device) * y.squeeze()[marg_idx,:, None, None]\n",
    "#         marginal = torch.cat([feture_map, marginal], dim=1)\n",
    "#         labels_joint = torch.ones(joint.shape[0], dtype=torch.long).to(device)\n",
    "#         labels_marginal = torch.zeros(marginal.shape[0], dtype=torch.long).to(device)\n",
    "\n",
    "#         #outputs = model_mi(torch.cat([joint, marginal]))\n",
    "#         outputs_j = model_mi(joint)\n",
    "#         outputs_m = model_mi(marginal)\n",
    "#         N, local_units = outputs_j.size()[:2]\n",
    "#         outputs_j = outputs_j.view(N, local_units, -1)\n",
    "#         N, local_units = outputs_m.size()[:2]\n",
    "#         outputs_m = outputs_m.view(N, local_units, -1)\n",
    "\n",
    "        L = torch.ones(x.shape[0], 128, 4, 4).to(device) * y.squeeze()[:,:, None, None]\n",
    "        L = torch.cat([feture_map, L], dim=1)\n",
    "        L = minet_local(L).cpu()\n",
    "        N, local_units = L.size()[:2]\n",
    "        L = L.view(N, local_units, -1)\n",
    "        \n",
    "        G = torch.ones(x.shape[0], 128, 32, 32).to(device) * y.squeeze()[:,:, None, None]\n",
    "        G = torch.cat([x, G], dim=1)\n",
    "        G = minet_global(G).cpu()\n",
    "        N, local_units = G.size()[:2]\n",
    "        G = G.view(N, local_units, -1)\n",
    "        \n",
    "        #loss = loss_fn(outputs, torch.cat([labels_joint, labels_marginal]))\n",
    "        loss = loss_fn(L, G)\n",
    "        loss.backward()\n",
    "        optimizer_enc.step()\n",
    "        optimizer_mi_loc.step()\n",
    "        optimizer_mi_glob.step()\n",
    "    \n",
    "def evaluate(dataloader, model_enc, minet_local, minet_global, loss_fn, device, writer=writer):\n",
    "    model_enc.eval()\n",
    "    minet_local.eval()\n",
    "    minet_global.eval()\n",
    "    \n",
    "    total_loss = 0.0\n",
    "    total_accuracy = 0.0\n",
    "    with torch.no_grad():\n",
    "        for idx, (x, label) in enumerate(dataloader):\n",
    "            x, label = x.to(device), label.to(device)\n",
    "            feture_map, y = model_enc(x)\n",
    "            \n",
    "#             joint = torch.ones(x.shape[0], 128, 4, 4).to(device) * y.squeeze()[:,:, None, None]\n",
    "#             joint = torch.cat([feture_map, joint], dim=1)\n",
    "#             marg_idx = torch.tensor(np.random.choice(x.shape[0], x.shape[0]))\n",
    "#             marginal = torch.ones(x.shape[0], 128, 4, 4).to(device) * y.squeeze()[marg_idx,:, None, None]\n",
    "#             marginal = torch.cat([feture_map, marginal], dim=1)\n",
    "#             labels_joint = torch.ones(joint.shape[0], dtype=torch.long).to(device)\n",
    "#             labels_marginal = torch.zeros(marginal.shape[0], dtype=torch.long).to(device)\n",
    "\n",
    "#             outputs_j = model_mi(joint)\n",
    "#             outputs_m = model_mi(marginal)\n",
    "#             N, local_units = outputs_j.size()[:2]\n",
    "#             outputs_j = outputs_j.view(N, local_units, -1)\n",
    "#             N, local_units = outputs_m.size()[:2]\n",
    "#             outputs_m = outputs_m.view(N, local_units, -1)\n",
    "\n",
    "            L = torch.ones(x.shape[0], 128, 4, 4).to(device) * y.squeeze()[:,:, None, None]\n",
    "            L = torch.cat([feture_map, L], dim=1)\n",
    "            L = minet_local(L).detach().cpu()\n",
    "            N, local_units = L.size()[:2]\n",
    "            L = L.view(N, local_units, -1)\n",
    "\n",
    "            G = torch.ones(x.shape[0], 128, 32, 32).to(device) * y.squeeze()[:,:, None, None]\n",
    "            G = torch.cat([x, G], dim=1)\n",
    "            G = minet_global(G).detach().cpu()\n",
    "            N, local_units = G.size()[:2]\n",
    "            G = G.view(N, local_units, -1)\n",
    "\n",
    "            #loss = loss_fn(outputs, torch.cat([labels_joint, labels_marginal]))\n",
    "            loss = loss_fn(L, G)\n",
    "            \n",
    "            #y_true = torch.cat([labels_joint, labels_marginal])\n",
    "            total_loss += float(loss.detach())\n",
    "            #_, predicted = torch.max(outputs.data, 1)\n",
    "\n",
    "            #total_accuracy += predicted.eq(y_true.data).cpu().sum()\n",
    "    return total_loss / (len(dataloader.dataset)*2), -1#, total_accuracy / (len(dataloader.dataset)*2)\n",
    "    \n",
    "\n",
    "def train(\n",
    "    train_loader, test_loader, model_enc, minet_local, minet_global, loss_fn, optimizer_enc, \n",
    "    optimizer_mi_loc, optimizer_mi_glob, device, num_epochs, scheduler=None, writer=writer\n",
    "):\n",
    "    test_losses = []\n",
    "    train_losses = []\n",
    "    test_accuracies = []\n",
    "    train_accuracies = []\n",
    "    best_acc = 0\n",
    "    for epoch in tqdm(range(num_epochs)):\n",
    "        train_epoch(train_loader, model_enc, minet_local, minet_global, loss_fn, \n",
    "                    optimizer_enc, optimizer_mi_loc, optimizer_mi_glob, device, writer=writer, epoch=epoch)\n",
    "        \n",
    "        train_loss, train_acc = evaluate(train_loader, model_enc, minet_local, \n",
    "                                         minet_global, loss_fn, device, writer=writer, epoch=epoch)\n",
    "        train_accuracies.append(train_acc)\n",
    "        train_losses.append(train_loss)\n",
    "        writer.add_scalar(\"loss / train\", train_loss, epoch)\n",
    "        writer.add_scalar(\"accuracy / train\", train_acc, epoch)\n",
    "        \n",
    "        test_loss, test_acc = evaluate(test_loader, model_enc, minet_local, \n",
    "                                       minet_global, loss_fn, device, writer=writer, epoch=epoch)\n",
    "        test_accuracies.append(test_acc)\n",
    "        test_losses.append(test_loss)\n",
    "        writer.add_scalar(\"loss / test\", test_loss, epoch)\n",
    "        writer.add_scalar(\"accuracy / test\", test_acc, epoch)\n",
    "        for name, param in model_enc.named_parameters():\n",
    "            writer.add_histogram(name, param.data, epoch)\n",
    "        for name, param in minet_local.named_parameters():\n",
    "            writer.add_histogram(name, param.data, epoch)\n",
    "        if scheduler is not None:\n",
    "            scheduler.step()\n",
    "        \n",
    "        print(\n",
    "            'Epoch: {0:d}/{1:d}. Loss (Train/Test): {2:.3f}/{3:.3f}. Accuracy (Train/Test): {4:.3f}/{5:.3f}'.format(\n",
    "                epoch + 1, num_epochs, train_losses[-1], test_losses[-1], train_accuracies[-1], test_accuracies[-1]\n",
    "            )\n",
    "        )\n",
    "        if test_acc > best_acc:\n",
    "            torch.save(model_enc.state_dict(), 'model_enc_best_test.pt')\n",
    "    torch.save(model_enc.state_dict(), 'model_enc_last_test.pt')\n",
    "    return train_losses, train_accuracies, test_losses, test_accuracies"
   ]
  },
  {
   "cell_type": "code",
   "execution_count": 54,
   "id": "a0650497",
   "metadata": {},
   "outputs": [],
   "source": [
    "def get_patches(images, patch_size, stride):\n",
    "    batch = images.shape[0]\n",
    "    patches = images.unfold(2, patch_size, stride).unfold(3, patch_size, stride)\n",
    "    h_patches, w_patches = patches.shape[2], patches.shape[3]\n",
    "    h_idx_ = torch.tensor(np.random.choice(h_patches, batch))\n",
    "    w_idx_ = torch.tensor(np.random.choice(w_patches, batch))\n",
    "    sub_img = transforms.Resize(32)(patches[list(range(batch)),:, h_idx_, w_idx_, :, :].clone())\n",
    "    \n",
    "    h_idx = torch.tensor(np.random.choice(h_patches, batch))\n",
    "    w_idx = torch.tensor(np.random.choice(w_patches, batch))\n",
    "    patch_1 = transforms.Resize(32)(patches[list(range(batch)),:, h_idx, w_idx, :, :].clone())\n",
    "\n",
    "    h_idx_2 = torch.tensor(np.random.choice(h_patches, batch))\n",
    "    w_idx_2 = torch.tensor(np.random.choice(w_patches, batch))\n",
    "    h_idx_2[(h_idx_2==h_idx) & (w_idx_2==w_idx)] = 0 \n",
    "    w_idx_2[(h_idx_2==h_idx) & (w_idx_2==w_idx)] = 0\n",
    "    patch_2 = transforms.Resize(32)(patches[list(range(batch)),:, h_idx_2, w_idx_2, :, :].clone())\n",
    "    return sub_img, patch_1, patch_2, h_idx_.to(device), w_idx_.to(device)"
   ]
  },
  {
   "cell_type": "code",
   "execution_count": 55,
   "id": "2ac26efc-b35a-4719-a6c2-7b5c8093543f",
   "metadata": {},
   "outputs": [],
   "source": [
    "def predict_cosine(out_cos):\n",
    "    predicted = torch.ones(out_cos.shape[0], dtype=torch.long)\n",
    "    predicted[out_cos < 0.5] = 0 \n",
    "    return predicted"
   ]
  },
  {
   "cell_type": "code",
   "execution_count": 56,
   "id": "78434999",
   "metadata": {},
   "outputs": [],
   "source": [
    "import random\n",
    "\n",
    "def first_loss(y, y_crop, minet_local, loss_fn, batch_size, i, j, crop_size):    \n",
    "    # out_pos = minet_local(y, y_crop)\n",
    "    out_pos = torch.nn.CosineSimilarity()(y.cpu(), y_crop.cpu()).squeeze()\n",
    "    out_pos[out_pos < 0] *= (-1)\n",
    "    #loss = minet_local(y.squeeze(), y_crop.squeeze(), torch.ones(y.shape[0], dtype=torch.long))\n",
    "    \n",
    "    out = minet_local(y.squeeze(), y_crop.squeeze())\n",
    "    loss = loss_fn(out, torch.ones(y.shape[0], dtype=torch.float))\n",
    "    \n",
    "    # loss = loss_fn(out_pos[:, :2], torch.ones(out_pos.shape[0], dtype=torch.long).to(device))\n",
    "    # loss_mse = nn.MSELoss(reduction='sum')(out_pos[:, 2], \n",
    "    #                             torch.ones(out_pos.shape[0], dtype=torch.long).to(device) * (i+crop_size) / 64)\n",
    "    # loss_mse += nn.MSELoss(reduction='sum')(out_pos[:, 3], \n",
    "    #                             torch.ones(out_pos.shape[0], dtype=torch.long).to(device) * (j+crop_size) / 64)\n",
    "    \n",
    "    idx = list(range(batch_size))\n",
    "    random.shuffle(idx)\n",
    "    idx = torch.tensor(idx)\n",
    "    # out_neg = minet_local(y, y_crop[idx])\n",
    "    # loss += loss_fn(out_neg[:, :2], torch.zeros(out_neg.shape[0], dtype=torch.long).to(device))\n",
    "                       \n",
    "    #loss += minet_local(y.squeeze(), y_crop[idx].squeeze(), torch.zeros(y.shape[0], dtype=torch.long))\n",
    "    \n",
    "    out = minet_local(y.squeeze(), y_crop[idx].squeeze())\n",
    "    loss += loss_fn(out, torch.zeros(y.shape[0], dtype=torch.float))\n",
    "    loss_mse = 0\n",
    "    out_neg = torch.nn.CosineSimilarity()(y.cpu(), y_crop[idx].cpu()).squeeze()\n",
    "    out_neg[out_neg < 0] *= (-1)\n",
    "    return loss, loss_mse, out_pos, out_neg"
   ]
  },
  {
   "cell_type": "code",
   "execution_count": 57,
   "id": "0d7f5d2a",
   "metadata": {},
   "outputs": [],
   "source": [
    "def second_loss(y_sub, y_crop_1, y_crop_2, minet_local, loss_fn, enc_update=True):\n",
    "    if enc_update:\n",
    "        # minet_local.eval()\n",
    "        # with torch.no_grad():\n",
    "        #     output = minet_local(y_crop_1, y_crop_2)\n",
    "        #     return loss_fn(output[:, :2], torch.zeros(output.shape[0], dtype=torch.long).to(device))\n",
    "        #return minet_local(y_crop_1.squeeze().cpu(), y_crop_2.squeeze().cpu(), torch.zeros(y_crop_1.shape[0], dtype=torch.long))\n",
    "        out = minet_local(y_crop_1.squeeze().cpu(), y_crop_2.squeeze().cpu())\n",
    "        # print(out)\n",
    "        # print(out[out > 1])\n",
    "        # print(out[out < 0])\n",
    "        return loss_fn(out, torch.zeros(y_sub.shape[0], dtype=torch.float))\n",
    "    else:\n",
    "#         minet_local.train()\n",
    "#         output = minet_local(y_crop_1, y_crop_2)\n",
    "#         output_neg = minet_local(y_sub, y_crop_1)\n",
    "        \n",
    "#         loss_neg = loss_fn(output_neg[:, :2], torch.zeros(output_neg.shape[0], dtype=torch.long).to(device))\n",
    "#         loss_pos = loss_fn(output[:, :2], torch.ones(output.shape[0], dtype=torch.long).to(device))\n",
    "#         return (loss_pos + loss_neg) / 2\n",
    "        loss_neg = minet_local(y_crop_1.squeeze(), y_sub.squeeze(), torch.zeros(y_crop_1.shape[0], dtype=torch.long))\n",
    "        loss_pos = minet_local(y_crop_1.squeeze(), y_crop_2.squeeze(), torch.ones(y_crop_1.shape[0], dtype=torch.long))\n",
    "        return (loss_neg + loss_neg) / 2"
   ]
  },
  {
   "cell_type": "code",
   "execution_count": 58,
   "id": "10ef013b",
   "metadata": {},
   "outputs": [],
   "source": [
    "mse_coef = 15\n",
    "\n",
    "def train_epoch(dataloader, model_enc, minet_local, minet_global, loss_fn, optimizer_enc, \n",
    "                optimizer_mi_loc, optimizer_mi_glob, device, writer, epoch):\n",
    "    model_enc.train()\n",
    "    minet_local.train()\n",
    "    \n",
    "    for batch, (x, label) in enumerate(dataloader):\n",
    "        optimizer_enc.zero_grad()\n",
    "        #optimizer_mi_loc.zero_grad()\n",
    "        if optimizer_mi_glob is not None:\n",
    "            optimizer_mi_glob.zero_grad()\n",
    "        \n",
    "        x, label = x.to(device), label.to(device)\n",
    "        crop_size = np.random.randint(1, 32)\n",
    "        i, j, h, w = RandomCrop(crop_size).get_params(x, output_size=(crop_size, crop_size))\n",
    "        x_crop = transforms.Resize(32)(F.crop(x, i, j, h, w))\n",
    "        \n",
    "        patch_size = stride = np.random.randint(4, 16)\n",
    "        sub_img, patch_1, patch_2, _, _ = get_patches(x, patch_size, stride)\n",
    "        \n",
    "        feture_map, y = model_enc(torch.cat([x, x_crop, sub_img, patch_1, patch_2])) \n",
    "        y, y_crop, y_sub, y_crop_1, y_crop_2 = torch.split(y, x.size(0))\n",
    "        \n",
    "        loss, loss_mse, _, _ = first_loss(y, y_crop, minet_local, loss_fn, x.shape[0], i, j, crop_size)\n",
    "        #print(loss)\n",
    "        \n",
    "        writer.add_scalar(\n",
    "            \"batch loss entropy / train\", loss.item() / (x.shape[0]*2), epoch * len(dataloader) + batch\n",
    "        )\n",
    "        # writer.add_scalar(\n",
    "        #     \"batch loss mse / train\", mse_coef*loss_mse.item() / (x.shape[0]*2), epoch * len(dataloader) + batch\n",
    "        # )\n",
    "        # loss += mse_coef*loss_mse\n",
    "        # loss /= (x.shape[0]*2*(mse_coef + 1))\n",
    "        \n",
    "        loss /= (x.shape[0]*2)\n",
    "        \n",
    "        # writer.add_scalar(\n",
    "        #     \"batch loss sum / train\", loss.item(), epoch * len(dataloader) + batch\n",
    "        # )\n",
    "        \n",
    "        if optimizer_mi_glob is not None:\n",
    "            optimizer_mi_glob.step()\n",
    "            \n",
    "        # feture_map, y = model_enc(torch.cat([sub_img, patch_1, patch_2])) \n",
    "        # y_sub, y_crop_1, y_crop_2 = torch.split(y, x.size(0))\n",
    "        \n",
    "        # loss_second = second_loss(y_sub, y_crop_1, y_crop_2, minet_local, loss_fn, enc_update=True) / x.shape[0]\n",
    "        # writer.add_scalar(\n",
    "        #     \"batch loss encoder patch-patch / train\", loss_second.item(), epoch * len(dataloader) + batch\n",
    "        # )\n",
    "        # loss += loss_second\n",
    "        loss.backward()\n",
    "        optimizer_enc.step()\n",
    "        #optimizer_mi_loc.step()\n",
    "        \n",
    "        # feture_map, y = model_enc(torch.cat([sub_img, patch_1, patch_2])) \n",
    "        # y_sub, y_crop_1, y_crop_2 = torch.split(y, x.size(0))\n",
    "        # #optimizer_mi_loc.zero_grad()\n",
    "        # idx = list(range(x.shape[0]))\n",
    "        # random.shuffle(idx)\n",
    "        # idx = torch.tensor(idx)\n",
    "        # loss = second_loss(y_sub[idx], y_crop_1, y_crop_2, minet_local, loss_fn, enc_update=False) / x.shape[0]\n",
    "        # writer.add_scalar(\n",
    "        #     \"batch loss discriminator patch-patch / train\", loss.item(), epoch * len(dataloader) + batch\n",
    "        # )\n",
    "        # loss.backward()\n",
    "        # #optimizer_mi_loc.step()\n",
    "        # optimizer_enc.step()\n",
    "        torch.cuda.empty_cache()\n",
    "    \n",
    "def evaluate(dataloader, model_enc, minet_local, minet_global, loss_fn, device, writer, epoch):\n",
    "    model_enc.eval()\n",
    "    #minet_local.eval()\n",
    "    \n",
    "    total_loss = 0.0\n",
    "    total_accuracy = 0.0\n",
    "    \n",
    "    out_i_all, out_j_all = torch.tensor([]), torch.tensor([])\n",
    "    pos_i, pos_j = torch.tensor([]), torch.tensor([])\n",
    "    with torch.no_grad():\n",
    "        for idx, (x, label) in enumerate(dataloader):\n",
    "            x, label = x.to(device), label.to(device)\n",
    "            crop_size = np.random.randint(1, 32)\n",
    "            i, j, h, w = RandomCrop(crop_size).get_params(x, output_size=(crop_size, crop_size))\n",
    "            x_crop = transforms.Resize(32)(F.crop(x, i, j, h, w))\n",
    "\n",
    "            patch_size = stride = np.random.randint(4, 16)\n",
    "            sub_img, patch_1, patch_2, _, _ = get_patches(x, patch_size, stride)\n",
    "\n",
    "            feture_map, y = model_enc(torch.cat([x, x_crop, sub_img, patch_1, patch_2])) \n",
    "            y, y_crop, y_sub, y_crop_1, y_crop_2 = torch.split(y, x.size(0))\n",
    "\n",
    "            loss, loss_mse, out_pos, out_neg = first_loss(y, y_crop, minet_local, loss_fn, x.shape[0], i, j, crop_size)\n",
    "            # loss += mse_coef*loss_mse\n",
    "            # loss /= (mse_coef + 1)\n",
    "            \n",
    "            loss /= (x.shape[0]*2)\n",
    "            \n",
    "            predicted = torch.ones(out_pos.shape[0], dtype=torch.long)\n",
    "            predicted[out_pos < 0.5] = 0 \n",
    "            #_, predicted = torch.max(out_pos.data[:, :2], 1)\n",
    "            total_accuracy += predicted.eq(torch.ones(out_pos.shape[0], dtype=torch.long).data).cpu().sum()\n",
    "            \n",
    "            total_loss += float(loss.detach())\n",
    "            predicted = torch.ones(out_neg.shape[0], dtype=torch.long)\n",
    "            predicted[out_neg < 0.5] = 0 \n",
    "            #_, predicted = torch.max(out_neg.data, 1)\n",
    "            total_accuracy += predicted.eq(torch.zeros(out_neg.shape[0], dtype=torch.long).data).cpu().sum()\n",
    "        torch.cuda.empty_cache()\n",
    "    return total_loss, total_accuracy / (len(dataloader.dataset)*2)"
   ]
  },
  {
   "cell_type": "code",
   "execution_count": 59,
   "id": "b899414f-6813-4c0a-afb0-3bd309e19376",
   "metadata": {},
   "outputs": [],
   "source": [
    "class CosineLoss(nn.Module):\n",
    "    def forward(self, x, y):\n",
    "        cos = torch.nn.CosineSimilarity()(x.cpu(), y.cpu())\n",
    "        cos[cos < 0] *= (-1)\n",
    "        cos[cos > 1] = 1 - 1e-8\n",
    "        cos[cos < 0] = 1e-8\n",
    "        #cos[label == 1] = 1 - cos[label == 1]\n",
    "        return cos#.sum()"
   ]
  },
  {
   "cell_type": "code",
   "execution_count": 25,
   "id": "2453baaa",
   "metadata": {},
   "outputs": [],
   "source": [
    "def plot(losses, labels, num_epoch, title, xlabel, ylabel):\n",
    "    plt.figure(figsize=(8,5))\n",
    "    for loss, label in zip(losses, labels):\n",
    "        plt.plot(range(1, num_epoch+1), loss, label=label)\n",
    "    \n",
    "    plt.title(title, fontsize=12)\n",
    "    plt.grid(True)\n",
    "    plt.xticks(range(1, num_epoch, 3))\n",
    "    plt.ylabel(ylabel,  fontsize=12)\n",
    "    plt.xlabel(xlabel,  fontsize=12)\n",
    "    plt.legend(fontsize=10)"
   ]
  },
  {
   "cell_type": "code",
   "execution_count": 22,
   "id": "c156e637",
   "metadata": {},
   "outputs": [
    {
     "name": "stderr",
     "output_type": "stream",
     "text": [
      "/tmp/ipykernel_6246/1126233747.py:52: UserWarning: masked_fill_ received a mask with dtype torch.uint8, this behavior is now deprecated,please use a mask with dtype torch.bool instead. (Triggered internally at ../aten/src/ATen/native/TensorAdvancedIndexing.cpp:1646.)\n",
      "  self.linear_shortcut.weight.data.masked_fill_(torch.tensor(eye_mask), 1.)\n"
     ]
    }
   ],
   "source": [
    "resnet = ResNet18(width=2).to(device)\n",
    "#mi_net = ConvMI_NN(input_channels=128*2, feature_map_size=16, num_classes=2).to(device)\n",
    "minet_local = MI1x1ConvNet(n_input=128*2, n_units=512).to(device)\n",
    "minet_global = MI1x1ConvNet(n_input=128+3, n_units=512).to(device)\n",
    "\n",
    "#criterion = nn.CrossEntropyLoss(reduction='sum')\n",
    "#criterion = infonce_loss\n",
    "criterion = fenchel_dual_loss\n",
    "optimizer_enc = torch.optim.Adam(resnet.parameters(), lr=1e-4)\n",
    "optimizer_mi_loc = torch.optim.Adam(minet_local.parameters(), lr=1e-4)\n",
    "optimizer_mi_glob = torch.optim.Adam(minet_global.parameters(), lr=1e-4)\n",
    "scheduler = torch.optim.lr_scheduler.StepLR(optimizer_enc, step_size=100, gamma=0.3)"
   ]
  },
  {
   "cell_type": "code",
   "execution_count": 26,
   "id": "29520a7d",
   "metadata": {},
   "outputs": [],
   "source": [
    "writer = SummaryWriter(log_dir=f\"logs/SubSeq\")"
   ]
  },
  {
   "cell_type": "code",
   "execution_count": 60,
   "id": "f765ce8d",
   "metadata": {},
   "outputs": [],
   "source": [
    "resnet = ResNet18(width=2).to(device)\n",
    "#mi_net = ConvMI_NN(input_channels=128*2, feature_map_size=16, num_classes=2).to(device)\n",
    "minet_local = SubSeq_NN(input_dim=128*2, num_classes=4).to(device)\n",
    "minet_global = None\n",
    "\n",
    "minet_local = CosineLoss()\n",
    "\n",
    "#criterion = nn.CrossEntropyLoss(reduction='sum')\n",
    "criterion = torch.nn.BCELoss(reduction='sum')\n",
    "#criterion = infonce_loss\n",
    "#criterion = fenchel_dual_loss\n",
    "optimizer_enc = torch.optim.Adam(resnet.parameters(), lr=1e-5)\n",
    "optimizer_mi_loc = None #torch.optim.Adam(minet_local.parameters(), lr=1e-5)\n",
    "optimizer_mi_glob = None\n",
    "scheduler = torch.optim.lr_scheduler.StepLR(optimizer_enc, step_size=20, gamma=0.5)"
   ]
  },
  {
   "cell_type": "code",
   "execution_count": 64,
   "id": "cdbaab26-127a-4da5-80a7-0a24d7200d3d",
   "metadata": {},
   "outputs": [],
   "source": [
    "torch.save(resnet.state_dict(), 'model_enc_last_test.pt')"
   ]
  },
  {
   "cell_type": "code",
   "execution_count": 754,
   "id": "fe2cd166",
   "metadata": {},
   "outputs": [
    {
     "data": {
      "text/plain": [
       "<All keys matched successfully>"
      ]
     },
     "execution_count": 754,
     "metadata": {},
     "output_type": "execute_result"
    }
   ],
   "source": [
    "resnet.load_state_dict(torch.load('resnet_subseq_lr.pt'))#.to(device)\n",
    "minet_local.load_state_dict(torch.load('minet_local_subseq_lr.pt'))#.to(device)"
   ]
  },
  {
   "cell_type": "code",
   "execution_count": 766,
   "id": "a68cc88b",
   "metadata": {},
   "outputs": [
    {
     "name": "stdout",
     "output_type": "stream",
     "text": [
      "tensor(-0.3170)\n",
      "tensor(-0.1834)\n"
     ]
    },
    {
     "data": {
      "text/plain": [
       "(0.13985859508514403, tensor(0.7147))"
      ]
     },
     "execution_count": 766,
     "metadata": {},
     "output_type": "execute_result"
    }
   ],
   "source": [
    "evaluate(test_loader, resnet, minet_local, \n",
    "            minet_global, criterion, device, writer=writer, epoch=1001)"
   ]
  },
  {
   "cell_type": "code",
   "execution_count": null,
   "id": "beaeaf7c",
   "metadata": {},
   "outputs": [
    {
     "name": "stderr",
     "output_type": "stream",
     "text": [
      "  0%|          | 1/1000 [00:55<15:30:10, 55.87s/it]"
     ]
    },
    {
     "name": "stdout",
     "output_type": "stream",
     "text": [
      "Epoch: 1/1000. Loss (Train/Test): 17.402/3.556. Accuracy (Train/Test): 0.588/0.569\n"
     ]
    },
    {
     "name": "stderr",
     "output_type": "stream",
     "text": [
      "  0%|          | 2/1000 [01:51<15:31:32, 56.00s/it]"
     ]
    },
    {
     "name": "stdout",
     "output_type": "stream",
     "text": [
      "Epoch: 2/1000. Loss (Train/Test): 16.088/2.977. Accuracy (Train/Test): 0.628/0.684\n"
     ]
    },
    {
     "name": "stderr",
     "output_type": "stream",
     "text": [
      "  0%|          | 3/1000 [02:48<15:30:49, 56.02s/it]"
     ]
    },
    {
     "name": "stdout",
     "output_type": "stream",
     "text": [
      "Epoch: 3/1000. Loss (Train/Test): 16.361/3.377. Accuracy (Train/Test): 0.622/0.583\n"
     ]
    },
    {
     "name": "stderr",
     "output_type": "stream",
     "text": [
      "  0%|          | 4/1000 [03:44<15:31:40, 56.12s/it]"
     ]
    },
    {
     "name": "stdout",
     "output_type": "stream",
     "text": [
      "Epoch: 4/1000. Loss (Train/Test): 16.190/3.106. Accuracy (Train/Test): 0.634/0.668\n"
     ]
    },
    {
     "name": "stderr",
     "output_type": "stream",
     "text": [
      "  0%|          | 5/1000 [04:40<15:29:19, 56.04s/it]"
     ]
    },
    {
     "name": "stdout",
     "output_type": "stream",
     "text": [
      "Epoch: 5/1000. Loss (Train/Test): 15.923/3.217. Accuracy (Train/Test): 0.651/0.643\n"
     ]
    },
    {
     "name": "stderr",
     "output_type": "stream",
     "text": [
      "  1%|          | 6/1000 [05:36<15:30:21, 56.16s/it]"
     ]
    },
    {
     "name": "stdout",
     "output_type": "stream",
     "text": [
      "Epoch: 6/1000. Loss (Train/Test): 15.611/2.788. Accuracy (Train/Test): 0.673/0.777\n"
     ]
    },
    {
     "name": "stderr",
     "output_type": "stream",
     "text": [
      "  1%|          | 7/1000 [06:32<15:29:40, 56.17s/it]"
     ]
    },
    {
     "name": "stdout",
     "output_type": "stream",
     "text": [
      "Epoch: 7/1000. Loss (Train/Test): 15.757/3.194. Accuracy (Train/Test): 0.665/0.644\n"
     ]
    },
    {
     "name": "stderr",
     "output_type": "stream",
     "text": [
      "  1%|          | 8/1000 [07:28<15:27:13, 56.08s/it]"
     ]
    },
    {
     "name": "stdout",
     "output_type": "stream",
     "text": [
      "Epoch: 8/1000. Loss (Train/Test): 15.484/3.294. Accuracy (Train/Test): 0.679/0.611\n"
     ]
    },
    {
     "name": "stderr",
     "output_type": "stream",
     "text": [
      "  1%|          | 9/1000 [08:25<15:28:14, 56.20s/it]"
     ]
    },
    {
     "name": "stdout",
     "output_type": "stream",
     "text": [
      "Epoch: 9/1000. Loss (Train/Test): 15.645/3.128. Accuracy (Train/Test): 0.669/0.646\n"
     ]
    },
    {
     "name": "stderr",
     "output_type": "stream",
     "text": [
      "  1%|          | 10/1000 [09:21<15:26:56, 56.18s/it]"
     ]
    },
    {
     "name": "stdout",
     "output_type": "stream",
     "text": [
      "Epoch: 10/1000. Loss (Train/Test): 15.301/2.905. Accuracy (Train/Test): 0.688/0.738\n"
     ]
    },
    {
     "name": "stderr",
     "output_type": "stream",
     "text": [
      "  1%|          | 11/1000 [10:16<15:22:31, 55.97s/it]"
     ]
    },
    {
     "name": "stdout",
     "output_type": "stream",
     "text": [
      "Epoch: 11/1000. Loss (Train/Test): 15.116/3.121. Accuracy (Train/Test): 0.705/0.676\n"
     ]
    },
    {
     "name": "stderr",
     "output_type": "stream",
     "text": [
      "  1%|          | 12/1000 [11:12<15:21:51, 55.98s/it]"
     ]
    },
    {
     "name": "stdout",
     "output_type": "stream",
     "text": [
      "Epoch: 12/1000. Loss (Train/Test): 15.393/3.116. Accuracy (Train/Test): 0.682/0.673\n"
     ]
    },
    {
     "name": "stderr",
     "output_type": "stream",
     "text": [
      "  1%|▏         | 13/1000 [12:08<15:21:11, 56.00s/it]"
     ]
    },
    {
     "name": "stdout",
     "output_type": "stream",
     "text": [
      "Epoch: 13/1000. Loss (Train/Test): 15.142/3.220. Accuracy (Train/Test): 0.699/0.635\n"
     ]
    },
    {
     "name": "stderr",
     "output_type": "stream",
     "text": [
      "  1%|▏         | 14/1000 [13:04<15:19:39, 55.96s/it]"
     ]
    },
    {
     "name": "stdout",
     "output_type": "stream",
     "text": [
      "Epoch: 14/1000. Loss (Train/Test): 14.783/3.110. Accuracy (Train/Test): 0.714/0.661\n"
     ]
    },
    {
     "name": "stderr",
     "output_type": "stream",
     "text": [
      "  2%|▏         | 15/1000 [14:00<15:19:11, 55.99s/it]"
     ]
    },
    {
     "name": "stdout",
     "output_type": "stream",
     "text": [
      "Epoch: 15/1000. Loss (Train/Test): 14.660/2.761. Accuracy (Train/Test): 0.713/0.782\n"
     ]
    },
    {
     "name": "stderr",
     "output_type": "stream",
     "text": [
      "  2%|▏         | 16/1000 [14:56<15:17:33, 55.95s/it]"
     ]
    },
    {
     "name": "stdout",
     "output_type": "stream",
     "text": [
      "Epoch: 16/1000. Loss (Train/Test): 14.549/2.866. Accuracy (Train/Test): 0.711/0.728\n"
     ]
    },
    {
     "name": "stderr",
     "output_type": "stream",
     "text": [
      "  2%|▏         | 17/1000 [15:52<15:16:43, 55.95s/it]"
     ]
    },
    {
     "name": "stdout",
     "output_type": "stream",
     "text": [
      "Epoch: 17/1000. Loss (Train/Test): 14.558/3.153. Accuracy (Train/Test): 0.714/0.644\n"
     ]
    },
    {
     "name": "stderr",
     "output_type": "stream",
     "text": [
      "  2%|▏         | 18/1000 [16:48<15:15:16, 55.92s/it]"
     ]
    },
    {
     "name": "stdout",
     "output_type": "stream",
     "text": [
      "Epoch: 18/1000. Loss (Train/Test): 14.546/2.811. Accuracy (Train/Test): 0.716/0.740\n"
     ]
    },
    {
     "name": "stderr",
     "output_type": "stream",
     "text": [
      "  2%|▏         | 19/1000 [17:44<15:15:40, 56.01s/it]"
     ]
    },
    {
     "name": "stdout",
     "output_type": "stream",
     "text": [
      "Epoch: 19/1000. Loss (Train/Test): 14.339/2.994. Accuracy (Train/Test): 0.728/0.694\n"
     ]
    },
    {
     "name": "stderr",
     "output_type": "stream",
     "text": [
      "  2%|▏         | 20/1000 [18:40<15:12:23, 55.86s/it]"
     ]
    },
    {
     "name": "stdout",
     "output_type": "stream",
     "text": [
      "Epoch: 20/1000. Loss (Train/Test): 14.205/2.925. Accuracy (Train/Test): 0.721/0.707\n"
     ]
    },
    {
     "name": "stderr",
     "output_type": "stream",
     "text": [
      "  2%|▏         | 21/1000 [19:36<15:14:23, 56.04s/it]"
     ]
    },
    {
     "name": "stdout",
     "output_type": "stream",
     "text": [
      "Epoch: 21/1000. Loss (Train/Test): 13.800/2.717. Accuracy (Train/Test): 0.743/0.750\n"
     ]
    },
    {
     "name": "stderr",
     "output_type": "stream",
     "text": [
      "  2%|▏         | 22/1000 [20:32<15:12:28, 55.98s/it]"
     ]
    },
    {
     "name": "stdout",
     "output_type": "stream",
     "text": [
      "Epoch: 22/1000. Loss (Train/Test): 13.863/3.014. Accuracy (Train/Test): 0.740/0.676\n"
     ]
    },
    {
     "name": "stderr",
     "output_type": "stream",
     "text": [
      "  2%|▏         | 23/1000 [21:28<15:10:10, 55.90s/it]"
     ]
    },
    {
     "name": "stdout",
     "output_type": "stream",
     "text": [
      "Epoch: 23/1000. Loss (Train/Test): 14.261/2.890. Accuracy (Train/Test): 0.726/0.713\n"
     ]
    },
    {
     "name": "stderr",
     "output_type": "stream",
     "text": [
      "  2%|▏         | 24/1000 [22:24<15:11:12, 56.02s/it]"
     ]
    },
    {
     "name": "stdout",
     "output_type": "stream",
     "text": [
      "Epoch: 24/1000. Loss (Train/Test): 13.970/2.490. Accuracy (Train/Test): 0.733/0.818\n"
     ]
    },
    {
     "name": "stderr",
     "output_type": "stream",
     "text": [
      "  2%|▎         | 25/1000 [23:21<15:13:38, 56.22s/it]"
     ]
    },
    {
     "name": "stdout",
     "output_type": "stream",
     "text": [
      "Epoch: 25/1000. Loss (Train/Test): 14.895/2.475. Accuracy (Train/Test): 0.689/0.803\n"
     ]
    },
    {
     "name": "stderr",
     "output_type": "stream",
     "text": [
      "  3%|▎         | 26/1000 [24:16<15:09:48, 56.05s/it]"
     ]
    },
    {
     "name": "stdout",
     "output_type": "stream",
     "text": [
      "Epoch: 26/1000. Loss (Train/Test): 14.161/2.537. Accuracy (Train/Test): 0.718/0.798\n"
     ]
    },
    {
     "name": "stderr",
     "output_type": "stream",
     "text": [
      "  3%|▎         | 27/1000 [25:12<15:08:15, 56.01s/it]"
     ]
    },
    {
     "name": "stdout",
     "output_type": "stream",
     "text": [
      "Epoch: 27/1000. Loss (Train/Test): 13.750/2.446. Accuracy (Train/Test): 0.733/0.822\n"
     ]
    },
    {
     "name": "stderr",
     "output_type": "stream",
     "text": [
      "  3%|▎         | 28/1000 [26:08<15:08:16, 56.07s/it]"
     ]
    },
    {
     "name": "stdout",
     "output_type": "stream",
     "text": [
      "Epoch: 28/1000. Loss (Train/Test): 14.410/2.958. Accuracy (Train/Test): 0.706/0.690\n"
     ]
    },
    {
     "name": "stderr",
     "output_type": "stream",
     "text": [
      "  3%|▎         | 29/1000 [27:04<15:04:59, 55.92s/it]"
     ]
    },
    {
     "name": "stdout",
     "output_type": "stream",
     "text": [
      "Epoch: 29/1000. Loss (Train/Test): 13.939/3.012. Accuracy (Train/Test): 0.733/0.679\n"
     ]
    },
    {
     "name": "stderr",
     "output_type": "stream",
     "text": [
      "  3%|▎         | 30/1000 [28:00<15:04:04, 55.92s/it]"
     ]
    },
    {
     "name": "stdout",
     "output_type": "stream",
     "text": [
      "Epoch: 30/1000. Loss (Train/Test): 13.962/2.812. Accuracy (Train/Test): 0.724/0.717\n"
     ]
    },
    {
     "name": "stderr",
     "output_type": "stream",
     "text": [
      "  3%|▎         | 31/1000 [28:56<15:04:48, 56.03s/it]"
     ]
    },
    {
     "name": "stdout",
     "output_type": "stream",
     "text": [
      "Epoch: 31/1000. Loss (Train/Test): 14.131/2.905. Accuracy (Train/Test): 0.715/0.699\n"
     ]
    },
    {
     "name": "stderr",
     "output_type": "stream",
     "text": [
      "  3%|▎         | 32/1000 [29:52<15:03:58, 56.03s/it]"
     ]
    },
    {
     "name": "stdout",
     "output_type": "stream",
     "text": [
      "Epoch: 32/1000. Loss (Train/Test): 13.711/2.672. Accuracy (Train/Test): 0.740/0.749\n"
     ]
    },
    {
     "name": "stderr",
     "output_type": "stream",
     "text": [
      "  3%|▎         | 33/1000 [30:48<15:03:12, 56.04s/it]"
     ]
    },
    {
     "name": "stdout",
     "output_type": "stream",
     "text": [
      "Epoch: 33/1000. Loss (Train/Test): 14.389/2.449. Accuracy (Train/Test): 0.703/0.803\n"
     ]
    },
    {
     "name": "stderr",
     "output_type": "stream",
     "text": [
      "  3%|▎         | 34/1000 [31:45<15:06:13, 56.29s/it]"
     ]
    },
    {
     "name": "stdout",
     "output_type": "stream",
     "text": [
      "Epoch: 34/1000. Loss (Train/Test): 13.354/2.826. Accuracy (Train/Test): 0.753/0.715\n"
     ]
    },
    {
     "name": "stderr",
     "output_type": "stream",
     "text": [
      "  4%|▎         | 35/1000 [32:41<15:05:24, 56.30s/it]"
     ]
    },
    {
     "name": "stdout",
     "output_type": "stream",
     "text": [
      "Epoch: 35/1000. Loss (Train/Test): 13.335/2.647. Accuracy (Train/Test): 0.751/0.760\n"
     ]
    },
    {
     "name": "stderr",
     "output_type": "stream",
     "text": [
      "  4%|▎         | 36/1000 [33:38<15:04:28, 56.30s/it]"
     ]
    },
    {
     "name": "stdout",
     "output_type": "stream",
     "text": [
      "Epoch: 36/1000. Loss (Train/Test): 14.129/2.474. Accuracy (Train/Test): 0.713/0.793\n"
     ]
    },
    {
     "name": "stderr",
     "output_type": "stream",
     "text": [
      "  4%|▎         | 37/1000 [34:33<14:59:32, 56.05s/it]"
     ]
    },
    {
     "name": "stdout",
     "output_type": "stream",
     "text": [
      "Epoch: 37/1000. Loss (Train/Test): 14.309/3.009. Accuracy (Train/Test): 0.707/0.678\n"
     ]
    },
    {
     "name": "stderr",
     "output_type": "stream",
     "text": [
      "  4%|▍         | 38/1000 [35:30<15:01:17, 56.21s/it]"
     ]
    },
    {
     "name": "stdout",
     "output_type": "stream",
     "text": [
      "Epoch: 38/1000. Loss (Train/Test): 12.379/2.542. Accuracy (Train/Test): 0.786/0.767\n"
     ]
    },
    {
     "name": "stderr",
     "output_type": "stream",
     "text": [
      "  4%|▍         | 39/1000 [36:25<14:57:15, 56.02s/it]"
     ]
    },
    {
     "name": "stdout",
     "output_type": "stream",
     "text": [
      "Epoch: 39/1000. Loss (Train/Test): 13.336/2.633. Accuracy (Train/Test): 0.743/0.750\n"
     ]
    },
    {
     "name": "stderr",
     "output_type": "stream",
     "text": [
      "  4%|▍         | 40/1000 [37:21<14:54:32, 55.91s/it]"
     ]
    },
    {
     "name": "stdout",
     "output_type": "stream",
     "text": [
      "Epoch: 40/1000. Loss (Train/Test): 12.983/2.343. Accuracy (Train/Test): 0.758/0.809\n"
     ]
    },
    {
     "name": "stderr",
     "output_type": "stream",
     "text": [
      "  4%|▍         | 41/1000 [38:17<14:53:41, 55.91s/it]"
     ]
    },
    {
     "name": "stdout",
     "output_type": "stream",
     "text": [
      "Epoch: 41/1000. Loss (Train/Test): 12.232/2.763. Accuracy (Train/Test): 0.788/0.728\n"
     ]
    },
    {
     "name": "stderr",
     "output_type": "stream",
     "text": [
      "  4%|▍         | 42/1000 [39:13<14:54:48, 56.04s/it]"
     ]
    },
    {
     "name": "stdout",
     "output_type": "stream",
     "text": [
      "Epoch: 42/1000. Loss (Train/Test): 12.232/2.927. Accuracy (Train/Test): 0.790/0.698\n"
     ]
    },
    {
     "name": "stderr",
     "output_type": "stream",
     "text": [
      "  4%|▍         | 43/1000 [40:09<14:51:36, 55.90s/it]"
     ]
    },
    {
     "name": "stdout",
     "output_type": "stream",
     "text": [
      "Epoch: 43/1000. Loss (Train/Test): 12.787/2.367. Accuracy (Train/Test): 0.771/0.808\n"
     ]
    },
    {
     "name": "stderr",
     "output_type": "stream",
     "text": [
      "  4%|▍         | 44/1000 [41:05<14:50:53, 55.91s/it]"
     ]
    },
    {
     "name": "stdout",
     "output_type": "stream",
     "text": [
      "Epoch: 44/1000. Loss (Train/Test): 13.440/2.216. Accuracy (Train/Test): 0.743/0.839\n"
     ]
    },
    {
     "name": "stderr",
     "output_type": "stream",
     "text": [
      "  4%|▍         | 45/1000 [42:01<14:50:32, 55.95s/it]"
     ]
    },
    {
     "name": "stdout",
     "output_type": "stream",
     "text": [
      "Epoch: 45/1000. Loss (Train/Test): 12.826/2.799. Accuracy (Train/Test): 0.758/0.716\n"
     ]
    },
    {
     "name": "stderr",
     "output_type": "stream",
     "text": [
      "  5%|▍         | 46/1000 [42:57<14:50:43, 56.02s/it]"
     ]
    },
    {
     "name": "stdout",
     "output_type": "stream",
     "text": [
      "Epoch: 46/1000. Loss (Train/Test): 12.606/2.495. Accuracy (Train/Test): 0.770/0.766\n"
     ]
    },
    {
     "name": "stderr",
     "output_type": "stream",
     "text": [
      "  5%|▍         | 47/1000 [43:54<14:52:26, 56.19s/it]"
     ]
    },
    {
     "name": "stdout",
     "output_type": "stream",
     "text": [
      "Epoch: 47/1000. Loss (Train/Test): 13.366/2.596. Accuracy (Train/Test): 0.738/0.747\n"
     ]
    },
    {
     "name": "stderr",
     "output_type": "stream",
     "text": [
      "  5%|▍         | 48/1000 [44:49<14:49:54, 56.09s/it]"
     ]
    },
    {
     "name": "stdout",
     "output_type": "stream",
     "text": [
      "Epoch: 48/1000. Loss (Train/Test): 13.327/2.208. Accuracy (Train/Test): 0.744/0.824\n"
     ]
    },
    {
     "name": "stderr",
     "output_type": "stream",
     "text": [
      "  5%|▍         | 49/1000 [45:45<14:45:06, 55.84s/it]"
     ]
    },
    {
     "name": "stdout",
     "output_type": "stream",
     "text": [
      "Epoch: 49/1000. Loss (Train/Test): 13.110/2.730. Accuracy (Train/Test): 0.753/0.726\n"
     ]
    },
    {
     "name": "stderr",
     "output_type": "stream",
     "text": [
      "  5%|▌         | 50/1000 [46:41<14:44:32, 55.87s/it]"
     ]
    },
    {
     "name": "stdout",
     "output_type": "stream",
     "text": [
      "Epoch: 50/1000. Loss (Train/Test): 12.300/2.517. Accuracy (Train/Test): 0.782/0.766\n"
     ]
    },
    {
     "name": "stderr",
     "output_type": "stream",
     "text": [
      "  5%|▌         | 51/1000 [47:37<14:46:53, 56.07s/it]"
     ]
    },
    {
     "name": "stdout",
     "output_type": "stream",
     "text": [
      "Epoch: 51/1000. Loss (Train/Test): 13.053/2.281. Accuracy (Train/Test): 0.754/0.816\n"
     ]
    },
    {
     "name": "stderr",
     "output_type": "stream",
     "text": [
      "  5%|▌         | 52/1000 [48:33<14:46:02, 56.08s/it]"
     ]
    },
    {
     "name": "stdout",
     "output_type": "stream",
     "text": [
      "Epoch: 52/1000. Loss (Train/Test): 13.045/2.139. Accuracy (Train/Test): 0.758/0.841\n"
     ]
    },
    {
     "name": "stderr",
     "output_type": "stream",
     "text": [
      "  5%|▌         | 53/1000 [49:29<14:41:14, 55.83s/it]"
     ]
    },
    {
     "name": "stdout",
     "output_type": "stream",
     "text": [
      "Epoch: 53/1000. Loss (Train/Test): 12.984/2.721. Accuracy (Train/Test): 0.756/0.721\n"
     ]
    },
    {
     "name": "stderr",
     "output_type": "stream",
     "text": [
      "  5%|▌         | 54/1000 [50:24<14:40:12, 55.83s/it]"
     ]
    },
    {
     "name": "stdout",
     "output_type": "stream",
     "text": [
      "Epoch: 54/1000. Loss (Train/Test): 12.822/2.613. Accuracy (Train/Test): 0.770/0.749\n"
     ]
    },
    {
     "name": "stderr",
     "output_type": "stream",
     "text": [
      "  6%|▌         | 55/1000 [51:20<14:40:21, 55.90s/it]"
     ]
    },
    {
     "name": "stdout",
     "output_type": "stream",
     "text": [
      "Epoch: 55/1000. Loss (Train/Test): 12.887/2.731. Accuracy (Train/Test): 0.758/0.742\n"
     ]
    },
    {
     "name": "stderr",
     "output_type": "stream",
     "text": [
      "  6%|▌         | 56/1000 [52:16<14:39:20, 55.89s/it]"
     ]
    },
    {
     "name": "stdout",
     "output_type": "stream",
     "text": [
      "Epoch: 56/1000. Loss (Train/Test): 12.809/2.419. Accuracy (Train/Test): 0.761/0.787\n"
     ]
    },
    {
     "name": "stderr",
     "output_type": "stream",
     "text": [
      "  6%|▌         | 57/1000 [53:12<14:38:18, 55.88s/it]"
     ]
    },
    {
     "name": "stdout",
     "output_type": "stream",
     "text": [
      "Epoch: 57/1000. Loss (Train/Test): 12.766/2.546. Accuracy (Train/Test): 0.759/0.765\n"
     ]
    },
    {
     "name": "stderr",
     "output_type": "stream",
     "text": [
      "  6%|▌         | 58/1000 [54:08<14:35:12, 55.75s/it]"
     ]
    },
    {
     "name": "stdout",
     "output_type": "stream",
     "text": [
      "Epoch: 58/1000. Loss (Train/Test): 12.609/2.278. Accuracy (Train/Test): 0.776/0.823\n"
     ]
    },
    {
     "name": "stderr",
     "output_type": "stream",
     "text": [
      "  6%|▌         | 59/1000 [55:04<14:36:48, 55.91s/it]"
     ]
    },
    {
     "name": "stdout",
     "output_type": "stream",
     "text": [
      "Epoch: 59/1000. Loss (Train/Test): 13.768/2.613. Accuracy (Train/Test): 0.734/0.752\n"
     ]
    },
    {
     "name": "stderr",
     "output_type": "stream",
     "text": [
      "  6%|▌         | 60/1000 [56:00<14:37:44, 56.03s/it]"
     ]
    },
    {
     "name": "stdout",
     "output_type": "stream",
     "text": [
      "Epoch: 60/1000. Loss (Train/Test): 13.013/2.896. Accuracy (Train/Test): 0.755/0.716\n"
     ]
    },
    {
     "name": "stderr",
     "output_type": "stream",
     "text": [
      "  6%|▌         | 61/1000 [56:56<14:35:59, 55.97s/it]"
     ]
    },
    {
     "name": "stdout",
     "output_type": "stream",
     "text": [
      "Epoch: 61/1000. Loss (Train/Test): 11.741/2.216. Accuracy (Train/Test): 0.803/0.823\n"
     ]
    },
    {
     "name": "stderr",
     "output_type": "stream",
     "text": [
      "  6%|▌         | 62/1000 [57:52<14:32:53, 55.84s/it]"
     ]
    },
    {
     "name": "stdout",
     "output_type": "stream",
     "text": [
      "Epoch: 62/1000. Loss (Train/Test): 12.950/2.358. Accuracy (Train/Test): 0.760/0.794\n"
     ]
    },
    {
     "name": "stderr",
     "output_type": "stream",
     "text": [
      "  6%|▋         | 63/1000 [58:47<14:31:28, 55.80s/it]"
     ]
    },
    {
     "name": "stdout",
     "output_type": "stream",
     "text": [
      "Epoch: 63/1000. Loss (Train/Test): 12.098/2.950. Accuracy (Train/Test): 0.788/0.684\n"
     ]
    },
    {
     "name": "stderr",
     "output_type": "stream",
     "text": [
      "  6%|▋         | 64/1000 [59:44<14:35:53, 56.15s/it]"
     ]
    },
    {
     "name": "stdout",
     "output_type": "stream",
     "text": [
      "Epoch: 64/1000. Loss (Train/Test): 12.105/2.921. Accuracy (Train/Test): 0.793/0.703\n"
     ]
    },
    {
     "name": "stderr",
     "output_type": "stream",
     "text": [
      "  6%|▋         | 65/1000 [1:00:39<14:29:11, 55.78s/it]"
     ]
    },
    {
     "name": "stdout",
     "output_type": "stream",
     "text": [
      "Epoch: 65/1000. Loss (Train/Test): 13.431/2.487. Accuracy (Train/Test): 0.738/0.772\n"
     ]
    },
    {
     "name": "stderr",
     "output_type": "stream",
     "text": [
      "  7%|▋         | 66/1000 [1:01:35<14:27:12, 55.71s/it]"
     ]
    },
    {
     "name": "stdout",
     "output_type": "stream",
     "text": [
      "Epoch: 66/1000. Loss (Train/Test): 12.732/2.483. Accuracy (Train/Test): 0.761/0.788\n"
     ]
    },
    {
     "name": "stderr",
     "output_type": "stream",
     "text": [
      "  7%|▋         | 67/1000 [1:02:31<14:28:56, 55.88s/it]"
     ]
    },
    {
     "name": "stdout",
     "output_type": "stream",
     "text": [
      "Epoch: 67/1000. Loss (Train/Test): 12.754/2.320. Accuracy (Train/Test): 0.764/0.808\n"
     ]
    },
    {
     "name": "stderr",
     "output_type": "stream",
     "text": [
      "  7%|▋         | 68/1000 [1:03:27<14:27:25, 55.84s/it]"
     ]
    },
    {
     "name": "stdout",
     "output_type": "stream",
     "text": [
      "Epoch: 68/1000. Loss (Train/Test): 12.649/2.759. Accuracy (Train/Test): 0.765/0.715\n"
     ]
    },
    {
     "name": "stderr",
     "output_type": "stream",
     "text": [
      "  7%|▋         | 69/1000 [1:04:23<14:27:40, 55.92s/it]"
     ]
    },
    {
     "name": "stdout",
     "output_type": "stream",
     "text": [
      "Epoch: 69/1000. Loss (Train/Test): 12.813/2.467. Accuracy (Train/Test): 0.763/0.776\n"
     ]
    },
    {
     "name": "stderr",
     "output_type": "stream",
     "text": [
      "  7%|▋         | 70/1000 [1:05:19<14:26:41, 55.92s/it]"
     ]
    },
    {
     "name": "stdout",
     "output_type": "stream",
     "text": [
      "Epoch: 70/1000. Loss (Train/Test): 12.663/2.443. Accuracy (Train/Test): 0.767/0.782\n"
     ]
    },
    {
     "name": "stderr",
     "output_type": "stream",
     "text": [
      "  7%|▋         | 71/1000 [1:06:14<14:22:32, 55.71s/it]"
     ]
    },
    {
     "name": "stdout",
     "output_type": "stream",
     "text": [
      "Epoch: 71/1000. Loss (Train/Test): 12.975/2.802. Accuracy (Train/Test): 0.752/0.720\n"
     ]
    },
    {
     "name": "stderr",
     "output_type": "stream",
     "text": [
      "  7%|▋         | 72/1000 [1:07:10<14:22:11, 55.74s/it]"
     ]
    },
    {
     "name": "stdout",
     "output_type": "stream",
     "text": [
      "Epoch: 72/1000. Loss (Train/Test): 13.171/2.861. Accuracy (Train/Test): 0.747/0.711\n"
     ]
    },
    {
     "name": "stderr",
     "output_type": "stream",
     "text": [
      "  7%|▋         | 73/1000 [1:08:06<14:23:28, 55.89s/it]"
     ]
    },
    {
     "name": "stdout",
     "output_type": "stream",
     "text": [
      "Epoch: 73/1000. Loss (Train/Test): 13.468/2.499. Accuracy (Train/Test): 0.734/0.768\n"
     ]
    },
    {
     "name": "stderr",
     "output_type": "stream",
     "text": [
      "  7%|▋         | 74/1000 [1:09:01<14:20:24, 55.75s/it]"
     ]
    },
    {
     "name": "stdout",
     "output_type": "stream",
     "text": [
      "Epoch: 74/1000. Loss (Train/Test): 13.627/2.849. Accuracy (Train/Test): 0.737/0.710\n"
     ]
    },
    {
     "name": "stderr",
     "output_type": "stream",
     "text": [
      "  8%|▊         | 75/1000 [1:09:58<14:22:32, 55.95s/it]"
     ]
    },
    {
     "name": "stdout",
     "output_type": "stream",
     "text": [
      "Epoch: 75/1000. Loss (Train/Test): 13.476/2.800. Accuracy (Train/Test): 0.738/0.709\n"
     ]
    },
    {
     "name": "stderr",
     "output_type": "stream",
     "text": [
      "  8%|▊         | 76/1000 [1:10:54<14:21:40, 55.95s/it]"
     ]
    },
    {
     "name": "stdout",
     "output_type": "stream",
     "text": [
      "Epoch: 76/1000. Loss (Train/Test): 13.688/2.454. Accuracy (Train/Test): 0.731/0.780\n"
     ]
    },
    {
     "name": "stderr",
     "output_type": "stream",
     "text": [
      "  8%|▊         | 77/1000 [1:11:50<14:22:09, 56.04s/it]"
     ]
    },
    {
     "name": "stdout",
     "output_type": "stream",
     "text": [
      "Epoch: 77/1000. Loss (Train/Test): 13.748/2.865. Accuracy (Train/Test): 0.728/0.721\n"
     ]
    },
    {
     "name": "stderr",
     "output_type": "stream",
     "text": [
      "  8%|▊         | 80/1000 [1:14:37<14:14:34, 55.73s/it]"
     ]
    },
    {
     "name": "stdout",
     "output_type": "stream",
     "text": [
      "Epoch: 80/1000. Loss (Train/Test): 13.697/2.203. Accuracy (Train/Test): 0.727/0.836\n"
     ]
    },
    {
     "name": "stderr",
     "output_type": "stream",
     "text": [
      "  8%|▊         | 81/1000 [1:15:33<14:15:05, 55.83s/it]"
     ]
    },
    {
     "name": "stdout",
     "output_type": "stream",
     "text": [
      "Epoch: 81/1000. Loss (Train/Test): 13.357/2.492. Accuracy (Train/Test): 0.738/0.768\n"
     ]
    },
    {
     "name": "stderr",
     "output_type": "stream",
     "text": [
      "  8%|▊         | 82/1000 [1:16:29<14:15:30, 55.92s/it]"
     ]
    },
    {
     "name": "stdout",
     "output_type": "stream",
     "text": [
      "Epoch: 82/1000. Loss (Train/Test): 12.107/2.293. Accuracy (Train/Test): 0.790/0.809\n"
     ]
    },
    {
     "name": "stderr",
     "output_type": "stream",
     "text": [
      "  8%|▊         | 83/1000 [1:17:25<14:14:40, 55.92s/it]"
     ]
    },
    {
     "name": "stdout",
     "output_type": "stream",
     "text": [
      "Epoch: 83/1000. Loss (Train/Test): 11.577/2.539. Accuracy (Train/Test): 0.811/0.767\n"
     ]
    },
    {
     "name": "stderr",
     "output_type": "stream",
     "text": [
      "  8%|▊         | 84/1000 [1:18:21<14:13:33, 55.91s/it]"
     ]
    },
    {
     "name": "stdout",
     "output_type": "stream",
     "text": [
      "Epoch: 84/1000. Loss (Train/Test): 12.157/3.114. Accuracy (Train/Test): 0.786/0.663\n"
     ]
    },
    {
     "name": "stderr",
     "output_type": "stream",
     "text": [
      "  8%|▊         | 85/1000 [1:19:17<14:12:00, 55.87s/it]"
     ]
    },
    {
     "name": "stdout",
     "output_type": "stream",
     "text": [
      "Epoch: 85/1000. Loss (Train/Test): 12.817/2.519. Accuracy (Train/Test): 0.763/0.764\n"
     ]
    },
    {
     "name": "stderr",
     "output_type": "stream",
     "text": [
      "  9%|▊         | 86/1000 [1:20:12<14:09:26, 55.76s/it]"
     ]
    },
    {
     "name": "stdout",
     "output_type": "stream",
     "text": [
      "Epoch: 86/1000. Loss (Train/Test): 12.959/2.546. Accuracy (Train/Test): 0.753/0.758\n"
     ]
    },
    {
     "name": "stderr",
     "output_type": "stream",
     "text": [
      "  9%|▊         | 87/1000 [1:21:08<14:07:44, 55.71s/it]"
     ]
    },
    {
     "name": "stdout",
     "output_type": "stream",
     "text": [
      "Epoch: 87/1000. Loss (Train/Test): 11.998/2.295. Accuracy (Train/Test): 0.794/0.814\n"
     ]
    },
    {
     "name": "stderr",
     "output_type": "stream",
     "text": [
      "  9%|▉         | 88/1000 [1:22:04<14:08:56, 55.85s/it]"
     ]
    },
    {
     "name": "stdout",
     "output_type": "stream",
     "text": [
      "Epoch: 88/1000. Loss (Train/Test): 12.646/2.275. Accuracy (Train/Test): 0.767/0.813\n"
     ]
    },
    {
     "name": "stderr",
     "output_type": "stream",
     "text": [
      "  9%|▉         | 89/1000 [1:23:00<14:11:05, 56.05s/it]"
     ]
    },
    {
     "name": "stdout",
     "output_type": "stream",
     "text": [
      "Epoch: 89/1000. Loss (Train/Test): 12.370/2.462. Accuracy (Train/Test): 0.777/0.775\n"
     ]
    },
    {
     "name": "stderr",
     "output_type": "stream",
     "text": [
      "  9%|▉         | 90/1000 [1:23:57<14:11:21, 56.13s/it]"
     ]
    },
    {
     "name": "stdout",
     "output_type": "stream",
     "text": [
      "Epoch: 90/1000. Loss (Train/Test): 13.606/2.555. Accuracy (Train/Test): 0.738/0.762\n"
     ]
    },
    {
     "name": "stderr",
     "output_type": "stream",
     "text": [
      "  9%|▉         | 91/1000 [1:24:52<14:07:14, 55.92s/it]"
     ]
    },
    {
     "name": "stdout",
     "output_type": "stream",
     "text": [
      "Epoch: 91/1000. Loss (Train/Test): 13.167/2.598. Accuracy (Train/Test): 0.753/0.753\n"
     ]
    },
    {
     "name": "stderr",
     "output_type": "stream",
     "text": [
      "  9%|▉         | 92/1000 [1:25:48<14:07:23, 55.99s/it]"
     ]
    },
    {
     "name": "stdout",
     "output_type": "stream",
     "text": [
      "Epoch: 92/1000. Loss (Train/Test): 12.302/2.614. Accuracy (Train/Test): 0.779/0.767\n"
     ]
    },
    {
     "name": "stderr",
     "output_type": "stream",
     "text": [
      "  9%|▉         | 93/1000 [1:26:44<14:04:16, 55.85s/it]"
     ]
    },
    {
     "name": "stdout",
     "output_type": "stream",
     "text": [
      "Epoch: 93/1000. Loss (Train/Test): 12.544/2.608. Accuracy (Train/Test): 0.774/0.748\n"
     ]
    },
    {
     "name": "stderr",
     "output_type": "stream",
     "text": [
      "  9%|▉         | 94/1000 [1:27:40<14:03:57, 55.89s/it]"
     ]
    },
    {
     "name": "stdout",
     "output_type": "stream",
     "text": [
      "Epoch: 94/1000. Loss (Train/Test): 13.467/2.405. Accuracy (Train/Test): 0.739/0.787\n"
     ]
    },
    {
     "name": "stderr",
     "output_type": "stream",
     "text": [
      " 10%|▉         | 95/1000 [1:28:37<14:09:22, 56.31s/it]"
     ]
    },
    {
     "name": "stdout",
     "output_type": "stream",
     "text": [
      "Epoch: 95/1000. Loss (Train/Test): 12.740/2.961. Accuracy (Train/Test): 0.769/0.689\n"
     ]
    },
    {
     "name": "stderr",
     "output_type": "stream",
     "text": [
      " 10%|▉         | 96/1000 [1:29:33<14:06:49, 56.21s/it]"
     ]
    },
    {
     "name": "stdout",
     "output_type": "stream",
     "text": [
      "Epoch: 96/1000. Loss (Train/Test): 12.450/2.890. Accuracy (Train/Test): 0.782/0.701\n"
     ]
    },
    {
     "name": "stderr",
     "output_type": "stream",
     "text": [
      " 10%|▉         | 97/1000 [1:30:29<14:05:48, 56.20s/it]"
     ]
    },
    {
     "name": "stdout",
     "output_type": "stream",
     "text": [
      "Epoch: 97/1000. Loss (Train/Test): 12.613/2.713. Accuracy (Train/Test): 0.768/0.726\n"
     ]
    },
    {
     "name": "stderr",
     "output_type": "stream",
     "text": [
      " 10%|▉         | 98/1000 [1:31:26<14:05:31, 56.24s/it]"
     ]
    },
    {
     "name": "stdout",
     "output_type": "stream",
     "text": [
      "Epoch: 98/1000. Loss (Train/Test): 12.516/2.851. Accuracy (Train/Test): 0.770/0.709\n"
     ]
    },
    {
     "name": "stderr",
     "output_type": "stream",
     "text": [
      " 10%|▉         | 99/1000 [1:32:21<14:01:40, 56.05s/it]"
     ]
    },
    {
     "name": "stdout",
     "output_type": "stream",
     "text": [
      "Epoch: 99/1000. Loss (Train/Test): 13.433/2.930. Accuracy (Train/Test): 0.738/0.693\n",
      "Epoch: 100/1000. Loss (Train/Test): 11.643/2.838. Accuracy (Train/Test): 0.805/0.712\n"
     ]
    },
    {
     "name": "stderr",
     "output_type": "stream",
     "text": [
      " 10%|█         | 101/1000 [1:34:14<14:02:14, 56.21s/it]"
     ]
    },
    {
     "name": "stdout",
     "output_type": "stream",
     "text": [
      "Epoch: 101/1000. Loss (Train/Test): 12.260/2.817. Accuracy (Train/Test): 0.785/0.716\n"
     ]
    },
    {
     "name": "stderr",
     "output_type": "stream",
     "text": [
      " 10%|█         | 102/1000 [1:35:10<14:01:32, 56.23s/it]"
     ]
    },
    {
     "name": "stdout",
     "output_type": "stream",
     "text": [
      "Epoch: 102/1000. Loss (Train/Test): 13.057/2.834. Accuracy (Train/Test): 0.751/0.714\n"
     ]
    },
    {
     "name": "stderr",
     "output_type": "stream",
     "text": [
      " 10%|█         | 103/1000 [1:36:07<14:00:36, 56.23s/it]"
     ]
    },
    {
     "name": "stdout",
     "output_type": "stream",
     "text": [
      "Epoch: 103/1000. Loss (Train/Test): 13.740/2.681. Accuracy (Train/Test): 0.727/0.734\n"
     ]
    },
    {
     "name": "stderr",
     "output_type": "stream",
     "text": [
      " 10%|█         | 104/1000 [1:37:02<13:58:01, 56.12s/it]"
     ]
    },
    {
     "name": "stdout",
     "output_type": "stream",
     "text": [
      "Epoch: 104/1000. Loss (Train/Test): 12.592/2.615. Accuracy (Train/Test): 0.771/0.746\n"
     ]
    },
    {
     "name": "stderr",
     "output_type": "stream",
     "text": [
      " 10%|█         | 105/1000 [1:37:58<13:54:14, 55.93s/it]"
     ]
    },
    {
     "name": "stdout",
     "output_type": "stream",
     "text": [
      "Epoch: 105/1000. Loss (Train/Test): 12.191/2.381. Accuracy (Train/Test): 0.783/0.787\n"
     ]
    },
    {
     "name": "stderr",
     "output_type": "stream",
     "text": [
      " 11%|█         | 106/1000 [1:38:53<13:51:18, 55.79s/it]"
     ]
    },
    {
     "name": "stdout",
     "output_type": "stream",
     "text": [
      "Epoch: 106/1000. Loss (Train/Test): 13.528/3.018. Accuracy (Train/Test): 0.738/0.680\n"
     ]
    },
    {
     "name": "stderr",
     "output_type": "stream",
     "text": [
      " 11%|█         | 107/1000 [1:39:49<13:51:13, 55.85s/it]"
     ]
    },
    {
     "name": "stdout",
     "output_type": "stream",
     "text": [
      "Epoch: 107/1000. Loss (Train/Test): 13.474/2.711. Accuracy (Train/Test): 0.735/0.733\n"
     ]
    },
    {
     "name": "stderr",
     "output_type": "stream",
     "text": [
      " 11%|█         | 108/1000 [1:40:46<13:52:39, 56.01s/it]"
     ]
    },
    {
     "name": "stdout",
     "output_type": "stream",
     "text": [
      "Epoch: 108/1000. Loss (Train/Test): 12.672/2.583. Accuracy (Train/Test): 0.766/0.763\n"
     ]
    },
    {
     "name": "stderr",
     "output_type": "stream",
     "text": [
      " 11%|█         | 109/1000 [1:41:42<13:52:08, 56.04s/it]"
     ]
    },
    {
     "name": "stdout",
     "output_type": "stream",
     "text": [
      "Epoch: 109/1000. Loss (Train/Test): 12.593/2.457. Accuracy (Train/Test): 0.769/0.762\n"
     ]
    },
    {
     "name": "stderr",
     "output_type": "stream",
     "text": [
      " 11%|█         | 110/1000 [1:42:37<13:48:09, 55.83s/it]"
     ]
    },
    {
     "name": "stdout",
     "output_type": "stream",
     "text": [
      "Epoch: 110/1000. Loss (Train/Test): 13.498/2.745. Accuracy (Train/Test): 0.739/0.733\n"
     ]
    },
    {
     "name": "stderr",
     "output_type": "stream",
     "text": [
      " 11%|█         | 111/1000 [1:43:33<13:46:11, 55.76s/it]"
     ]
    },
    {
     "name": "stdout",
     "output_type": "stream",
     "text": [
      "Epoch: 111/1000. Loss (Train/Test): 13.817/2.916. Accuracy (Train/Test): 0.722/0.701\n"
     ]
    },
    {
     "name": "stderr",
     "output_type": "stream",
     "text": [
      " 11%|█         | 112/1000 [1:44:29<13:46:48, 55.87s/it]"
     ]
    },
    {
     "name": "stdout",
     "output_type": "stream",
     "text": [
      "Epoch: 112/1000. Loss (Train/Test): 13.369/1.995. Accuracy (Train/Test): 0.739/0.862\n"
     ]
    },
    {
     "name": "stderr",
     "output_type": "stream",
     "text": [
      " 11%|█▏        | 113/1000 [1:45:25<13:46:27, 55.90s/it]"
     ]
    },
    {
     "name": "stdout",
     "output_type": "stream",
     "text": [
      "Epoch: 113/1000. Loss (Train/Test): 12.891/2.380. Accuracy (Train/Test): 0.763/0.805\n"
     ]
    },
    {
     "name": "stderr",
     "output_type": "stream",
     "text": [
      " 11%|█▏        | 114/1000 [1:46:21<13:44:22, 55.83s/it]"
     ]
    },
    {
     "name": "stdout",
     "output_type": "stream",
     "text": [
      "Epoch: 114/1000. Loss (Train/Test): 12.662/3.027. Accuracy (Train/Test): 0.765/0.684\n"
     ]
    },
    {
     "name": "stderr",
     "output_type": "stream",
     "text": [
      " 12%|█▏        | 115/1000 [1:47:16<13:42:44, 55.78s/it]"
     ]
    },
    {
     "name": "stdout",
     "output_type": "stream",
     "text": [
      "Epoch: 115/1000. Loss (Train/Test): 12.749/2.068. Accuracy (Train/Test): 0.771/0.858\n"
     ]
    },
    {
     "name": "stderr",
     "output_type": "stream",
     "text": [
      " 12%|█▏        | 116/1000 [1:48:12<13:42:49, 55.85s/it]"
     ]
    },
    {
     "name": "stdout",
     "output_type": "stream",
     "text": [
      "Epoch: 116/1000. Loss (Train/Test): 13.615/2.751. Accuracy (Train/Test): 0.734/0.724\n"
     ]
    },
    {
     "name": "stderr",
     "output_type": "stream",
     "text": [
      " 12%|█▏        | 117/1000 [1:49:09<13:46:45, 56.18s/it]"
     ]
    },
    {
     "name": "stdout",
     "output_type": "stream",
     "text": [
      "Epoch: 117/1000. Loss (Train/Test): 12.347/2.256. Accuracy (Train/Test): 0.773/0.822\n"
     ]
    },
    {
     "name": "stderr",
     "output_type": "stream",
     "text": [
      " 12%|█▏        | 118/1000 [1:50:05<13:45:14, 56.14s/it]"
     ]
    },
    {
     "name": "stdout",
     "output_type": "stream",
     "text": [
      "Epoch: 118/1000. Loss (Train/Test): 11.862/2.566. Accuracy (Train/Test): 0.793/0.753\n"
     ]
    },
    {
     "name": "stderr",
     "output_type": "stream",
     "text": [
      " 12%|█▏        | 119/1000 [1:51:01<13:42:02, 55.98s/it]"
     ]
    },
    {
     "name": "stdout",
     "output_type": "stream",
     "text": [
      "Epoch: 119/1000. Loss (Train/Test): 12.498/2.979. Accuracy (Train/Test): 0.779/0.687\n"
     ]
    },
    {
     "name": "stderr",
     "output_type": "stream",
     "text": [
      " 12%|█▏        | 120/1000 [1:51:56<13:39:26, 55.87s/it]"
     ]
    },
    {
     "name": "stdout",
     "output_type": "stream",
     "text": [
      "Epoch: 120/1000. Loss (Train/Test): 13.193/2.379. Accuracy (Train/Test): 0.749/0.792\n"
     ]
    },
    {
     "name": "stderr",
     "output_type": "stream",
     "text": [
      " 12%|█▏        | 121/1000 [1:52:52<13:36:46, 55.75s/it]"
     ]
    },
    {
     "name": "stdout",
     "output_type": "stream",
     "text": [
      "Epoch: 121/1000. Loss (Train/Test): 12.725/2.870. Accuracy (Train/Test): 0.767/0.713\n"
     ]
    },
    {
     "name": "stderr",
     "output_type": "stream",
     "text": [
      " 12%|█▏        | 122/1000 [1:53:48<13:35:15, 55.71s/it]"
     ]
    },
    {
     "name": "stdout",
     "output_type": "stream",
     "text": [
      "Epoch: 122/1000. Loss (Train/Test): 13.555/2.729. Accuracy (Train/Test): 0.733/0.738\n"
     ]
    },
    {
     "name": "stderr",
     "output_type": "stream",
     "text": [
      " 12%|█▏        | 123/1000 [1:54:44<13:36:33, 55.87s/it]"
     ]
    },
    {
     "name": "stdout",
     "output_type": "stream",
     "text": [
      "Epoch: 123/1000. Loss (Train/Test): 13.457/2.548. Accuracy (Train/Test): 0.728/0.759\n"
     ]
    },
    {
     "name": "stderr",
     "output_type": "stream",
     "text": [
      " 12%|█▏        | 124/1000 [1:55:40<13:37:04, 55.96s/it]"
     ]
    },
    {
     "name": "stdout",
     "output_type": "stream",
     "text": [
      "Epoch: 124/1000. Loss (Train/Test): 13.092/3.040. Accuracy (Train/Test): 0.756/0.689\n"
     ]
    },
    {
     "name": "stderr",
     "output_type": "stream",
     "text": [
      " 12%|█▎        | 125/1000 [1:56:36<13:37:40, 56.07s/it]"
     ]
    },
    {
     "name": "stdout",
     "output_type": "stream",
     "text": [
      "Epoch: 125/1000. Loss (Train/Test): 12.392/2.290. Accuracy (Train/Test): 0.777/0.811\n"
     ]
    },
    {
     "name": "stderr",
     "output_type": "stream",
     "text": [
      " 13%|█▎        | 126/1000 [1:57:33<13:39:03, 56.23s/it]"
     ]
    },
    {
     "name": "stdout",
     "output_type": "stream",
     "text": [
      "Epoch: 126/1000. Loss (Train/Test): 12.634/2.443. Accuracy (Train/Test): 0.773/0.788\n"
     ]
    },
    {
     "name": "stderr",
     "output_type": "stream",
     "text": [
      " 13%|█▎        | 127/1000 [1:58:29<13:37:08, 56.16s/it]"
     ]
    },
    {
     "name": "stdout",
     "output_type": "stream",
     "text": [
      "Epoch: 127/1000. Loss (Train/Test): 13.720/2.936. Accuracy (Train/Test): 0.733/0.704\n"
     ]
    },
    {
     "name": "stderr",
     "output_type": "stream",
     "text": [
      " 13%|█▎        | 128/1000 [1:59:25<13:35:15, 56.10s/it]"
     ]
    },
    {
     "name": "stdout",
     "output_type": "stream",
     "text": [
      "Epoch: 128/1000. Loss (Train/Test): 12.364/3.116. Accuracy (Train/Test): 0.776/0.655\n"
     ]
    },
    {
     "name": "stderr",
     "output_type": "stream",
     "text": [
      " 13%|█▎        | 129/1000 [2:00:21<13:35:57, 56.21s/it]"
     ]
    },
    {
     "name": "stdout",
     "output_type": "stream",
     "text": [
      "Epoch: 129/1000. Loss (Train/Test): 13.216/2.838. Accuracy (Train/Test): 0.740/0.720\n"
     ]
    },
    {
     "name": "stderr",
     "output_type": "stream",
     "text": [
      " 13%|█▎        | 130/1000 [2:01:17<13:33:01, 56.07s/it]"
     ]
    },
    {
     "name": "stdout",
     "output_type": "stream",
     "text": [
      "Epoch: 130/1000. Loss (Train/Test): 13.635/2.596. Accuracy (Train/Test): 0.734/0.750\n"
     ]
    },
    {
     "name": "stderr",
     "output_type": "stream",
     "text": [
      " 13%|█▎        | 131/1000 [2:02:14<13:38:03, 56.48s/it]"
     ]
    },
    {
     "name": "stdout",
     "output_type": "stream",
     "text": [
      "Epoch: 131/1000. Loss (Train/Test): 13.273/2.882. Accuracy (Train/Test): 0.755/0.705\n"
     ]
    },
    {
     "name": "stderr",
     "output_type": "stream",
     "text": [
      " 13%|█▎        | 132/1000 [2:03:11<13:36:02, 56.41s/it]"
     ]
    },
    {
     "name": "stdout",
     "output_type": "stream",
     "text": [
      "Epoch: 132/1000. Loss (Train/Test): 13.619/2.324. Accuracy (Train/Test): 0.741/0.805\n"
     ]
    },
    {
     "name": "stderr",
     "output_type": "stream",
     "text": [
      " 13%|█▎        | 133/1000 [2:04:07<13:33:00, 56.26s/it]"
     ]
    },
    {
     "name": "stdout",
     "output_type": "stream",
     "text": [
      "Epoch: 133/1000. Loss (Train/Test): 12.512/2.433. Accuracy (Train/Test): 0.777/0.789\n"
     ]
    },
    {
     "name": "stderr",
     "output_type": "stream",
     "text": [
      " 13%|█▎        | 134/1000 [2:05:03<13:32:22, 56.28s/it]"
     ]
    },
    {
     "name": "stdout",
     "output_type": "stream",
     "text": [
      "Epoch: 134/1000. Loss (Train/Test): 12.874/3.083. Accuracy (Train/Test): 0.757/0.676\n"
     ]
    },
    {
     "name": "stderr",
     "output_type": "stream",
     "text": [
      " 14%|█▎        | 135/1000 [2:05:59<13:30:42, 56.23s/it]"
     ]
    },
    {
     "name": "stdout",
     "output_type": "stream",
     "text": [
      "Epoch: 135/1000. Loss (Train/Test): 14.094/2.453. Accuracy (Train/Test): 0.718/0.785\n"
     ]
    },
    {
     "name": "stderr",
     "output_type": "stream",
     "text": [
      " 14%|█▎        | 136/1000 [2:06:55<13:30:16, 56.27s/it]"
     ]
    },
    {
     "name": "stdout",
     "output_type": "stream",
     "text": [
      "Epoch: 136/1000. Loss (Train/Test): 12.453/2.948. Accuracy (Train/Test): 0.773/0.687\n"
     ]
    },
    {
     "name": "stderr",
     "output_type": "stream",
     "text": [
      " 14%|█▎        | 137/1000 [2:07:51<13:27:16, 56.13s/it]"
     ]
    },
    {
     "name": "stdout",
     "output_type": "stream",
     "text": [
      "Epoch: 137/1000. Loss (Train/Test): 12.682/2.188. Accuracy (Train/Test): 0.770/0.833\n"
     ]
    },
    {
     "name": "stderr",
     "output_type": "stream",
     "text": [
      " 14%|█▍        | 138/1000 [2:08:48<13:30:01, 56.38s/it]"
     ]
    },
    {
     "name": "stdout",
     "output_type": "stream",
     "text": [
      "Epoch: 138/1000. Loss (Train/Test): 12.635/2.639. Accuracy (Train/Test): 0.771/0.739\n"
     ]
    },
    {
     "name": "stderr",
     "output_type": "stream",
     "text": [
      " 14%|█▍        | 139/1000 [2:09:44<13:27:03, 56.24s/it]"
     ]
    },
    {
     "name": "stdout",
     "output_type": "stream",
     "text": [
      "Epoch: 139/1000. Loss (Train/Test): 12.385/2.453. Accuracy (Train/Test): 0.779/0.786\n"
     ]
    },
    {
     "name": "stderr",
     "output_type": "stream",
     "text": [
      " 14%|█▍        | 140/1000 [2:10:40<13:24:29, 56.13s/it]"
     ]
    },
    {
     "name": "stdout",
     "output_type": "stream",
     "text": [
      "Epoch: 140/1000. Loss (Train/Test): 13.418/2.655. Accuracy (Train/Test): 0.733/0.745\n"
     ]
    },
    {
     "name": "stderr",
     "output_type": "stream",
     "text": [
      " 14%|█▍        | 141/1000 [2:11:36<13:23:25, 56.12s/it]"
     ]
    },
    {
     "name": "stdout",
     "output_type": "stream",
     "text": [
      "Epoch: 141/1000. Loss (Train/Test): 13.492/2.343. Accuracy (Train/Test): 0.737/0.797\n"
     ]
    },
    {
     "name": "stderr",
     "output_type": "stream",
     "text": [
      " 14%|█▍        | 142/1000 [2:12:33<13:24:44, 56.28s/it]"
     ]
    },
    {
     "name": "stdout",
     "output_type": "stream",
     "text": [
      "Epoch: 142/1000. Loss (Train/Test): 12.899/2.369. Accuracy (Train/Test): 0.763/0.807\n"
     ]
    },
    {
     "name": "stderr",
     "output_type": "stream",
     "text": [
      " 14%|█▍        | 143/1000 [2:13:29<13:22:17, 56.17s/it]"
     ]
    },
    {
     "name": "stdout",
     "output_type": "stream",
     "text": [
      "Epoch: 143/1000. Loss (Train/Test): 13.307/2.555. Accuracy (Train/Test): 0.737/0.760\n"
     ]
    },
    {
     "name": "stderr",
     "output_type": "stream",
     "text": [
      " 14%|█▍        | 144/1000 [2:14:25<13:20:54, 56.14s/it]"
     ]
    },
    {
     "name": "stdout",
     "output_type": "stream",
     "text": [
      "Epoch: 144/1000. Loss (Train/Test): 13.178/2.889. Accuracy (Train/Test): 0.742/0.707\n"
     ]
    },
    {
     "name": "stderr",
     "output_type": "stream",
     "text": [
      " 14%|█▍        | 145/1000 [2:15:21<13:19:03, 56.07s/it]"
     ]
    },
    {
     "name": "stdout",
     "output_type": "stream",
     "text": [
      "Epoch: 145/1000. Loss (Train/Test): 12.670/2.993. Accuracy (Train/Test): 0.767/0.690\n"
     ]
    },
    {
     "name": "stderr",
     "output_type": "stream",
     "text": [
      " 15%|█▍        | 146/1000 [2:16:17<13:18:26, 56.10s/it]"
     ]
    },
    {
     "name": "stdout",
     "output_type": "stream",
     "text": [
      "Epoch: 146/1000. Loss (Train/Test): 12.849/2.885. Accuracy (Train/Test): 0.759/0.711\n"
     ]
    },
    {
     "name": "stderr",
     "output_type": "stream",
     "text": [
      " 15%|█▍        | 147/1000 [2:17:13<13:16:41, 56.04s/it]"
     ]
    },
    {
     "name": "stdout",
     "output_type": "stream",
     "text": [
      "Epoch: 147/1000. Loss (Train/Test): 11.494/2.295. Accuracy (Train/Test): 0.803/0.814\n"
     ]
    },
    {
     "name": "stderr",
     "output_type": "stream",
     "text": [
      " 15%|█▍        | 148/1000 [2:18:09<13:15:50, 56.04s/it]"
     ]
    },
    {
     "name": "stdout",
     "output_type": "stream",
     "text": [
      "Epoch: 148/1000. Loss (Train/Test): 12.569/3.062. Accuracy (Train/Test): 0.775/0.674\n"
     ]
    },
    {
     "name": "stderr",
     "output_type": "stream",
     "text": [
      " 15%|█▍        | 149/1000 [2:19:05<13:16:55, 56.19s/it]"
     ]
    },
    {
     "name": "stdout",
     "output_type": "stream",
     "text": [
      "Epoch: 149/1000. Loss (Train/Test): 12.825/2.851. Accuracy (Train/Test): 0.758/0.723\n"
     ]
    },
    {
     "name": "stderr",
     "output_type": "stream",
     "text": [
      " 15%|█▌        | 150/1000 [2:20:01<13:12:51, 55.97s/it]"
     ]
    },
    {
     "name": "stdout",
     "output_type": "stream",
     "text": [
      "Epoch: 150/1000. Loss (Train/Test): 13.125/2.560. Accuracy (Train/Test): 0.752/0.754\n"
     ]
    },
    {
     "name": "stderr",
     "output_type": "stream",
     "text": [
      " 15%|█▌        | 151/1000 [2:20:56<13:10:04, 55.84s/it]"
     ]
    },
    {
     "name": "stdout",
     "output_type": "stream",
     "text": [
      "Epoch: 151/1000. Loss (Train/Test): 12.633/2.369. Accuracy (Train/Test): 0.770/0.795\n"
     ]
    },
    {
     "name": "stderr",
     "output_type": "stream",
     "text": [
      " 15%|█▌        | 152/1000 [2:21:52<13:09:34, 55.87s/it]"
     ]
    },
    {
     "name": "stdout",
     "output_type": "stream",
     "text": [
      "Epoch: 152/1000. Loss (Train/Test): 12.959/2.569. Accuracy (Train/Test): 0.757/0.764\n"
     ]
    },
    {
     "name": "stderr",
     "output_type": "stream",
     "text": [
      " 15%|█▌        | 153/1000 [2:22:48<13:07:31, 55.79s/it]"
     ]
    },
    {
     "name": "stdout",
     "output_type": "stream",
     "text": [
      "Epoch: 153/1000. Loss (Train/Test): 13.188/2.593. Accuracy (Train/Test): 0.749/0.747\n"
     ]
    },
    {
     "name": "stderr",
     "output_type": "stream",
     "text": [
      " 15%|█▌        | 154/1000 [2:23:44<13:07:22, 55.84s/it]"
     ]
    },
    {
     "name": "stdout",
     "output_type": "stream",
     "text": [
      "Epoch: 154/1000. Loss (Train/Test): 13.018/2.614. Accuracy (Train/Test): 0.755/0.741\n"
     ]
    },
    {
     "name": "stderr",
     "output_type": "stream",
     "text": [
      " 16%|█▌        | 155/1000 [2:24:40<13:06:18, 55.83s/it]"
     ]
    },
    {
     "name": "stdout",
     "output_type": "stream",
     "text": [
      "Epoch: 155/1000. Loss (Train/Test): 13.356/3.011. Accuracy (Train/Test): 0.740/0.684\n"
     ]
    },
    {
     "name": "stderr",
     "output_type": "stream",
     "text": [
      " 16%|█▌        | 156/1000 [2:25:35<13:05:04, 55.81s/it]"
     ]
    },
    {
     "name": "stdout",
     "output_type": "stream",
     "text": [
      "Epoch: 156/1000. Loss (Train/Test): 13.227/2.358. Accuracy (Train/Test): 0.750/0.803\n"
     ]
    },
    {
     "name": "stderr",
     "output_type": "stream",
     "text": [
      " 16%|█▌        | 157/1000 [2:26:32<13:09:11, 56.17s/it]"
     ]
    },
    {
     "name": "stdout",
     "output_type": "stream",
     "text": [
      "Epoch: 157/1000. Loss (Train/Test): 12.737/2.150. Accuracy (Train/Test): 0.765/0.836\n"
     ]
    },
    {
     "name": "stderr",
     "output_type": "stream",
     "text": [
      " 16%|█▌        | 158/1000 [2:27:28<13:06:44, 56.06s/it]"
     ]
    },
    {
     "name": "stdout",
     "output_type": "stream",
     "text": [
      "Epoch: 158/1000. Loss (Train/Test): 12.831/2.719. Accuracy (Train/Test): 0.758/0.736\n"
     ]
    },
    {
     "name": "stderr",
     "output_type": "stream",
     "text": [
      " 16%|█▌        | 159/1000 [2:28:25<13:07:17, 56.17s/it]"
     ]
    },
    {
     "name": "stdout",
     "output_type": "stream",
     "text": [
      "Epoch: 159/1000. Loss (Train/Test): 13.764/2.910. Accuracy (Train/Test): 0.734/0.714\n"
     ]
    },
    {
     "name": "stderr",
     "output_type": "stream",
     "text": [
      " 16%|█▌        | 160/1000 [2:29:20<13:03:59, 56.00s/it]"
     ]
    },
    {
     "name": "stdout",
     "output_type": "stream",
     "text": [
      "Epoch: 160/1000. Loss (Train/Test): 13.744/2.738. Accuracy (Train/Test): 0.730/0.720\n"
     ]
    },
    {
     "name": "stderr",
     "output_type": "stream",
     "text": [
      " 16%|█▌        | 161/1000 [2:30:16<13:03:32, 56.03s/it]"
     ]
    },
    {
     "name": "stdout",
     "output_type": "stream",
     "text": [
      "Epoch: 161/1000. Loss (Train/Test): 12.607/2.332. Accuracy (Train/Test): 0.768/0.803\n"
     ]
    },
    {
     "name": "stderr",
     "output_type": "stream",
     "text": [
      " 16%|█▌        | 162/1000 [2:31:12<13:00:44, 55.90s/it]"
     ]
    },
    {
     "name": "stdout",
     "output_type": "stream",
     "text": [
      "Epoch: 162/1000. Loss (Train/Test): 13.326/2.178. Accuracy (Train/Test): 0.745/0.826\n"
     ]
    },
    {
     "name": "stderr",
     "output_type": "stream",
     "text": [
      " 16%|█▋        | 163/1000 [2:32:08<13:00:27, 55.95s/it]"
     ]
    },
    {
     "name": "stdout",
     "output_type": "stream",
     "text": [
      "Epoch: 163/1000. Loss (Train/Test): 13.629/2.437. Accuracy (Train/Test): 0.734/0.785\n"
     ]
    },
    {
     "name": "stderr",
     "output_type": "stream",
     "text": [
      " 16%|█▋        | 164/1000 [2:33:04<12:58:01, 55.84s/it]"
     ]
    },
    {
     "name": "stdout",
     "output_type": "stream",
     "text": [
      "Epoch: 164/1000. Loss (Train/Test): 12.539/2.682. Accuracy (Train/Test): 0.771/0.743\n"
     ]
    },
    {
     "name": "stderr",
     "output_type": "stream",
     "text": [
      " 16%|█▋        | 165/1000 [2:33:59<12:56:57, 55.83s/it]"
     ]
    },
    {
     "name": "stdout",
     "output_type": "stream",
     "text": [
      "Epoch: 165/1000. Loss (Train/Test): 12.745/2.560. Accuracy (Train/Test): 0.764/0.760\n"
     ]
    },
    {
     "name": "stderr",
     "output_type": "stream",
     "text": [
      " 17%|█▋        | 166/1000 [2:34:56<12:58:20, 56.00s/it]"
     ]
    },
    {
     "name": "stdout",
     "output_type": "stream",
     "text": [
      "Epoch: 166/1000. Loss (Train/Test): 14.018/2.823. Accuracy (Train/Test): 0.714/0.728\n"
     ]
    },
    {
     "name": "stderr",
     "output_type": "stream",
     "text": [
      " 17%|█▋        | 167/1000 [2:35:51<12:55:02, 55.83s/it]"
     ]
    },
    {
     "name": "stdout",
     "output_type": "stream",
     "text": [
      "Epoch: 167/1000. Loss (Train/Test): 12.973/2.462. Accuracy (Train/Test): 0.758/0.782\n"
     ]
    },
    {
     "name": "stderr",
     "output_type": "stream",
     "text": [
      " 17%|█▋        | 168/1000 [2:36:46<12:51:56, 55.67s/it]"
     ]
    },
    {
     "name": "stdout",
     "output_type": "stream",
     "text": [
      "Epoch: 168/1000. Loss (Train/Test): 13.366/2.663. Accuracy (Train/Test): 0.744/0.749\n"
     ]
    },
    {
     "name": "stderr",
     "output_type": "stream",
     "text": [
      " 17%|█▋        | 169/1000 [2:37:43<12:53:33, 55.85s/it]"
     ]
    },
    {
     "name": "stdout",
     "output_type": "stream",
     "text": [
      "Epoch: 169/1000. Loss (Train/Test): 12.993/2.702. Accuracy (Train/Test): 0.756/0.736\n"
     ]
    },
    {
     "name": "stderr",
     "output_type": "stream",
     "text": [
      " 17%|█▋        | 170/1000 [2:38:38<12:51:55, 55.80s/it]"
     ]
    },
    {
     "name": "stdout",
     "output_type": "stream",
     "text": [
      "Epoch: 170/1000. Loss (Train/Test): 12.774/2.490. Accuracy (Train/Test): 0.768/0.773\n"
     ]
    },
    {
     "name": "stderr",
     "output_type": "stream",
     "text": [
      " 17%|█▋        | 171/1000 [2:39:34<12:48:46, 55.64s/it]"
     ]
    },
    {
     "name": "stdout",
     "output_type": "stream",
     "text": [
      "Epoch: 171/1000. Loss (Train/Test): 12.656/2.141. Accuracy (Train/Test): 0.775/0.845\n"
     ]
    },
    {
     "name": "stderr",
     "output_type": "stream",
     "text": [
      " 17%|█▋        | 172/1000 [2:40:31<12:53:15, 56.03s/it]"
     ]
    },
    {
     "name": "stdout",
     "output_type": "stream",
     "text": [
      "Epoch: 172/1000. Loss (Train/Test): 12.356/2.850. Accuracy (Train/Test): 0.785/0.713\n"
     ]
    },
    {
     "name": "stderr",
     "output_type": "stream",
     "text": [
      " 17%|█▋        | 173/1000 [2:41:27<12:53:43, 56.14s/it]"
     ]
    },
    {
     "name": "stdout",
     "output_type": "stream",
     "text": [
      "Epoch: 173/1000. Loss (Train/Test): 13.355/2.289. Accuracy (Train/Test): 0.740/0.823\n"
     ]
    },
    {
     "name": "stderr",
     "output_type": "stream",
     "text": [
      " 17%|█▋        | 174/1000 [2:42:23<12:52:49, 56.14s/it]"
     ]
    },
    {
     "name": "stdout",
     "output_type": "stream",
     "text": [
      "Epoch: 174/1000. Loss (Train/Test): 12.682/2.425. Accuracy (Train/Test): 0.762/0.787\n"
     ]
    },
    {
     "name": "stderr",
     "output_type": "stream",
     "text": [
      " 18%|█▊        | 175/1000 [2:43:20<12:54:41, 56.34s/it]"
     ]
    },
    {
     "name": "stdout",
     "output_type": "stream",
     "text": [
      "Epoch: 175/1000. Loss (Train/Test): 13.108/2.485. Accuracy (Train/Test): 0.752/0.765\n"
     ]
    },
    {
     "name": "stderr",
     "output_type": "stream",
     "text": [
      " 18%|█▊        | 176/1000 [2:44:17<12:55:45, 56.49s/it]"
     ]
    },
    {
     "name": "stdout",
     "output_type": "stream",
     "text": [
      "Epoch: 176/1000. Loss (Train/Test): 12.157/2.870. Accuracy (Train/Test): 0.787/0.708\n"
     ]
    },
    {
     "name": "stderr",
     "output_type": "stream",
     "text": [
      " 18%|█▊        | 177/1000 [2:45:12<12:51:24, 56.24s/it]"
     ]
    },
    {
     "name": "stdout",
     "output_type": "stream",
     "text": [
      "Epoch: 177/1000. Loss (Train/Test): 13.869/2.430. Accuracy (Train/Test): 0.725/0.784\n"
     ]
    },
    {
     "name": "stderr",
     "output_type": "stream",
     "text": [
      " 18%|█▊        | 178/1000 [2:46:08<12:49:43, 56.18s/it]"
     ]
    },
    {
     "name": "stdout",
     "output_type": "stream",
     "text": [
      "Epoch: 178/1000. Loss (Train/Test): 12.753/2.683. Accuracy (Train/Test): 0.762/0.744\n"
     ]
    },
    {
     "name": "stderr",
     "output_type": "stream",
     "text": [
      " 18%|█▊        | 179/1000 [2:47:04<12:47:38, 56.10s/it]"
     ]
    },
    {
     "name": "stdout",
     "output_type": "stream",
     "text": [
      "Epoch: 179/1000. Loss (Train/Test): 13.226/2.727. Accuracy (Train/Test): 0.741/0.739\n"
     ]
    },
    {
     "name": "stderr",
     "output_type": "stream",
     "text": [
      " 18%|█▊        | 180/1000 [2:48:01<12:46:54, 56.12s/it]"
     ]
    },
    {
     "name": "stdout",
     "output_type": "stream",
     "text": [
      "Epoch: 180/1000. Loss (Train/Test): 12.475/2.485. Accuracy (Train/Test): 0.772/0.763\n"
     ]
    },
    {
     "name": "stderr",
     "output_type": "stream",
     "text": [
      " 18%|█▊        | 181/1000 [2:48:56<12:44:46, 56.03s/it]"
     ]
    },
    {
     "name": "stdout",
     "output_type": "stream",
     "text": [
      "Epoch: 181/1000. Loss (Train/Test): 12.253/2.776. Accuracy (Train/Test): 0.782/0.720\n"
     ]
    },
    {
     "name": "stderr",
     "output_type": "stream",
     "text": [
      " 18%|█▊        | 182/1000 [2:49:53<12:47:01, 56.26s/it]"
     ]
    },
    {
     "name": "stdout",
     "output_type": "stream",
     "text": [
      "Epoch: 182/1000. Loss (Train/Test): 13.431/2.692. Accuracy (Train/Test): 0.742/0.736\n"
     ]
    },
    {
     "name": "stderr",
     "output_type": "stream",
     "text": [
      " 18%|█▊        | 183/1000 [2:50:49<12:43:11, 56.05s/it]"
     ]
    },
    {
     "name": "stdout",
     "output_type": "stream",
     "text": [
      "Epoch: 183/1000. Loss (Train/Test): 12.726/2.521. Accuracy (Train/Test): 0.765/0.769\n"
     ]
    },
    {
     "name": "stderr",
     "output_type": "stream",
     "text": [
      " 18%|█▊        | 184/1000 [2:51:45<12:42:47, 56.09s/it]"
     ]
    },
    {
     "name": "stdout",
     "output_type": "stream",
     "text": [
      "Epoch: 184/1000. Loss (Train/Test): 12.887/2.530. Accuracy (Train/Test): 0.753/0.774\n"
     ]
    },
    {
     "name": "stderr",
     "output_type": "stream",
     "text": [
      " 18%|█▊        | 185/1000 [2:52:41<12:41:04, 56.03s/it]"
     ]
    },
    {
     "name": "stdout",
     "output_type": "stream",
     "text": [
      "Epoch: 185/1000. Loss (Train/Test): 13.465/2.508. Accuracy (Train/Test): 0.735/0.774\n"
     ]
    },
    {
     "name": "stderr",
     "output_type": "stream",
     "text": [
      " 19%|█▊        | 186/1000 [2:53:37<12:41:58, 56.17s/it]"
     ]
    },
    {
     "name": "stdout",
     "output_type": "stream",
     "text": [
      "Epoch: 186/1000. Loss (Train/Test): 13.439/2.913. Accuracy (Train/Test): 0.737/0.693\n"
     ]
    },
    {
     "name": "stderr",
     "output_type": "stream",
     "text": [
      " 19%|█▊        | 187/1000 [2:54:33<12:39:59, 56.09s/it]"
     ]
    },
    {
     "name": "stdout",
     "output_type": "stream",
     "text": [
      "Epoch: 187/1000. Loss (Train/Test): 12.907/2.510. Accuracy (Train/Test): 0.767/0.772\n"
     ]
    },
    {
     "name": "stderr",
     "output_type": "stream",
     "text": [
      " 19%|█▉        | 188/1000 [2:55:29<12:39:52, 56.15s/it]"
     ]
    },
    {
     "name": "stdout",
     "output_type": "stream",
     "text": [
      "Epoch: 188/1000. Loss (Train/Test): 13.594/2.596. Accuracy (Train/Test): 0.736/0.761\n"
     ]
    },
    {
     "name": "stderr",
     "output_type": "stream",
     "text": [
      " 19%|█▉        | 189/1000 [2:56:25<12:36:21, 55.96s/it]"
     ]
    },
    {
     "name": "stdout",
     "output_type": "stream",
     "text": [
      "Epoch: 189/1000. Loss (Train/Test): 12.874/2.615. Accuracy (Train/Test): 0.759/0.757\n"
     ]
    },
    {
     "name": "stderr",
     "output_type": "stream",
     "text": [
      " 19%|█▉        | 190/1000 [2:57:21<12:36:19, 56.02s/it]"
     ]
    },
    {
     "name": "stdout",
     "output_type": "stream",
     "text": [
      "Epoch: 190/1000. Loss (Train/Test): 14.043/2.761. Accuracy (Train/Test): 0.718/0.716\n"
     ]
    },
    {
     "name": "stderr",
     "output_type": "stream",
     "text": [
      " 19%|█▉        | 191/1000 [2:58:17<12:35:30, 56.03s/it]"
     ]
    },
    {
     "name": "stdout",
     "output_type": "stream",
     "text": [
      "Epoch: 191/1000. Loss (Train/Test): 12.528/2.635. Accuracy (Train/Test): 0.779/0.738\n"
     ]
    },
    {
     "name": "stderr",
     "output_type": "stream",
     "text": [
      " 19%|█▉        | 192/1000 [2:59:13<12:34:15, 56.01s/it]"
     ]
    },
    {
     "name": "stdout",
     "output_type": "stream",
     "text": [
      "Epoch: 192/1000. Loss (Train/Test): 12.825/2.057. Accuracy (Train/Test): 0.762/0.853\n"
     ]
    },
    {
     "name": "stderr",
     "output_type": "stream",
     "text": [
      " 19%|█▉        | 193/1000 [3:00:10<12:35:05, 56.14s/it]"
     ]
    },
    {
     "name": "stdout",
     "output_type": "stream",
     "text": [
      "Epoch: 193/1000. Loss (Train/Test): 13.130/2.610. Accuracy (Train/Test): 0.746/0.745\n"
     ]
    },
    {
     "name": "stderr",
     "output_type": "stream",
     "text": [
      " 19%|█▉        | 194/1000 [3:01:06<12:34:36, 56.17s/it]"
     ]
    },
    {
     "name": "stdout",
     "output_type": "stream",
     "text": [
      "Epoch: 194/1000. Loss (Train/Test): 13.816/2.290. Accuracy (Train/Test): 0.725/0.806\n"
     ]
    },
    {
     "name": "stderr",
     "output_type": "stream",
     "text": [
      " 20%|█▉        | 195/1000 [3:02:02<12:33:00, 56.13s/it]"
     ]
    },
    {
     "name": "stdout",
     "output_type": "stream",
     "text": [
      "Epoch: 195/1000. Loss (Train/Test): 12.834/2.228. Accuracy (Train/Test): 0.755/0.828\n"
     ]
    },
    {
     "name": "stderr",
     "output_type": "stream",
     "text": [
      " 20%|█▉        | 196/1000 [3:02:57<12:29:55, 55.96s/it]"
     ]
    },
    {
     "name": "stdout",
     "output_type": "stream",
     "text": [
      "Epoch: 196/1000. Loss (Train/Test): 12.639/2.874. Accuracy (Train/Test): 0.768/0.711\n"
     ]
    },
    {
     "name": "stderr",
     "output_type": "stream",
     "text": [
      " 20%|█▉        | 197/1000 [3:03:54<12:29:42, 56.02s/it]"
     ]
    },
    {
     "name": "stdout",
     "output_type": "stream",
     "text": [
      "Epoch: 197/1000. Loss (Train/Test): 12.811/2.919. Accuracy (Train/Test): 0.762/0.693\n"
     ]
    },
    {
     "name": "stderr",
     "output_type": "stream",
     "text": [
      " 20%|█▉        | 198/1000 [3:04:50<12:28:26, 55.99s/it]"
     ]
    },
    {
     "name": "stdout",
     "output_type": "stream",
     "text": [
      "Epoch: 198/1000. Loss (Train/Test): 13.322/2.617. Accuracy (Train/Test): 0.744/0.748\n"
     ]
    },
    {
     "name": "stderr",
     "output_type": "stream",
     "text": [
      " 20%|█▉        | 199/1000 [3:05:45<12:26:41, 55.93s/it]"
     ]
    },
    {
     "name": "stdout",
     "output_type": "stream",
     "text": [
      "Epoch: 199/1000. Loss (Train/Test): 12.732/2.915. Accuracy (Train/Test): 0.761/0.693\n"
     ]
    },
    {
     "name": "stderr",
     "output_type": "stream",
     "text": [
      " 20%|██        | 200/1000 [3:06:42<12:26:53, 56.02s/it]"
     ]
    },
    {
     "name": "stdout",
     "output_type": "stream",
     "text": [
      "Epoch: 200/1000. Loss (Train/Test): 13.064/2.557. Accuracy (Train/Test): 0.749/0.759\n"
     ]
    },
    {
     "name": "stderr",
     "output_type": "stream",
     "text": [
      " 20%|██        | 201/1000 [3:07:38<12:27:30, 56.13s/it]"
     ]
    },
    {
     "name": "stdout",
     "output_type": "stream",
     "text": [
      "Epoch: 201/1000. Loss (Train/Test): 12.946/2.456. Accuracy (Train/Test): 0.760/0.779\n"
     ]
    },
    {
     "name": "stderr",
     "output_type": "stream",
     "text": [
      " 20%|██        | 202/1000 [3:08:34<12:26:15, 56.11s/it]"
     ]
    },
    {
     "name": "stdout",
     "output_type": "stream",
     "text": [
      "Epoch: 202/1000. Loss (Train/Test): 12.132/2.688. Accuracy (Train/Test): 0.786/0.744\n"
     ]
    },
    {
     "name": "stderr",
     "output_type": "stream",
     "text": [
      " 20%|██        | 203/1000 [3:09:30<12:25:42, 56.14s/it]"
     ]
    },
    {
     "name": "stdout",
     "output_type": "stream",
     "text": [
      "Epoch: 203/1000. Loss (Train/Test): 13.342/2.519. Accuracy (Train/Test): 0.748/0.775\n"
     ]
    },
    {
     "name": "stderr",
     "output_type": "stream",
     "text": [
      " 20%|██        | 204/1000 [3:10:27<12:26:44, 56.29s/it]"
     ]
    },
    {
     "name": "stdout",
     "output_type": "stream",
     "text": [
      "Epoch: 204/1000. Loss (Train/Test): 13.407/2.718. Accuracy (Train/Test): 0.738/0.741\n"
     ]
    },
    {
     "name": "stderr",
     "output_type": "stream",
     "text": [
      " 20%|██        | 205/1000 [3:11:23<12:25:24, 56.26s/it]"
     ]
    },
    {
     "name": "stdout",
     "output_type": "stream",
     "text": [
      "Epoch: 205/1000. Loss (Train/Test): 14.368/2.159. Accuracy (Train/Test): 0.708/0.836\n"
     ]
    },
    {
     "name": "stderr",
     "output_type": "stream",
     "text": [
      " 21%|██        | 206/1000 [3:12:20<12:26:02, 56.38s/it]"
     ]
    },
    {
     "name": "stdout",
     "output_type": "stream",
     "text": [
      "Epoch: 206/1000. Loss (Train/Test): 12.073/2.471. Accuracy (Train/Test): 0.787/0.784\n"
     ]
    },
    {
     "name": "stderr",
     "output_type": "stream",
     "text": [
      " 21%|██        | 207/1000 [3:13:15<12:21:50, 56.13s/it]"
     ]
    },
    {
     "name": "stdout",
     "output_type": "stream",
     "text": [
      "Epoch: 207/1000. Loss (Train/Test): 12.498/2.926. Accuracy (Train/Test): 0.768/0.699\n"
     ]
    },
    {
     "name": "stderr",
     "output_type": "stream",
     "text": [
      " 21%|██        | 208/1000 [3:14:12<12:23:21, 56.31s/it]"
     ]
    },
    {
     "name": "stdout",
     "output_type": "stream",
     "text": [
      "Epoch: 208/1000. Loss (Train/Test): 13.856/2.711. Accuracy (Train/Test): 0.727/0.737\n"
     ]
    },
    {
     "name": "stderr",
     "output_type": "stream",
     "text": [
      " 21%|██        | 209/1000 [3:15:08<12:20:53, 56.20s/it]"
     ]
    },
    {
     "name": "stdout",
     "output_type": "stream",
     "text": [
      "Epoch: 209/1000. Loss (Train/Test): 13.211/2.506. Accuracy (Train/Test): 0.748/0.765\n"
     ]
    },
    {
     "name": "stderr",
     "output_type": "stream",
     "text": [
      " 21%|██        | 210/1000 [3:16:04<12:20:20, 56.23s/it]"
     ]
    },
    {
     "name": "stdout",
     "output_type": "stream",
     "text": [
      "Epoch: 210/1000. Loss (Train/Test): 12.454/2.720. Accuracy (Train/Test): 0.776/0.736\n"
     ]
    },
    {
     "name": "stderr",
     "output_type": "stream",
     "text": [
      " 21%|██        | 211/1000 [3:17:00<12:17:46, 56.10s/it]"
     ]
    },
    {
     "name": "stdout",
     "output_type": "stream",
     "text": [
      "Epoch: 211/1000. Loss (Train/Test): 12.537/2.355. Accuracy (Train/Test): 0.771/0.806\n"
     ]
    },
    {
     "name": "stderr",
     "output_type": "stream",
     "text": [
      " 21%|██        | 212/1000 [3:17:56<12:17:03, 56.12s/it]"
     ]
    },
    {
     "name": "stdout",
     "output_type": "stream",
     "text": [
      "Epoch: 212/1000. Loss (Train/Test): 12.807/2.173. Accuracy (Train/Test): 0.758/0.824\n"
     ]
    },
    {
     "name": "stderr",
     "output_type": "stream",
     "text": [
      " 21%|██▏       | 213/1000 [3:18:52<12:15:05, 56.04s/it]"
     ]
    },
    {
     "name": "stdout",
     "output_type": "stream",
     "text": [
      "Epoch: 213/1000. Loss (Train/Test): 13.018/2.705. Accuracy (Train/Test): 0.757/0.741\n"
     ]
    },
    {
     "name": "stderr",
     "output_type": "stream",
     "text": [
      " 21%|██▏       | 214/1000 [3:19:47<12:11:13, 55.82s/it]"
     ]
    },
    {
     "name": "stdout",
     "output_type": "stream",
     "text": [
      "Epoch: 214/1000. Loss (Train/Test): 12.867/2.977. Accuracy (Train/Test): 0.759/0.682\n"
     ]
    },
    {
     "name": "stderr",
     "output_type": "stream",
     "text": [
      " 22%|██▏       | 215/1000 [3:20:43<12:10:23, 55.83s/it]"
     ]
    },
    {
     "name": "stdout",
     "output_type": "stream",
     "text": [
      "Epoch: 215/1000. Loss (Train/Test): 12.107/2.482. Accuracy (Train/Test): 0.786/0.778\n"
     ]
    },
    {
     "name": "stderr",
     "output_type": "stream",
     "text": [
      " 22%|██▏       | 216/1000 [3:21:39<12:09:47, 55.85s/it]"
     ]
    },
    {
     "name": "stdout",
     "output_type": "stream",
     "text": [
      "Epoch: 216/1000. Loss (Train/Test): 12.972/2.332. Accuracy (Train/Test): 0.753/0.806\n"
     ]
    },
    {
     "name": "stderr",
     "output_type": "stream",
     "text": [
      " 22%|██▏       | 217/1000 [3:22:36<12:13:30, 56.21s/it]"
     ]
    },
    {
     "name": "stdout",
     "output_type": "stream",
     "text": [
      "Epoch: 217/1000. Loss (Train/Test): 12.424/2.485. Accuracy (Train/Test): 0.773/0.772\n"
     ]
    },
    {
     "name": "stderr",
     "output_type": "stream",
     "text": [
      " 22%|██▏       | 218/1000 [3:23:32<12:09:18, 55.96s/it]"
     ]
    },
    {
     "name": "stdout",
     "output_type": "stream",
     "text": [
      "Epoch: 218/1000. Loss (Train/Test): 12.086/2.092. Accuracy (Train/Test): 0.788/0.850\n"
     ]
    },
    {
     "name": "stderr",
     "output_type": "stream",
     "text": [
      " 22%|██▏       | 219/1000 [3:24:28<12:10:54, 56.15s/it]"
     ]
    },
    {
     "name": "stdout",
     "output_type": "stream",
     "text": [
      "Epoch: 219/1000. Loss (Train/Test): 12.207/2.165. Accuracy (Train/Test): 0.782/0.839\n"
     ]
    },
    {
     "name": "stderr",
     "output_type": "stream",
     "text": [
      " 22%|██▏       | 220/1000 [3:25:24<12:07:42, 55.98s/it]"
     ]
    },
    {
     "name": "stdout",
     "output_type": "stream",
     "text": [
      "Epoch: 220/1000. Loss (Train/Test): 12.782/2.621. Accuracy (Train/Test): 0.763/0.743\n"
     ]
    },
    {
     "name": "stderr",
     "output_type": "stream",
     "text": [
      " 22%|██▏       | 221/1000 [3:26:20<12:06:33, 55.96s/it]"
     ]
    },
    {
     "name": "stdout",
     "output_type": "stream",
     "text": [
      "Epoch: 221/1000. Loss (Train/Test): 11.801/2.150. Accuracy (Train/Test): 0.794/0.840\n"
     ]
    },
    {
     "name": "stderr",
     "output_type": "stream",
     "text": [
      " 22%|██▏       | 222/1000 [3:27:16<12:06:00, 55.99s/it]"
     ]
    },
    {
     "name": "stdout",
     "output_type": "stream",
     "text": [
      "Epoch: 222/1000. Loss (Train/Test): 12.503/2.441. Accuracy (Train/Test): 0.771/0.781\n"
     ]
    },
    {
     "name": "stderr",
     "output_type": "stream",
     "text": [
      " 22%|██▏       | 223/1000 [3:28:12<12:07:37, 56.19s/it]"
     ]
    },
    {
     "name": "stdout",
     "output_type": "stream",
     "text": [
      "Epoch: 223/1000. Loss (Train/Test): 12.447/2.651. Accuracy (Train/Test): 0.774/0.740\n"
     ]
    },
    {
     "name": "stderr",
     "output_type": "stream",
     "text": [
      " 22%|██▏       | 224/1000 [3:29:09<12:07:08, 56.22s/it]"
     ]
    },
    {
     "name": "stdout",
     "output_type": "stream",
     "text": [
      "Epoch: 224/1000. Loss (Train/Test): 12.159/2.735. Accuracy (Train/Test): 0.786/0.735\n"
     ]
    },
    {
     "name": "stderr",
     "output_type": "stream",
     "text": [
      " 22%|██▎       | 225/1000 [3:30:04<12:03:54, 56.04s/it]"
     ]
    },
    {
     "name": "stdout",
     "output_type": "stream",
     "text": [
      "Epoch: 225/1000. Loss (Train/Test): 12.534/2.618. Accuracy (Train/Test): 0.777/0.746\n"
     ]
    },
    {
     "name": "stderr",
     "output_type": "stream",
     "text": [
      " 23%|██▎       | 226/1000 [3:30:59<11:59:39, 55.79s/it]"
     ]
    },
    {
     "name": "stdout",
     "output_type": "stream",
     "text": [
      "Epoch: 226/1000. Loss (Train/Test): 12.459/2.707. Accuracy (Train/Test): 0.779/0.742\n"
     ]
    },
    {
     "name": "stderr",
     "output_type": "stream",
     "text": [
      " 23%|██▎       | 227/1000 [3:31:55<11:58:29, 55.77s/it]"
     ]
    },
    {
     "name": "stdout",
     "output_type": "stream",
     "text": [
      "Epoch: 227/1000. Loss (Train/Test): 13.603/2.476. Accuracy (Train/Test): 0.738/0.779\n"
     ]
    },
    {
     "name": "stderr",
     "output_type": "stream",
     "text": [
      " 23%|██▎       | 228/1000 [3:32:52<12:00:29, 56.00s/it]"
     ]
    },
    {
     "name": "stdout",
     "output_type": "stream",
     "text": [
      "Epoch: 228/1000. Loss (Train/Test): 13.376/2.176. Accuracy (Train/Test): 0.746/0.843\n"
     ]
    },
    {
     "name": "stderr",
     "output_type": "stream",
     "text": [
      " 23%|██▎       | 229/1000 [3:33:48<11:59:41, 56.01s/it]"
     ]
    },
    {
     "name": "stdout",
     "output_type": "stream",
     "text": [
      "Epoch: 229/1000. Loss (Train/Test): 12.022/2.470. Accuracy (Train/Test): 0.787/0.784\n"
     ]
    },
    {
     "name": "stderr",
     "output_type": "stream",
     "text": [
      " 23%|██▎       | 230/1000 [3:34:45<12:01:42, 56.24s/it]"
     ]
    },
    {
     "name": "stdout",
     "output_type": "stream",
     "text": [
      "Epoch: 230/1000. Loss (Train/Test): 12.990/2.404. Accuracy (Train/Test): 0.755/0.789\n"
     ]
    },
    {
     "name": "stderr",
     "output_type": "stream",
     "text": [
      " 23%|██▎       | 231/1000 [3:35:41<12:03:12, 56.43s/it]"
     ]
    },
    {
     "name": "stdout",
     "output_type": "stream",
     "text": [
      "Epoch: 231/1000. Loss (Train/Test): 12.493/2.464. Accuracy (Train/Test): 0.771/0.779\n"
     ]
    },
    {
     "name": "stderr",
     "output_type": "stream",
     "text": [
      " 23%|██▎       | 232/1000 [3:36:37<12:00:41, 56.30s/it]"
     ]
    },
    {
     "name": "stdout",
     "output_type": "stream",
     "text": [
      "Epoch: 232/1000. Loss (Train/Test): 13.036/2.294. Accuracy (Train/Test): 0.757/0.806\n"
     ]
    },
    {
     "name": "stderr",
     "output_type": "stream",
     "text": [
      " 23%|██▎       | 233/1000 [3:37:34<11:59:11, 56.26s/it]"
     ]
    },
    {
     "name": "stdout",
     "output_type": "stream",
     "text": [
      "Epoch: 233/1000. Loss (Train/Test): 12.480/2.632. Accuracy (Train/Test): 0.770/0.739\n"
     ]
    },
    {
     "name": "stderr",
     "output_type": "stream",
     "text": [
      " 23%|██▎       | 234/1000 [3:38:30<11:57:42, 56.22s/it]"
     ]
    },
    {
     "name": "stdout",
     "output_type": "stream",
     "text": [
      "Epoch: 234/1000. Loss (Train/Test): 13.749/2.531. Accuracy (Train/Test): 0.729/0.764\n"
     ]
    },
    {
     "name": "stderr",
     "output_type": "stream",
     "text": [
      " 24%|██▎       | 235/1000 [3:39:26<11:55:18, 56.10s/it]"
     ]
    },
    {
     "name": "stdout",
     "output_type": "stream",
     "text": [
      "Epoch: 235/1000. Loss (Train/Test): 12.939/2.812. Accuracy (Train/Test): 0.758/0.719\n"
     ]
    },
    {
     "name": "stderr",
     "output_type": "stream",
     "text": [
      " 24%|██▎       | 236/1000 [3:40:22<11:54:06, 56.08s/it]"
     ]
    },
    {
     "name": "stdout",
     "output_type": "stream",
     "text": [
      "Epoch: 236/1000. Loss (Train/Test): 13.882/2.615. Accuracy (Train/Test): 0.725/0.763\n"
     ]
    },
    {
     "name": "stderr",
     "output_type": "stream",
     "text": [
      " 24%|██▎       | 237/1000 [3:41:18<11:52:42, 56.05s/it]"
     ]
    },
    {
     "name": "stdout",
     "output_type": "stream",
     "text": [
      "Epoch: 237/1000. Loss (Train/Test): 13.020/2.435. Accuracy (Train/Test): 0.760/0.777\n"
     ]
    },
    {
     "name": "stderr",
     "output_type": "stream",
     "text": [
      " 24%|██▍       | 238/1000 [3:42:14<11:52:04, 56.07s/it]"
     ]
    },
    {
     "name": "stdout",
     "output_type": "stream",
     "text": [
      "Epoch: 238/1000. Loss (Train/Test): 12.902/2.552. Accuracy (Train/Test): 0.754/0.769\n"
     ]
    },
    {
     "name": "stderr",
     "output_type": "stream",
     "text": [
      " 24%|██▍       | 239/1000 [3:43:10<11:52:23, 56.17s/it]"
     ]
    },
    {
     "name": "stdout",
     "output_type": "stream",
     "text": [
      "Epoch: 239/1000. Loss (Train/Test): 13.825/2.479. Accuracy (Train/Test): 0.730/0.780\n"
     ]
    },
    {
     "name": "stderr",
     "output_type": "stream",
     "text": [
      " 24%|██▍       | 240/1000 [3:44:07<11:53:27, 56.33s/it]"
     ]
    },
    {
     "name": "stdout",
     "output_type": "stream",
     "text": [
      "Epoch: 240/1000. Loss (Train/Test): 12.789/3.075. Accuracy (Train/Test): 0.762/0.669\n"
     ]
    },
    {
     "name": "stderr",
     "output_type": "stream",
     "text": [
      " 24%|██▍       | 241/1000 [3:45:03<11:50:59, 56.20s/it]"
     ]
    },
    {
     "name": "stdout",
     "output_type": "stream",
     "text": [
      "Epoch: 241/1000. Loss (Train/Test): 11.328/2.544. Accuracy (Train/Test): 0.811/0.775\n"
     ]
    },
    {
     "name": "stderr",
     "output_type": "stream",
     "text": [
      " 24%|██▍       | 242/1000 [3:45:59<11:50:57, 56.28s/it]"
     ]
    },
    {
     "name": "stdout",
     "output_type": "stream",
     "text": [
      "Epoch: 242/1000. Loss (Train/Test): 12.661/2.733. Accuracy (Train/Test): 0.769/0.752\n"
     ]
    },
    {
     "name": "stderr",
     "output_type": "stream",
     "text": [
      " 24%|██▍       | 243/1000 [3:46:55<11:47:29, 56.08s/it]"
     ]
    },
    {
     "name": "stdout",
     "output_type": "stream",
     "text": [
      "Epoch: 243/1000. Loss (Train/Test): 14.126/2.230. Accuracy (Train/Test): 0.717/0.826\n"
     ]
    },
    {
     "name": "stderr",
     "output_type": "stream",
     "text": [
      " 24%|██▍       | 244/1000 [3:47:50<11:44:56, 55.95s/it]"
     ]
    },
    {
     "name": "stdout",
     "output_type": "stream",
     "text": [
      "Epoch: 244/1000. Loss (Train/Test): 14.370/2.787. Accuracy (Train/Test): 0.701/0.714\n"
     ]
    },
    {
     "name": "stderr",
     "output_type": "stream",
     "text": [
      " 24%|██▍       | 245/1000 [3:48:46<11:43:34, 55.91s/it]"
     ]
    },
    {
     "name": "stdout",
     "output_type": "stream",
     "text": [
      "Epoch: 245/1000. Loss (Train/Test): 12.923/2.527. Accuracy (Train/Test): 0.757/0.765\n"
     ]
    },
    {
     "name": "stderr",
     "output_type": "stream",
     "text": [
      " 25%|██▍       | 246/1000 [3:49:42<11:41:21, 55.81s/it]"
     ]
    },
    {
     "name": "stdout",
     "output_type": "stream",
     "text": [
      "Epoch: 246/1000. Loss (Train/Test): 12.937/2.643. Accuracy (Train/Test): 0.754/0.749\n"
     ]
    },
    {
     "name": "stderr",
     "output_type": "stream",
     "text": [
      " 25%|██▍       | 247/1000 [3:50:37<11:39:39, 55.75s/it]"
     ]
    },
    {
     "name": "stdout",
     "output_type": "stream",
     "text": [
      "Epoch: 247/1000. Loss (Train/Test): 12.565/2.448. Accuracy (Train/Test): 0.774/0.785\n"
     ]
    },
    {
     "name": "stderr",
     "output_type": "stream",
     "text": [
      " 25%|██▍       | 248/1000 [3:51:34<11:41:15, 55.95s/it]"
     ]
    },
    {
     "name": "stdout",
     "output_type": "stream",
     "text": [
      "Epoch: 248/1000. Loss (Train/Test): 12.448/2.368. Accuracy (Train/Test): 0.776/0.803\n"
     ]
    },
    {
     "name": "stderr",
     "output_type": "stream",
     "text": [
      " 25%|██▍       | 249/1000 [3:52:30<11:40:43, 55.98s/it]"
     ]
    },
    {
     "name": "stdout",
     "output_type": "stream",
     "text": [
      "Epoch: 249/1000. Loss (Train/Test): 13.598/3.155. Accuracy (Train/Test): 0.739/0.661\n"
     ]
    },
    {
     "name": "stderr",
     "output_type": "stream",
     "text": [
      " 25%|██▌       | 250/1000 [3:53:26<11:40:56, 56.08s/it]"
     ]
    },
    {
     "name": "stdout",
     "output_type": "stream",
     "text": [
      "Epoch: 250/1000. Loss (Train/Test): 13.724/2.654. Accuracy (Train/Test): 0.726/0.738\n"
     ]
    },
    {
     "name": "stderr",
     "output_type": "stream",
     "text": [
      " 25%|██▌       | 251/1000 [3:54:21<11:37:01, 55.84s/it]"
     ]
    },
    {
     "name": "stdout",
     "output_type": "stream",
     "text": [
      "Epoch: 251/1000. Loss (Train/Test): 12.062/2.745. Accuracy (Train/Test): 0.795/0.733\n"
     ]
    },
    {
     "name": "stderr",
     "output_type": "stream",
     "text": [
      " 25%|██▌       | 252/1000 [3:55:17<11:34:51, 55.74s/it]"
     ]
    },
    {
     "name": "stdout",
     "output_type": "stream",
     "text": [
      "Epoch: 252/1000. Loss (Train/Test): 13.099/2.398. Accuracy (Train/Test): 0.750/0.788\n"
     ]
    },
    {
     "name": "stderr",
     "output_type": "stream",
     "text": [
      " 25%|██▌       | 253/1000 [3:56:13<11:36:32, 55.95s/it]"
     ]
    },
    {
     "name": "stdout",
     "output_type": "stream",
     "text": [
      "Epoch: 253/1000. Loss (Train/Test): 13.081/2.658. Accuracy (Train/Test): 0.749/0.745\n"
     ]
    },
    {
     "name": "stderr",
     "output_type": "stream",
     "text": [
      " 25%|██▌       | 254/1000 [3:57:09<11:35:56, 55.97s/it]"
     ]
    },
    {
     "name": "stdout",
     "output_type": "stream",
     "text": [
      "Epoch: 254/1000. Loss (Train/Test): 13.410/2.609. Accuracy (Train/Test): 0.742/0.752\n"
     ]
    },
    {
     "name": "stderr",
     "output_type": "stream",
     "text": [
      " 26%|██▌       | 255/1000 [3:58:05<11:33:25, 55.85s/it]"
     ]
    },
    {
     "name": "stdout",
     "output_type": "stream",
     "text": [
      "Epoch: 255/1000. Loss (Train/Test): 12.160/2.597. Accuracy (Train/Test): 0.784/0.746\n"
     ]
    },
    {
     "name": "stderr",
     "output_type": "stream",
     "text": [
      " 26%|██▌       | 256/1000 [3:59:01<11:34:00, 55.97s/it]"
     ]
    },
    {
     "name": "stdout",
     "output_type": "stream",
     "text": [
      "Epoch: 256/1000. Loss (Train/Test): 13.119/2.743. Accuracy (Train/Test): 0.750/0.730\n"
     ]
    },
    {
     "name": "stderr",
     "output_type": "stream",
     "text": [
      " 26%|██▌       | 257/1000 [3:59:57<11:32:12, 55.90s/it]"
     ]
    },
    {
     "name": "stdout",
     "output_type": "stream",
     "text": [
      "Epoch: 257/1000. Loss (Train/Test): 12.216/2.529. Accuracy (Train/Test): 0.783/0.763\n"
     ]
    },
    {
     "name": "stderr",
     "output_type": "stream",
     "text": [
      " 26%|██▌       | 258/1000 [4:00:52<11:29:28, 55.75s/it]"
     ]
    },
    {
     "name": "stdout",
     "output_type": "stream",
     "text": [
      "Epoch: 258/1000. Loss (Train/Test): 13.408/2.602. Accuracy (Train/Test): 0.738/0.750\n"
     ]
    },
    {
     "name": "stderr",
     "output_type": "stream",
     "text": [
      " 26%|██▌       | 259/1000 [4:01:48<11:29:32, 55.83s/it]"
     ]
    },
    {
     "name": "stdout",
     "output_type": "stream",
     "text": [
      "Epoch: 259/1000. Loss (Train/Test): 12.470/2.603. Accuracy (Train/Test): 0.780/0.747\n"
     ]
    },
    {
     "name": "stderr",
     "output_type": "stream",
     "text": [
      " 26%|██▌       | 260/1000 [4:02:44<11:27:53, 55.77s/it]"
     ]
    },
    {
     "name": "stdout",
     "output_type": "stream",
     "text": [
      "Epoch: 260/1000. Loss (Train/Test): 14.236/2.196. Accuracy (Train/Test): 0.706/0.824\n"
     ]
    },
    {
     "name": "stderr",
     "output_type": "stream",
     "text": [
      " 26%|██▌       | 261/1000 [4:03:40<11:28:55, 55.93s/it]"
     ]
    },
    {
     "name": "stdout",
     "output_type": "stream",
     "text": [
      "Epoch: 261/1000. Loss (Train/Test): 12.160/2.248. Accuracy (Train/Test): 0.791/0.830\n"
     ]
    },
    {
     "name": "stderr",
     "output_type": "stream",
     "text": [
      " 26%|██▌       | 262/1000 [4:04:37<11:30:47, 56.16s/it]"
     ]
    },
    {
     "name": "stdout",
     "output_type": "stream",
     "text": [
      "Epoch: 262/1000. Loss (Train/Test): 13.203/2.193. Accuracy (Train/Test): 0.746/0.835\n"
     ]
    },
    {
     "name": "stderr",
     "output_type": "stream",
     "text": [
      " 26%|██▋       | 263/1000 [4:05:33<11:27:40, 55.99s/it]"
     ]
    },
    {
     "name": "stdout",
     "output_type": "stream",
     "text": [
      "Epoch: 263/1000. Loss (Train/Test): 11.493/2.720. Accuracy (Train/Test): 0.814/0.740\n"
     ]
    },
    {
     "name": "stderr",
     "output_type": "stream",
     "text": [
      " 26%|██▋       | 264/1000 [4:06:28<11:24:40, 55.82s/it]"
     ]
    },
    {
     "name": "stdout",
     "output_type": "stream",
     "text": [
      "Epoch: 264/1000. Loss (Train/Test): 13.828/2.741. Accuracy (Train/Test): 0.726/0.722\n"
     ]
    },
    {
     "name": "stderr",
     "output_type": "stream",
     "text": [
      " 26%|██▋       | 265/1000 [4:07:24<11:23:41, 55.81s/it]"
     ]
    },
    {
     "name": "stdout",
     "output_type": "stream",
     "text": [
      "Epoch: 265/1000. Loss (Train/Test): 13.419/2.723. Accuracy (Train/Test): 0.738/0.732\n"
     ]
    },
    {
     "name": "stderr",
     "output_type": "stream",
     "text": [
      " 27%|██▋       | 266/1000 [4:08:20<11:24:55, 55.99s/it]"
     ]
    },
    {
     "name": "stdout",
     "output_type": "stream",
     "text": [
      "Epoch: 266/1000. Loss (Train/Test): 13.587/2.404. Accuracy (Train/Test): 0.733/0.788\n"
     ]
    },
    {
     "name": "stderr",
     "output_type": "stream",
     "text": [
      " 27%|██▋       | 267/1000 [4:09:16<11:24:21, 56.02s/it]"
     ]
    },
    {
     "name": "stdout",
     "output_type": "stream",
     "text": [
      "Epoch: 267/1000. Loss (Train/Test): 13.360/2.357. Accuracy (Train/Test): 0.736/0.794\n"
     ]
    },
    {
     "name": "stderr",
     "output_type": "stream",
     "text": [
      " 27%|██▋       | 268/1000 [4:10:12<11:22:32, 55.95s/it]"
     ]
    },
    {
     "name": "stdout",
     "output_type": "stream",
     "text": [
      "Epoch: 268/1000. Loss (Train/Test): 13.875/2.597. Accuracy (Train/Test): 0.717/0.751\n"
     ]
    },
    {
     "name": "stderr",
     "output_type": "stream",
     "text": [
      " 27%|██▋       | 269/1000 [4:11:08<11:21:14, 55.92s/it]"
     ]
    },
    {
     "name": "stdout",
     "output_type": "stream",
     "text": [
      "Epoch: 269/1000. Loss (Train/Test): 13.341/2.560. Accuracy (Train/Test): 0.745/0.778\n"
     ]
    },
    {
     "name": "stderr",
     "output_type": "stream",
     "text": [
      " 27%|██▋       | 270/1000 [4:12:03<11:18:48, 55.79s/it]"
     ]
    },
    {
     "name": "stdout",
     "output_type": "stream",
     "text": [
      "Epoch: 270/1000. Loss (Train/Test): 13.550/2.712. Accuracy (Train/Test): 0.743/0.730\n"
     ]
    },
    {
     "name": "stderr",
     "output_type": "stream",
     "text": [
      " 27%|██▋       | 271/1000 [4:12:59<11:18:49, 55.87s/it]"
     ]
    },
    {
     "name": "stdout",
     "output_type": "stream",
     "text": [
      "Epoch: 271/1000. Loss (Train/Test): 12.633/2.646. Accuracy (Train/Test): 0.767/0.741\n"
     ]
    },
    {
     "name": "stderr",
     "output_type": "stream",
     "text": [
      " 27%|██▋       | 272/1000 [4:13:56<11:19:55, 56.04s/it]"
     ]
    },
    {
     "name": "stdout",
     "output_type": "stream",
     "text": [
      "Epoch: 272/1000. Loss (Train/Test): 12.277/2.402. Accuracy (Train/Test): 0.779/0.786\n"
     ]
    },
    {
     "name": "stderr",
     "output_type": "stream",
     "text": [
      " 27%|██▋       | 273/1000 [4:14:52<11:17:43, 55.93s/it]"
     ]
    },
    {
     "name": "stdout",
     "output_type": "stream",
     "text": [
      "Epoch: 273/1000. Loss (Train/Test): 12.591/2.682. Accuracy (Train/Test): 0.772/0.746\n"
     ]
    },
    {
     "name": "stderr",
     "output_type": "stream",
     "text": [
      " 27%|██▋       | 274/1000 [4:15:48<11:17:45, 56.01s/it]"
     ]
    },
    {
     "name": "stdout",
     "output_type": "stream",
     "text": [
      "Epoch: 274/1000. Loss (Train/Test): 12.638/2.452. Accuracy (Train/Test): 0.766/0.783\n"
     ]
    },
    {
     "name": "stderr",
     "output_type": "stream",
     "text": [
      " 28%|██▊       | 275/1000 [4:16:44<11:17:37, 56.08s/it]"
     ]
    },
    {
     "name": "stdout",
     "output_type": "stream",
     "text": [
      "Epoch: 275/1000. Loss (Train/Test): 13.033/2.154. Accuracy (Train/Test): 0.747/0.833\n"
     ]
    },
    {
     "name": "stderr",
     "output_type": "stream",
     "text": [
      " 28%|██▊       | 276/1000 [4:17:39<11:14:17, 55.88s/it]"
     ]
    },
    {
     "name": "stdout",
     "output_type": "stream",
     "text": [
      "Epoch: 276/1000. Loss (Train/Test): 12.434/2.943. Accuracy (Train/Test): 0.777/0.700\n"
     ]
    },
    {
     "name": "stderr",
     "output_type": "stream",
     "text": [
      " 28%|██▊       | 277/1000 [4:18:35<11:11:26, 55.72s/it]"
     ]
    },
    {
     "name": "stdout",
     "output_type": "stream",
     "text": [
      "Epoch: 277/1000. Loss (Train/Test): 12.854/2.336. Accuracy (Train/Test): 0.765/0.802\n"
     ]
    },
    {
     "name": "stderr",
     "output_type": "stream",
     "text": [
      " 28%|██▊       | 278/1000 [4:19:31<11:12:34, 55.89s/it]"
     ]
    },
    {
     "name": "stdout",
     "output_type": "stream",
     "text": [
      "Epoch: 278/1000. Loss (Train/Test): 13.440/3.044. Accuracy (Train/Test): 0.735/0.673\n"
     ]
    },
    {
     "name": "stderr",
     "output_type": "stream",
     "text": [
      " 28%|██▊       | 279/1000 [4:20:27<11:11:04, 55.85s/it]"
     ]
    },
    {
     "name": "stdout",
     "output_type": "stream",
     "text": [
      "Epoch: 279/1000. Loss (Train/Test): 12.878/2.671. Accuracy (Train/Test): 0.761/0.740\n"
     ]
    },
    {
     "name": "stderr",
     "output_type": "stream",
     "text": [
      " 28%|██▊       | 280/1000 [4:21:23<11:10:30, 55.88s/it]"
     ]
    },
    {
     "name": "stdout",
     "output_type": "stream",
     "text": [
      "Epoch: 280/1000. Loss (Train/Test): 11.827/2.586. Accuracy (Train/Test): 0.794/0.753\n"
     ]
    },
    {
     "name": "stderr",
     "output_type": "stream",
     "text": [
      " 28%|██▊       | 281/1000 [4:22:19<11:10:36, 55.96s/it]"
     ]
    },
    {
     "name": "stdout",
     "output_type": "stream",
     "text": [
      "Epoch: 281/1000. Loss (Train/Test): 13.740/2.537. Accuracy (Train/Test): 0.722/0.761\n"
     ]
    },
    {
     "name": "stderr",
     "output_type": "stream",
     "text": [
      " 28%|██▊       | 282/1000 [4:23:16<11:13:27, 56.28s/it]"
     ]
    },
    {
     "name": "stdout",
     "output_type": "stream",
     "text": [
      "Epoch: 282/1000. Loss (Train/Test): 13.282/2.683. Accuracy (Train/Test): 0.744/0.749\n"
     ]
    },
    {
     "name": "stderr",
     "output_type": "stream",
     "text": [
      " 28%|██▊       | 283/1000 [4:24:12<11:11:28, 56.19s/it]"
     ]
    },
    {
     "name": "stdout",
     "output_type": "stream",
     "text": [
      "Epoch: 283/1000. Loss (Train/Test): 13.798/2.433. Accuracy (Train/Test): 0.726/0.779\n"
     ]
    },
    {
     "name": "stderr",
     "output_type": "stream",
     "text": [
      " 28%|██▊       | 284/1000 [4:25:08<11:08:32, 56.02s/it]"
     ]
    },
    {
     "name": "stdout",
     "output_type": "stream",
     "text": [
      "Epoch: 284/1000. Loss (Train/Test): 12.297/2.453. Accuracy (Train/Test): 0.778/0.787\n"
     ]
    },
    {
     "name": "stderr",
     "output_type": "stream",
     "text": [
      " 28%|██▊       | 285/1000 [4:26:04<11:07:45, 56.04s/it]"
     ]
    },
    {
     "name": "stdout",
     "output_type": "stream",
     "text": [
      "Epoch: 285/1000. Loss (Train/Test): 12.348/2.603. Accuracy (Train/Test): 0.779/0.763\n"
     ]
    },
    {
     "name": "stderr",
     "output_type": "stream",
     "text": [
      " 29%|██▊       | 286/1000 [4:27:00<11:06:29, 56.01s/it]"
     ]
    },
    {
     "name": "stdout",
     "output_type": "stream",
     "text": [
      "Epoch: 286/1000. Loss (Train/Test): 13.168/2.154. Accuracy (Train/Test): 0.747/0.834\n"
     ]
    },
    {
     "name": "stderr",
     "output_type": "stream",
     "text": [
      " 29%|██▊       | 287/1000 [4:27:55<11:04:32, 55.92s/it]"
     ]
    },
    {
     "name": "stdout",
     "output_type": "stream",
     "text": [
      "Epoch: 287/1000. Loss (Train/Test): 11.929/2.778. Accuracy (Train/Test): 0.792/0.728\n"
     ]
    },
    {
     "name": "stderr",
     "output_type": "stream",
     "text": [
      " 29%|██▉       | 288/1000 [4:28:52<11:06:26, 56.16s/it]"
     ]
    },
    {
     "name": "stdout",
     "output_type": "stream",
     "text": [
      "Epoch: 288/1000. Loss (Train/Test): 12.963/2.408. Accuracy (Train/Test): 0.751/0.789\n"
     ]
    },
    {
     "name": "stderr",
     "output_type": "stream",
     "text": [
      " 29%|██▉       | 289/1000 [4:29:48<11:05:36, 56.17s/it]"
     ]
    },
    {
     "name": "stdout",
     "output_type": "stream",
     "text": [
      "Epoch: 289/1000. Loss (Train/Test): 13.399/2.475. Accuracy (Train/Test): 0.744/0.785\n"
     ]
    },
    {
     "name": "stderr",
     "output_type": "stream",
     "text": [
      " 29%|██▉       | 290/1000 [4:30:44<11:02:14, 55.96s/it]"
     ]
    },
    {
     "name": "stdout",
     "output_type": "stream",
     "text": [
      "Epoch: 290/1000. Loss (Train/Test): 12.374/2.401. Accuracy (Train/Test): 0.787/0.794\n"
     ]
    },
    {
     "name": "stderr",
     "output_type": "stream",
     "text": [
      " 29%|██▉       | 291/1000 [4:31:39<11:00:38, 55.91s/it]"
     ]
    },
    {
     "name": "stdout",
     "output_type": "stream",
     "text": [
      "Epoch: 291/1000. Loss (Train/Test): 13.589/2.517. Accuracy (Train/Test): 0.740/0.771\n"
     ]
    },
    {
     "name": "stderr",
     "output_type": "stream",
     "text": [
      " 29%|██▉       | 292/1000 [4:32:35<10:59:08, 55.86s/it]"
     ]
    },
    {
     "name": "stdout",
     "output_type": "stream",
     "text": [
      "Epoch: 292/1000. Loss (Train/Test): 13.532/2.486. Accuracy (Train/Test): 0.746/0.785\n"
     ]
    },
    {
     "name": "stderr",
     "output_type": "stream",
     "text": [
      " 29%|██▉       | 293/1000 [4:33:31<10:57:31, 55.80s/it]"
     ]
    },
    {
     "name": "stdout",
     "output_type": "stream",
     "text": [
      "Epoch: 293/1000. Loss (Train/Test): 12.788/2.758. Accuracy (Train/Test): 0.763/0.722\n"
     ]
    },
    {
     "name": "stderr",
     "output_type": "stream",
     "text": [
      " 29%|██▉       | 294/1000 [4:34:27<10:58:12, 55.94s/it]"
     ]
    },
    {
     "name": "stdout",
     "output_type": "stream",
     "text": [
      "Epoch: 294/1000. Loss (Train/Test): 12.488/2.527. Accuracy (Train/Test): 0.771/0.777\n"
     ]
    },
    {
     "name": "stderr",
     "output_type": "stream",
     "text": [
      " 30%|██▉       | 295/1000 [4:35:23<10:58:20, 56.03s/it]"
     ]
    },
    {
     "name": "stdout",
     "output_type": "stream",
     "text": [
      "Epoch: 295/1000. Loss (Train/Test): 13.292/3.118. Accuracy (Train/Test): 0.739/0.662\n"
     ]
    },
    {
     "name": "stderr",
     "output_type": "stream",
     "text": [
      " 30%|██▉       | 296/1000 [4:36:20<10:57:52, 56.07s/it]"
     ]
    },
    {
     "name": "stdout",
     "output_type": "stream",
     "text": [
      "Epoch: 296/1000. Loss (Train/Test): 13.692/2.223. Accuracy (Train/Test): 0.732/0.815\n"
     ]
    },
    {
     "name": "stderr",
     "output_type": "stream",
     "text": [
      " 30%|██▉       | 297/1000 [4:37:16<10:57:00, 56.07s/it]"
     ]
    },
    {
     "name": "stdout",
     "output_type": "stream",
     "text": [
      "Epoch: 297/1000. Loss (Train/Test): 12.363/2.597. Accuracy (Train/Test): 0.775/0.747\n"
     ]
    },
    {
     "name": "stderr",
     "output_type": "stream",
     "text": [
      " 30%|██▉       | 298/1000 [4:38:13<11:00:06, 56.42s/it]"
     ]
    },
    {
     "name": "stdout",
     "output_type": "stream",
     "text": [
      "Epoch: 298/1000. Loss (Train/Test): 13.061/2.449. Accuracy (Train/Test): 0.755/0.785\n"
     ]
    },
    {
     "name": "stderr",
     "output_type": "stream",
     "text": [
      " 30%|██▉       | 299/1000 [4:39:09<10:57:16, 56.26s/it]"
     ]
    },
    {
     "name": "stdout",
     "output_type": "stream",
     "text": [
      "Epoch: 299/1000. Loss (Train/Test): 12.746/2.376. Accuracy (Train/Test): 0.760/0.790\n"
     ]
    },
    {
     "name": "stderr",
     "output_type": "stream",
     "text": [
      " 30%|███       | 300/1000 [4:40:05<10:55:56, 56.22s/it]"
     ]
    },
    {
     "name": "stdout",
     "output_type": "stream",
     "text": [
      "Epoch: 300/1000. Loss (Train/Test): 12.440/2.551. Accuracy (Train/Test): 0.774/0.767\n"
     ]
    },
    {
     "name": "stderr",
     "output_type": "stream",
     "text": [
      " 30%|███       | 301/1000 [4:41:01<10:53:58, 56.13s/it]"
     ]
    },
    {
     "name": "stdout",
     "output_type": "stream",
     "text": [
      "Epoch: 301/1000. Loss (Train/Test): 12.471/2.705. Accuracy (Train/Test): 0.773/0.735\n"
     ]
    },
    {
     "name": "stderr",
     "output_type": "stream",
     "text": [
      " 30%|███       | 302/1000 [4:41:57<10:52:19, 56.07s/it]"
     ]
    },
    {
     "name": "stdout",
     "output_type": "stream",
     "text": [
      "Epoch: 302/1000. Loss (Train/Test): 12.406/2.438. Accuracy (Train/Test): 0.774/0.775\n"
     ]
    },
    {
     "name": "stderr",
     "output_type": "stream",
     "text": [
      " 30%|███       | 303/1000 [4:42:52<10:50:01, 55.96s/it]"
     ]
    },
    {
     "name": "stdout",
     "output_type": "stream",
     "text": [
      "Epoch: 303/1000. Loss (Train/Test): 13.955/2.423. Accuracy (Train/Test): 0.724/0.783\n"
     ]
    },
    {
     "name": "stderr",
     "output_type": "stream",
     "text": [
      " 30%|███       | 304/1000 [4:43:49<10:49:52, 56.02s/it]"
     ]
    },
    {
     "name": "stdout",
     "output_type": "stream",
     "text": [
      "Epoch: 304/1000. Loss (Train/Test): 12.767/2.833. Accuracy (Train/Test): 0.759/0.705\n"
     ]
    },
    {
     "name": "stderr",
     "output_type": "stream",
     "text": [
      " 30%|███       | 305/1000 [4:44:45<10:48:47, 56.01s/it]"
     ]
    },
    {
     "name": "stdout",
     "output_type": "stream",
     "text": [
      "Epoch: 305/1000. Loss (Train/Test): 13.282/2.681. Accuracy (Train/Test): 0.738/0.733\n"
     ]
    },
    {
     "name": "stderr",
     "output_type": "stream",
     "text": [
      " 31%|███       | 306/1000 [4:45:40<10:47:27, 55.98s/it]"
     ]
    },
    {
     "name": "stdout",
     "output_type": "stream",
     "text": [
      "Epoch: 306/1000. Loss (Train/Test): 12.789/2.572. Accuracy (Train/Test): 0.761/0.769\n"
     ]
    },
    {
     "name": "stderr",
     "output_type": "stream",
     "text": [
      " 31%|███       | 307/1000 [4:46:37<10:47:17, 56.04s/it]"
     ]
    },
    {
     "name": "stdout",
     "output_type": "stream",
     "text": [
      "Epoch: 307/1000. Loss (Train/Test): 13.290/2.600. Accuracy (Train/Test): 0.745/0.770\n"
     ]
    },
    {
     "name": "stderr",
     "output_type": "stream",
     "text": [
      " 31%|███       | 308/1000 [4:47:34<10:50:05, 56.37s/it]"
     ]
    },
    {
     "name": "stdout",
     "output_type": "stream",
     "text": [
      "Epoch: 308/1000. Loss (Train/Test): 12.887/2.594. Accuracy (Train/Test): 0.764/0.761\n"
     ]
    },
    {
     "name": "stderr",
     "output_type": "stream",
     "text": [
      " 31%|███       | 309/1000 [4:48:29<10:46:43, 56.16s/it]"
     ]
    },
    {
     "name": "stdout",
     "output_type": "stream",
     "text": [
      "Epoch: 309/1000. Loss (Train/Test): 13.083/2.625. Accuracy (Train/Test): 0.758/0.746\n"
     ]
    },
    {
     "name": "stderr",
     "output_type": "stream",
     "text": [
      " 31%|███       | 310/1000 [4:49:26<10:46:10, 56.19s/it]"
     ]
    },
    {
     "name": "stdout",
     "output_type": "stream",
     "text": [
      "Epoch: 310/1000. Loss (Train/Test): 13.548/2.430. Accuracy (Train/Test): 0.733/0.774\n"
     ]
    },
    {
     "name": "stderr",
     "output_type": "stream",
     "text": [
      " 31%|███       | 311/1000 [4:50:22<10:45:16, 56.19s/it]"
     ]
    },
    {
     "name": "stdout",
     "output_type": "stream",
     "text": [
      "Epoch: 311/1000. Loss (Train/Test): 13.503/2.666. Accuracy (Train/Test): 0.736/0.739\n"
     ]
    }
   ],
   "source": [
    "train_losses, train_accuracies, test_losses, test_accuracies = \\\n",
    "      train(train_loader, test_loader, resnet, minet_local, minet_global, criterion, optimizer_enc, \n",
    "            optimizer_mi_loc, optimizer_mi_glob, device, num_epochs=1000, scheduler=scheduler, writer=writer)"
   ]
  },
  {
   "cell_type": "code",
   "execution_count": 33,
   "id": "65c41b2b",
   "metadata": {},
   "outputs": [
    {
     "data": {
      "text/plain": [
       "5"
      ]
     },
     "execution_count": 33,
     "metadata": {},
     "output_type": "execute_result"
    }
   ],
   "source": [
    "Hint: enable "
   ]
  },
  {
   "cell_type": "code",
   "execution_count": 690,
   "id": "a171080c",
   "metadata": {},
   "outputs": [],
   "source": [
    "torch.save(resnet.state_dict(), 'resnet_subseq_lr.pt')\n",
    "torch.save(minet_local.state_dict(), 'minet_local_subseq_lr.pt')\n",
    "#torch.save(minet_global.state_dict(), 'minet_global.pt')"
   ]
  },
  {
   "cell_type": "code",
   "execution_count": 62,
   "id": "d58519ae",
   "metadata": {},
   "outputs": [
    {
     "data": {
      "image/png": "[encoded data removed]",
      "text/plain": [
       "<Figure size 800x500 with 1 Axes>"
      ]
     },
     "metadata": {},
     "output_type": "display_data"
    }
   ],
   "source": [
    "title = 'Loss'\n",
    "label1 = 'Train'\n",
    "label2 = 'Test'\n",
    "xlabel = 'Epoch'\n",
    "ylabel = 'Loss'\n",
    "plot([train_losses, test_losses], [label1, label2], len(train_losses), title, xlabel, ylabel)"
   ]
  },
  {
   "cell_type": "code",
   "execution_count": 63,
   "id": "5cde54df",
   "metadata": {},
   "outputs": [
    {
     "data": {
      "image/png": "[encoded data removed]",
      "text/plain": [
       "<Figure size 800x500 with 1 Axes>"
      ]
     },
     "metadata": {},
     "output_type": "display_data"
    }
   ],
   "source": [
    "title = 'Accuracy'\n",
    "label1 = 'Train'\n",
    "label2 = 'Test'\n",
    "xlabel = 'Epoch'\n",
    "ylabel = 'Accuracy'\n",
    "plot([train_accuracies, test_accuracies], [label1, label2], len(train_losses), title, xlabel, ylabel)"
   ]
  },
  {
   "cell_type": "code",
   "execution_count": 66,
   "id": "e6d0324a",
   "metadata": {},
   "outputs": [],
   "source": [
    "def train_epoch(dataloader, model_enc, model_class, loss_fn, optimizer, device, optimizer_enc=None):\n",
    "    #model_enc.train()\n",
    "    #freeze_encoder(model_enc)\n",
    "    model_class.train()\n",
    "    for idx, (x, label) in enumerate(dataloader):\n",
    "        optimizer.zero_grad()\n",
    "        if optimizer_enc is not None:\n",
    "            optimizer_enc.zero_grad()\n",
    "        \n",
    "        x, label = x.to(device), label.to(device)\n",
    "        feture_map, y = model_enc(x)\n",
    "        \n",
    "        outputs = model_class(y.squeeze())\n",
    "        \n",
    "        loss = loss_fn(outputs, label)\n",
    "        loss.backward()\n",
    "        optimizer.step()\n",
    "        if optimizer_enc is not None:\n",
    "            optimizer_enc.step()\n",
    "    \n",
    "def evaluate(dataloader, model_enc, model_class, loss_fn, device):\n",
    "    model_enc.eval()\n",
    "    model_class.eval()\n",
    "    \n",
    "    total_loss = 0.0\n",
    "    total_accuracy = 0.0\n",
    "    with torch.no_grad():\n",
    "        for idx, (x, label) in enumerate(dataloader):\n",
    "            x, label = x.to(device), label.to(device)\n",
    "            feture_map, y = model_enc(x)\n",
    "            \n",
    "            outputs = model_class(y.squeeze())\n",
    "            total_loss += float(loss_fn(outputs, label).detach())\n",
    "            _, predicted = torch.max(outputs.data, 1)\n",
    "\n",
    "            total_accuracy += predicted.eq(label.data).cpu().sum()\n",
    "    return total_loss / len(dataloader.dataset), total_accuracy / len(dataloader.dataset)\n",
    "    \n",
    "\n",
    "def train(\n",
    "    train_loader, test_loader, model_enc, model_class, loss_fn, optimizer, \n",
    "    device, num_epochs, scheduler=None, optimizer_enc=None\n",
    "):\n",
    "    test_losses = []\n",
    "    train_losses = []\n",
    "    test_accuracies = []\n",
    "    train_accuracies = []\n",
    "    for epoch in tqdm(range(num_epochs)):\n",
    "        train_epoch(train_loader, model_enc, model_class, loss_fn, optimizer, device, optimizer_enc)\n",
    "        \n",
    "        train_loss, train_acc = evaluate(train_loader, model_enc, model_class, loss_fn, device)\n",
    "        train_accuracies.append(train_acc)\n",
    "        train_losses.append(train_loss)\n",
    "        \n",
    "        test_loss, test_acc = evaluate(test_loader, model_enc, model_class, loss_fn, device)\n",
    "        test_accuracies.append(test_acc)\n",
    "        test_losses.append(test_loss)\n",
    "        if scheduler is not None:\n",
    "            scheduler.step()\n",
    "        \n",
    "        print(\n",
    "            'Epoch: {0:d}/{1:d}. Loss (Train/Test): {2:.3f}/{3:.3f}. Accuracy (Train/Test): {4:.3f}/{5:.3f}'.format(\n",
    "                epoch + 1, num_epochs, train_losses[-1], test_losses[-1], train_accuracies[-1], test_accuracies[-1]\n",
    "            )\n",
    "        )\n",
    "    return train_losses, train_accuracies, test_losses, test_accuracies"
   ]
  },
  {
   "cell_type": "code",
   "execution_count": 96,
   "id": "cd78fc4b",
   "metadata": {},
   "outputs": [],
   "source": [
    "#resnet = ResNet18(width=2).to(device)\n",
    "resnet.eval()\n",
    "class_nn = Classifier_NN(128).to(device)\n",
    "\n",
    "criterion = nn.CrossEntropyLoss(reduction='sum')\n",
    "optimizer_class = torch.optim.Adam(class_nn.parameters(), lr=1e-4)\n",
    "scheduler = torch.optim.lr_scheduler.StepLR(optimizer_class, step_size=50, gamma=0.5)"
   ]
  },
  {
   "cell_type": "code",
   "execution_count": 77,
   "id": "ee932739",
   "metadata": {},
   "outputs": [
    {
     "data": {
      "text/plain": [
       "device(type='cuda', index=0)"
      ]
     },
     "execution_count": 77,
     "metadata": {},
     "output_type": "execute_result"
    }
   ],
   "source": [
    "device"
   ]
  },
  {
   "cell_type": "code",
   "execution_count": 95,
   "id": "5399574b",
   "metadata": {},
   "outputs": [
    {
     "data": {
      "text/plain": [
       "device(type='cuda', index=0)"
      ]
     },
     "execution_count": 95,
     "metadata": {},
     "output_type": "execute_result"
    }
   ],
   "source": [
    "next(resnet.parameters()).device"
   ]
  },
  {
   "cell_type": "code",
   "execution_count": 97,
   "id": "14c4eb3e",
   "metadata": {},
   "outputs": [],
   "source": [
    "#resnet.load_state_dict(torch.load('resnet_subseq_lr.pt'))#.to(device)\n",
    "resnet.load_state_dict(torch.load('model_enc_last_test.pt'))#.to(device)\n",
    "#resnet.eval()\n",
    "resnet.train()\n",
    "optimizer_enc = torch.optim.Adam(resnet.parameters(), lr=1e-4)"
   ]
  },
  {
   "cell_type": "code",
   "execution_count": 101,
   "id": "cccf665f",
   "metadata": {},
   "outputs": [],
   "source": [
    "def freeze_encoder(model):\n",
    "    for name, param in model.named_parameters():\n",
    "        # if name[:6] == 'layer4' or name[:2] == 'fc' or name[:6] == 'layer3':\n",
    "        #     param.requires_grad = True\n",
    "        # else:\n",
    "            param.requires_grad = False"
   ]
  },
  {
   "cell_type": "code",
   "execution_count": 92,
   "id": "b286e63b",
   "metadata": {},
   "outputs": [],
   "source": [
    "freeze_encoder(resnet)"
   ]
  },
  {
   "cell_type": "code",
   "execution_count": 102,
   "id": "58f6e94e",
   "metadata": {},
   "outputs": [
    {
     "name": "stdout",
     "output_type": "stream",
     "text": [
      "conv1.0.weight True\n",
      "conv1.2.weight True\n",
      "conv1.2.bias True\n",
      "layer1.0.left.0.weight True\n",
      "layer1.0.left.1.weight True\n",
      "layer1.0.left.1.bias True\n",
      "layer1.0.left.4.weight True\n",
      "layer1.0.left.5.weight True\n",
      "layer1.0.left.5.bias True\n",
      "layer1.1.left.0.weight True\n",
      "layer1.1.left.1.weight True\n",
      "layer1.1.left.1.bias True\n",
      "layer1.1.left.4.weight True\n",
      "layer1.1.left.5.weight True\n",
      "layer1.1.left.5.bias True\n",
      "layer2.0.left.0.weight True\n",
      "layer2.0.left.1.weight True\n",
      "layer2.0.left.1.bias True\n",
      "layer2.0.left.4.weight True\n",
      "layer2.0.left.5.weight True\n",
      "layer2.0.left.5.bias True\n",
      "layer2.0.shortcut.0.weight True\n",
      "layer2.0.shortcut.2.weight True\n",
      "layer2.0.shortcut.2.bias True\n",
      "layer2.1.left.0.weight True\n",
      "layer2.1.left.1.weight True\n",
      "layer2.1.left.1.bias True\n",
      "layer2.1.left.4.weight True\n",
      "layer2.1.left.5.weight True\n",
      "layer2.1.left.5.bias True\n",
      "layer3.0.left.0.weight True\n",
      "layer3.0.left.1.weight True\n",
      "layer3.0.left.1.bias True\n",
      "layer3.0.left.4.weight True\n",
      "layer3.0.left.5.weight True\n",
      "layer3.0.left.5.bias True\n",
      "layer3.0.shortcut.0.weight True\n",
      "layer3.0.shortcut.2.weight True\n",
      "layer3.0.shortcut.2.bias True\n",
      "layer3.1.left.0.weight True\n",
      "layer3.1.left.1.weight True\n",
      "layer3.1.left.1.bias True\n",
      "layer3.1.left.4.weight True\n",
      "layer3.1.left.5.weight True\n",
      "layer3.1.left.5.bias True\n",
      "layer4.0.left.0.weight True\n",
      "layer4.0.left.1.weight True\n",
      "layer4.0.left.1.bias True\n",
      "layer4.0.left.4.weight True\n",
      "layer4.0.left.5.weight True\n",
      "layer4.0.left.5.bias True\n",
      "layer4.0.shortcut.0.weight True\n",
      "layer4.0.shortcut.2.weight True\n",
      "layer4.0.shortcut.2.bias True\n",
      "layer4.1.left.0.weight True\n",
      "layer4.1.left.1.weight True\n",
      "layer4.1.left.1.bias True\n",
      "layer4.1.left.4.weight True\n",
      "layer4.1.left.5.weight True\n",
      "layer4.1.left.5.bias True\n",
      "fc.weight True\n",
      "fc.bias True\n"
     ]
    }
   ],
   "source": [
    "for name, param in resnet.named_parameters():\n",
    "    print(name, param.requires_grad)"
   ]
  },
  {
   "cell_type": "markdown",
   "id": "2ec15300",
   "metadata": {},
   "source": [
    "All resnet train - 0.603/4, 0.673/23, 0.680/56\n",
    "\n",
    "From scratch - 0.604/3, 0.651/98, 0.662/193\n",
    "\n",
    "Only 4 layer - 0.404/5, 0.454/13\n",
    "\n",
    "3+4 layer - 0.505/4, 0.550/122\n",
    "\n",
    "\n",
    "\n",
    "subseq_last - 0.590/90\n",
    "subseq_best - 0.529/150\n",
    "\n",
    "subseq_last_lr_20/0.5 - 0.458/130\n",
    "subseq_last_lr_50/0.5 - 0.469/145\n",
    "subseq_best_lr_50/0.5 - 0.471/159\n",
    "\n",
    "subseq_best_lr_50/0.5 all resnet train - 0.630/25\n",
    "\n",
    "patches best without mse - 0.636/23\n",
    "patches best with mse - 0.610/56, 0.650/990\n",
    "\n",
    "patches stride < patch_size with mse - 0.606/38 0.648/985\n",
    "patches stride < patch_size without mse - 0.641/33 0.646/410\n",
    "\n",
    "patches new, mse, stride=patch: fine-tuning - 0.626/46, transfer ~ 0.3\n",
    "patches new, mse, stride=patch: fine-tuning - 0.517/7, 0.606/33, transfer - 0.598/29\n",
    "\n",
    "\n",
    "cat patches transfer - 0.590/22, fine-tuning ~ 0.6\n",
    "\n",
    "cosine transfer - 0.584/25, fine-tuning 0.594/16\n",
    "cosine bce transfer - 0.32/125, fine-tuning 0.594/16\n",
    "cosine bce transfer 1 loss (best) - 0.324/25, fine-tuning 0.576/26\n",
    "cosine bce transfer 1 loss (last) - 0.343/24, fine-tuning 0.577/22"
   ]
  },
  {
   "cell_type": "code",
   "execution_count": 5,
   "id": "64b275c2-260c-405c-811d-2e6721f346ee",
   "metadata": {},
   "outputs": [],
   "source": [
    "tabledata = [\n",
    "         [\"InfoMax all fine-tuning\", '0.603/4', '0.673/23', '0.680/56'],\n",
    "         [\"InfoMax fine-tuning only 4 layer\", '0.404/5', '0.454/13', 'Same'],\n",
    "         [\"InfoMax From scratch \", '0.604/3', '0.651/98', '0.662/193'],\n",
    "         [\"SubSeq from last epoch, transfer\", '0.590/90', 'Same', 'Same'],\n",
    "         [\"SubSeq best accuracy, transfer\", '0.529/150', 'Same', 'Same'],\n",
    "         [\"SubSeq last, fine-tuning\", '0.636/23', 'Same', 'Same'],\n",
    "         [\"SubSeq last, stride < patch_size, fine-tuning\", '0.641/33', '0.646/410', 'Same'],\n",
    "         [\"SubSeq last, + mse_loss, fine-tuning\", '0.610/56', '0.650/990', 'Same'],\n",
    "         [\"SubSeq last, stride < patch_size, + mse_loss, fine-tuning\", '0.606/38', '0.648/985', 'Same'],\n",
    "         [\"SubSeq last, + mse_loss, + patch-patch loss fine-tuning\", '0.626/46', 'Same', 'Same'],\n",
    "         [\"SubSeq last, + mse_loss, + patch-patch loss transfer\", '~0.4/~50 ', 'Same', 'Same'],\n",
    "         [\"SubSeq last cat patches, + mse_loss, + patch-patch loss fine-tuning\", '0.635/36', 'Same', 'Same'],\n",
    "         [\"SubSeq last cat patches, + mse_loss, + patch-patch loss transfer\", '0.490/22', 'Same', 'Same'],\n",
    "         [\"SubSeq last cat patches, cosine MI, fine-tuning\", '0.594/16', 'Same', 'Same'],\n",
    "         [\"SubSeq last cat patches, cosine MI, transfer\", '0.484/25', 'Same', 'Same'],\n",
    "         [\"SubSeq last cat patches, cosine MI + bce, fine-tuning\", '0.577/22', 'Same', 'Same'],\n",
    "         [\"SubSeq last cat patches, cosine MI + bce, transfer\", '0.343/24', 'Same', 'Same'],\n",
    "    ]"
   ]
  },
  {
   "cell_type": "code",
   "execution_count": 7,
   "id": "9b9cafb3-ef6d-42ea-8502-30b90d3e5cb7",
   "metadata": {},
   "outputs": [
    {
     "name": "stdout",
     "output_type": "stream",
     "text": [
      "-------------------------------------------------------------------  ---------  ---------  ---------\n",
      "InfoMax all fine-tuning                                              0.603/4    0.673/23   0.680/56\n",
      "InfoMax fine-tuning only 4 layer                                     0.404/5    0.454/13   Same\n",
      "InfoMax From scratch                                                 0.604/3    0.651/98   0.662/193\n",
      "SubSeq from last epoch, transfer                                     0.590/90   Same       Same\n",
      "SubSeq best accuracy, transfer                                       0.529/150  Same       Same\n",
      "SubSeq last, fine-tuning                                             0.636/23   Same       Same\n",
      "SubSeq last, stride < patch_size, fine-tuning                        0.641/33   0.646/410  Same\n",
      "SubSeq last, + mse_loss, fine-tuning                                 0.610/56   0.650/990  Same\n",
      "SubSeq last, stride < patch_size, + mse_loss, fine-tuning            0.606/38   0.648/985  Same\n",
      "SubSeq last, + mse_loss, + patch-patch loss fine-tuning              0.626/46   Same       Same\n",
      "SubSeq last, + mse_loss, + patch-patch loss transfer                 ~0.4/~50   Same       Same\n",
      "SubSeq last cat patches, + mse_loss, + patch-patch loss fine-tuning  0.635/36   Same       Same\n",
      "SubSeq last cat patches, + mse_loss, + patch-patch loss transfer     0.490/22   Same       Same\n",
      "SubSeq last cat patches, cosine MI, fine-tuning                      0.594/16   Same       Same\n",
      "SubSeq last cat patches, cosine MI, transfer                         0.484/25   Same       Same\n",
      "SubSeq last cat patches, cosine MI + bce, fine-tuning                0.577/22   Same       Same\n",
      "SubSeq last cat patches, cosine MI + bce, transfer                   0.343/24   Same       Same\n",
      "-------------------------------------------------------------------  ---------  ---------  ---------\n"
     ]
    }
   ],
   "source": [
    "from tabulate import tabulate \n",
    "print(tabulate(tabledata))"
   ]
  },
  {
   "cell_type": "code",
   "execution_count": 8,
   "id": "3bde8460-47e8-4abe-a6c8-51da7f1def8c",
   "metadata": {},
   "outputs": [
    {
     "data": {
      "text/html": [
       "<table>\n",
       "<thead>\n",
       "<tr><th>Type                                                               </th><th>Accuracy / Epoch  </th><th>Accuracy / Epoch  </th><th>Accuracy / Epoch  </th></tr>\n",
       "</thead>\n",
       "<tbody>\n",
       "<tr><td>InfoMax all fine-tuning                                            </td><td>0.603/4           </td><td>0.673/23          </td><td>0.680/56          </td></tr>\n",
       "<tr><td>InfoMax fine-tuning only 4 layer                                   </td><td>0.404/5           </td><td>0.454/13          </td><td>Same              </td></tr>\n",
       "<tr><td>InfoMax From scratch                                               </td><td>0.604/3           </td><td>0.651/98          </td><td>0.662/193         </td></tr>\n",
       "<tr><td>SubSeq from last epoch, transfer                                   </td><td>0.590/90          </td><td>Same              </td><td>Same              </td></tr>\n",
       "<tr><td>SubSeq best accuracy, transfer                                     </td><td>0.529/150         </td><td>Same              </td><td>Same              </td></tr>\n",
       "<tr><td>SubSeq last, fine-tuning                                           </td><td>0.636/23          </td><td>Same              </td><td>Same              </td></tr>\n",
       "<tr><td>SubSeq last, stride &lt; patch_size, fine-tuning                      </td><td>0.641/33          </td><td>0.646/410         </td><td>Same              </td></tr>\n",
       "<tr><td>SubSeq last, + mse_loss, fine-tuning                               </td><td>0.610/56          </td><td>0.650/990         </td><td>Same              </td></tr>\n",
       "<tr><td>SubSeq last, stride &lt; patch_size, + mse_loss, fine-tuning          </td><td>0.606/38          </td><td>0.648/985         </td><td>Same              </td></tr>\n",
       "<tr><td>SubSeq last, + mse_loss, + patch-patch loss fine-tuning            </td><td>0.626/46          </td><td>Same              </td><td>Same              </td></tr>\n",
       "<tr><td>SubSeq last, + mse_loss, + patch-patch loss transfer               </td><td>~0.4/~50          </td><td>Same              </td><td>Same              </td></tr>\n",
       "<tr><td>SubSeq last cat patches, + mse_loss, + patch-patch loss fine-tuning</td><td>0.635/36          </td><td>Same              </td><td>Same              </td></tr>\n",
       "<tr><td>SubSeq last cat patches, + mse_loss, + patch-patch loss transfer   </td><td>0.490/22          </td><td>Same              </td><td>Same              </td></tr>\n",
       "<tr><td>SubSeq last cat patches, cosine MI, fine-tuning                    </td><td>0.594/16          </td><td>Same              </td><td>Same              </td></tr>\n",
       "<tr><td>SubSeq last cat patches, cosine MI, transfer                       </td><td>0.484/25          </td><td>Same              </td><td>Same              </td></tr>\n",
       "<tr><td>SubSeq last cat patches, cosine MI + bce, fine-tuning              </td><td>0.577/22          </td><td>Same              </td><td>Same              </td></tr>\n",
       "<tr><td>SubSeq last cat patches, cosine MI + bce, transfer                 </td><td>0.343/24          </td><td>Same              </td><td>Same              </td></tr>\n",
       "</tbody>\n",
       "</table>"
      ],
      "text/plain": [
       "<IPython.core.display.HTML object>"
      ]
     },
     "metadata": {},
     "output_type": "display_data"
    },
    {
     "name": "stdout",
     "output_type": "stream",
     "text": [
      "\"stride < patch_size\" means that different patches may intersect\n",
      "\"Same\" means that accuracy then didn't change\n"
     ]
    }
   ],
   "source": [
    "from IPython.display import HTML, display\n",
    "display(HTML(tabulate(tabledata, headers=[\"Type\", \"Accuracy / Epoch\", \"Accuracy / Epoch\", \"Accuracy / Epoch\"], tablefmt='html')))\n",
    "print('\"stride < patch_size\" means that different patches may intersect')\n",
    "print('\"Same\" means that accuracy then didn\\'t change')"
   ]
  },
  {
   "cell_type": "code",
   "execution_count": 35,
   "id": "cebf67b0-3fe2-4f1f-81e2-4c6cf9bc4a95",
   "metadata": {},
   "outputs": [],
   "source": [
    "tabledata_ft = [\n",
    "         [\"SubSeq, fine-tuning\", '0.636', '0.594'],\n",
    "         [\"SubSeq, + pos loss, fine-tuning\", '0.650', '-'],\n",
    "         [\"SubSeq, + pos loss, + patch-patch loss, fine-tuning\", '0.635', '-'],\n",
    "         [\"InfoMax all fine-tuning\", '0.680', '0.594'],\n",
    "    ]\n",
    "\n",
    "tabledata_trans = [\n",
    "         [\"SubSeq, transfer\", '0.590', '0.484'],\n",
    "         [\"SubSeq, + pos loss, transfer\", '0.598', '-', 'Same'],\n",
    "         [\"SubSeq, + pos loss, + patch-patch loss, transfer\", '~0.4', '-'],\n",
    "         [\"InfoMax freeze all layers exept the last\", '0.454', '0.484'],\n",
    "    ]"
   ]
  },
  {
   "cell_type": "code",
   "execution_count": 33,
   "id": "a4c59885-cc94-49a5-ab4d-07043bc4d582",
   "metadata": {},
   "outputs": [
    {
     "data": {
      "text/html": [
       "<table>\n",
       "<thead>\n",
       "<tr><th>Type                                               </th><th style=\"text-align: right;\">  Accuracy / MI: NN</th><th>Accuracy / MI: cosine  </th></tr>\n",
       "</thead>\n",
       "<tbody>\n",
       "<tr><td>SubSeq, fine-tuning                                </td><td style=\"text-align: right;\">              0.636</td><td>0.594                  </td></tr>\n",
       "<tr><td>SubSeq, + pos loss, fine-tuning                    </td><td style=\"text-align: right;\">              0.65 </td><td>-                      </td></tr>\n",
       "<tr><td>SubSeq, + pos loss, + patch-patch loss, fine-tuning</td><td style=\"text-align: right;\">              0.635</td><td>-                      </td></tr>\n",
       "<tr><td>InfoMax all fine-tuning                            </td><td style=\"text-align: right;\">              0.68 </td><td>0.594                  </td></tr>\n",
       "</tbody>\n",
       "</table>"
      ],
      "text/plain": [
       "<IPython.core.display.HTML object>"
      ]
     },
     "metadata": {},
     "output_type": "display_data"
    }
   ],
   "source": [
    "display(HTML(tabulate(tabledata_ft, headers=[\"Type\", \"Accuracy / MI: NN\", \"Accuracy / MI: cosine\"], tablefmt='html')))"
   ]
  },
  {
   "cell_type": "code",
   "execution_count": 36,
   "id": "2df4c7de-cf27-4e5c-b7d9-883582c16bbf",
   "metadata": {},
   "outputs": [
    {
     "data": {
      "text/html": [
       "<table>\n",
       "<thead>\n",
       "<tr><th>Type                                            </th><th>Accuracy / MI: NN  </th><th>Accuracy / MI: cosine  </th></tr>\n",
       "</thead>\n",
       "<tbody>\n",
       "<tr><td>SubSeq, transfer                                </td><td>0.590              </td><td>0.484                  </td></tr>\n",
       "<tr><td>SubSeq, + pos loss, transfer                    </td><td>0.598              </td><td>-                      </td></tr>\n",
       "<tr><td>SubSeq, + pos loss, + patch-patch loss, transfer</td><td>~0.4               </td><td>-                      </td></tr>\n",
       "<tr><td>InfoMax freeze all layers exept the last        </td><td>0.454              </td><td>0.484                  </td></tr>\n",
       "</tbody>\n",
       "</table>"
      ],
      "text/plain": [
       "<IPython.core.display.HTML object>"
      ]
     },
     "metadata": {},
     "output_type": "display_data"
    }
   ],
   "source": [
    "display(HTML(tabulate(tabledata_trans, headers=[\"Type\", \"Accuracy / MI: NN\", \"Accuracy / MI: cosine\"], tablefmt='html')))"
   ]
  },
  {
   "cell_type": "code",
   "execution_count": 20,
   "id": "19d8603f-9bb2-45eb-81f0-54ebe85feb0e",
   "metadata": {},
   "outputs": [
    {
     "data": {
      "text/html": [
       "<table>\n",
       "<thead>\n",
       "<tr><th>Type                                                             </th><th>Accuracy / Epoch  </th><th>Accuracy / Epoch  </th><th>Accuracy / Epoch  </th></tr>\n",
       "</thead>\n",
       "<tbody>\n",
       "<tr><td>SubSeq from last epoch, transfer                                 </td><td>0.590/90          </td><td>Same              </td><td>Same              </td></tr>\n",
       "<tr><td>SubSeq best accuracy, transfer                                   </td><td>0.529/150         </td><td>Same              </td><td>Same              </td></tr>\n",
       "<tr><td>SubSeq last, + mse_loss, + patch-patch loss, transfer            </td><td>~0.4/~50          </td><td>Same              </td><td>Same              </td></tr>\n",
       "<tr><td>SubSeq last cat patches, + mse_loss, + patch-patch loss, transfer</td><td>0.490/22          </td><td>Same              </td><td>Same              </td></tr>\n",
       "</tbody>\n",
       "</table>"
      ],
      "text/plain": [
       "<IPython.core.display.HTML object>"
      ]
     },
     "metadata": {},
     "output_type": "display_data"
    }
   ],
   "source": [
    "display(HTML(tabulate(tabledata_trans[:-2], headers=[\"Type\", \"Accuracy / Epoch\", \"Accuracy / Epoch\", \"Accuracy / Epoch\"], tablefmt='html')))"
   ]
  },
  {
   "cell_type": "code",
   "execution_count": 21,
   "id": "f16eb4ff-caea-418e-85dd-5f97abcb651e",
   "metadata": {},
   "outputs": [
    {
     "data": {
      "text/html": [
       "<table>\n",
       "<thead>\n",
       "<tr><th>Type                                              </th><th>Accuracy / Epoch  </th><th>Accuracy / Epoch  </th><th>Accuracy / Epoch  </th></tr>\n",
       "</thead>\n",
       "<tbody>\n",
       "<tr><td>SubSeq last cat patches, cosine MI, transfer      </td><td>0.484/25          </td><td>Same              </td><td>Same              </td></tr>\n",
       "<tr><td>SubSeq last cat patches, cosine MI + bce, transfer</td><td>0.343/24          </td><td>Same              </td><td>Same              </td></tr>\n",
       "</tbody>\n",
       "</table>"
      ],
      "text/plain": [
       "<IPython.core.display.HTML object>"
      ]
     },
     "metadata": {},
     "output_type": "display_data"
    }
   ],
   "source": [
    "display(HTML(tabulate(tabledata_trans[-2:], headers=[\"Type\", \"Accuracy / Epoch\", \"Accuracy / Epoch\", \"Accuracy / Epoch\"], tablefmt='html')))"
   ]
  },
  {
   "cell_type": "code",
   "execution_count": 109,
   "id": "55aefb91-f1da-488a-bd83-9d000ea636a2",
   "metadata": {},
   "outputs": [],
   "source": [
    "import pandas as pd"
   ]
  },
  {
   "cell_type": "code",
   "execution_count": 112,
   "id": "3811a41c-dbb0-4804-9bd3-0708e7a9cd73",
   "metadata": {},
   "outputs": [
    {
     "data": {
      "text/html": [
       "<div>\n",
       "<style scoped>\n",
       "    .dataframe tbody tr th:only-of-type {\n",
       "        vertical-align: middle;\n",
       "    }\n",
       "\n",
       "    .dataframe tbody tr th {\n",
       "        vertical-align: top;\n",
       "    }\n",
       "\n",
       "    .dataframe thead th {\n",
       "        text-align: right;\n",
       "    }\n",
       "</style>\n",
       "<table border=\"1\" class=\"dataframe\">\n",
       "  <thead>\n",
       "    <tr style=\"text-align: right;\">\n",
       "      <th></th>\n",
       "      <th>d</th>\n",
       "      <th>g</th>\n",
       "    </tr>\n",
       "  </thead>\n",
       "  <tbody>\n",
       "  </tbody>\n",
       "</table>\n",
       "</div>"
      ],
      "text/plain": [
       "Empty DataFrame\n",
       "Columns: [d, g]\n",
       "Index: []"
      ]
     },
     "execution_count": 112,
     "metadata": {},
     "output_type": "execute_result"
    }
   ],
   "source": [
    "pd.DataFrame({'d':[], 'g':[]})"
   ]
  },
  {
   "cell_type": "code",
   "execution_count": null,
   "id": "f8a72a09",
   "metadata": {
    "tags": []
   },
   "outputs": [
    {
     "name": "stderr",
     "output_type": "stream",
     "text": [
      "  0%|          | 1/1000 [00:19<5:17:27, 19.07s/it]"
     ]
    },
    {
     "name": "stdout",
     "output_type": "stream",
     "text": [
      "Epoch: 1/1000. Loss (Train/Test): 2.017/2.012. Accuracy (Train/Test): 0.257/0.260\n"
     ]
    },
    {
     "name": "stderr",
     "output_type": "stream",
     "text": [
      "  0%|          | 2/1000 [00:38<5:16:35, 19.03s/it]"
     ]
    },
    {
     "name": "stdout",
     "output_type": "stream",
     "text": [
      "Epoch: 2/1000. Loss (Train/Test): 1.724/1.720. Accuracy (Train/Test): 0.365/0.367\n"
     ]
    },
    {
     "name": "stderr",
     "output_type": "stream",
     "text": [
      "  0%|          | 3/1000 [00:57<5:16:27, 19.04s/it]"
     ]
    },
    {
     "name": "stdout",
     "output_type": "stream",
     "text": [
      "Epoch: 3/1000. Loss (Train/Test): 1.537/1.541. Accuracy (Train/Test): 0.438/0.440\n"
     ]
    },
    {
     "name": "stderr",
     "output_type": "stream",
     "text": [
      "  0%|          | 4/1000 [01:16<5:16:15, 19.05s/it]"
     ]
    },
    {
     "name": "stdout",
     "output_type": "stream",
     "text": [
      "Epoch: 4/1000. Loss (Train/Test): 1.432/1.456. Accuracy (Train/Test): 0.476/0.467\n"
     ]
    },
    {
     "name": "stderr",
     "output_type": "stream",
     "text": [
      "  0%|          | 5/1000 [01:35<5:15:10, 19.01s/it]"
     ]
    },
    {
     "name": "stdout",
     "output_type": "stream",
     "text": [
      "Epoch: 5/1000. Loss (Train/Test): 1.360/1.396. Accuracy (Train/Test): 0.506/0.486\n"
     ]
    },
    {
     "name": "stderr",
     "output_type": "stream",
     "text": [
      "  1%|          | 6/1000 [01:54<5:18:08, 19.20s/it]"
     ]
    },
    {
     "name": "stdout",
     "output_type": "stream",
     "text": [
      "Epoch: 6/1000. Loss (Train/Test): 1.300/1.359. Accuracy (Train/Test): 0.531/0.505\n"
     ]
    },
    {
     "name": "stderr",
     "output_type": "stream",
     "text": [
      "  1%|          | 7/1000 [02:14<5:18:39, 19.25s/it]"
     ]
    },
    {
     "name": "stdout",
     "output_type": "stream",
     "text": [
      "Epoch: 7/1000. Loss (Train/Test): 1.341/1.413. Accuracy (Train/Test): 0.521/0.497\n"
     ]
    },
    {
     "name": "stderr",
     "output_type": "stream",
     "text": [
      "  1%|          | 8/1000 [02:33<5:17:07, 19.18s/it]"
     ]
    },
    {
     "name": "stdout",
     "output_type": "stream",
     "text": [
      "Epoch: 8/1000. Loss (Train/Test): 1.220/1.319. Accuracy (Train/Test): 0.562/0.517\n"
     ]
    },
    {
     "name": "stderr",
     "output_type": "stream",
     "text": [
      "  1%|          | 9/1000 [02:52<5:16:55, 19.19s/it]"
     ]
    },
    {
     "name": "stdout",
     "output_type": "stream",
     "text": [
      "Epoch: 9/1000. Loss (Train/Test): 1.168/1.290. Accuracy (Train/Test): 0.579/0.531\n"
     ]
    },
    {
     "name": "stderr",
     "output_type": "stream",
     "text": [
      "  1%|          | 10/1000 [03:11<5:15:13, 19.10s/it]"
     ]
    },
    {
     "name": "stdout",
     "output_type": "stream",
     "text": [
      "Epoch: 10/1000. Loss (Train/Test): 1.132/1.276. Accuracy (Train/Test): 0.592/0.532\n"
     ]
    },
    {
     "name": "stderr",
     "output_type": "stream",
     "text": [
      "  1%|          | 11/1000 [03:30<5:15:29, 19.14s/it]"
     ]
    },
    {
     "name": "stdout",
     "output_type": "stream",
     "text": [
      "Epoch: 11/1000. Loss (Train/Test): 1.104/1.272. Accuracy (Train/Test): 0.606/0.545\n"
     ]
    },
    {
     "name": "stderr",
     "output_type": "stream",
     "text": [
      "  1%|          | 12/1000 [03:49<5:14:57, 19.13s/it]"
     ]
    },
    {
     "name": "stdout",
     "output_type": "stream",
     "text": [
      "Epoch: 12/1000. Loss (Train/Test): 1.069/1.274. Accuracy (Train/Test): 0.621/0.546\n"
     ]
    },
    {
     "name": "stderr",
     "output_type": "stream",
     "text": [
      "  1%|▏         | 13/1000 [04:08<5:13:29, 19.06s/it]"
     ]
    },
    {
     "name": "stdout",
     "output_type": "stream",
     "text": [
      "Epoch: 13/1000. Loss (Train/Test): 1.011/1.235. Accuracy (Train/Test): 0.640/0.555\n"
     ]
    },
    {
     "name": "stderr",
     "output_type": "stream",
     "text": [
      "  1%|▏         | 14/1000 [04:27<5:13:46, 19.09s/it]"
     ]
    },
    {
     "name": "stdout",
     "output_type": "stream",
     "text": [
      "Epoch: 14/1000. Loss (Train/Test): 1.022/1.280. Accuracy (Train/Test): 0.635/0.545\n"
     ]
    },
    {
     "name": "stderr",
     "output_type": "stream",
     "text": [
      "  2%|▏         | 15/1000 [04:46<5:11:33, 18.98s/it]"
     ]
    },
    {
     "name": "stdout",
     "output_type": "stream",
     "text": [
      "Epoch: 15/1000. Loss (Train/Test): 0.956/1.251. Accuracy (Train/Test): 0.660/0.557\n"
     ]
    },
    {
     "name": "stderr",
     "output_type": "stream",
     "text": [
      "  2%|▏         | 16/1000 [05:05<5:12:19, 19.04s/it]"
     ]
    },
    {
     "name": "stdout",
     "output_type": "stream",
     "text": [
      "Epoch: 16/1000. Loss (Train/Test): 0.918/1.244. Accuracy (Train/Test): 0.674/0.563\n"
     ]
    },
    {
     "name": "stderr",
     "output_type": "stream",
     "text": [
      "  2%|▏         | 17/1000 [05:24<5:10:23, 18.95s/it]"
     ]
    },
    {
     "name": "stdout",
     "output_type": "stream",
     "text": [
      "Epoch: 17/1000. Loss (Train/Test): 0.874/1.235. Accuracy (Train/Test): 0.693/0.566\n"
     ]
    },
    {
     "name": "stderr",
     "output_type": "stream",
     "text": [
      "  2%|▏         | 18/1000 [05:43<5:10:29, 18.97s/it]"
     ]
    },
    {
     "name": "stdout",
     "output_type": "stream",
     "text": [
      "Epoch: 18/1000. Loss (Train/Test): 0.845/1.243. Accuracy (Train/Test): 0.702/0.566\n"
     ]
    },
    {
     "name": "stderr",
     "output_type": "stream",
     "text": [
      "  2%|▏         | 19/1000 [06:02<5:10:44, 19.01s/it]"
     ]
    },
    {
     "name": "stdout",
     "output_type": "stream",
     "text": [
      "Epoch: 19/1000. Loss (Train/Test): 0.803/1.247. Accuracy (Train/Test): 0.720/0.571\n"
     ]
    },
    {
     "name": "stderr",
     "output_type": "stream",
     "text": [
      "  2%|▏         | 20/1000 [06:21<5:10:28, 19.01s/it]"
     ]
    },
    {
     "name": "stdout",
     "output_type": "stream",
     "text": [
      "Epoch: 20/1000. Loss (Train/Test): 0.825/1.312. Accuracy (Train/Test): 0.709/0.550\n"
     ]
    },
    {
     "name": "stderr",
     "output_type": "stream",
     "text": [
      "  2%|▏         | 21/1000 [06:40<5:09:12, 18.95s/it]"
     ]
    },
    {
     "name": "stdout",
     "output_type": "stream",
     "text": [
      "Epoch: 21/1000. Loss (Train/Test): 0.796/1.328. Accuracy (Train/Test): 0.718/0.559\n"
     ]
    },
    {
     "name": "stderr",
     "output_type": "stream",
     "text": [
      "  2%|▏         | 22/1000 [06:59<5:09:24, 18.98s/it]"
     ]
    },
    {
     "name": "stdout",
     "output_type": "stream",
     "text": [
      "Epoch: 22/1000. Loss (Train/Test): 0.691/1.266. Accuracy (Train/Test): 0.765/0.577\n"
     ]
    },
    {
     "name": "stderr",
     "output_type": "stream",
     "text": [
      "  2%|▏         | 23/1000 [07:18<5:08:46, 18.96s/it]"
     ]
    },
    {
     "name": "stdout",
     "output_type": "stream",
     "text": [
      "Epoch: 23/1000. Loss (Train/Test): 0.665/1.292. Accuracy (Train/Test): 0.773/0.572\n"
     ]
    },
    {
     "name": "stderr",
     "output_type": "stream",
     "text": [
      "  2%|▏         | 24/1000 [07:37<5:08:45, 18.98s/it]"
     ]
    },
    {
     "name": "stdout",
     "output_type": "stream",
     "text": [
      "Epoch: 24/1000. Loss (Train/Test): 0.670/1.336. Accuracy (Train/Test): 0.767/0.568\n"
     ]
    },
    {
     "name": "stderr",
     "output_type": "stream",
     "text": [
      "  2%|▎         | 25/1000 [07:56<5:08:25, 18.98s/it]"
     ]
    },
    {
     "name": "stdout",
     "output_type": "stream",
     "text": [
      "Epoch: 25/1000. Loss (Train/Test): 0.595/1.325. Accuracy (Train/Test): 0.799/0.572\n"
     ]
    },
    {
     "name": "stderr",
     "output_type": "stream",
     "text": [
      "  3%|▎         | 26/1000 [08:15<5:08:12, 18.99s/it]"
     ]
    },
    {
     "name": "stdout",
     "output_type": "stream",
     "text": [
      "Epoch: 26/1000. Loss (Train/Test): 0.569/1.372. Accuracy (Train/Test): 0.808/0.565\n"
     ]
    },
    {
     "name": "stderr",
     "output_type": "stream",
     "text": [
      "  3%|▎         | 27/1000 [08:34<5:10:51, 19.17s/it]"
     ]
    },
    {
     "name": "stdout",
     "output_type": "stream",
     "text": [
      "Epoch: 27/1000. Loss (Train/Test): 0.530/1.400. Accuracy (Train/Test): 0.822/0.571\n"
     ]
    },
    {
     "name": "stderr",
     "output_type": "stream",
     "text": [
      "  3%|▎         | 28/1000 [08:54<5:11:03, 19.20s/it]"
     ]
    },
    {
     "name": "stdout",
     "output_type": "stream",
     "text": [
      "Epoch: 28/1000. Loss (Train/Test): 0.506/1.423. Accuracy (Train/Test): 0.832/0.568\n"
     ]
    },
    {
     "name": "stderr",
     "output_type": "stream",
     "text": [
      "  3%|▎         | 29/1000 [09:13<5:10:30, 19.19s/it]"
     ]
    },
    {
     "name": "stdout",
     "output_type": "stream",
     "text": [
      "Epoch: 29/1000. Loss (Train/Test): 0.456/1.439. Accuracy (Train/Test): 0.852/0.569\n"
     ]
    },
    {
     "name": "stderr",
     "output_type": "stream",
     "text": [
      "  3%|▎         | 30/1000 [09:31<5:08:15, 19.07s/it]"
     ]
    },
    {
     "name": "stdout",
     "output_type": "stream",
     "text": [
      "Epoch: 30/1000. Loss (Train/Test): 0.431/1.495. Accuracy (Train/Test): 0.861/0.570\n"
     ]
    },
    {
     "name": "stderr",
     "output_type": "stream",
     "text": [
      "  3%|▎         | 31/1000 [09:51<5:07:47, 19.06s/it]"
     ]
    },
    {
     "name": "stdout",
     "output_type": "stream",
     "text": [
      "Epoch: 31/1000. Loss (Train/Test): 0.427/1.566. Accuracy (Train/Test): 0.860/0.563\n"
     ]
    },
    {
     "name": "stderr",
     "output_type": "stream",
     "text": [
      "  3%|▎         | 32/1000 [10:10<5:07:38, 19.07s/it]"
     ]
    },
    {
     "name": "stdout",
     "output_type": "stream",
     "text": [
      "Epoch: 32/1000. Loss (Train/Test): 0.385/1.589. Accuracy (Train/Test): 0.876/0.564\n"
     ]
    },
    {
     "name": "stderr",
     "output_type": "stream",
     "text": [
      "  3%|▎         | 33/1000 [10:29<5:10:30, 19.27s/it]"
     ]
    },
    {
     "name": "stdout",
     "output_type": "stream",
     "text": [
      "Epoch: 33/1000. Loss (Train/Test): 0.324/1.625. Accuracy (Train/Test): 0.902/0.570\n"
     ]
    },
    {
     "name": "stderr",
     "output_type": "stream",
     "text": [
      "  3%|▎         | 34/1000 [10:48<5:09:11, 19.20s/it]"
     ]
    },
    {
     "name": "stdout",
     "output_type": "stream",
     "text": [
      "Epoch: 34/1000. Loss (Train/Test): 0.301/1.676. Accuracy (Train/Test): 0.913/0.562\n"
     ]
    },
    {
     "name": "stderr",
     "output_type": "stream",
     "text": [
      "  4%|▎         | 35/1000 [11:08<5:08:33, 19.18s/it]"
     ]
    },
    {
     "name": "stdout",
     "output_type": "stream",
     "text": [
      "Epoch: 35/1000. Loss (Train/Test): 0.293/1.774. Accuracy (Train/Test): 0.910/0.556\n"
     ]
    },
    {
     "name": "stderr",
     "output_type": "stream",
     "text": [
      "  4%|▎         | 36/1000 [11:27<5:08:16, 19.19s/it]"
     ]
    },
    {
     "name": "stdout",
     "output_type": "stream",
     "text": [
      "Epoch: 36/1000. Loss (Train/Test): 0.266/1.831. Accuracy (Train/Test): 0.920/0.559\n"
     ]
    },
    {
     "name": "stderr",
     "output_type": "stream",
     "text": [
      "  4%|▎         | 37/1000 [11:46<5:06:19, 19.09s/it]"
     ]
    },
    {
     "name": "stdout",
     "output_type": "stream",
     "text": [
      "Epoch: 37/1000. Loss (Train/Test): 0.271/1.919. Accuracy (Train/Test): 0.913/0.557\n"
     ]
    },
    {
     "name": "stderr",
     "output_type": "stream",
     "text": [
      "  4%|▍         | 38/1000 [12:05<5:06:44, 19.13s/it]"
     ]
    },
    {
     "name": "stdout",
     "output_type": "stream",
     "text": [
      "Epoch: 38/1000. Loss (Train/Test): 0.198/1.919. Accuracy (Train/Test): 0.949/0.559\n"
     ]
    },
    {
     "name": "stderr",
     "output_type": "stream",
     "text": [
      "  4%|▍         | 39/1000 [12:24<5:05:57, 19.10s/it]"
     ]
    },
    {
     "name": "stdout",
     "output_type": "stream",
     "text": [
      "Epoch: 39/1000. Loss (Train/Test): 0.190/2.005. Accuracy (Train/Test): 0.950/0.559\n"
     ]
    },
    {
     "name": "stderr",
     "output_type": "stream",
     "text": [
      "  4%|▍         | 40/1000 [12:43<5:06:10, 19.14s/it]"
     ]
    },
    {
     "name": "stdout",
     "output_type": "stream",
     "text": [
      "Epoch: 40/1000. Loss (Train/Test): 0.150/2.051. Accuracy (Train/Test): 0.966/0.563\n"
     ]
    },
    {
     "name": "stderr",
     "output_type": "stream",
     "text": [
      "  4%|▍         | 41/1000 [13:02<5:05:15, 19.10s/it]"
     ]
    },
    {
     "name": "stdout",
     "output_type": "stream",
     "text": [
      "Epoch: 41/1000. Loss (Train/Test): 0.142/2.164. Accuracy (Train/Test): 0.964/0.557\n"
     ]
    },
    {
     "name": "stderr",
     "output_type": "stream",
     "text": [
      "  4%|▍         | 42/1000 [13:21<5:04:22, 19.06s/it]"
     ]
    },
    {
     "name": "stdout",
     "output_type": "stream",
     "text": [
      "Epoch: 42/1000. Loss (Train/Test): 0.123/2.204. Accuracy (Train/Test): 0.974/0.557\n"
     ]
    },
    {
     "name": "stderr",
     "output_type": "stream",
     "text": [
      "  4%|▍         | 43/1000 [13:40<5:03:47, 19.05s/it]"
     ]
    },
    {
     "name": "stdout",
     "output_type": "stream",
     "text": [
      "Epoch: 43/1000. Loss (Train/Test): 0.111/2.339. Accuracy (Train/Test): 0.974/0.556\n"
     ]
    },
    {
     "name": "stderr",
     "output_type": "stream",
     "text": [
      "  4%|▍         | 44/1000 [13:59<5:03:25, 19.04s/it]"
     ]
    },
    {
     "name": "stdout",
     "output_type": "stream",
     "text": [
      "Epoch: 44/1000. Loss (Train/Test): 0.087/2.425. Accuracy (Train/Test): 0.983/0.558\n"
     ]
    },
    {
     "name": "stderr",
     "output_type": "stream",
     "text": [
      "  4%|▍         | 45/1000 [14:18<5:03:18, 19.06s/it]"
     ]
    },
    {
     "name": "stdout",
     "output_type": "stream",
     "text": [
      "Epoch: 45/1000. Loss (Train/Test): 0.071/2.498. Accuracy (Train/Test): 0.990/0.558\n"
     ]
    },
    {
     "name": "stderr",
     "output_type": "stream",
     "text": [
      "  5%|▍         | 46/1000 [14:37<5:01:32, 18.96s/it]"
     ]
    },
    {
     "name": "stdout",
     "output_type": "stream",
     "text": [
      "Epoch: 46/1000. Loss (Train/Test): 0.064/2.590. Accuracy (Train/Test): 0.989/0.559\n"
     ]
    },
    {
     "name": "stderr",
     "output_type": "stream",
     "text": [
      "  5%|▍         | 47/1000 [14:56<5:01:06, 18.96s/it]"
     ]
    },
    {
     "name": "stdout",
     "output_type": "stream",
     "text": [
      "Epoch: 47/1000. Loss (Train/Test): 0.050/2.656. Accuracy (Train/Test): 0.994/0.560\n"
     ]
    },
    {
     "name": "stderr",
     "output_type": "stream",
     "text": [
      "  5%|▍         | 48/1000 [15:15<5:00:04, 18.91s/it]"
     ]
    },
    {
     "name": "stdout",
     "output_type": "stream",
     "text": [
      "Epoch: 48/1000. Loss (Train/Test): 0.038/2.770. Accuracy (Train/Test): 0.998/0.555\n"
     ]
    },
    {
     "name": "stderr",
     "output_type": "stream",
     "text": [
      "  5%|▍         | 49/1000 [15:34<5:00:50, 18.98s/it]"
     ]
    },
    {
     "name": "stdout",
     "output_type": "stream",
     "text": [
      "Epoch: 49/1000. Loss (Train/Test): 0.036/2.843. Accuracy (Train/Test): 0.997/0.559\n"
     ]
    },
    {
     "name": "stderr",
     "output_type": "stream",
     "text": [
      "  5%|▌         | 50/1000 [15:53<5:01:03, 19.01s/it]"
     ]
    },
    {
     "name": "stdout",
     "output_type": "stream",
     "text": [
      "Epoch: 50/1000. Loss (Train/Test): 0.027/2.915. Accuracy (Train/Test): 0.999/0.560\n"
     ]
    },
    {
     "name": "stderr",
     "output_type": "stream",
     "text": [
      "  5%|▌         | 51/1000 [16:12<5:01:41, 19.07s/it]"
     ]
    },
    {
     "name": "stdout",
     "output_type": "stream",
     "text": [
      "Epoch: 51/1000. Loss (Train/Test): 0.023/2.980. Accuracy (Train/Test): 1.000/0.558\n"
     ]
    },
    {
     "name": "stderr",
     "output_type": "stream",
     "text": [
      "  5%|▌         | 52/1000 [16:32<5:03:10, 19.19s/it]"
     ]
    },
    {
     "name": "stdout",
     "output_type": "stream",
     "text": [
      "Epoch: 52/1000. Loss (Train/Test): 0.018/3.058. Accuracy (Train/Test): 1.000/0.556\n"
     ]
    },
    {
     "name": "stderr",
     "output_type": "stream",
     "text": [
      "  5%|▌         | 53/1000 [16:51<5:03:14, 19.21s/it]"
     ]
    },
    {
     "name": "stdout",
     "output_type": "stream",
     "text": [
      "Epoch: 53/1000. Loss (Train/Test): 0.014/3.111. Accuracy (Train/Test): 1.000/0.561\n"
     ]
    },
    {
     "name": "stderr",
     "output_type": "stream",
     "text": [
      "  5%|▌         | 54/1000 [17:10<5:03:59, 19.28s/it]"
     ]
    },
    {
     "name": "stdout",
     "output_type": "stream",
     "text": [
      "Epoch: 54/1000. Loss (Train/Test): 0.012/3.168. Accuracy (Train/Test): 1.000/0.559\n"
     ]
    },
    {
     "name": "stderr",
     "output_type": "stream",
     "text": [
      "  6%|▌         | 55/1000 [17:30<5:04:52, 19.36s/it]"
     ]
    },
    {
     "name": "stdout",
     "output_type": "stream",
     "text": [
      "Epoch: 55/1000. Loss (Train/Test): 0.011/3.230. Accuracy (Train/Test): 1.000/0.558\n"
     ]
    },
    {
     "name": "stderr",
     "output_type": "stream",
     "text": [
      "  6%|▌         | 56/1000 [17:49<5:03:24, 19.28s/it]"
     ]
    },
    {
     "name": "stdout",
     "output_type": "stream",
     "text": [
      "Epoch: 56/1000. Loss (Train/Test): 0.009/3.281. Accuracy (Train/Test): 1.000/0.561\n"
     ]
    },
    {
     "name": "stderr",
     "output_type": "stream",
     "text": [
      "  6%|▌         | 57/1000 [18:09<5:04:34, 19.38s/it]"
     ]
    },
    {
     "name": "stdout",
     "output_type": "stream",
     "text": [
      "Epoch: 57/1000. Loss (Train/Test): 0.008/3.329. Accuracy (Train/Test): 1.000/0.559\n"
     ]
    },
    {
     "name": "stderr",
     "output_type": "stream",
     "text": [
      "  6%|▌         | 58/1000 [18:28<5:03:51, 19.35s/it]"
     ]
    },
    {
     "name": "stdout",
     "output_type": "stream",
     "text": [
      "Epoch: 58/1000. Loss (Train/Test): 0.008/3.371. Accuracy (Train/Test): 1.000/0.562\n"
     ]
    },
    {
     "name": "stderr",
     "output_type": "stream",
     "text": [
      "  6%|▌         | 59/1000 [18:47<5:02:55, 19.31s/it]"
     ]
    },
    {
     "name": "stdout",
     "output_type": "stream",
     "text": [
      "Epoch: 59/1000. Loss (Train/Test): 0.007/3.416. Accuracy (Train/Test): 1.000/0.561\n"
     ]
    },
    {
     "name": "stderr",
     "output_type": "stream",
     "text": [
      "  6%|▌         | 60/1000 [19:06<5:01:47, 19.26s/it]"
     ]
    },
    {
     "name": "stdout",
     "output_type": "stream",
     "text": [
      "Epoch: 60/1000. Loss (Train/Test): 0.006/3.455. Accuracy (Train/Test): 1.000/0.561\n"
     ]
    },
    {
     "name": "stderr",
     "output_type": "stream",
     "text": [
      "  6%|▌         | 61/1000 [19:25<5:01:23, 19.26s/it]"
     ]
    },
    {
     "name": "stdout",
     "output_type": "stream",
     "text": [
      "Epoch: 61/1000. Loss (Train/Test): 0.006/3.500. Accuracy (Train/Test): 1.000/0.561\n"
     ]
    },
    {
     "name": "stderr",
     "output_type": "stream",
     "text": [
      "  6%|▌         | 62/1000 [19:44<4:59:49, 19.18s/it]"
     ]
    },
    {
     "name": "stdout",
     "output_type": "stream",
     "text": [
      "Epoch: 62/1000. Loss (Train/Test): 0.005/3.533. Accuracy (Train/Test): 1.000/0.562\n"
     ]
    },
    {
     "name": "stderr",
     "output_type": "stream",
     "text": [
      "  6%|▋         | 63/1000 [20:04<4:59:23, 19.17s/it]"
     ]
    },
    {
     "name": "stdout",
     "output_type": "stream",
     "text": [
      "Epoch: 63/1000. Loss (Train/Test): 0.005/3.573. Accuracy (Train/Test): 1.000/0.561\n"
     ]
    },
    {
     "name": "stderr",
     "output_type": "stream",
     "text": [
      "  6%|▋         | 64/1000 [20:23<4:58:29, 19.13s/it]"
     ]
    },
    {
     "name": "stdout",
     "output_type": "stream",
     "text": [
      "Epoch: 64/1000. Loss (Train/Test): 0.005/3.609. Accuracy (Train/Test): 1.000/0.560\n"
     ]
    },
    {
     "name": "stderr",
     "output_type": "stream",
     "text": [
      "  6%|▋         | 65/1000 [20:42<4:56:57, 19.06s/it]"
     ]
    },
    {
     "name": "stdout",
     "output_type": "stream",
     "text": [
      "Epoch: 65/1000. Loss (Train/Test): 0.004/3.640. Accuracy (Train/Test): 1.000/0.560\n"
     ]
    },
    {
     "name": "stderr",
     "output_type": "stream",
     "text": [
      "  7%|▋         | 66/1000 [21:01<4:58:22, 19.17s/it]"
     ]
    },
    {
     "name": "stdout",
     "output_type": "stream",
     "text": [
      "Epoch: 66/1000. Loss (Train/Test): 0.004/3.677. Accuracy (Train/Test): 1.000/0.560\n"
     ]
    },
    {
     "name": "stderr",
     "output_type": "stream",
     "text": [
      "  7%|▋         | 67/1000 [21:20<4:59:34, 19.27s/it]"
     ]
    },
    {
     "name": "stdout",
     "output_type": "stream",
     "text": [
      "Epoch: 67/1000. Loss (Train/Test): 0.004/3.713. Accuracy (Train/Test): 1.000/0.561\n"
     ]
    },
    {
     "name": "stderr",
     "output_type": "stream",
     "text": [
      "  7%|▋         | 68/1000 [21:40<5:02:20, 19.46s/it]"
     ]
    },
    {
     "name": "stdout",
     "output_type": "stream",
     "text": [
      "Epoch: 68/1000. Loss (Train/Test): 0.004/3.734. Accuracy (Train/Test): 1.000/0.561\n"
     ]
    },
    {
     "name": "stderr",
     "output_type": "stream",
     "text": [
      "  7%|▋         | 69/1000 [22:00<5:04:00, 19.59s/it]"
     ]
    },
    {
     "name": "stdout",
     "output_type": "stream",
     "text": [
      "Epoch: 69/1000. Loss (Train/Test): 0.003/3.772. Accuracy (Train/Test): 1.000/0.560\n"
     ]
    },
    {
     "name": "stderr",
     "output_type": "stream",
     "text": [
      "  7%|▋         | 70/1000 [22:20<5:02:17, 19.50s/it]"
     ]
    },
    {
     "name": "stdout",
     "output_type": "stream",
     "text": [
      "Epoch: 70/1000. Loss (Train/Test): 0.003/3.800. Accuracy (Train/Test): 1.000/0.561\n"
     ]
    },
    {
     "name": "stderr",
     "output_type": "stream",
     "text": [
      "  7%|▋         | 71/1000 [22:39<5:01:34, 19.48s/it]"
     ]
    },
    {
     "name": "stdout",
     "output_type": "stream",
     "text": [
      "Epoch: 71/1000. Loss (Train/Test): 0.003/3.829. Accuracy (Train/Test): 1.000/0.562\n"
     ]
    },
    {
     "name": "stderr",
     "output_type": "stream",
     "text": [
      "  7%|▋         | 72/1000 [22:58<4:57:17, 19.22s/it]"
     ]
    },
    {
     "name": "stdout",
     "output_type": "stream",
     "text": [
      "Epoch: 72/1000. Loss (Train/Test): 0.003/3.858. Accuracy (Train/Test): 1.000/0.559\n"
     ]
    },
    {
     "name": "stderr",
     "output_type": "stream",
     "text": [
      "  7%|▋         | 73/1000 [23:17<4:55:45, 19.14s/it]"
     ]
    },
    {
     "name": "stdout",
     "output_type": "stream",
     "text": [
      "Epoch: 73/1000. Loss (Train/Test): 0.003/3.888. Accuracy (Train/Test): 1.000/0.562\n"
     ]
    },
    {
     "name": "stderr",
     "output_type": "stream",
     "text": [
      "  7%|▋         | 74/1000 [23:35<4:54:26, 19.08s/it]"
     ]
    },
    {
     "name": "stdout",
     "output_type": "stream",
     "text": [
      "Epoch: 74/1000. Loss (Train/Test): 0.003/3.912. Accuracy (Train/Test): 1.000/0.560\n"
     ]
    },
    {
     "name": "stderr",
     "output_type": "stream",
     "text": [
      "  8%|▊         | 75/1000 [23:55<4:54:18, 19.09s/it]"
     ]
    },
    {
     "name": "stdout",
     "output_type": "stream",
     "text": [
      "Epoch: 75/1000. Loss (Train/Test): 0.002/3.937. Accuracy (Train/Test): 1.000/0.560\n"
     ]
    },
    {
     "name": "stderr",
     "output_type": "stream",
     "text": [
      "  8%|▊         | 76/1000 [24:14<4:53:34, 19.06s/it]"
     ]
    },
    {
     "name": "stdout",
     "output_type": "stream",
     "text": [
      "Epoch: 76/1000. Loss (Train/Test): 0.002/3.963. Accuracy (Train/Test): 1.000/0.561\n"
     ]
    },
    {
     "name": "stderr",
     "output_type": "stream",
     "text": [
      "  8%|▊         | 77/1000 [24:33<4:52:39, 19.02s/it]"
     ]
    },
    {
     "name": "stdout",
     "output_type": "stream",
     "text": [
      "Epoch: 77/1000. Loss (Train/Test): 0.002/3.992. Accuracy (Train/Test): 1.000/0.561\n"
     ]
    },
    {
     "name": "stderr",
     "output_type": "stream",
     "text": [
      "  8%|▊         | 78/1000 [24:51<4:51:07, 18.95s/it]"
     ]
    },
    {
     "name": "stdout",
     "output_type": "stream",
     "text": [
      "Epoch: 78/1000. Loss (Train/Test): 0.002/4.015. Accuracy (Train/Test): 1.000/0.561\n"
     ]
    },
    {
     "name": "stderr",
     "output_type": "stream",
     "text": [
      "  8%|▊         | 79/1000 [25:10<4:51:43, 19.01s/it]"
     ]
    },
    {
     "name": "stdout",
     "output_type": "stream",
     "text": [
      "Epoch: 79/1000. Loss (Train/Test): 0.002/4.042. Accuracy (Train/Test): 1.000/0.560\n"
     ]
    },
    {
     "name": "stderr",
     "output_type": "stream",
     "text": [
      "  8%|▊         | 80/1000 [25:29<4:50:55, 18.97s/it]"
     ]
    },
    {
     "name": "stdout",
     "output_type": "stream",
     "text": [
      "Epoch: 80/1000. Loss (Train/Test): 0.002/4.066. Accuracy (Train/Test): 1.000/0.560\n"
     ]
    },
    {
     "name": "stderr",
     "output_type": "stream",
     "text": [
      "  8%|▊         | 81/1000 [25:49<4:52:21, 19.09s/it]"
     ]
    },
    {
     "name": "stdout",
     "output_type": "stream",
     "text": [
      "Epoch: 81/1000. Loss (Train/Test): 0.002/4.089. Accuracy (Train/Test): 1.000/0.561\n"
     ]
    },
    {
     "name": "stderr",
     "output_type": "stream",
     "text": [
      "  8%|▊         | 82/1000 [26:08<4:52:46, 19.14s/it]"
     ]
    },
    {
     "name": "stdout",
     "output_type": "stream",
     "text": [
      "Epoch: 82/1000. Loss (Train/Test): 0.002/4.109. Accuracy (Train/Test): 1.000/0.562\n"
     ]
    },
    {
     "name": "stderr",
     "output_type": "stream",
     "text": [
      "  8%|▊         | 83/1000 [26:27<4:52:58, 19.17s/it]"
     ]
    },
    {
     "name": "stdout",
     "output_type": "stream",
     "text": [
      "Epoch: 83/1000. Loss (Train/Test): 0.002/4.135. Accuracy (Train/Test): 1.000/0.560\n"
     ]
    },
    {
     "name": "stderr",
     "output_type": "stream",
     "text": [
      "  8%|▊         | 84/1000 [26:46<4:52:03, 19.13s/it]"
     ]
    },
    {
     "name": "stdout",
     "output_type": "stream",
     "text": [
      "Epoch: 84/1000. Loss (Train/Test): 0.002/4.161. Accuracy (Train/Test): 1.000/0.559\n"
     ]
    },
    {
     "name": "stderr",
     "output_type": "stream",
     "text": [
      "  8%|▊         | 85/1000 [27:05<4:51:17, 19.10s/it]"
     ]
    },
    {
     "name": "stdout",
     "output_type": "stream",
     "text": [
      "Epoch: 85/1000. Loss (Train/Test): 0.001/4.182. Accuracy (Train/Test): 1.000/0.560\n"
     ]
    },
    {
     "name": "stderr",
     "output_type": "stream",
     "text": [
      "  9%|▊         | 86/1000 [27:24<4:50:40, 19.08s/it]"
     ]
    },
    {
     "name": "stdout",
     "output_type": "stream",
     "text": [
      "Epoch: 86/1000. Loss (Train/Test): 0.001/4.203. Accuracy (Train/Test): 1.000/0.560\n"
     ]
    },
    {
     "name": "stderr",
     "output_type": "stream",
     "text": [
      "  9%|▊         | 87/1000 [27:43<4:50:45, 19.11s/it]"
     ]
    },
    {
     "name": "stdout",
     "output_type": "stream",
     "text": [
      "Epoch: 87/1000. Loss (Train/Test): 0.001/4.227. Accuracy (Train/Test): 1.000/0.561\n"
     ]
    },
    {
     "name": "stderr",
     "output_type": "stream",
     "text": [
      "  9%|▉         | 88/1000 [28:03<4:50:47, 19.13s/it]"
     ]
    },
    {
     "name": "stdout",
     "output_type": "stream",
     "text": [
      "Epoch: 88/1000. Loss (Train/Test): 0.001/4.250. Accuracy (Train/Test): 1.000/0.560\n"
     ]
    },
    {
     "name": "stderr",
     "output_type": "stream",
     "text": [
      "  9%|▉         | 89/1000 [28:22<4:50:03, 19.10s/it]"
     ]
    },
    {
     "name": "stdout",
     "output_type": "stream",
     "text": [
      "Epoch: 89/1000. Loss (Train/Test): 0.001/4.266. Accuracy (Train/Test): 1.000/0.560\n"
     ]
    },
    {
     "name": "stderr",
     "output_type": "stream",
     "text": [
      "  9%|▉         | 90/1000 [28:41<4:48:52, 19.05s/it]"
     ]
    },
    {
     "name": "stdout",
     "output_type": "stream",
     "text": [
      "Epoch: 90/1000. Loss (Train/Test): 0.001/4.290. Accuracy (Train/Test): 1.000/0.560\n"
     ]
    },
    {
     "name": "stderr",
     "output_type": "stream",
     "text": [
      "  9%|▉         | 91/1000 [29:00<4:49:27, 19.11s/it]"
     ]
    },
    {
     "name": "stdout",
     "output_type": "stream",
     "text": [
      "Epoch: 91/1000. Loss (Train/Test): 0.001/4.307. Accuracy (Train/Test): 1.000/0.560\n"
     ]
    },
    {
     "name": "stderr",
     "output_type": "stream",
     "text": [
      "  9%|▉         | 92/1000 [29:19<4:49:00, 19.10s/it]"
     ]
    },
    {
     "name": "stdout",
     "output_type": "stream",
     "text": [
      "Epoch: 92/1000. Loss (Train/Test): 0.001/4.331. Accuracy (Train/Test): 1.000/0.561\n"
     ]
    },
    {
     "name": "stderr",
     "output_type": "stream",
     "text": [
      "  9%|▉         | 93/1000 [29:38<4:48:12, 19.07s/it]"
     ]
    },
    {
     "name": "stdout",
     "output_type": "stream",
     "text": [
      "Epoch: 93/1000. Loss (Train/Test): 0.001/4.351. Accuracy (Train/Test): 1.000/0.560\n"
     ]
    },
    {
     "name": "stderr",
     "output_type": "stream",
     "text": [
      "  9%|▉         | 94/1000 [29:57<4:47:54, 19.07s/it]"
     ]
    },
    {
     "name": "stdout",
     "output_type": "stream",
     "text": [
      "Epoch: 94/1000. Loss (Train/Test): 0.001/4.368. Accuracy (Train/Test): 1.000/0.560\n"
     ]
    },
    {
     "name": "stderr",
     "output_type": "stream",
     "text": [
      " 10%|▉         | 95/1000 [30:16<4:48:22, 19.12s/it]"
     ]
    },
    {
     "name": "stdout",
     "output_type": "stream",
     "text": [
      "Epoch: 95/1000. Loss (Train/Test): 0.001/4.387. Accuracy (Train/Test): 1.000/0.561\n"
     ]
    },
    {
     "name": "stderr",
     "output_type": "stream",
     "text": [
      " 10%|▉         | 96/1000 [30:36<4:49:22, 19.21s/it]"
     ]
    },
    {
     "name": "stdout",
     "output_type": "stream",
     "text": [
      "Epoch: 96/1000. Loss (Train/Test): 0.001/4.412. Accuracy (Train/Test): 1.000/0.560\n"
     ]
    },
    {
     "name": "stderr",
     "output_type": "stream",
     "text": [
      " 10%|▉         | 97/1000 [30:55<4:48:06, 19.14s/it]"
     ]
    },
    {
     "name": "stdout",
     "output_type": "stream",
     "text": [
      "Epoch: 97/1000. Loss (Train/Test): 0.001/4.426. Accuracy (Train/Test): 1.000/0.562\n"
     ]
    },
    {
     "name": "stderr",
     "output_type": "stream",
     "text": [
      " 10%|▉         | 98/1000 [31:14<4:48:09, 19.17s/it]"
     ]
    },
    {
     "name": "stdout",
     "output_type": "stream",
     "text": [
      "Epoch: 98/1000. Loss (Train/Test): 0.001/4.449. Accuracy (Train/Test): 1.000/0.560\n"
     ]
    },
    {
     "name": "stderr",
     "output_type": "stream",
     "text": [
      " 10%|▉         | 99/1000 [31:33<4:48:54, 19.24s/it]"
     ]
    },
    {
     "name": "stdout",
     "output_type": "stream",
     "text": [
      "Epoch: 99/1000. Loss (Train/Test): 0.001/4.464. Accuracy (Train/Test): 1.000/0.561\n"
     ]
    },
    {
     "name": "stderr",
     "output_type": "stream",
     "text": [
      " 10%|█         | 100/1000 [31:53<4:50:08, 19.34s/it]"
     ]
    },
    {
     "name": "stdout",
     "output_type": "stream",
     "text": [
      "Epoch: 100/1000. Loss (Train/Test): 0.001/4.482. Accuracy (Train/Test): 1.000/0.560\n"
     ]
    },
    {
     "name": "stderr",
     "output_type": "stream",
     "text": [
      " 10%|█         | 101/1000 [32:12<4:48:44, 19.27s/it]"
     ]
    },
    {
     "name": "stdout",
     "output_type": "stream",
     "text": [
      "Epoch: 101/1000. Loss (Train/Test): 0.001/4.496. Accuracy (Train/Test): 1.000/0.561\n"
     ]
    },
    {
     "name": "stderr",
     "output_type": "stream",
     "text": [
      " 10%|█         | 102/1000 [32:31<4:47:14, 19.19s/it]"
     ]
    },
    {
     "name": "stdout",
     "output_type": "stream",
     "text": [
      "Epoch: 102/1000. Loss (Train/Test): 0.001/4.510. Accuracy (Train/Test): 1.000/0.561\n"
     ]
    },
    {
     "name": "stderr",
     "output_type": "stream",
     "text": [
      " 10%|█         | 103/1000 [32:50<4:47:37, 19.24s/it]"
     ]
    },
    {
     "name": "stdout",
     "output_type": "stream",
     "text": [
      "Epoch: 103/1000. Loss (Train/Test): 0.001/4.525. Accuracy (Train/Test): 1.000/0.561\n"
     ]
    },
    {
     "name": "stderr",
     "output_type": "stream",
     "text": [
      " 10%|█         | 104/1000 [33:10<4:47:27, 19.25s/it]"
     ]
    },
    {
     "name": "stdout",
     "output_type": "stream",
     "text": [
      "Epoch: 104/1000. Loss (Train/Test): 0.001/4.535. Accuracy (Train/Test): 1.000/0.560\n"
     ]
    },
    {
     "name": "stderr",
     "output_type": "stream",
     "text": [
      " 10%|█         | 105/1000 [33:29<4:46:41, 19.22s/it]"
     ]
    },
    {
     "name": "stdout",
     "output_type": "stream",
     "text": [
      "Epoch: 105/1000. Loss (Train/Test): 0.001/4.550. Accuracy (Train/Test): 1.000/0.560\n"
     ]
    },
    {
     "name": "stderr",
     "output_type": "stream",
     "text": [
      " 11%|█         | 106/1000 [33:48<4:46:27, 19.23s/it]"
     ]
    },
    {
     "name": "stdout",
     "output_type": "stream",
     "text": [
      "Epoch: 106/1000. Loss (Train/Test): 0.001/4.562. Accuracy (Train/Test): 1.000/0.561\n"
     ]
    },
    {
     "name": "stderr",
     "output_type": "stream",
     "text": [
      " 11%|█         | 107/1000 [34:07<4:43:34, 19.05s/it]"
     ]
    },
    {
     "name": "stdout",
     "output_type": "stream",
     "text": [
      "Epoch: 107/1000. Loss (Train/Test): 0.001/4.580. Accuracy (Train/Test): 1.000/0.561\n"
     ]
    },
    {
     "name": "stderr",
     "output_type": "stream",
     "text": [
      " 11%|█         | 108/1000 [34:25<4:42:04, 18.97s/it]"
     ]
    },
    {
     "name": "stdout",
     "output_type": "stream",
     "text": [
      "Epoch: 108/1000. Loss (Train/Test): 0.001/4.591. Accuracy (Train/Test): 1.000/0.561\n"
     ]
    },
    {
     "name": "stderr",
     "output_type": "stream",
     "text": [
      " 11%|█         | 109/1000 [34:44<4:41:00, 18.92s/it]"
     ]
    },
    {
     "name": "stdout",
     "output_type": "stream",
     "text": [
      "Epoch: 109/1000. Loss (Train/Test): 0.001/4.602. Accuracy (Train/Test): 1.000/0.561\n"
     ]
    },
    {
     "name": "stderr",
     "output_type": "stream",
     "text": [
      " 11%|█         | 110/1000 [35:03<4:42:01, 19.01s/it]"
     ]
    },
    {
     "name": "stdout",
     "output_type": "stream",
     "text": [
      "Epoch: 110/1000. Loss (Train/Test): 0.001/4.619. Accuracy (Train/Test): 1.000/0.561\n"
     ]
    },
    {
     "name": "stderr",
     "output_type": "stream",
     "text": [
      " 11%|█         | 111/1000 [35:22<4:40:54, 18.96s/it]"
     ]
    },
    {
     "name": "stdout",
     "output_type": "stream",
     "text": [
      "Epoch: 111/1000. Loss (Train/Test): 0.001/4.629. Accuracy (Train/Test): 1.000/0.561\n"
     ]
    },
    {
     "name": "stderr",
     "output_type": "stream",
     "text": [
      " 11%|█         | 112/1000 [35:41<4:40:38, 18.96s/it]"
     ]
    },
    {
     "name": "stdout",
     "output_type": "stream",
     "text": [
      "Epoch: 112/1000. Loss (Train/Test): 0.001/4.643. Accuracy (Train/Test): 1.000/0.561\n"
     ]
    },
    {
     "name": "stderr",
     "output_type": "stream",
     "text": [
      " 11%|█▏        | 113/1000 [36:00<4:40:10, 18.95s/it]"
     ]
    },
    {
     "name": "stdout",
     "output_type": "stream",
     "text": [
      "Epoch: 113/1000. Loss (Train/Test): 0.001/4.657. Accuracy (Train/Test): 1.000/0.561\n"
     ]
    },
    {
     "name": "stderr",
     "output_type": "stream",
     "text": [
      " 11%|█▏        | 114/1000 [36:19<4:38:40, 18.87s/it]"
     ]
    },
    {
     "name": "stdout",
     "output_type": "stream",
     "text": [
      "Epoch: 114/1000. Loss (Train/Test): 0.001/4.669. Accuracy (Train/Test): 1.000/0.561\n"
     ]
    },
    {
     "name": "stderr",
     "output_type": "stream",
     "text": [
      " 12%|█▏        | 115/1000 [36:38<4:41:12, 19.06s/it]"
     ]
    },
    {
     "name": "stdout",
     "output_type": "stream",
     "text": [
      "Epoch: 115/1000. Loss (Train/Test): 0.001/4.680. Accuracy (Train/Test): 1.000/0.561\n"
     ]
    },
    {
     "name": "stderr",
     "output_type": "stream",
     "text": [
      " 12%|█▏        | 116/1000 [36:57<4:40:35, 19.04s/it]"
     ]
    },
    {
     "name": "stdout",
     "output_type": "stream",
     "text": [
      "Epoch: 116/1000. Loss (Train/Test): 0.001/4.693. Accuracy (Train/Test): 1.000/0.561\n"
     ]
    },
    {
     "name": "stderr",
     "output_type": "stream",
     "text": [
      " 12%|█▏        | 117/1000 [37:16<4:38:53, 18.95s/it]"
     ]
    },
    {
     "name": "stdout",
     "output_type": "stream",
     "text": [
      "Epoch: 117/1000. Loss (Train/Test): 0.001/4.705. Accuracy (Train/Test): 1.000/0.561\n"
     ]
    },
    {
     "name": "stderr",
     "output_type": "stream",
     "text": [
      " 12%|█▏        | 118/1000 [37:35<4:37:17, 18.86s/it]"
     ]
    },
    {
     "name": "stdout",
     "output_type": "stream",
     "text": [
      "Epoch: 118/1000. Loss (Train/Test): 0.000/4.717. Accuracy (Train/Test): 1.000/0.561\n"
     ]
    },
    {
     "name": "stderr",
     "output_type": "stream",
     "text": [
      " 12%|█▏        | 119/1000 [37:54<4:37:19, 18.89s/it]"
     ]
    },
    {
     "name": "stdout",
     "output_type": "stream",
     "text": [
      "Epoch: 119/1000. Loss (Train/Test): 0.000/4.731. Accuracy (Train/Test): 1.000/0.561\n"
     ]
    },
    {
     "name": "stderr",
     "output_type": "stream",
     "text": [
      " 12%|█▏        | 120/1000 [38:13<4:36:43, 18.87s/it]"
     ]
    },
    {
     "name": "stdout",
     "output_type": "stream",
     "text": [
      "Epoch: 120/1000. Loss (Train/Test): 0.000/4.744. Accuracy (Train/Test): 1.000/0.560\n"
     ]
    },
    {
     "name": "stderr",
     "output_type": "stream",
     "text": [
      " 12%|█▏        | 121/1000 [38:32<4:37:26, 18.94s/it]"
     ]
    },
    {
     "name": "stdout",
     "output_type": "stream",
     "text": [
      "Epoch: 121/1000. Loss (Train/Test): 0.000/4.753. Accuracy (Train/Test): 1.000/0.561\n"
     ]
    },
    {
     "name": "stderr",
     "output_type": "stream",
     "text": [
      " 12%|█▏        | 122/1000 [38:51<4:39:30, 19.10s/it]"
     ]
    },
    {
     "name": "stdout",
     "output_type": "stream",
     "text": [
      "Epoch: 122/1000. Loss (Train/Test): 0.000/4.766. Accuracy (Train/Test): 1.000/0.561\n"
     ]
    },
    {
     "name": "stderr",
     "output_type": "stream",
     "text": [
      " 12%|█▏        | 123/1000 [39:11<4:41:38, 19.27s/it]"
     ]
    },
    {
     "name": "stdout",
     "output_type": "stream",
     "text": [
      "Epoch: 123/1000. Loss (Train/Test): 0.000/4.780. Accuracy (Train/Test): 1.000/0.561\n"
     ]
    },
    {
     "name": "stderr",
     "output_type": "stream",
     "text": [
      " 12%|█▏        | 124/1000 [39:30<4:40:16, 19.20s/it]"
     ]
    },
    {
     "name": "stdout",
     "output_type": "stream",
     "text": [
      "Epoch: 124/1000. Loss (Train/Test): 0.000/4.793. Accuracy (Train/Test): 1.000/0.561\n"
     ]
    },
    {
     "name": "stderr",
     "output_type": "stream",
     "text": [
      " 12%|█▎        | 125/1000 [39:49<4:39:49, 19.19s/it]"
     ]
    },
    {
     "name": "stdout",
     "output_type": "stream",
     "text": [
      "Epoch: 125/1000. Loss (Train/Test): 0.000/4.802. Accuracy (Train/Test): 1.000/0.560\n"
     ]
    },
    {
     "name": "stderr",
     "output_type": "stream",
     "text": [
      " 13%|█▎        | 126/1000 [40:08<4:38:44, 19.14s/it]"
     ]
    },
    {
     "name": "stdout",
     "output_type": "stream",
     "text": [
      "Epoch: 126/1000. Loss (Train/Test): 0.000/4.814. Accuracy (Train/Test): 1.000/0.562\n"
     ]
    },
    {
     "name": "stderr",
     "output_type": "stream",
     "text": [
      " 13%|█▎        | 127/1000 [40:27<4:38:50, 19.16s/it]"
     ]
    },
    {
     "name": "stdout",
     "output_type": "stream",
     "text": [
      "Epoch: 127/1000. Loss (Train/Test): 0.000/4.826. Accuracy (Train/Test): 1.000/0.562\n"
     ]
    },
    {
     "name": "stderr",
     "output_type": "stream",
     "text": [
      " 13%|█▎        | 128/1000 [40:46<4:38:15, 19.15s/it]"
     ]
    },
    {
     "name": "stdout",
     "output_type": "stream",
     "text": [
      "Epoch: 128/1000. Loss (Train/Test): 0.000/4.838. Accuracy (Train/Test): 1.000/0.562\n"
     ]
    },
    {
     "name": "stderr",
     "output_type": "stream",
     "text": [
      " 13%|█▎        | 129/1000 [41:05<4:37:16, 19.10s/it]"
     ]
    },
    {
     "name": "stdout",
     "output_type": "stream",
     "text": [
      "Epoch: 129/1000. Loss (Train/Test): 0.000/4.848. Accuracy (Train/Test): 1.000/0.562\n"
     ]
    },
    {
     "name": "stderr",
     "output_type": "stream",
     "text": [
      " 13%|█▎        | 130/1000 [41:25<4:38:52, 19.23s/it]"
     ]
    },
    {
     "name": "stdout",
     "output_type": "stream",
     "text": [
      "Epoch: 130/1000. Loss (Train/Test): 0.000/4.862. Accuracy (Train/Test): 1.000/0.561\n"
     ]
    },
    {
     "name": "stderr",
     "output_type": "stream",
     "text": [
      " 13%|█▎        | 131/1000 [41:44<4:38:43, 19.24s/it]"
     ]
    },
    {
     "name": "stdout",
     "output_type": "stream",
     "text": [
      "Epoch: 131/1000. Loss (Train/Test): 0.000/4.872. Accuracy (Train/Test): 1.000/0.561\n"
     ]
    },
    {
     "name": "stderr",
     "output_type": "stream",
     "text": [
      " 13%|█▎        | 132/1000 [42:03<4:36:56, 19.14s/it]"
     ]
    },
    {
     "name": "stdout",
     "output_type": "stream",
     "text": [
      "Epoch: 132/1000. Loss (Train/Test): 0.000/4.883. Accuracy (Train/Test): 1.000/0.561\n"
     ]
    },
    {
     "name": "stderr",
     "output_type": "stream",
     "text": [
      " 13%|█▎        | 133/1000 [42:22<4:35:34, 19.07s/it]"
     ]
    },
    {
     "name": "stdout",
     "output_type": "stream",
     "text": [
      "Epoch: 133/1000. Loss (Train/Test): 0.000/4.894. Accuracy (Train/Test): 1.000/0.561\n"
     ]
    },
    {
     "name": "stderr",
     "output_type": "stream",
     "text": [
      " 13%|█▎        | 134/1000 [42:41<4:35:10, 19.07s/it]"
     ]
    },
    {
     "name": "stdout",
     "output_type": "stream",
     "text": [
      "Epoch: 134/1000. Loss (Train/Test): 0.000/4.907. Accuracy (Train/Test): 1.000/0.561\n"
     ]
    },
    {
     "name": "stderr",
     "output_type": "stream",
     "text": [
      " 14%|█▎        | 135/1000 [43:00<4:33:51, 19.00s/it]"
     ]
    },
    {
     "name": "stdout",
     "output_type": "stream",
     "text": [
      "Epoch: 135/1000. Loss (Train/Test): 0.000/4.916. Accuracy (Train/Test): 1.000/0.562\n"
     ]
    },
    {
     "name": "stderr",
     "output_type": "stream",
     "text": [
      " 14%|█▎        | 136/1000 [43:19<4:34:31, 19.06s/it]"
     ]
    },
    {
     "name": "stdout",
     "output_type": "stream",
     "text": [
      "Epoch: 136/1000. Loss (Train/Test): 0.000/4.929. Accuracy (Train/Test): 1.000/0.561\n"
     ]
    },
    {
     "name": "stderr",
     "output_type": "stream",
     "text": [
      " 14%|█▎        | 137/1000 [43:38<4:33:35, 19.02s/it]"
     ]
    },
    {
     "name": "stdout",
     "output_type": "stream",
     "text": [
      "Epoch: 137/1000. Loss (Train/Test): 0.000/4.940. Accuracy (Train/Test): 1.000/0.562\n"
     ]
    },
    {
     "name": "stderr",
     "output_type": "stream",
     "text": [
      " 14%|█▍        | 138/1000 [43:57<4:33:54, 19.07s/it]"
     ]
    },
    {
     "name": "stdout",
     "output_type": "stream",
     "text": [
      "Epoch: 138/1000. Loss (Train/Test): 0.000/4.951. Accuracy (Train/Test): 1.000/0.561\n"
     ]
    },
    {
     "name": "stderr",
     "output_type": "stream",
     "text": [
      " 14%|█▍        | 139/1000 [44:16<4:33:02, 19.03s/it]"
     ]
    },
    {
     "name": "stdout",
     "output_type": "stream",
     "text": [
      "Epoch: 139/1000. Loss (Train/Test): 0.000/4.960. Accuracy (Train/Test): 1.000/0.562\n"
     ]
    },
    {
     "name": "stderr",
     "output_type": "stream",
     "text": [
      " 14%|█▍        | 140/1000 [44:35<4:32:32, 19.01s/it]"
     ]
    },
    {
     "name": "stdout",
     "output_type": "stream",
     "text": [
      "Epoch: 140/1000. Loss (Train/Test): 0.000/4.972. Accuracy (Train/Test): 1.000/0.563\n"
     ]
    },
    {
     "name": "stderr",
     "output_type": "stream",
     "text": [
      " 14%|█▍        | 141/1000 [44:54<4:32:35, 19.04s/it]"
     ]
    },
    {
     "name": "stdout",
     "output_type": "stream",
     "text": [
      "Epoch: 141/1000. Loss (Train/Test): 0.000/4.982. Accuracy (Train/Test): 1.000/0.561\n"
     ]
    },
    {
     "name": "stderr",
     "output_type": "stream",
     "text": [
      " 14%|█▍        | 142/1000 [45:13<4:32:19, 19.04s/it]"
     ]
    },
    {
     "name": "stdout",
     "output_type": "stream",
     "text": [
      "Epoch: 142/1000. Loss (Train/Test): 0.000/4.993. Accuracy (Train/Test): 1.000/0.562\n"
     ]
    },
    {
     "name": "stderr",
     "output_type": "stream",
     "text": [
      " 14%|█▍        | 143/1000 [45:32<4:32:51, 19.10s/it]"
     ]
    },
    {
     "name": "stdout",
     "output_type": "stream",
     "text": [
      "Epoch: 143/1000. Loss (Train/Test): 0.000/5.006. Accuracy (Train/Test): 1.000/0.562\n"
     ]
    },
    {
     "name": "stderr",
     "output_type": "stream",
     "text": [
      " 14%|█▍        | 144/1000 [45:51<4:31:41, 19.04s/it]"
     ]
    },
    {
     "name": "stdout",
     "output_type": "stream",
     "text": [
      "Epoch: 144/1000. Loss (Train/Test): 0.000/5.015. Accuracy (Train/Test): 1.000/0.561\n"
     ]
    },
    {
     "name": "stderr",
     "output_type": "stream",
     "text": [
      " 14%|█▍        | 145/1000 [46:11<4:32:04, 19.09s/it]"
     ]
    },
    {
     "name": "stdout",
     "output_type": "stream",
     "text": [
      "Epoch: 145/1000. Loss (Train/Test): 0.000/5.027. Accuracy (Train/Test): 1.000/0.562\n"
     ]
    },
    {
     "name": "stderr",
     "output_type": "stream",
     "text": [
      " 15%|█▍        | 146/1000 [46:30<4:31:55, 19.10s/it]"
     ]
    },
    {
     "name": "stdout",
     "output_type": "stream",
     "text": [
      "Epoch: 146/1000. Loss (Train/Test): 0.000/5.037. Accuracy (Train/Test): 1.000/0.561\n"
     ]
    },
    {
     "name": "stderr",
     "output_type": "stream",
     "text": [
      " 15%|█▍        | 147/1000 [46:49<4:32:36, 19.18s/it]"
     ]
    },
    {
     "name": "stdout",
     "output_type": "stream",
     "text": [
      "Epoch: 147/1000. Loss (Train/Test): 0.000/5.047. Accuracy (Train/Test): 1.000/0.562\n"
     ]
    },
    {
     "name": "stderr",
     "output_type": "stream",
     "text": [
      " 15%|█▍        | 148/1000 [47:08<4:32:53, 19.22s/it]"
     ]
    },
    {
     "name": "stdout",
     "output_type": "stream",
     "text": [
      "Epoch: 148/1000. Loss (Train/Test): 0.000/5.057. Accuracy (Train/Test): 1.000/0.562\n"
     ]
    },
    {
     "name": "stderr",
     "output_type": "stream",
     "text": [
      " 15%|█▍        | 149/1000 [47:27<4:31:49, 19.17s/it]"
     ]
    },
    {
     "name": "stdout",
     "output_type": "stream",
     "text": [
      "Epoch: 149/1000. Loss (Train/Test): 0.000/5.069. Accuracy (Train/Test): 1.000/0.562\n"
     ]
    },
    {
     "name": "stderr",
     "output_type": "stream",
     "text": [
      " 15%|█▌        | 150/1000 [47:47<4:31:44, 19.18s/it]"
     ]
    },
    {
     "name": "stdout",
     "output_type": "stream",
     "text": [
      "Epoch: 150/1000. Loss (Train/Test): 0.000/5.080. Accuracy (Train/Test): 1.000/0.562\n"
     ]
    },
    {
     "name": "stderr",
     "output_type": "stream",
     "text": [
      " 15%|█▌        | 151/1000 [48:06<4:31:26, 19.18s/it]"
     ]
    },
    {
     "name": "stdout",
     "output_type": "stream",
     "text": [
      "Epoch: 151/1000. Loss (Train/Test): 0.000/5.087. Accuracy (Train/Test): 1.000/0.562\n"
     ]
    },
    {
     "name": "stderr",
     "output_type": "stream",
     "text": [
      " 15%|█▌        | 152/1000 [48:25<4:31:04, 19.18s/it]"
     ]
    },
    {
     "name": "stdout",
     "output_type": "stream",
     "text": [
      "Epoch: 152/1000. Loss (Train/Test): 0.000/5.099. Accuracy (Train/Test): 1.000/0.561\n"
     ]
    },
    {
     "name": "stderr",
     "output_type": "stream",
     "text": [
      " 15%|█▌        | 153/1000 [48:44<4:30:01, 19.13s/it]"
     ]
    },
    {
     "name": "stdout",
     "output_type": "stream",
     "text": [
      "Epoch: 153/1000. Loss (Train/Test): 0.000/5.106. Accuracy (Train/Test): 1.000/0.562\n"
     ]
    },
    {
     "name": "stderr",
     "output_type": "stream",
     "text": [
      " 15%|█▌        | 154/1000 [49:03<4:31:06, 19.23s/it]"
     ]
    },
    {
     "name": "stdout",
     "output_type": "stream",
     "text": [
      "Epoch: 154/1000. Loss (Train/Test): 0.000/5.113. Accuracy (Train/Test): 1.000/0.562\n"
     ]
    },
    {
     "name": "stderr",
     "output_type": "stream",
     "text": [
      " 16%|█▌        | 155/1000 [49:23<4:31:21, 19.27s/it]"
     ]
    },
    {
     "name": "stdout",
     "output_type": "stream",
     "text": [
      "Epoch: 155/1000. Loss (Train/Test): 0.000/5.124. Accuracy (Train/Test): 1.000/0.561\n"
     ]
    },
    {
     "name": "stderr",
     "output_type": "stream",
     "text": [
      " 16%|█▌        | 156/1000 [49:42<4:30:07, 19.20s/it]"
     ]
    },
    {
     "name": "stdout",
     "output_type": "stream",
     "text": [
      "Epoch: 156/1000. Loss (Train/Test): 0.000/5.133. Accuracy (Train/Test): 1.000/0.562\n"
     ]
    },
    {
     "name": "stderr",
     "output_type": "stream",
     "text": [
      " 16%|█▌        | 157/1000 [50:01<4:29:32, 19.18s/it]"
     ]
    },
    {
     "name": "stdout",
     "output_type": "stream",
     "text": [
      "Epoch: 157/1000. Loss (Train/Test): 0.000/5.142. Accuracy (Train/Test): 1.000/0.561\n"
     ]
    },
    {
     "name": "stderr",
     "output_type": "stream",
     "text": [
      " 16%|█▌        | 158/1000 [50:20<4:28:47, 19.15s/it]"
     ]
    },
    {
     "name": "stdout",
     "output_type": "stream",
     "text": [
      "Epoch: 158/1000. Loss (Train/Test): 0.000/5.151. Accuracy (Train/Test): 1.000/0.562\n"
     ]
    },
    {
     "name": "stderr",
     "output_type": "stream",
     "text": [
      " 16%|█▌        | 159/1000 [50:39<4:29:12, 19.21s/it]"
     ]
    },
    {
     "name": "stdout",
     "output_type": "stream",
     "text": [
      "Epoch: 159/1000. Loss (Train/Test): 0.000/5.161. Accuracy (Train/Test): 1.000/0.562\n"
     ]
    },
    {
     "name": "stderr",
     "output_type": "stream",
     "text": [
      " 16%|█▌        | 160/1000 [50:59<4:30:58, 19.36s/it]"
     ]
    },
    {
     "name": "stdout",
     "output_type": "stream",
     "text": [
      "Epoch: 160/1000. Loss (Train/Test): 0.000/5.167. Accuracy (Train/Test): 1.000/0.562\n"
     ]
    },
    {
     "name": "stderr",
     "output_type": "stream",
     "text": [
      " 16%|█▌        | 161/1000 [51:18<4:30:08, 19.32s/it]"
     ]
    },
    {
     "name": "stdout",
     "output_type": "stream",
     "text": [
      "Epoch: 161/1000. Loss (Train/Test): 0.000/5.179. Accuracy (Train/Test): 1.000/0.562\n"
     ]
    },
    {
     "name": "stderr",
     "output_type": "stream",
     "text": [
      " 16%|█▌        | 162/1000 [51:38<4:30:40, 19.38s/it]"
     ]
    },
    {
     "name": "stdout",
     "output_type": "stream",
     "text": [
      "Epoch: 162/1000. Loss (Train/Test): 0.000/5.183. Accuracy (Train/Test): 1.000/0.562\n"
     ]
    },
    {
     "name": "stderr",
     "output_type": "stream",
     "text": [
      " 16%|█▋        | 163/1000 [51:58<4:31:37, 19.47s/it]"
     ]
    },
    {
     "name": "stdout",
     "output_type": "stream",
     "text": [
      "Epoch: 163/1000. Loss (Train/Test): 0.000/5.195. Accuracy (Train/Test): 1.000/0.562\n"
     ]
    },
    {
     "name": "stderr",
     "output_type": "stream",
     "text": [
      " 16%|█▋        | 164/1000 [52:17<4:30:59, 19.45s/it]"
     ]
    },
    {
     "name": "stdout",
     "output_type": "stream",
     "text": [
      "Epoch: 164/1000. Loss (Train/Test): 0.000/5.203. Accuracy (Train/Test): 1.000/0.562\n"
     ]
    },
    {
     "name": "stderr",
     "output_type": "stream",
     "text": [
      " 16%|█▋        | 165/1000 [52:37<4:32:47, 19.60s/it]"
     ]
    },
    {
     "name": "stdout",
     "output_type": "stream",
     "text": [
      "Epoch: 165/1000. Loss (Train/Test): 0.000/5.213. Accuracy (Train/Test): 1.000/0.561\n"
     ]
    },
    {
     "name": "stderr",
     "output_type": "stream",
     "text": [
      " 17%|█▋        | 166/1000 [52:56<4:31:45, 19.55s/it]"
     ]
    },
    {
     "name": "stdout",
     "output_type": "stream",
     "text": [
      "Epoch: 166/1000. Loss (Train/Test): 0.000/5.220. Accuracy (Train/Test): 1.000/0.561\n"
     ]
    },
    {
     "name": "stderr",
     "output_type": "stream",
     "text": [
      " 17%|█▋        | 167/1000 [53:16<4:31:31, 19.56s/it]"
     ]
    },
    {
     "name": "stdout",
     "output_type": "stream",
     "text": [
      "Epoch: 167/1000. Loss (Train/Test): 0.000/5.231. Accuracy (Train/Test): 1.000/0.562\n"
     ]
    },
    {
     "name": "stderr",
     "output_type": "stream",
     "text": [
      " 17%|█▋        | 168/1000 [53:35<4:30:26, 19.50s/it]"
     ]
    },
    {
     "name": "stdout",
     "output_type": "stream",
     "text": [
      "Epoch: 168/1000. Loss (Train/Test): 0.000/5.238. Accuracy (Train/Test): 1.000/0.561\n"
     ]
    },
    {
     "name": "stderr",
     "output_type": "stream",
     "text": [
      " 17%|█▋        | 169/1000 [53:55<4:29:18, 19.44s/it]"
     ]
    },
    {
     "name": "stdout",
     "output_type": "stream",
     "text": [
      "Epoch: 169/1000. Loss (Train/Test): 0.000/5.248. Accuracy (Train/Test): 1.000/0.562\n"
     ]
    },
    {
     "name": "stderr",
     "output_type": "stream",
     "text": [
      " 17%|█▋        | 170/1000 [54:14<4:27:09, 19.31s/it]"
     ]
    },
    {
     "name": "stdout",
     "output_type": "stream",
     "text": [
      "Epoch: 170/1000. Loss (Train/Test): 0.000/5.255. Accuracy (Train/Test): 1.000/0.561\n"
     ]
    },
    {
     "name": "stderr",
     "output_type": "stream",
     "text": [
      " 17%|█▋        | 171/1000 [54:33<4:26:28, 19.29s/it]"
     ]
    },
    {
     "name": "stdout",
     "output_type": "stream",
     "text": [
      "Epoch: 171/1000. Loss (Train/Test): 0.000/5.263. Accuracy (Train/Test): 1.000/0.562\n"
     ]
    },
    {
     "name": "stderr",
     "output_type": "stream",
     "text": [
      " 17%|█▋        | 172/1000 [54:52<4:25:44, 19.26s/it]"
     ]
    },
    {
     "name": "stdout",
     "output_type": "stream",
     "text": [
      "Epoch: 172/1000. Loss (Train/Test): 0.000/5.275. Accuracy (Train/Test): 1.000/0.562\n"
     ]
    },
    {
     "name": "stderr",
     "output_type": "stream",
     "text": [
      " 17%|█▋        | 173/1000 [55:11<4:24:02, 19.16s/it]"
     ]
    },
    {
     "name": "stdout",
     "output_type": "stream",
     "text": [
      "Epoch: 173/1000. Loss (Train/Test): 0.000/5.282. Accuracy (Train/Test): 1.000/0.562\n"
     ]
    },
    {
     "name": "stderr",
     "output_type": "stream",
     "text": [
      " 17%|█▋        | 174/1000 [55:30<4:22:11, 19.05s/it]"
     ]
    },
    {
     "name": "stdout",
     "output_type": "stream",
     "text": [
      "Epoch: 174/1000. Loss (Train/Test): 0.000/5.291. Accuracy (Train/Test): 1.000/0.562\n"
     ]
    },
    {
     "name": "stderr",
     "output_type": "stream",
     "text": [
      " 18%|█▊        | 175/1000 [55:49<4:21:34, 19.02s/it]"
     ]
    },
    {
     "name": "stdout",
     "output_type": "stream",
     "text": [
      "Epoch: 175/1000. Loss (Train/Test): 0.000/5.300. Accuracy (Train/Test): 1.000/0.562\n"
     ]
    },
    {
     "name": "stderr",
     "output_type": "stream",
     "text": [
      " 18%|█▊        | 176/1000 [56:08<4:22:00, 19.08s/it]"
     ]
    },
    {
     "name": "stdout",
     "output_type": "stream",
     "text": [
      "Epoch: 176/1000. Loss (Train/Test): 0.000/5.308. Accuracy (Train/Test): 1.000/0.562\n"
     ]
    },
    {
     "name": "stderr",
     "output_type": "stream",
     "text": [
      " 18%|█▊        | 177/1000 [56:27<4:21:54, 19.09s/it]"
     ]
    },
    {
     "name": "stdout",
     "output_type": "stream",
     "text": [
      "Epoch: 177/1000. Loss (Train/Test): 0.000/5.316. Accuracy (Train/Test): 1.000/0.562\n"
     ]
    },
    {
     "name": "stderr",
     "output_type": "stream",
     "text": [
      " 18%|█▊        | 178/1000 [56:46<4:21:03, 19.06s/it]"
     ]
    },
    {
     "name": "stdout",
     "output_type": "stream",
     "text": [
      "Epoch: 178/1000. Loss (Train/Test): 0.000/5.325. Accuracy (Train/Test): 1.000/0.562\n"
     ]
    },
    {
     "name": "stderr",
     "output_type": "stream",
     "text": [
      " 18%|█▊        | 179/1000 [57:05<4:19:47, 18.99s/it]"
     ]
    },
    {
     "name": "stdout",
     "output_type": "stream",
     "text": [
      "Epoch: 179/1000. Loss (Train/Test): 0.000/5.333. Accuracy (Train/Test): 1.000/0.561\n"
     ]
    },
    {
     "name": "stderr",
     "output_type": "stream",
     "text": [
      " 18%|█▊        | 180/1000 [57:24<4:19:49, 19.01s/it]"
     ]
    },
    {
     "name": "stdout",
     "output_type": "stream",
     "text": [
      "Epoch: 180/1000. Loss (Train/Test): 0.000/5.341. Accuracy (Train/Test): 1.000/0.562\n"
     ]
    },
    {
     "name": "stderr",
     "output_type": "stream",
     "text": [
      " 18%|█▊        | 181/1000 [57:43<4:20:26, 19.08s/it]"
     ]
    },
    {
     "name": "stdout",
     "output_type": "stream",
     "text": [
      "Epoch: 181/1000. Loss (Train/Test): 0.000/5.348. Accuracy (Train/Test): 1.000/0.562\n"
     ]
    },
    {
     "name": "stderr",
     "output_type": "stream",
     "text": [
      " 18%|█▊        | 182/1000 [58:02<4:20:23, 19.10s/it]"
     ]
    },
    {
     "name": "stdout",
     "output_type": "stream",
     "text": [
      "Epoch: 182/1000. Loss (Train/Test): 0.000/5.358. Accuracy (Train/Test): 1.000/0.563\n"
     ]
    },
    {
     "name": "stderr",
     "output_type": "stream",
     "text": [
      " 18%|█▊        | 183/1000 [58:22<4:20:46, 19.15s/it]"
     ]
    },
    {
     "name": "stdout",
     "output_type": "stream",
     "text": [
      "Epoch: 183/1000. Loss (Train/Test): 0.000/5.366. Accuracy (Train/Test): 1.000/0.562\n"
     ]
    },
    {
     "name": "stderr",
     "output_type": "stream",
     "text": [
      " 18%|█▊        | 184/1000 [58:41<4:20:06, 19.13s/it]"
     ]
    },
    {
     "name": "stdout",
     "output_type": "stream",
     "text": [
      "Epoch: 184/1000. Loss (Train/Test): 0.000/5.375. Accuracy (Train/Test): 1.000/0.563\n"
     ]
    },
    {
     "name": "stderr",
     "output_type": "stream",
     "text": [
      " 18%|█▊        | 185/1000 [59:00<4:20:44, 19.20s/it]"
     ]
    },
    {
     "name": "stdout",
     "output_type": "stream",
     "text": [
      "Epoch: 185/1000. Loss (Train/Test): 0.000/5.384. Accuracy (Train/Test): 1.000/0.562\n"
     ]
    },
    {
     "name": "stderr",
     "output_type": "stream",
     "text": [
      " 19%|█▊        | 186/1000 [59:19<4:19:53, 19.16s/it]"
     ]
    },
    {
     "name": "stdout",
     "output_type": "stream",
     "text": [
      "Epoch: 186/1000. Loss (Train/Test): 0.000/5.392. Accuracy (Train/Test): 1.000/0.562\n"
     ]
    },
    {
     "name": "stderr",
     "output_type": "stream",
     "text": [
      " 19%|█▊        | 187/1000 [59:38<4:19:47, 19.17s/it]"
     ]
    },
    {
     "name": "stdout",
     "output_type": "stream",
     "text": [
      "Epoch: 187/1000. Loss (Train/Test): 0.000/5.400. Accuracy (Train/Test): 1.000/0.563\n"
     ]
    },
    {
     "name": "stderr",
     "output_type": "stream",
     "text": [
      " 19%|█▉        | 188/1000 [59:57<4:19:24, 19.17s/it]"
     ]
    },
    {
     "name": "stdout",
     "output_type": "stream",
     "text": [
      "Epoch: 188/1000. Loss (Train/Test): 0.000/5.408. Accuracy (Train/Test): 1.000/0.562\n"
     ]
    },
    {
     "name": "stderr",
     "output_type": "stream",
     "text": [
      " 19%|█▉        | 189/1000 [1:00:16<4:18:03, 19.09s/it]"
     ]
    },
    {
     "name": "stdout",
     "output_type": "stream",
     "text": [
      "Epoch: 189/1000. Loss (Train/Test): 0.000/5.418. Accuracy (Train/Test): 1.000/0.562\n"
     ]
    },
    {
     "name": "stderr",
     "output_type": "stream",
     "text": [
      " 19%|█▉        | 190/1000 [1:00:35<4:17:49, 19.10s/it]"
     ]
    },
    {
     "name": "stdout",
     "output_type": "stream",
     "text": [
      "Epoch: 190/1000. Loss (Train/Test): 0.000/5.426. Accuracy (Train/Test): 1.000/0.561\n"
     ]
    },
    {
     "name": "stderr",
     "output_type": "stream",
     "text": [
      " 19%|█▉        | 191/1000 [1:00:55<4:17:40, 19.11s/it]"
     ]
    },
    {
     "name": "stdout",
     "output_type": "stream",
     "text": [
      "Epoch: 191/1000. Loss (Train/Test): 0.000/5.434. Accuracy (Train/Test): 1.000/0.562\n"
     ]
    },
    {
     "name": "stderr",
     "output_type": "stream",
     "text": [
      " 19%|█▉        | 192/1000 [1:01:14<4:16:53, 19.08s/it]"
     ]
    },
    {
     "name": "stdout",
     "output_type": "stream",
     "text": [
      "Epoch: 192/1000. Loss (Train/Test): 0.000/5.442. Accuracy (Train/Test): 1.000/0.562\n"
     ]
    },
    {
     "name": "stderr",
     "output_type": "stream",
     "text": [
      " 19%|█▉        | 193/1000 [1:01:32<4:15:31, 19.00s/it]"
     ]
    },
    {
     "name": "stdout",
     "output_type": "stream",
     "text": [
      "Epoch: 193/1000. Loss (Train/Test): 0.000/5.448. Accuracy (Train/Test): 1.000/0.562\n"
     ]
    },
    {
     "name": "stderr",
     "output_type": "stream",
     "text": [
      " 19%|█▉        | 194/1000 [1:01:52<4:16:01, 19.06s/it]"
     ]
    },
    {
     "name": "stdout",
     "output_type": "stream",
     "text": [
      "Epoch: 194/1000. Loss (Train/Test): 0.000/5.459. Accuracy (Train/Test): 1.000/0.563\n"
     ]
    },
    {
     "name": "stderr",
     "output_type": "stream",
     "text": [
      " 20%|█▉        | 195/1000 [1:02:11<4:16:01, 19.08s/it]"
     ]
    },
    {
     "name": "stdout",
     "output_type": "stream",
     "text": [
      "Epoch: 195/1000. Loss (Train/Test): 0.000/5.466. Accuracy (Train/Test): 1.000/0.562\n"
     ]
    },
    {
     "name": "stderr",
     "output_type": "stream",
     "text": [
      " 20%|█▉        | 196/1000 [1:02:30<4:16:56, 19.17s/it]"
     ]
    },
    {
     "name": "stdout",
     "output_type": "stream",
     "text": [
      "Epoch: 196/1000. Loss (Train/Test): 0.000/5.477. Accuracy (Train/Test): 1.000/0.562\n"
     ]
    },
    {
     "name": "stderr",
     "output_type": "stream",
     "text": [
      " 20%|█▉        | 197/1000 [1:02:49<4:16:41, 19.18s/it]"
     ]
    },
    {
     "name": "stdout",
     "output_type": "stream",
     "text": [
      "Epoch: 197/1000. Loss (Train/Test): 0.000/5.484. Accuracy (Train/Test): 1.000/0.562\n"
     ]
    },
    {
     "name": "stderr",
     "output_type": "stream",
     "text": [
      " 20%|█▉        | 198/1000 [1:03:08<4:15:31, 19.12s/it]"
     ]
    },
    {
     "name": "stdout",
     "output_type": "stream",
     "text": [
      "Epoch: 198/1000. Loss (Train/Test): 0.000/5.492. Accuracy (Train/Test): 1.000/0.562\n"
     ]
    },
    {
     "name": "stderr",
     "output_type": "stream",
     "text": [
      " 20%|█▉        | 199/1000 [1:03:28<4:16:03, 19.18s/it]"
     ]
    },
    {
     "name": "stdout",
     "output_type": "stream",
     "text": [
      "Epoch: 199/1000. Loss (Train/Test): 0.000/5.499. Accuracy (Train/Test): 1.000/0.562\n"
     ]
    },
    {
     "name": "stderr",
     "output_type": "stream",
     "text": [
      " 20%|██        | 200/1000 [1:03:47<4:15:26, 19.16s/it]"
     ]
    },
    {
     "name": "stdout",
     "output_type": "stream",
     "text": [
      "Epoch: 200/1000. Loss (Train/Test): 0.000/5.507. Accuracy (Train/Test): 1.000/0.562\n"
     ]
    },
    {
     "name": "stderr",
     "output_type": "stream",
     "text": [
      " 20%|██        | 201/1000 [1:04:06<4:15:16, 19.17s/it]"
     ]
    },
    {
     "name": "stdout",
     "output_type": "stream",
     "text": [
      "Epoch: 201/1000. Loss (Train/Test): 0.000/5.514. Accuracy (Train/Test): 1.000/0.563\n"
     ]
    },
    {
     "name": "stderr",
     "output_type": "stream",
     "text": [
      " 20%|██        | 202/1000 [1:04:25<4:13:32, 19.06s/it]"
     ]
    },
    {
     "name": "stdout",
     "output_type": "stream",
     "text": [
      "Epoch: 202/1000. Loss (Train/Test): 0.000/5.522. Accuracy (Train/Test): 1.000/0.562\n"
     ]
    },
    {
     "name": "stderr",
     "output_type": "stream",
     "text": [
      " 20%|██        | 203/1000 [1:04:44<4:12:36, 19.02s/it]"
     ]
    },
    {
     "name": "stdout",
     "output_type": "stream",
     "text": [
      "Epoch: 203/1000. Loss (Train/Test): 0.000/5.531. Accuracy (Train/Test): 1.000/0.562\n"
     ]
    },
    {
     "name": "stderr",
     "output_type": "stream",
     "text": [
      " 20%|██        | 204/1000 [1:05:02<4:11:20, 18.95s/it]"
     ]
    },
    {
     "name": "stdout",
     "output_type": "stream",
     "text": [
      "Epoch: 204/1000. Loss (Train/Test): 0.000/5.538. Accuracy (Train/Test): 1.000/0.562\n"
     ]
    },
    {
     "name": "stderr",
     "output_type": "stream",
     "text": [
      " 20%|██        | 205/1000 [1:05:21<4:11:12, 18.96s/it]"
     ]
    },
    {
     "name": "stdout",
     "output_type": "stream",
     "text": [
      "Epoch: 205/1000. Loss (Train/Test): 0.000/5.545. Accuracy (Train/Test): 1.000/0.562\n"
     ]
    },
    {
     "name": "stderr",
     "output_type": "stream",
     "text": [
      " 21%|██        | 206/1000 [1:05:41<4:11:39, 19.02s/it]"
     ]
    },
    {
     "name": "stdout",
     "output_type": "stream",
     "text": [
      "Epoch: 206/1000. Loss (Train/Test): 0.000/5.554. Accuracy (Train/Test): 1.000/0.562\n"
     ]
    },
    {
     "name": "stderr",
     "output_type": "stream",
     "text": [
      " 21%|██        | 207/1000 [1:06:00<4:11:23, 19.02s/it]"
     ]
    },
    {
     "name": "stdout",
     "output_type": "stream",
     "text": [
      "Epoch: 207/1000. Loss (Train/Test): 0.000/5.559. Accuracy (Train/Test): 1.000/0.562\n"
     ]
    },
    {
     "name": "stderr",
     "output_type": "stream",
     "text": [
      " 21%|██        | 208/1000 [1:06:19<4:11:12, 19.03s/it]"
     ]
    },
    {
     "name": "stdout",
     "output_type": "stream",
     "text": [
      "Epoch: 208/1000. Loss (Train/Test): 0.000/5.568. Accuracy (Train/Test): 1.000/0.562\n"
     ]
    },
    {
     "name": "stderr",
     "output_type": "stream",
     "text": [
      " 21%|██        | 209/1000 [1:06:37<4:09:44, 18.94s/it]"
     ]
    },
    {
     "name": "stdout",
     "output_type": "stream",
     "text": [
      "Epoch: 209/1000. Loss (Train/Test): 0.000/5.576. Accuracy (Train/Test): 1.000/0.562\n"
     ]
    },
    {
     "name": "stderr",
     "output_type": "stream",
     "text": [
      " 21%|██        | 210/1000 [1:06:56<4:09:47, 18.97s/it]"
     ]
    },
    {
     "name": "stdout",
     "output_type": "stream",
     "text": [
      "Epoch: 210/1000. Loss (Train/Test): 0.000/5.582. Accuracy (Train/Test): 1.000/0.562\n"
     ]
    },
    {
     "name": "stderr",
     "output_type": "stream",
     "text": [
      " 21%|██        | 211/1000 [1:07:16<4:11:03, 19.09s/it]"
     ]
    },
    {
     "name": "stdout",
     "output_type": "stream",
     "text": [
      "Epoch: 211/1000. Loss (Train/Test): 0.000/5.589. Accuracy (Train/Test): 1.000/0.562\n"
     ]
    },
    {
     "name": "stderr",
     "output_type": "stream",
     "text": [
      " 21%|██        | 212/1000 [1:07:35<4:09:47, 19.02s/it]"
     ]
    },
    {
     "name": "stdout",
     "output_type": "stream",
     "text": [
      "Epoch: 212/1000. Loss (Train/Test): 0.000/5.598. Accuracy (Train/Test): 1.000/0.562\n"
     ]
    },
    {
     "name": "stderr",
     "output_type": "stream",
     "text": [
      " 21%|██▏       | 213/1000 [1:07:54<4:09:34, 19.03s/it]"
     ]
    },
    {
     "name": "stdout",
     "output_type": "stream",
     "text": [
      "Epoch: 213/1000. Loss (Train/Test): 0.000/5.605. Accuracy (Train/Test): 1.000/0.563\n"
     ]
    },
    {
     "name": "stderr",
     "output_type": "stream",
     "text": [
      " 21%|██▏       | 214/1000 [1:08:13<4:10:01, 19.09s/it]"
     ]
    },
    {
     "name": "stdout",
     "output_type": "stream",
     "text": [
      "Epoch: 214/1000. Loss (Train/Test): 0.000/5.614. Accuracy (Train/Test): 1.000/0.562\n"
     ]
    },
    {
     "name": "stderr",
     "output_type": "stream",
     "text": [
      " 22%|██▏       | 215/1000 [1:08:32<4:11:22, 19.21s/it]"
     ]
    },
    {
     "name": "stdout",
     "output_type": "stream",
     "text": [
      "Epoch: 215/1000. Loss (Train/Test): 0.000/5.622. Accuracy (Train/Test): 1.000/0.562\n"
     ]
    },
    {
     "name": "stderr",
     "output_type": "stream",
     "text": [
      " 22%|██▏       | 222/1000 [1:10:48<4:09:58, 19.28s/it]"
     ]
    },
    {
     "name": "stdout",
     "output_type": "stream",
     "text": [
      "Epoch: 222/1000. Loss (Train/Test): 0.000/5.673. Accuracy (Train/Test): 1.000/0.563\n"
     ]
    },
    {
     "name": "stderr",
     "output_type": "stream",
     "text": [
      " 22%|██▏       | 223/1000 [1:11:07<4:08:59, 19.23s/it]"
     ]
    },
    {
     "name": "stdout",
     "output_type": "stream",
     "text": [
      "Epoch: 223/1000. Loss (Train/Test): 0.000/5.681. Accuracy (Train/Test): 1.000/0.563\n"
     ]
    },
    {
     "name": "stderr",
     "output_type": "stream",
     "text": [
      " 22%|██▏       | 224/1000 [1:11:26<4:07:35, 19.14s/it]"
     ]
    },
    {
     "name": "stdout",
     "output_type": "stream",
     "text": [
      "Epoch: 224/1000. Loss (Train/Test): 0.000/5.687. Accuracy (Train/Test): 1.000/0.562\n"
     ]
    },
    {
     "name": "stderr",
     "output_type": "stream",
     "text": [
      " 22%|██▎       | 225/1000 [1:11:45<4:07:35, 19.17s/it]"
     ]
    },
    {
     "name": "stdout",
     "output_type": "stream",
     "text": [
      "Epoch: 225/1000. Loss (Train/Test): 0.000/5.695. Accuracy (Train/Test): 1.000/0.562\n"
     ]
    },
    {
     "name": "stderr",
     "output_type": "stream",
     "text": [
      " 23%|██▎       | 226/1000 [1:12:04<4:07:48, 19.21s/it]"
     ]
    },
    {
     "name": "stdout",
     "output_type": "stream",
     "text": [
      "Epoch: 226/1000. Loss (Train/Test): 0.000/5.702. Accuracy (Train/Test): 1.000/0.562\n"
     ]
    },
    {
     "name": "stderr",
     "output_type": "stream",
     "text": [
      " 23%|██▎       | 227/1000 [1:12:24<4:07:10, 19.19s/it]"
     ]
    },
    {
     "name": "stdout",
     "output_type": "stream",
     "text": [
      "Epoch: 227/1000. Loss (Train/Test): 0.000/5.708. Accuracy (Train/Test): 1.000/0.562\n"
     ]
    },
    {
     "name": "stderr",
     "output_type": "stream",
     "text": [
      " 23%|██▎       | 228/1000 [1:12:43<4:08:01, 19.28s/it]"
     ]
    },
    {
     "name": "stdout",
     "output_type": "stream",
     "text": [
      "Epoch: 228/1000. Loss (Train/Test): 0.000/5.716. Accuracy (Train/Test): 1.000/0.562\n"
     ]
    },
    {
     "name": "stderr",
     "output_type": "stream",
     "text": [
      " 23%|██▎       | 229/1000 [1:13:02<4:07:34, 19.27s/it]"
     ]
    },
    {
     "name": "stdout",
     "output_type": "stream",
     "text": [
      "Epoch: 229/1000. Loss (Train/Test): 0.000/5.725. Accuracy (Train/Test): 1.000/0.562\n"
     ]
    },
    {
     "name": "stderr",
     "output_type": "stream",
     "text": [
      " 23%|██▎       | 230/1000 [1:13:22<4:08:26, 19.36s/it]"
     ]
    },
    {
     "name": "stdout",
     "output_type": "stream",
     "text": [
      "Epoch: 230/1000. Loss (Train/Test): 0.000/5.731. Accuracy (Train/Test): 1.000/0.562\n"
     ]
    },
    {
     "name": "stderr",
     "output_type": "stream",
     "text": [
      " 23%|██▎       | 231/1000 [1:13:41<4:07:55, 19.34s/it]"
     ]
    },
    {
     "name": "stdout",
     "output_type": "stream",
     "text": [
      "Epoch: 231/1000. Loss (Train/Test): 0.000/5.739. Accuracy (Train/Test): 1.000/0.562\n"
     ]
    },
    {
     "name": "stderr",
     "output_type": "stream",
     "text": [
      " 23%|██▎       | 232/1000 [1:14:00<4:06:35, 19.27s/it]"
     ]
    },
    {
     "name": "stdout",
     "output_type": "stream",
     "text": [
      "Epoch: 232/1000. Loss (Train/Test): 0.000/5.747. Accuracy (Train/Test): 1.000/0.562\n"
     ]
    },
    {
     "name": "stderr",
     "output_type": "stream",
     "text": [
      " 23%|██▎       | 233/1000 [1:14:19<4:05:41, 19.22s/it]"
     ]
    },
    {
     "name": "stdout",
     "output_type": "stream",
     "text": [
      "Epoch: 233/1000. Loss (Train/Test): 0.000/5.754. Accuracy (Train/Test): 1.000/0.563\n"
     ]
    },
    {
     "name": "stderr",
     "output_type": "stream",
     "text": [
      " 23%|██▎       | 234/1000 [1:14:39<4:05:02, 19.19s/it]"
     ]
    },
    {
     "name": "stdout",
     "output_type": "stream",
     "text": [
      "Epoch: 234/1000. Loss (Train/Test): 0.000/5.761. Accuracy (Train/Test): 1.000/0.562\n"
     ]
    },
    {
     "name": "stderr",
     "output_type": "stream",
     "text": [
      " 24%|██▎       | 235/1000 [1:14:58<4:04:37, 19.19s/it]"
     ]
    },
    {
     "name": "stdout",
     "output_type": "stream",
     "text": [
      "Epoch: 235/1000. Loss (Train/Test): 0.000/5.769. Accuracy (Train/Test): 1.000/0.561\n"
     ]
    },
    {
     "name": "stderr",
     "output_type": "stream",
     "text": [
      " 24%|██▎       | 236/1000 [1:15:17<4:04:54, 19.23s/it]"
     ]
    },
    {
     "name": "stdout",
     "output_type": "stream",
     "text": [
      "Epoch: 236/1000. Loss (Train/Test): 0.000/5.776. Accuracy (Train/Test): 1.000/0.562\n"
     ]
    },
    {
     "name": "stderr",
     "output_type": "stream",
     "text": [
      " 24%|██▎       | 237/1000 [1:15:36<4:04:17, 19.21s/it]"
     ]
    },
    {
     "name": "stdout",
     "output_type": "stream",
     "text": [
      "Epoch: 237/1000. Loss (Train/Test): 0.000/5.783. Accuracy (Train/Test): 1.000/0.562\n"
     ]
    },
    {
     "name": "stderr",
     "output_type": "stream",
     "text": [
      " 24%|██▍       | 238/1000 [1:15:55<4:04:20, 19.24s/it]"
     ]
    },
    {
     "name": "stdout",
     "output_type": "stream",
     "text": [
      "Epoch: 238/1000. Loss (Train/Test): 0.000/5.793. Accuracy (Train/Test): 1.000/0.563\n"
     ]
    },
    {
     "name": "stderr",
     "output_type": "stream",
     "text": [
      " 24%|██▍       | 239/1000 [1:16:15<4:03:31, 19.20s/it]"
     ]
    },
    {
     "name": "stdout",
     "output_type": "stream",
     "text": [
      "Epoch: 239/1000. Loss (Train/Test): 0.000/5.797. Accuracy (Train/Test): 1.000/0.562\n"
     ]
    },
    {
     "name": "stderr",
     "output_type": "stream",
     "text": [
      " 24%|██▍       | 240/1000 [1:16:34<4:03:34, 19.23s/it]"
     ]
    },
    {
     "name": "stdout",
     "output_type": "stream",
     "text": [
      "Epoch: 240/1000. Loss (Train/Test): 0.000/5.807. Accuracy (Train/Test): 1.000/0.562\n"
     ]
    },
    {
     "name": "stderr",
     "output_type": "stream",
     "text": [
      " 24%|██▍       | 241/1000 [1:16:53<4:04:37, 19.34s/it]"
     ]
    },
    {
     "name": "stdout",
     "output_type": "stream",
     "text": [
      "Epoch: 241/1000. Loss (Train/Test): 0.000/5.813. Accuracy (Train/Test): 1.000/0.562\n"
     ]
    },
    {
     "name": "stderr",
     "output_type": "stream",
     "text": [
      " 24%|██▍       | 242/1000 [1:17:13<4:05:45, 19.45s/it]"
     ]
    },
    {
     "name": "stdout",
     "output_type": "stream",
     "text": [
      "Epoch: 242/1000. Loss (Train/Test): 0.000/5.821. Accuracy (Train/Test): 1.000/0.562\n"
     ]
    },
    {
     "name": "stderr",
     "output_type": "stream",
     "text": [
      " 24%|██▍       | 243/1000 [1:17:32<4:04:01, 19.34s/it]"
     ]
    },
    {
     "name": "stdout",
     "output_type": "stream",
     "text": [
      "Epoch: 243/1000. Loss (Train/Test): 0.000/5.826. Accuracy (Train/Test): 1.000/0.562\n"
     ]
    },
    {
     "name": "stderr",
     "output_type": "stream",
     "text": [
      " 24%|██▍       | 244/1000 [1:17:52<4:04:41, 19.42s/it]"
     ]
    },
    {
     "name": "stdout",
     "output_type": "stream",
     "text": [
      "Epoch: 244/1000. Loss (Train/Test): 0.000/5.836. Accuracy (Train/Test): 1.000/0.562\n"
     ]
    },
    {
     "name": "stderr",
     "output_type": "stream",
     "text": [
      " 24%|██▍       | 245/1000 [1:18:12<4:05:30, 19.51s/it]"
     ]
    },
    {
     "name": "stdout",
     "output_type": "stream",
     "text": [
      "Epoch: 245/1000. Loss (Train/Test): 0.000/5.842. Accuracy (Train/Test): 1.000/0.563\n"
     ]
    },
    {
     "name": "stderr",
     "output_type": "stream",
     "text": [
      " 25%|██▍       | 246/1000 [1:18:31<4:04:16, 19.44s/it]"
     ]
    },
    {
     "name": "stdout",
     "output_type": "stream",
     "text": [
      "Epoch: 246/1000. Loss (Train/Test): 0.000/5.850. Accuracy (Train/Test): 1.000/0.562\n"
     ]
    },
    {
     "name": "stderr",
     "output_type": "stream",
     "text": [
      " 25%|██▍       | 247/1000 [1:18:50<4:03:44, 19.42s/it]"
     ]
    },
    {
     "name": "stdout",
     "output_type": "stream",
     "text": [
      "Epoch: 247/1000. Loss (Train/Test): 0.000/5.857. Accuracy (Train/Test): 1.000/0.562\n"
     ]
    },
    {
     "name": "stderr",
     "output_type": "stream",
     "text": [
      " 25%|██▍       | 248/1000 [1:19:10<4:04:23, 19.50s/it]"
     ]
    },
    {
     "name": "stdout",
     "output_type": "stream",
     "text": [
      "Epoch: 248/1000. Loss (Train/Test): 0.000/5.866. Accuracy (Train/Test): 1.000/0.562\n"
     ]
    },
    {
     "name": "stderr",
     "output_type": "stream",
     "text": [
      " 25%|██▍       | 249/1000 [1:19:29<4:04:00, 19.49s/it]"
     ]
    },
    {
     "name": "stdout",
     "output_type": "stream",
     "text": [
      "Epoch: 249/1000. Loss (Train/Test): 0.000/5.874. Accuracy (Train/Test): 1.000/0.562\n"
     ]
    },
    {
     "name": "stderr",
     "output_type": "stream",
     "text": [
      " 25%|██▌       | 250/1000 [1:19:49<4:04:40, 19.57s/it]"
     ]
    },
    {
     "name": "stdout",
     "output_type": "stream",
     "text": [
      "Epoch: 250/1000. Loss (Train/Test): 0.000/5.879. Accuracy (Train/Test): 1.000/0.562\n"
     ]
    },
    {
     "name": "stderr",
     "output_type": "stream",
     "text": [
      " 25%|██▌       | 251/1000 [1:20:08<4:02:32, 19.43s/it]"
     ]
    },
    {
     "name": "stdout",
     "output_type": "stream",
     "text": [
      "Epoch: 251/1000. Loss (Train/Test): 0.000/5.886. Accuracy (Train/Test): 1.000/0.562\n"
     ]
    },
    {
     "name": "stderr",
     "output_type": "stream",
     "text": [
      " 25%|██▌       | 252/1000 [1:20:28<4:02:09, 19.42s/it]"
     ]
    },
    {
     "name": "stdout",
     "output_type": "stream",
     "text": [
      "Epoch: 252/1000. Loss (Train/Test): 0.000/5.893. Accuracy (Train/Test): 1.000/0.562\n"
     ]
    },
    {
     "name": "stderr",
     "output_type": "stream",
     "text": [
      " 25%|██▌       | 253/1000 [1:20:47<4:00:09, 19.29s/it]"
     ]
    },
    {
     "name": "stdout",
     "output_type": "stream",
     "text": [
      "Epoch: 253/1000. Loss (Train/Test): 0.000/5.900. Accuracy (Train/Test): 1.000/0.562\n"
     ]
    },
    {
     "name": "stderr",
     "output_type": "stream",
     "text": [
      " 25%|██▌       | 254/1000 [1:21:06<4:00:01, 19.31s/it]"
     ]
    },
    {
     "name": "stdout",
     "output_type": "stream",
     "text": [
      "Epoch: 254/1000. Loss (Train/Test): 0.000/5.906. Accuracy (Train/Test): 1.000/0.562\n"
     ]
    },
    {
     "name": "stderr",
     "output_type": "stream",
     "text": [
      " 26%|██▌       | 255/1000 [1:21:25<3:59:58, 19.33s/it]"
     ]
    },
    {
     "name": "stdout",
     "output_type": "stream",
     "text": [
      "Epoch: 255/1000. Loss (Train/Test): 0.000/5.915. Accuracy (Train/Test): 1.000/0.563\n"
     ]
    },
    {
     "name": "stderr",
     "output_type": "stream",
     "text": [
      " 26%|██▌       | 256/1000 [1:21:45<3:59:36, 19.32s/it]"
     ]
    },
    {
     "name": "stdout",
     "output_type": "stream",
     "text": [
      "Epoch: 256/1000. Loss (Train/Test): 0.000/5.920. Accuracy (Train/Test): 1.000/0.563\n"
     ]
    },
    {
     "name": "stderr",
     "output_type": "stream",
     "text": [
      " 26%|██▌       | 257/1000 [1:22:04<3:59:07, 19.31s/it]"
     ]
    },
    {
     "name": "stdout",
     "output_type": "stream",
     "text": [
      "Epoch: 257/1000. Loss (Train/Test): 0.000/5.928. Accuracy (Train/Test): 1.000/0.562\n"
     ]
    },
    {
     "name": "stderr",
     "output_type": "stream",
     "text": [
      " 26%|██▌       | 258/1000 [1:22:23<3:58:10, 19.26s/it]"
     ]
    },
    {
     "name": "stdout",
     "output_type": "stream",
     "text": [
      "Epoch: 258/1000. Loss (Train/Test): 0.000/5.935. Accuracy (Train/Test): 1.000/0.562\n"
     ]
    },
    {
     "name": "stderr",
     "output_type": "stream",
     "text": [
      " 26%|██▌       | 259/1000 [1:22:42<3:56:19, 19.14s/it]"
     ]
    },
    {
     "name": "stdout",
     "output_type": "stream",
     "text": [
      "Epoch: 259/1000. Loss (Train/Test): 0.000/5.942. Accuracy (Train/Test): 1.000/0.562\n"
     ]
    },
    {
     "name": "stderr",
     "output_type": "stream",
     "text": [
      " 26%|██▌       | 260/1000 [1:23:01<3:55:38, 19.11s/it]"
     ]
    },
    {
     "name": "stdout",
     "output_type": "stream",
     "text": [
      "Epoch: 260/1000. Loss (Train/Test): 0.000/5.950. Accuracy (Train/Test): 1.000/0.562\n"
     ]
    },
    {
     "name": "stderr",
     "output_type": "stream",
     "text": [
      " 26%|██▌       | 261/1000 [1:23:20<3:54:31, 19.04s/it]"
     ]
    },
    {
     "name": "stdout",
     "output_type": "stream",
     "text": [
      "Epoch: 261/1000. Loss (Train/Test): 0.000/5.955. Accuracy (Train/Test): 1.000/0.562\n"
     ]
    },
    {
     "name": "stderr",
     "output_type": "stream",
     "text": [
      " 26%|██▌       | 262/1000 [1:23:39<3:54:25, 19.06s/it]"
     ]
    },
    {
     "name": "stdout",
     "output_type": "stream",
     "text": [
      "Epoch: 262/1000. Loss (Train/Test): 0.000/5.962. Accuracy (Train/Test): 1.000/0.562\n"
     ]
    },
    {
     "name": "stderr",
     "output_type": "stream",
     "text": [
      " 26%|██▋       | 263/1000 [1:23:58<3:54:29, 19.09s/it]"
     ]
    },
    {
     "name": "stdout",
     "output_type": "stream",
     "text": [
      "Epoch: 263/1000. Loss (Train/Test): 0.000/5.972. Accuracy (Train/Test): 1.000/0.562\n"
     ]
    },
    {
     "name": "stderr",
     "output_type": "stream",
     "text": [
      " 26%|██▋       | 264/1000 [1:24:17<3:53:27, 19.03s/it]"
     ]
    },
    {
     "name": "stdout",
     "output_type": "stream",
     "text": [
      "Epoch: 264/1000. Loss (Train/Test): 0.000/5.977. Accuracy (Train/Test): 1.000/0.562\n"
     ]
    },
    {
     "name": "stderr",
     "output_type": "stream",
     "text": [
      " 26%|██▋       | 265/1000 [1:24:36<3:52:54, 19.01s/it]"
     ]
    },
    {
     "name": "stdout",
     "output_type": "stream",
     "text": [
      "Epoch: 265/1000. Loss (Train/Test): 0.000/5.984. Accuracy (Train/Test): 1.000/0.563\n"
     ]
    },
    {
     "name": "stderr",
     "output_type": "stream",
     "text": [
      " 27%|██▋       | 266/1000 [1:24:55<3:52:17, 18.99s/it]"
     ]
    },
    {
     "name": "stdout",
     "output_type": "stream",
     "text": [
      "Epoch: 266/1000. Loss (Train/Test): 0.000/5.991. Accuracy (Train/Test): 1.000/0.562\n"
     ]
    },
    {
     "name": "stderr",
     "output_type": "stream",
     "text": [
      " 27%|██▋       | 267/1000 [1:25:14<3:52:46, 19.05s/it]"
     ]
    },
    {
     "name": "stdout",
     "output_type": "stream",
     "text": [
      "Epoch: 267/1000. Loss (Train/Test): 0.000/5.997. Accuracy (Train/Test): 1.000/0.562\n"
     ]
    },
    {
     "name": "stderr",
     "output_type": "stream",
     "text": [
      " 27%|██▋       | 268/1000 [1:25:33<3:52:28, 19.06s/it]"
     ]
    },
    {
     "name": "stdout",
     "output_type": "stream",
     "text": [
      "Epoch: 268/1000. Loss (Train/Test): 0.000/6.008. Accuracy (Train/Test): 1.000/0.562\n"
     ]
    },
    {
     "name": "stderr",
     "output_type": "stream",
     "text": [
      " 27%|██▋       | 269/1000 [1:25:52<3:52:05, 19.05s/it]"
     ]
    },
    {
     "name": "stdout",
     "output_type": "stream",
     "text": [
      "Epoch: 269/1000. Loss (Train/Test): 0.000/6.011. Accuracy (Train/Test): 1.000/0.562\n"
     ]
    },
    {
     "name": "stderr",
     "output_type": "stream",
     "text": [
      " 27%|██▋       | 270/1000 [1:26:11<3:51:23, 19.02s/it]"
     ]
    },
    {
     "name": "stdout",
     "output_type": "stream",
     "text": [
      "Epoch: 270/1000. Loss (Train/Test): 0.000/6.020. Accuracy (Train/Test): 1.000/0.563\n"
     ]
    },
    {
     "name": "stderr",
     "output_type": "stream",
     "text": [
      " 27%|██▋       | 271/1000 [1:26:30<3:51:26, 19.05s/it]"
     ]
    },
    {
     "name": "stdout",
     "output_type": "stream",
     "text": [
      "Epoch: 271/1000. Loss (Train/Test): 0.000/6.026. Accuracy (Train/Test): 1.000/0.562\n"
     ]
    },
    {
     "name": "stderr",
     "output_type": "stream",
     "text": [
      " 27%|██▋       | 272/1000 [1:26:49<3:51:00, 19.04s/it]"
     ]
    },
    {
     "name": "stdout",
     "output_type": "stream",
     "text": [
      "Epoch: 272/1000. Loss (Train/Test): 0.000/6.032. Accuracy (Train/Test): 1.000/0.562\n"
     ]
    },
    {
     "name": "stderr",
     "output_type": "stream",
     "text": [
      " 27%|██▋       | 273/1000 [1:27:09<3:51:11, 19.08s/it]"
     ]
    },
    {
     "name": "stdout",
     "output_type": "stream",
     "text": [
      "Epoch: 273/1000. Loss (Train/Test): 0.000/6.041. Accuracy (Train/Test): 1.000/0.562\n"
     ]
    },
    {
     "name": "stderr",
     "output_type": "stream",
     "text": [
      " 27%|██▋       | 274/1000 [1:27:27<3:50:30, 19.05s/it]"
     ]
    },
    {
     "name": "stdout",
     "output_type": "stream",
     "text": [
      "Epoch: 274/1000. Loss (Train/Test): 0.000/6.046. Accuracy (Train/Test): 1.000/0.562\n"
     ]
    },
    {
     "name": "stderr",
     "output_type": "stream",
     "text": [
      " 28%|██▊       | 275/1000 [1:27:47<3:50:39, 19.09s/it]"
     ]
    },
    {
     "name": "stdout",
     "output_type": "stream",
     "text": [
      "Epoch: 275/1000. Loss (Train/Test): 0.000/6.054. Accuracy (Train/Test): 1.000/0.563\n"
     ]
    },
    {
     "name": "stderr",
     "output_type": "stream",
     "text": [
      " 28%|██▊       | 276/1000 [1:28:06<3:50:54, 19.14s/it]"
     ]
    },
    {
     "name": "stdout",
     "output_type": "stream",
     "text": [
      "Epoch: 276/1000. Loss (Train/Test): 0.000/6.061. Accuracy (Train/Test): 1.000/0.562\n"
     ]
    },
    {
     "name": "stderr",
     "output_type": "stream",
     "text": [
      " 28%|██▊       | 277/1000 [1:28:25<3:50:53, 19.16s/it]"
     ]
    },
    {
     "name": "stdout",
     "output_type": "stream",
     "text": [
      "Epoch: 277/1000. Loss (Train/Test): 0.000/6.066. Accuracy (Train/Test): 1.000/0.562\n"
     ]
    },
    {
     "name": "stderr",
     "output_type": "stream",
     "text": [
      " 28%|██▊       | 278/1000 [1:28:44<3:49:50, 19.10s/it]"
     ]
    },
    {
     "name": "stdout",
     "output_type": "stream",
     "text": [
      "Epoch: 278/1000. Loss (Train/Test): 0.000/6.074. Accuracy (Train/Test): 1.000/0.562\n"
     ]
    },
    {
     "name": "stderr",
     "output_type": "stream",
     "text": [
      " 28%|██▊       | 279/1000 [1:29:03<3:49:29, 19.10s/it]"
     ]
    },
    {
     "name": "stdout",
     "output_type": "stream",
     "text": [
      "Epoch: 279/1000. Loss (Train/Test): 0.000/6.083. Accuracy (Train/Test): 1.000/0.562\n"
     ]
    },
    {
     "name": "stderr",
     "output_type": "stream",
     "text": [
      " 28%|██▊       | 280/1000 [1:29:22<3:48:54, 19.08s/it]"
     ]
    },
    {
     "name": "stdout",
     "output_type": "stream",
     "text": [
      "Epoch: 280/1000. Loss (Train/Test): 0.000/6.088. Accuracy (Train/Test): 1.000/0.562\n"
     ]
    },
    {
     "name": "stderr",
     "output_type": "stream",
     "text": [
      " 28%|██▊       | 281/1000 [1:29:41<3:49:06, 19.12s/it]"
     ]
    },
    {
     "name": "stdout",
     "output_type": "stream",
     "text": [
      "Epoch: 281/1000. Loss (Train/Test): 0.000/6.095. Accuracy (Train/Test): 1.000/0.563\n"
     ]
    },
    {
     "name": "stderr",
     "output_type": "stream",
     "text": [
      " 28%|██▊       | 282/1000 [1:30:00<3:48:12, 19.07s/it]"
     ]
    },
    {
     "name": "stdout",
     "output_type": "stream",
     "text": [
      "Epoch: 282/1000. Loss (Train/Test): 0.000/6.102. Accuracy (Train/Test): 1.000/0.562\n"
     ]
    },
    {
     "name": "stderr",
     "output_type": "stream",
     "text": [
      " 28%|██▊       | 283/1000 [1:30:20<3:48:49, 19.15s/it]"
     ]
    },
    {
     "name": "stdout",
     "output_type": "stream",
     "text": [
      "Epoch: 283/1000. Loss (Train/Test): 0.000/6.110. Accuracy (Train/Test): 1.000/0.562\n"
     ]
    },
    {
     "name": "stderr",
     "output_type": "stream",
     "text": [
      " 28%|██▊       | 284/1000 [1:30:39<3:49:18, 19.22s/it]"
     ]
    },
    {
     "name": "stdout",
     "output_type": "stream",
     "text": [
      "Epoch: 284/1000. Loss (Train/Test): 0.000/6.116. Accuracy (Train/Test): 1.000/0.562\n"
     ]
    },
    {
     "name": "stderr",
     "output_type": "stream",
     "text": [
      " 28%|██▊       | 285/1000 [1:30:58<3:49:06, 19.23s/it]"
     ]
    },
    {
     "name": "stdout",
     "output_type": "stream",
     "text": [
      "Epoch: 285/1000. Loss (Train/Test): 0.000/6.124. Accuracy (Train/Test): 1.000/0.562\n"
     ]
    },
    {
     "name": "stderr",
     "output_type": "stream",
     "text": [
      " 29%|██▊       | 286/1000 [1:31:18<3:50:43, 19.39s/it]"
     ]
    },
    {
     "name": "stdout",
     "output_type": "stream",
     "text": [
      "Epoch: 286/1000. Loss (Train/Test): 0.000/6.130. Accuracy (Train/Test): 1.000/0.562\n"
     ]
    },
    {
     "name": "stderr",
     "output_type": "stream",
     "text": [
      " 29%|██▊       | 287/1000 [1:31:38<3:51:03, 19.44s/it]"
     ]
    },
    {
     "name": "stdout",
     "output_type": "stream",
     "text": [
      "Epoch: 287/1000. Loss (Train/Test): 0.000/6.137. Accuracy (Train/Test): 1.000/0.562\n"
     ]
    },
    {
     "name": "stderr",
     "output_type": "stream",
     "text": [
      " 29%|██▉       | 288/1000 [1:31:57<3:51:35, 19.52s/it]"
     ]
    },
    {
     "name": "stdout",
     "output_type": "stream",
     "text": [
      "Epoch: 288/1000. Loss (Train/Test): 0.000/6.144. Accuracy (Train/Test): 1.000/0.562\n"
     ]
    },
    {
     "name": "stderr",
     "output_type": "stream",
     "text": [
      " 29%|██▉       | 289/1000 [1:32:17<3:50:05, 19.42s/it]"
     ]
    },
    {
     "name": "stdout",
     "output_type": "stream",
     "text": [
      "Epoch: 289/1000. Loss (Train/Test): 0.000/6.151. Accuracy (Train/Test): 1.000/0.562\n"
     ]
    },
    {
     "name": "stderr",
     "output_type": "stream",
     "text": [
      " 29%|██▉       | 290/1000 [1:32:36<3:49:20, 19.38s/it]"
     ]
    },
    {
     "name": "stdout",
     "output_type": "stream",
     "text": [
      "Epoch: 290/1000. Loss (Train/Test): 0.000/6.156. Accuracy (Train/Test): 1.000/0.562\n"
     ]
    },
    {
     "name": "stderr",
     "output_type": "stream",
     "text": [
      " 29%|██▉       | 291/1000 [1:32:55<3:48:18, 19.32s/it]"
     ]
    },
    {
     "name": "stdout",
     "output_type": "stream",
     "text": [
      "Epoch: 291/1000. Loss (Train/Test): 0.000/6.166. Accuracy (Train/Test): 1.000/0.562\n"
     ]
    },
    {
     "name": "stderr",
     "output_type": "stream",
     "text": [
      " 29%|██▉       | 292/1000 [1:33:14<3:47:49, 19.31s/it]"
     ]
    },
    {
     "name": "stdout",
     "output_type": "stream",
     "text": [
      "Epoch: 292/1000. Loss (Train/Test): 0.000/6.171. Accuracy (Train/Test): 1.000/0.562\n"
     ]
    },
    {
     "name": "stderr",
     "output_type": "stream",
     "text": [
      " 29%|██▉       | 293/1000 [1:33:33<3:46:49, 19.25s/it]"
     ]
    },
    {
     "name": "stdout",
     "output_type": "stream",
     "text": [
      "Epoch: 293/1000. Loss (Train/Test): 0.000/6.177. Accuracy (Train/Test): 1.000/0.562\n"
     ]
    },
    {
     "name": "stderr",
     "output_type": "stream",
     "text": [
      " 29%|██▉       | 294/1000 [1:33:53<3:46:33, 19.25s/it]"
     ]
    },
    {
     "name": "stdout",
     "output_type": "stream",
     "text": [
      "Epoch: 294/1000. Loss (Train/Test): 0.000/6.186. Accuracy (Train/Test): 1.000/0.562\n"
     ]
    },
    {
     "name": "stderr",
     "output_type": "stream",
     "text": [
      " 30%|██▉       | 295/1000 [1:34:12<3:44:57, 19.15s/it]"
     ]
    },
    {
     "name": "stdout",
     "output_type": "stream",
     "text": [
      "Epoch: 295/1000. Loss (Train/Test): 0.000/6.192. Accuracy (Train/Test): 1.000/0.562\n"
     ]
    },
    {
     "name": "stderr",
     "output_type": "stream",
     "text": [
      " 30%|██▉       | 296/1000 [1:34:31<3:44:31, 19.14s/it]"
     ]
    },
    {
     "name": "stdout",
     "output_type": "stream",
     "text": [
      "Epoch: 296/1000. Loss (Train/Test): 0.000/6.202. Accuracy (Train/Test): 1.000/0.562\n"
     ]
    },
    {
     "name": "stderr",
     "output_type": "stream",
     "text": [
      " 30%|██▉       | 297/1000 [1:34:50<3:43:55, 19.11s/it]"
     ]
    },
    {
     "name": "stdout",
     "output_type": "stream",
     "text": [
      "Epoch: 297/1000. Loss (Train/Test): 0.000/6.205. Accuracy (Train/Test): 1.000/0.562\n"
     ]
    },
    {
     "name": "stderr",
     "output_type": "stream",
     "text": [
      " 30%|██▉       | 298/1000 [1:35:09<3:43:04, 19.07s/it]"
     ]
    },
    {
     "name": "stdout",
     "output_type": "stream",
     "text": [
      "Epoch: 298/1000. Loss (Train/Test): 0.000/6.213. Accuracy (Train/Test): 1.000/0.563\n"
     ]
    },
    {
     "name": "stderr",
     "output_type": "stream",
     "text": [
      " 30%|██▉       | 299/1000 [1:35:28<3:42:47, 19.07s/it]"
     ]
    },
    {
     "name": "stdout",
     "output_type": "stream",
     "text": [
      "Epoch: 299/1000. Loss (Train/Test): 0.000/6.221. Accuracy (Train/Test): 1.000/0.563\n"
     ]
    },
    {
     "name": "stderr",
     "output_type": "stream",
     "text": [
      " 30%|███       | 300/1000 [1:35:47<3:43:02, 19.12s/it]"
     ]
    },
    {
     "name": "stdout",
     "output_type": "stream",
     "text": [
      "Epoch: 300/1000. Loss (Train/Test): 0.000/6.227. Accuracy (Train/Test): 1.000/0.563\n"
     ]
    },
    {
     "name": "stderr",
     "output_type": "stream",
     "text": [
      " 30%|███       | 301/1000 [1:36:07<3:44:28, 19.27s/it]"
     ]
    },
    {
     "name": "stdout",
     "output_type": "stream",
     "text": [
      "Epoch: 301/1000. Loss (Train/Test): 0.000/6.234. Accuracy (Train/Test): 1.000/0.562\n"
     ]
    },
    {
     "name": "stderr",
     "output_type": "stream",
     "text": [
      " 30%|███       | 302/1000 [1:36:26<3:43:48, 19.24s/it]"
     ]
    },
    {
     "name": "stdout",
     "output_type": "stream",
     "text": [
      "Epoch: 302/1000. Loss (Train/Test): 0.000/6.241. Accuracy (Train/Test): 1.000/0.562\n"
     ]
    },
    {
     "name": "stderr",
     "output_type": "stream",
     "text": [
      " 30%|███       | 303/1000 [1:36:45<3:43:37, 19.25s/it]"
     ]
    },
    {
     "name": "stdout",
     "output_type": "stream",
     "text": [
      "Epoch: 303/1000. Loss (Train/Test): 0.000/6.245. Accuracy (Train/Test): 1.000/0.563\n"
     ]
    },
    {
     "name": "stderr",
     "output_type": "stream",
     "text": [
      " 30%|███       | 304/1000 [1:37:04<3:43:22, 19.26s/it]"
     ]
    },
    {
     "name": "stdout",
     "output_type": "stream",
     "text": [
      "Epoch: 304/1000. Loss (Train/Test): 0.000/6.255. Accuracy (Train/Test): 1.000/0.561\n"
     ]
    },
    {
     "name": "stderr",
     "output_type": "stream",
     "text": [
      " 30%|███       | 305/1000 [1:37:23<3:41:55, 19.16s/it]"
     ]
    },
    {
     "name": "stdout",
     "output_type": "stream",
     "text": [
      "Epoch: 305/1000. Loss (Train/Test): 0.000/6.260. Accuracy (Train/Test): 1.000/0.563\n"
     ]
    },
    {
     "name": "stderr",
     "output_type": "stream",
     "text": [
      " 31%|███       | 306/1000 [1:37:43<3:41:50, 19.18s/it]"
     ]
    },
    {
     "name": "stdout",
     "output_type": "stream",
     "text": [
      "Epoch: 306/1000. Loss (Train/Test): 0.000/6.267. Accuracy (Train/Test): 1.000/0.563\n"
     ]
    },
    {
     "name": "stderr",
     "output_type": "stream",
     "text": [
      " 31%|███       | 307/1000 [1:38:02<3:41:02, 19.14s/it]"
     ]
    },
    {
     "name": "stdout",
     "output_type": "stream",
     "text": [
      "Epoch: 307/1000. Loss (Train/Test): 0.000/6.273. Accuracy (Train/Test): 1.000/0.563\n"
     ]
    },
    {
     "name": "stderr",
     "output_type": "stream",
     "text": [
      " 31%|███       | 308/1000 [1:38:21<3:40:30, 19.12s/it]"
     ]
    },
    {
     "name": "stdout",
     "output_type": "stream",
     "text": [
      "Epoch: 308/1000. Loss (Train/Test): 0.000/6.280. Accuracy (Train/Test): 1.000/0.562\n"
     ]
    },
    {
     "name": "stderr",
     "output_type": "stream",
     "text": [
      " 31%|███       | 309/1000 [1:38:40<3:40:08, 19.11s/it]"
     ]
    },
    {
     "name": "stdout",
     "output_type": "stream",
     "text": [
      "Epoch: 309/1000. Loss (Train/Test): 0.000/6.287. Accuracy (Train/Test): 1.000/0.562\n"
     ]
    },
    {
     "name": "stderr",
     "output_type": "stream",
     "text": [
      " 31%|███       | 310/1000 [1:38:59<3:40:11, 19.15s/it]"
     ]
    },
    {
     "name": "stdout",
     "output_type": "stream",
     "text": [
      "Epoch: 310/1000. Loss (Train/Test): 0.000/6.295. Accuracy (Train/Test): 1.000/0.563\n"
     ]
    },
    {
     "name": "stderr",
     "output_type": "stream",
     "text": [
      " 31%|███       | 311/1000 [1:39:18<3:40:24, 19.19s/it]"
     ]
    },
    {
     "name": "stdout",
     "output_type": "stream",
     "text": [
      "Epoch: 311/1000. Loss (Train/Test): 0.000/6.300. Accuracy (Train/Test): 1.000/0.562\n"
     ]
    },
    {
     "name": "stderr",
     "output_type": "stream",
     "text": [
      " 31%|███       | 312/1000 [1:39:37<3:39:22, 19.13s/it]"
     ]
    },
    {
     "name": "stdout",
     "output_type": "stream",
     "text": [
      "Epoch: 312/1000. Loss (Train/Test): 0.000/6.309. Accuracy (Train/Test): 1.000/0.562\n"
     ]
    },
    {
     "name": "stderr",
     "output_type": "stream",
     "text": [
      " 31%|███▏      | 313/1000 [1:39:56<3:39:16, 19.15s/it]"
     ]
    },
    {
     "name": "stdout",
     "output_type": "stream",
     "text": [
      "Epoch: 313/1000. Loss (Train/Test): 0.000/6.316. Accuracy (Train/Test): 1.000/0.562\n"
     ]
    },
    {
     "name": "stderr",
     "output_type": "stream",
     "text": [
      " 31%|███▏      | 314/1000 [1:40:15<3:38:15, 19.09s/it]"
     ]
    },
    {
     "name": "stdout",
     "output_type": "stream",
     "text": [
      "Epoch: 314/1000. Loss (Train/Test): 0.000/6.321. Accuracy (Train/Test): 1.000/0.562\n"
     ]
    }
   ],
   "source": [
    "train_losses, train_accuracies, test_losses, test_accuracies = \\\n",
    "      train(train_loader, test_loader, resnet, class_nn, criterion, \n",
    "            optimizer_class, device, num_epochs=1000, scheduler=scheduler, optimizer_enc=optimizer_enc)"
   ]
  },
  {
   "cell_type": "code",
   "execution_count": 416,
   "id": "deb72b4b",
   "metadata": {},
   "outputs": [],
   "source": [
    "torch.save(class_nn.state_dict(), 'class_nn_subseq.pt')"
   ]
  },
  {
   "cell_type": "code",
   "execution_count": 105,
   "id": "a62d9a6d",
   "metadata": {},
   "outputs": [
    {
     "data": {
      "image/png": "[encoded data removed]",
      "text/plain": [
       "<Figure size 800x500 with 1 Axes>"
      ]
     },
     "metadata": {},
     "output_type": "display_data"
    }
   ],
   "source": [
    "title = 'Loss'\n",
    "label1 = 'Train'\n",
    "label2 = 'Test'\n",
    "xlabel = 'Epoch'\n",
    "ylabel = 'Loss'\n",
    "plot([train_losses, test_losses], [label1, label2], len(train_losses), title, xlabel, ylabel)"
   ]
  },
  {
   "cell_type": "code",
   "execution_count": 106,
   "id": "bb5cfdea",
   "metadata": {},
   "outputs": [
    {
     "data": {
      "image/png": "[encoded data removed]",
      "text/plain": [
       "<Figure size 800x500 with 1 Axes>"
      ]
     },
     "metadata": {},
     "output_type": "display_data"
    }
   ],
   "source": [
    "title = 'Accuracy'\n",
    "label1 = 'Train'\n",
    "label2 = 'Test'\n",
    "xlabel = 'Epoch'\n",
    "ylabel = 'Accuracy'\n",
    "plot([train_accuracies, test_accuracies], [label1, label2], len(train_losses), title, xlabel, ylabel)"
   ]
  },
  {
   "cell_type": "code",
   "execution_count": 702,
   "id": "5e6e33b8",
   "metadata": {},
   "outputs": [
    {
     "data": {
      "image/png": "[encoded data removed]",
      "text/plain": [
       "<Figure size 800x500 with 1 Axes>"
      ]
     },
     "metadata": {},
     "output_type": "display_data"
    }
   ],
   "source": [
    "title = 'Accuracy'\n",
    "label1 = 'Train'\n",
    "label2 = 'Test'\n",
    "xlabel = 'Epoch'\n",
    "ylabel = 'Accuracy'\n",
    "plot([train_accuracies, test_accuracies], [label1, label2], len(train_losses), title, xlabel, ylabel)"
   ]
  },
  {
   "cell_type": "code",
   "execution_count": null,
   "id": "59e7978e",
   "metadata": {},
   "outputs": [],
   "source": []
  }
 ],
 "metadata": {
  "kernelspec": {
   "display_name": "Python 3 (ipykernel)",
   "language": "python",
   "name": "python3"
  },
  "language_info": {
   "codemirror_mode": {
    "name": "ipython",
    "version": 3
   },
   "file_extension": ".py",
   "mimetype": "text/x-python",
   "name": "python",
   "nbconvert_exporter": "python",
   "pygments_lexer": "ipython3",
   "version": "3.7.12"
  }
 },
 "nbformat": 4,
 "nbformat_minor": 5
}
