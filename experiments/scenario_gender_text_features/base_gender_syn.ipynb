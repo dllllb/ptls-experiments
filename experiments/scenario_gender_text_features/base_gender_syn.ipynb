{
 "cells": [
  {
   "cell_type": "code",
   "execution_count": 1,
   "metadata": {
    "execution": {
     "iopub.execute_input": "2023-02-22T09:28:22.751472Z",
     "iopub.status.busy": "2023-02-22T09:28:22.750807Z",
     "iopub.status.idle": "2023-02-22T09:28:32.887112Z",
     "shell.execute_reply": "2023-02-22T09:28:32.885710Z"
    },
    "tags": []
   },
   "outputs": [],
   "source": [
    "import pyspark\n",
    "import pandas as pd\n",
    "import torch\n",
    "import pytorch_lightning as pl\n",
    "import matplotlib.pyplot as plt\n",
    "import warnings\n",
    "\n",
    "from pathlib import Path\n",
    "\n",
    "from pytorch_lightning.loggers import TensorBoardLogger\n",
    "\n",
    "from pyspark.sql import SparkSession\n",
    "from pyspark.sql import functions as F\n",
    "\n",
    "from functools import partial\n",
    "from ptls.nn import TrxEncoder, RnnSeqEncoder\n",
    "from ptls.frames.coles import CoLESModule\n",
    "from ptls.preprocessing import PandasDataPreprocessor\n",
    "from ptls.data_load.datasets import MemoryMapDataset\n",
    "from ptls.frames.coles import ColesDataset\n",
    "from ptls.frames.coles.split_strategy import SampleSlices\n",
    "from ptls.frames import PtlsDataModule\n",
    "from ptls.data_load.iterable_processing import ISeqLenLimit, FeatureFilter\n",
    "from ptls.data_load.utils import collate_feature_dict\n",
    "from ptls.frames.inference_module import InferenceModule\n",
    "\n",
    "from sklearn.preprocessing import MaxAbsScaler, LabelEncoder\n",
    "from sklearn.metrics import RocCurveDisplay\n",
    "\n",
    "from lightgbm import LGBMClassifier"
   ]
  },
  {
   "cell_type": "code",
   "execution_count": 2,
   "metadata": {
    "execution": {
     "iopub.execute_input": "2023-02-22T09:28:32.893726Z",
     "iopub.status.busy": "2023-02-22T09:28:32.893162Z",
     "iopub.status.idle": "2023-02-22T09:28:32.914246Z",
     "shell.execute_reply": "2023-02-22T09:28:32.913038Z"
    },
    "tags": []
   },
   "outputs": [
    {
     "name": "stderr",
     "output_type": "stream",
     "text": [
      "Global seed set to 42\n"
     ]
    },
    {
     "data": {
      "text/plain": [
       "42"
      ]
     },
     "execution_count": 2,
     "metadata": {},
     "output_type": "execute_result"
    }
   ],
   "source": [
    "warnings.filterwarnings('ignore')\n",
    "data_path = Path('data')\n",
    "pl.seed_everything(42)"
   ]
  },
  {
   "cell_type": "code",
   "execution_count": 3,
   "metadata": {
    "execution": {
     "iopub.execute_input": "2023-02-22T09:28:32.944589Z",
     "iopub.status.busy": "2023-02-22T09:28:32.944230Z",
     "iopub.status.idle": "2023-02-22T09:28:50.156661Z",
     "shell.execute_reply": "2023-02-22T09:28:50.155941Z"
    },
    "tags": []
   },
   "outputs": [],
   "source": [
    "joined = pd.read_csv(data_path / 'dataset_aug_syn_03.csv').drop(columns=['mcc_description'])\n",
    "joined.rename(columns={'aug_mcc_description': 'mcc_description'}, inplace=True)"
   ]
  },
  {
   "cell_type": "code",
   "execution_count": 4,
   "metadata": {
    "execution": {
     "iopub.execute_input": "2023-02-22T09:28:50.162201Z",
     "iopub.status.busy": "2023-02-22T09:28:50.161815Z",
     "iopub.status.idle": "2023-02-22T09:29:06.872102Z",
     "shell.execute_reply": "2023-02-22T09:29:06.871294Z"
    }
   },
   "outputs": [],
   "source": [
    "label_encoder = LabelEncoder()\n",
    "joined['mcc_code'] = label_encoder.fit_transform(joined['mcc_description'])\n",
    "joined.drop(columns=['mcc_description'], inplace=True)"
   ]
  },
  {
   "cell_type": "code",
   "execution_count": 5,
   "metadata": {
    "execution": {
     "iopub.execute_input": "2023-02-22T09:29:06.879678Z",
     "iopub.status.busy": "2023-02-22T09:29:06.879447Z",
     "iopub.status.idle": "2023-02-22T09:29:06.883828Z",
     "shell.execute_reply": "2023-02-22T09:29:06.883254Z"
    },
    "tags": []
   },
   "outputs": [],
   "source": [
    "preprocessor = PandasDataPreprocessor(\n",
    "    col_id='customer_id',\n",
    "    col_event_time='event_time',\n",
    "    event_time_transformation='none',\n",
    "    cols_category=['tr_type', 'term_id', 'mcc_code'],\n",
    "    cols_numerical=['amount'],\n",
    ")"
   ]
  },
  {
   "cell_type": "code",
   "execution_count": 6,
   "metadata": {
    "execution": {
     "iopub.execute_input": "2023-02-22T09:29:06.887942Z",
     "iopub.status.busy": "2023-02-22T09:29:06.887695Z",
     "iopub.status.idle": "2023-02-22T09:29:45.718813Z",
     "shell.execute_reply": "2023-02-22T09:29:45.718116Z"
    },
    "tags": []
   },
   "outputs": [],
   "source": [
    "dataset = MemoryMapDataset(\n",
    "    data=preprocessor.fit_transform(joined),\n",
    "    i_filters=[\n",
    "        ISeqLenLimit(max_seq_len=2000),\n",
    "        FeatureFilter(keep_feature_names='customer_id')\n",
    "    ]\n",
    ")"
   ]
  },
  {
   "cell_type": "code",
   "execution_count": 7,
   "metadata": {
    "execution": {
     "iopub.execute_input": "2023-02-22T09:29:45.724127Z",
     "iopub.status.busy": "2023-02-22T09:29:45.723808Z",
     "iopub.status.idle": "2023-02-22T09:29:45.728262Z",
     "shell.execute_reply": "2023-02-22T09:29:45.727688Z"
    },
    "tags": []
   },
   "outputs": [],
   "source": [
    "TRAIN_SIZE = int(len(dataset) * 0.8)\n",
    "VAL_SIZE = len(dataset) - TRAIN_SIZE\n",
    "\n",
    "train, val = torch.utils.data.random_split(dataset, [TRAIN_SIZE, VAL_SIZE])"
   ]
  },
  {
   "cell_type": "code",
   "execution_count": 8,
   "metadata": {
    "execution": {
     "iopub.execute_input": "2023-02-22T09:29:45.732148Z",
     "iopub.status.busy": "2023-02-22T09:29:45.731874Z",
     "iopub.status.idle": "2023-02-22T09:29:53.051317Z",
     "shell.execute_reply": "2023-02-22T09:29:53.050531Z"
    },
    "tags": []
   },
   "outputs": [],
   "source": [
    "trx_encoder_params = dict(\n",
    "    embeddings_noise=0.003,\n",
    "    numeric_values={'amount': 'identity'},\n",
    "    embeddings={\n",
    "        'tr_type': {'in': 100, 'out': 24},\n",
    "        'mcc_code': {'in': joined['mcc_code'].max(), 'out': 312}\n",
    "    },\n",
    "    norm_embeddings=False,\n",
    ")\n",
    "\n",
    "seq_encoder = RnnSeqEncoder(\n",
    "    trx_encoder=TrxEncoder(**trx_encoder_params),\n",
    "    hidden_size=1024,\n",
    "    type='gru',\n",
    "    bidir=False,\n",
    "    trainable_starter='static'\n",
    ")\n",
    "\n",
    "model = CoLESModule(\n",
    "    seq_encoder=seq_encoder,\n",
    "    optimizer_partial=partial(torch.optim.Adam, lr=0.002, weight_decay=0.0),\n",
    "    lr_scheduler_partial=partial(torch.optim.lr_scheduler.StepLR, step_size=10, gamma=0.9025),\n",
    ")"
   ]
  },
  {
   "cell_type": "code",
   "execution_count": 9,
   "metadata": {
    "execution": {
     "iopub.execute_input": "2023-02-22T09:29:53.056973Z",
     "iopub.status.busy": "2023-02-22T09:29:53.056606Z",
     "iopub.status.idle": "2023-02-22T09:29:53.061839Z",
     "shell.execute_reply": "2023-02-22T09:29:53.061183Z"
    },
    "tags": []
   },
   "outputs": [],
   "source": [
    "train_dl = PtlsDataModule(\n",
    "    train_data=ColesDataset(\n",
    "        train,\n",
    "        splitter=SampleSlices(\n",
    "            split_count=5,\n",
    "            cnt_min=15,\n",
    "            cnt_max=75,\n",
    "        ),\n",
    "    ),\n",
    "    train_num_workers=8,\n",
    "    train_batch_size=128,\n",
    "    valid_data=ColesDataset(\n",
    "        val,\n",
    "        splitter=SampleSlices(\n",
    "            split_count=5,\n",
    "            cnt_min=25,\n",
    "            cnt_max=100\n",
    "        )\n",
    "    ),\n",
    "    valid_batch_size=512,\n",
    "    valid_num_workers=16\n",
    ")"
   ]
  },
  {
   "cell_type": "code",
   "execution_count": 10,
   "metadata": {
    "execution": {
     "iopub.execute_input": "2023-02-22T09:29:53.064974Z",
     "iopub.status.busy": "2023-02-22T09:29:53.064668Z",
     "iopub.status.idle": "2023-02-22T09:29:53.179746Z",
     "shell.execute_reply": "2023-02-22T09:29:53.179004Z"
    },
    "tags": []
   },
   "outputs": [
    {
     "name": "stderr",
     "output_type": "stream",
     "text": [
      "GPU available: True, used: True\n",
      "TPU available: False, using: 0 TPU cores\n",
      "IPU available: False, using: 0 IPUs\n",
      "HPU available: False, using: 0 HPUs\n"
     ]
    }
   ],
   "source": [
    "trainer = pl.Trainer(\n",
    "    max_epochs=150,\n",
    "    gpus=[1] if torch.cuda.is_available() else 0,\n",
    "    enable_progress_bar=False,\n",
    "    logger=TensorBoardLogger('lightning_logs', name='category_aug_03')\n",
    ")"
   ]
  },
  {
   "cell_type": "code",
   "execution_count": 11,
   "metadata": {
    "execution": {
     "iopub.execute_input": "2023-02-22T09:29:53.184152Z",
     "iopub.status.busy": "2023-02-22T09:29:53.183721Z",
     "iopub.status.idle": "2023-02-22T11:41:20.736947Z",
     "shell.execute_reply": "2023-02-22T11:41:20.736045Z"
    },
    "tags": []
   },
   "outputs": [
    {
     "name": "stderr",
     "output_type": "stream",
     "text": [
      "Missing logger folder: lightning_logs/category_aug_03\n",
      "LOCAL_RANK: 0 - CUDA_VISIBLE_DEVICES: [0,1]\n",
      "\n",
      "  | Name               | Type            | Params\n",
      "-------------------------------------------------------\n",
      "0 | _loss              | ContrastiveLoss | 0     \n",
      "1 | _seq_encoder       | RnnSeqEncoder   | 1.0 B \n",
      "2 | _validation_metric | BatchRecallTopK | 0     \n",
      "3 | _head              | Head            | 0     \n",
      "-------------------------------------------------------\n",
      "1.0 B     Trainable params\n",
      "0         Non-trainable params\n",
      "1.0 B     Total params\n",
      "4,060.010 Total estimated model params size (MB)\n",
      "2023-02-22 12:29:56.854020: I tensorflow/core/platform/cpu_feature_guard.cc:193] This TensorFlow binary is optimized with oneAPI Deep Neural Network Library (oneDNN) to use the following CPU instructions in performance-critical operations:  AVX2 AVX512F AVX512_VNNI FMA\n",
      "To enable them in other operations, rebuild TensorFlow with the appropriate compiler flags.\n",
      "2023-02-22 12:29:57.002465: I tensorflow/core/util/port.cc:104] oneDNN custom operations are on. You may see slightly different numerical results due to floating-point round-off errors from different computation orders. To turn them off, set the environment variable `TF_ENABLE_ONEDNN_OPTS=0`.\n",
      "2023-02-22 12:29:59.228587: W tensorflow/compiler/xla/stream_executor/platform/default/dso_loader.cc:64] Could not load dynamic library 'libnvinfer.so.7'; dlerror: libnvinfer.so.7: cannot open shared object file: No such file or directory; LD_LIBRARY_PATH: /usr/local/nvidia/lib:/usr/local/nvidia/lib64\n",
      "2023-02-22 12:29:59.228808: W tensorflow/compiler/xla/stream_executor/platform/default/dso_loader.cc:64] Could not load dynamic library 'libnvinfer_plugin.so.7'; dlerror: libnvinfer_plugin.so.7: cannot open shared object file: No such file or directory; LD_LIBRARY_PATH: /usr/local/nvidia/lib:/usr/local/nvidia/lib64\n",
      "2023-02-22 12:29:59.228825: W tensorflow/compiler/tf2tensorrt/utils/py_utils.cc:38] TF-TRT Warning: Cannot dlopen some TensorRT libraries. If you would like to use Nvidia GPU with TensorRT, please make sure the missing libraries mentioned above are installed properly.\n"
     ]
    },
    {
     "name": "stdout",
     "output_type": "stream",
     "text": [
      "{'loss': tensor(14.2628), 'seq_len': tensor(42.1021), 'recall_top_k': tensor(0.3659)}\n",
      "CPU times: user 50min 12s, sys: 1h 13min, total: 2h 3min 13s\n",
      "Wall time: 2h 11min 27s\n"
     ]
    }
   ],
   "source": [
    "%%time\n",
    "trainer.fit(model, train_dl)\n",
    "print(trainer.logged_metrics)"
   ]
  },
  {
   "cell_type": "markdown",
   "metadata": {},
   "source": [
    "### Using embeddings for downstream task"
   ]
  },
  {
   "cell_type": "code",
   "execution_count": 12,
   "metadata": {
    "execution": {
     "iopub.execute_input": "2023-02-22T11:41:20.745305Z",
     "iopub.status.busy": "2023-02-22T11:41:20.744981Z",
     "iopub.status.idle": "2023-02-22T11:41:20.750058Z",
     "shell.execute_reply": "2023-02-22T11:41:20.749410Z"
    },
    "tags": []
   },
   "outputs": [],
   "source": [
    "train_dl = torch.utils.data.DataLoader(\n",
    "    dataset=train,\n",
    "    collate_fn=collate_feature_dict,\n",
    "    shuffle=False,\n",
    "    batch_size=512,\n",
    "    num_workers=4\n",
    ")\n",
    "\n",
    "val_dl = torch.utils.data.DataLoader(\n",
    "    dataset=val,\n",
    "    collate_fn=collate_feature_dict,\n",
    "    shuffle=False,\n",
    "    batch_size=512,\n",
    "    num_workers=4\n",
    ")"
   ]
  },
  {
   "cell_type": "code",
   "execution_count": 13,
   "metadata": {
    "execution": {
     "iopub.execute_input": "2023-02-22T11:41:20.753104Z",
     "iopub.status.busy": "2023-02-22T11:41:20.752777Z",
     "iopub.status.idle": "2023-02-22T11:41:20.757794Z",
     "shell.execute_reply": "2023-02-22T11:41:20.757143Z"
    },
    "tags": []
   },
   "outputs": [],
   "source": [
    "inf_model = InferenceModule(\n",
    "    seq_encoder\n",
    ")"
   ]
  },
  {
   "cell_type": "code",
   "execution_count": 14,
   "metadata": {
    "execution": {
     "iopub.execute_input": "2023-02-22T11:41:20.760493Z",
     "iopub.status.busy": "2023-02-22T11:41:20.760180Z",
     "iopub.status.idle": "2023-02-22T11:42:00.197971Z",
     "shell.execute_reply": "2023-02-22T11:42:00.197231Z"
    },
    "tags": []
   },
   "outputs": [
    {
     "name": "stderr",
     "output_type": "stream",
     "text": [
      "LOCAL_RANK: 0 - CUDA_VISIBLE_DEVICES: [0,1]\n",
      "LOCAL_RANK: 0 - CUDA_VISIBLE_DEVICES: [0,1]\n"
     ]
    }
   ],
   "source": [
    "df_train = pd.concat(trainer.predict(inf_model, train_dl))\n",
    "df_val = pd.concat(trainer.predict(inf_model, val_dl))"
   ]
  },
  {
   "cell_type": "code",
   "execution_count": 15,
   "metadata": {
    "execution": {
     "iopub.execute_input": "2023-02-22T11:42:00.201998Z",
     "iopub.status.busy": "2023-02-22T11:42:00.201359Z",
     "iopub.status.idle": "2023-02-22T11:42:00.210678Z",
     "shell.execute_reply": "2023-02-22T11:42:00.210227Z"
    },
    "tags": []
   },
   "outputs": [],
   "source": [
    "target_df = pd.read_csv(data_path / 'gender_train.csv')"
   ]
  },
  {
   "cell_type": "code",
   "execution_count": 16,
   "metadata": {
    "execution": {
     "iopub.execute_input": "2023-02-22T11:42:00.213407Z",
     "iopub.status.busy": "2023-02-22T11:42:00.213113Z",
     "iopub.status.idle": "2023-02-22T11:42:00.288959Z",
     "shell.execute_reply": "2023-02-22T11:42:00.288134Z"
    },
    "tags": []
   },
   "outputs": [],
   "source": [
    "df_train = df_train.merge(target_df, how='left', on='customer_id').dropna()\n",
    "df_val = df_val.merge(target_df, how='left', on='customer_id').dropna()"
   ]
  },
  {
   "cell_type": "code",
   "execution_count": 17,
   "metadata": {
    "execution": {
     "iopub.execute_input": "2023-02-22T11:42:00.292292Z",
     "iopub.status.busy": "2023-02-22T11:42:00.291968Z",
     "iopub.status.idle": "2023-02-22T11:42:00.438317Z",
     "shell.execute_reply": "2023-02-22T11:42:00.437691Z"
    },
    "tags": []
   },
   "outputs": [],
   "source": [
    "X_train = df_train.drop(columns=['gender'])\n",
    "y_train = df_train['gender']\n",
    "X_val = df_val.drop(columns=['gender'])\n",
    "y_val = df_val['gender']\n",
    "scaler = MaxAbsScaler().fit(X_train)\n",
    "X_train = scaler.transform(X_train)\n",
    "X_val = scaler.transform(X_val)"
   ]
  },
  {
   "cell_type": "code",
   "execution_count": 18,
   "metadata": {
    "execution": {
     "iopub.execute_input": "2023-02-22T11:42:00.441571Z",
     "iopub.status.busy": "2023-02-22T11:42:00.441253Z",
     "iopub.status.idle": "2023-02-22T11:42:00.445469Z",
     "shell.execute_reply": "2023-02-22T11:42:00.444983Z"
    },
    "tags": []
   },
   "outputs": [],
   "source": [
    "model = LGBMClassifier(\n",
    "    n_estimators=500,\n",
    "    boosting_type='gbdt',\n",
    "    objective='binary',\n",
    "    metric='auc',\n",
    "    subsample=0.5,\n",
    "    subsample_freq=1,\n",
    "    learning_rate=0.02,\n",
    "    feature_fraction=0.75,\n",
    "    max_depth=6,\n",
    "    lambda_l1=1,\n",
    "    lambda_l2=1,\n",
    "    min_data_in_leaf=50,\n",
    "    random_state=42,\n",
    "    n_jobs=8\n",
    ")"
   ]
  },
  {
   "cell_type": "code",
   "execution_count": 19,
   "metadata": {
    "execution": {
     "iopub.execute_input": "2023-02-22T11:42:00.448094Z",
     "iopub.status.busy": "2023-02-22T11:42:00.447799Z",
     "iopub.status.idle": "2023-02-22T11:42:05.788173Z",
     "shell.execute_reply": "2023-02-22T11:42:05.787537Z"
    },
    "tags": []
   },
   "outputs": [
    {
     "name": "stdout",
     "output_type": "stream",
     "text": [
      "[LightGBM] [Warning] lambda_l1 is set=1, reg_alpha=0.0 will be ignored. Current value: lambda_l1=1\n",
      "[LightGBM] [Warning] feature_fraction is set=0.75, colsample_bytree=1.0 will be ignored. Current value: feature_fraction=0.75\n",
      "[LightGBM] [Warning] lambda_l2 is set=1, reg_lambda=0.0 will be ignored. Current value: lambda_l2=1\n",
      "[LightGBM] [Warning] min_data_in_leaf is set=50, min_child_samples=20 will be ignored. Current value: min_data_in_leaf=50\n",
      "[1]\tvalid_0's auc: 0.60436\n",
      "[2]\tvalid_0's auc: 0.617719\n",
      "[3]\tvalid_0's auc: 0.630845\n",
      "[4]\tvalid_0's auc: 0.635587\n",
      "[5]\tvalid_0's auc: 0.639497\n",
      "[6]\tvalid_0's auc: 0.646441\n",
      "[7]\tvalid_0's auc: 0.65746\n",
      "[8]\tvalid_0's auc: 0.66231\n",
      "[9]\tvalid_0's auc: 0.663474\n",
      "[10]\tvalid_0's auc: 0.663397\n",
      "[11]\tvalid_0's auc: 0.665352\n",
      "[12]\tvalid_0's auc: 0.665031\n",
      "[13]\tvalid_0's auc: 0.66614\n",
      "[14]\tvalid_0's auc: 0.665487\n",
      "[15]\tvalid_0's auc: 0.666741\n",
      "[16]\tvalid_0's auc: 0.666944\n",
      "[17]\tvalid_0's auc: 0.668175\n",
      "[18]\tvalid_0's auc: 0.670105\n",
      "[19]\tvalid_0's auc: 0.671106\n",
      "[20]\tvalid_0's auc: 0.670664\n",
      "[21]\tvalid_0's auc: 0.673446\n",
      "[22]\tvalid_0's auc: 0.673727\n",
      "[23]\tvalid_0's auc: 0.674398\n",
      "[24]\tvalid_0's auc: 0.675205\n",
      "[25]\tvalid_0's auc: 0.676597\n",
      "[26]\tvalid_0's auc: 0.675375\n",
      "[27]\tvalid_0's auc: 0.674913\n",
      "[28]\tvalid_0's auc: 0.677012\n",
      "[29]\tvalid_0's auc: 0.677107\n",
      "[30]\tvalid_0's auc: 0.678315\n",
      "[31]\tvalid_0's auc: 0.67885\n",
      "[32]\tvalid_0's auc: 0.680175\n",
      "[33]\tvalid_0's auc: 0.681099\n",
      "[34]\tvalid_0's auc: 0.680978\n",
      "[35]\tvalid_0's auc: 0.68223\n",
      "[36]\tvalid_0's auc: 0.681916\n",
      "[37]\tvalid_0's auc: 0.681765\n",
      "[38]\tvalid_0's auc: 0.681007\n",
      "[39]\tvalid_0's auc: 0.682112\n",
      "[40]\tvalid_0's auc: 0.682584\n",
      "[41]\tvalid_0's auc: 0.683435\n",
      "[42]\tvalid_0's auc: 0.684361\n",
      "[43]\tvalid_0's auc: 0.685042\n",
      "[44]\tvalid_0's auc: 0.684557\n",
      "[45]\tvalid_0's auc: 0.684441\n",
      "[46]\tvalid_0's auc: 0.684752\n",
      "[47]\tvalid_0's auc: 0.684322\n",
      "[48]\tvalid_0's auc: 0.685288\n",
      "[49]\tvalid_0's auc: 0.684809\n",
      "[50]\tvalid_0's auc: 0.68638\n",
      "[51]\tvalid_0's auc: 0.686611\n",
      "[52]\tvalid_0's auc: 0.686936\n",
      "[53]\tvalid_0's auc: 0.686803\n",
      "[54]\tvalid_0's auc: 0.686299\n",
      "[55]\tvalid_0's auc: 0.686305\n",
      "[56]\tvalid_0's auc: 0.686433\n",
      "[57]\tvalid_0's auc: 0.685659\n",
      "[58]\tvalid_0's auc: 0.685858\n",
      "[59]\tvalid_0's auc: 0.685231\n",
      "[60]\tvalid_0's auc: 0.685132\n",
      "[61]\tvalid_0's auc: 0.686059\n",
      "[62]\tvalid_0's auc: 0.685582\n",
      "[63]\tvalid_0's auc: 0.685594\n",
      "[64]\tvalid_0's auc: 0.685871\n",
      "[65]\tvalid_0's auc: 0.685782\n",
      "[66]\tvalid_0's auc: 0.687021\n",
      "[67]\tvalid_0's auc: 0.687501\n",
      "[68]\tvalid_0's auc: 0.687527\n",
      "[69]\tvalid_0's auc: 0.687187\n",
      "[70]\tvalid_0's auc: 0.68758\n",
      "[71]\tvalid_0's auc: 0.687696\n",
      "[72]\tvalid_0's auc: 0.686724\n",
      "[73]\tvalid_0's auc: 0.686702\n",
      "[74]\tvalid_0's auc: 0.686478\n",
      "[75]\tvalid_0's auc: 0.686641\n",
      "[76]\tvalid_0's auc: 0.686029\n",
      "[77]\tvalid_0's auc: 0.686669\n",
      "[78]\tvalid_0's auc: 0.686647\n",
      "[79]\tvalid_0's auc: 0.686354\n",
      "[80]\tvalid_0's auc: 0.686355\n",
      "[81]\tvalid_0's auc: 0.686685\n",
      "[82]\tvalid_0's auc: 0.68602\n",
      "[83]\tvalid_0's auc: 0.686204\n",
      "[84]\tvalid_0's auc: 0.686214\n",
      "[85]\tvalid_0's auc: 0.686547\n",
      "[86]\tvalid_0's auc: 0.686491\n",
      "[87]\tvalid_0's auc: 0.686586\n",
      "[88]\tvalid_0's auc: 0.686855\n",
      "[89]\tvalid_0's auc: 0.68726\n",
      "[90]\tvalid_0's auc: 0.688387\n",
      "[91]\tvalid_0's auc: 0.688457\n",
      "[92]\tvalid_0's auc: 0.688701\n",
      "[93]\tvalid_0's auc: 0.689132\n",
      "[94]\tvalid_0's auc: 0.68895\n",
      "[95]\tvalid_0's auc: 0.689667\n",
      "[96]\tvalid_0's auc: 0.689799\n",
      "[97]\tvalid_0's auc: 0.689902\n",
      "[98]\tvalid_0's auc: 0.690312\n",
      "[99]\tvalid_0's auc: 0.690279\n",
      "[100]\tvalid_0's auc: 0.690406\n",
      "[101]\tvalid_0's auc: 0.690437\n",
      "[102]\tvalid_0's auc: 0.690068\n",
      "[103]\tvalid_0's auc: 0.689616\n",
      "[104]\tvalid_0's auc: 0.689623\n",
      "[105]\tvalid_0's auc: 0.689537\n",
      "[106]\tvalid_0's auc: 0.690783\n",
      "[107]\tvalid_0's auc: 0.690525\n",
      "[108]\tvalid_0's auc: 0.690646\n",
      "[109]\tvalid_0's auc: 0.690704\n",
      "[110]\tvalid_0's auc: 0.691029\n",
      "[111]\tvalid_0's auc: 0.691145\n",
      "[112]\tvalid_0's auc: 0.691162\n",
      "[113]\tvalid_0's auc: 0.691397\n",
      "[114]\tvalid_0's auc: 0.691863\n",
      "[115]\tvalid_0's auc: 0.691442\n",
      "[116]\tvalid_0's auc: 0.691688\n",
      "[117]\tvalid_0's auc: 0.6915\n",
      "[118]\tvalid_0's auc: 0.69152\n",
      "[119]\tvalid_0's auc: 0.691448\n",
      "[120]\tvalid_0's auc: 0.691306\n",
      "[121]\tvalid_0's auc: 0.691202\n",
      "[122]\tvalid_0's auc: 0.691172\n",
      "[123]\tvalid_0's auc: 0.691451\n",
      "[124]\tvalid_0's auc: 0.691538\n",
      "[125]\tvalid_0's auc: 0.691585\n",
      "[126]\tvalid_0's auc: 0.691478\n",
      "[127]\tvalid_0's auc: 0.691692\n",
      "[128]\tvalid_0's auc: 0.691876\n",
      "[129]\tvalid_0's auc: 0.691457\n",
      "[130]\tvalid_0's auc: 0.691748\n",
      "[131]\tvalid_0's auc: 0.692787\n",
      "[132]\tvalid_0's auc: 0.692907\n",
      "[133]\tvalid_0's auc: 0.692712\n",
      "[134]\tvalid_0's auc: 0.692546\n",
      "[135]\tvalid_0's auc: 0.692754\n",
      "[136]\tvalid_0's auc: 0.692579\n",
      "[137]\tvalid_0's auc: 0.69236\n",
      "[138]\tvalid_0's auc: 0.692274\n",
      "[139]\tvalid_0's auc: 0.692364\n",
      "[140]\tvalid_0's auc: 0.692745\n",
      "[141]\tvalid_0's auc: 0.693352\n",
      "[142]\tvalid_0's auc: 0.693619\n",
      "[143]\tvalid_0's auc: 0.693812\n",
      "[144]\tvalid_0's auc: 0.693692\n",
      "[145]\tvalid_0's auc: 0.693684\n",
      "[146]\tvalid_0's auc: 0.693677\n",
      "[147]\tvalid_0's auc: 0.693868\n",
      "[148]\tvalid_0's auc: 0.693364\n",
      "[149]\tvalid_0's auc: 0.692981\n",
      "[150]\tvalid_0's auc: 0.693515\n",
      "[151]\tvalid_0's auc: 0.693648\n",
      "[152]\tvalid_0's auc: 0.693851\n",
      "[153]\tvalid_0's auc: 0.693367\n",
      "[154]\tvalid_0's auc: 0.693427\n",
      "[155]\tvalid_0's auc: 0.693095\n",
      "[156]\tvalid_0's auc: 0.693131\n",
      "[157]\tvalid_0's auc: 0.692676\n",
      "[158]\tvalid_0's auc: 0.692394\n",
      "[159]\tvalid_0's auc: 0.692076\n",
      "[160]\tvalid_0's auc: 0.69236\n",
      "[161]\tvalid_0's auc: 0.692526\n",
      "[162]\tvalid_0's auc: 0.692058\n",
      "[163]\tvalid_0's auc: 0.692087\n",
      "[164]\tvalid_0's auc: 0.692026\n",
      "[165]\tvalid_0's auc: 0.692306\n",
      "[166]\tvalid_0's auc: 0.692308\n",
      "[167]\tvalid_0's auc: 0.692748\n",
      "[168]\tvalid_0's auc: 0.692813\n",
      "[169]\tvalid_0's auc: 0.692675\n",
      "[170]\tvalid_0's auc: 0.692724\n",
      "[171]\tvalid_0's auc: 0.693105\n",
      "[172]\tvalid_0's auc: 0.693304\n",
      "[173]\tvalid_0's auc: 0.693502\n",
      "[174]\tvalid_0's auc: 0.693556\n",
      "[175]\tvalid_0's auc: 0.693552\n",
      "[176]\tvalid_0's auc: 0.693608\n",
      "[177]\tvalid_0's auc: 0.693855\n",
      "[178]\tvalid_0's auc: 0.694168\n",
      "[179]\tvalid_0's auc: 0.693401\n",
      "[180]\tvalid_0's auc: 0.693489\n",
      "[181]\tvalid_0's auc: 0.692975\n",
      "[182]\tvalid_0's auc: 0.692991\n",
      "[183]\tvalid_0's auc: 0.692962\n",
      "[184]\tvalid_0's auc: 0.693258\n",
      "[185]\tvalid_0's auc: 0.693082\n",
      "[186]\tvalid_0's auc: 0.693352\n",
      "[187]\tvalid_0's auc: 0.693352\n",
      "[188]\tvalid_0's auc: 0.693677\n",
      "[189]\tvalid_0's auc: 0.693656\n",
      "[190]\tvalid_0's auc: 0.693241\n",
      "[191]\tvalid_0's auc: 0.693557\n",
      "[192]\tvalid_0's auc: 0.693486\n",
      "[193]\tvalid_0's auc: 0.69331\n",
      "[194]\tvalid_0's auc: 0.693385\n",
      "[195]\tvalid_0's auc: 0.693469\n",
      "[196]\tvalid_0's auc: 0.69327\n",
      "[197]\tvalid_0's auc: 0.693024\n",
      "[198]\tvalid_0's auc: 0.692966\n",
      "[199]\tvalid_0's auc: 0.692988\n",
      "[200]\tvalid_0's auc: 0.692907\n",
      "[201]\tvalid_0's auc: 0.693013\n",
      "[202]\tvalid_0's auc: 0.693225\n",
      "[203]\tvalid_0's auc: 0.693229\n",
      "[204]\tvalid_0's auc: 0.693081\n",
      "[205]\tvalid_0's auc: 0.693307\n",
      "[206]\tvalid_0's auc: 0.693537\n",
      "[207]\tvalid_0's auc: 0.693725\n",
      "[208]\tvalid_0's auc: 0.693784\n",
      "[209]\tvalid_0's auc: 0.693556\n",
      "[210]\tvalid_0's auc: 0.693576\n",
      "[211]\tvalid_0's auc: 0.693391\n",
      "[212]\tvalid_0's auc: 0.693368\n",
      "[213]\tvalid_0's auc: 0.693374\n",
      "[214]\tvalid_0's auc: 0.693105\n",
      "[215]\tvalid_0's auc: 0.693043\n",
      "[216]\tvalid_0's auc: 0.693027\n",
      "[217]\tvalid_0's auc: 0.692758\n",
      "[218]\tvalid_0's auc: 0.69269\n",
      "[219]\tvalid_0's auc: 0.692693\n",
      "[220]\tvalid_0's auc: 0.692638\n",
      "[221]\tvalid_0's auc: 0.692604\n",
      "[222]\tvalid_0's auc: 0.691975\n",
      "[223]\tvalid_0's auc: 0.691701\n",
      "[224]\tvalid_0's auc: 0.691715\n",
      "[225]\tvalid_0's auc: 0.692153\n",
      "[226]\tvalid_0's auc: 0.692296\n",
      "[227]\tvalid_0's auc: 0.692498\n",
      "[228]\tvalid_0's auc: 0.692916\n",
      "[229]\tvalid_0's auc: 0.693153\n",
      "[230]\tvalid_0's auc: 0.69307\n",
      "[231]\tvalid_0's auc: 0.693195\n",
      "[232]\tvalid_0's auc: 0.693082\n",
      "[233]\tvalid_0's auc: 0.693247\n",
      "[234]\tvalid_0's auc: 0.693228\n",
      "[235]\tvalid_0's auc: 0.693605\n",
      "[236]\tvalid_0's auc: 0.693713\n",
      "[237]\tvalid_0's auc: 0.693973\n",
      "[238]\tvalid_0's auc: 0.693752\n",
      "[239]\tvalid_0's auc: 0.693695\n",
      "[240]\tvalid_0's auc: 0.693741\n",
      "[241]\tvalid_0's auc: 0.693547\n",
      "[242]\tvalid_0's auc: 0.693332\n",
      "[243]\tvalid_0's auc: 0.692803\n",
      "[244]\tvalid_0's auc: 0.692682\n",
      "[245]\tvalid_0's auc: 0.692949\n",
      "[246]\tvalid_0's auc: 0.693135\n",
      "[247]\tvalid_0's auc: 0.692995\n",
      "[248]\tvalid_0's auc: 0.693095\n",
      "[249]\tvalid_0's auc: 0.693044\n",
      "[250]\tvalid_0's auc: 0.692693\n",
      "[251]\tvalid_0's auc: 0.693042\n",
      "[252]\tvalid_0's auc: 0.693144\n",
      "[253]\tvalid_0's auc: 0.693372\n",
      "[254]\tvalid_0's auc: 0.693323\n",
      "[255]\tvalid_0's auc: 0.693374\n",
      "[256]\tvalid_0's auc: 0.69318\n",
      "[257]\tvalid_0's auc: 0.693358\n",
      "[258]\tvalid_0's auc: 0.693526\n",
      "[259]\tvalid_0's auc: 0.69376\n",
      "[260]\tvalid_0's auc: 0.693988\n",
      "[261]\tvalid_0's auc: 0.693395\n",
      "[262]\tvalid_0's auc: 0.693094\n",
      "[263]\tvalid_0's auc: 0.69329\n",
      "[264]\tvalid_0's auc: 0.693284\n",
      "[265]\tvalid_0's auc: 0.693495\n",
      "[266]\tvalid_0's auc: 0.693442\n",
      "[267]\tvalid_0's auc: 0.693567\n",
      "[268]\tvalid_0's auc: 0.694093\n",
      "[269]\tvalid_0's auc: 0.694093\n",
      "[270]\tvalid_0's auc: 0.694335\n",
      "[271]\tvalid_0's auc: 0.694327\n",
      "[272]\tvalid_0's auc: 0.694564\n",
      "[273]\tvalid_0's auc: 0.694678\n",
      "[274]\tvalid_0's auc: 0.694933\n",
      "[275]\tvalid_0's auc: 0.694907\n",
      "[276]\tvalid_0's auc: 0.694928\n",
      "[277]\tvalid_0's auc: 0.694902\n",
      "[278]\tvalid_0's auc: 0.694892\n",
      "[279]\tvalid_0's auc: 0.694842\n",
      "[280]\tvalid_0's auc: 0.695178\n",
      "[281]\tvalid_0's auc: 0.695177\n",
      "[282]\tvalid_0's auc: 0.695388\n",
      "[283]\tvalid_0's auc: 0.695258\n",
      "[284]\tvalid_0's auc: 0.695164\n",
      "[285]\tvalid_0's auc: 0.695253\n",
      "[286]\tvalid_0's auc: 0.695093\n",
      "[287]\tvalid_0's auc: 0.694954\n",
      "[288]\tvalid_0's auc: 0.695178\n",
      "[289]\tvalid_0's auc: 0.695477\n",
      "[290]\tvalid_0's auc: 0.695612\n",
      "[291]\tvalid_0's auc: 0.695505\n",
      "[292]\tvalid_0's auc: 0.695317\n",
      "[293]\tvalid_0's auc: 0.695431\n",
      "[294]\tvalid_0's auc: 0.695565\n",
      "[295]\tvalid_0's auc: 0.695674\n",
      "[296]\tvalid_0's auc: 0.695993\n",
      "[297]\tvalid_0's auc: 0.695964\n",
      "[298]\tvalid_0's auc: 0.695992\n",
      "[299]\tvalid_0's auc: 0.696297\n",
      "[300]\tvalid_0's auc: 0.696389\n",
      "[301]\tvalid_0's auc: 0.696114\n",
      "[302]\tvalid_0's auc: 0.695836\n",
      "[303]\tvalid_0's auc: 0.696359\n",
      "[304]\tvalid_0's auc: 0.696247\n",
      "[305]\tvalid_0's auc: 0.695808\n",
      "[306]\tvalid_0's auc: 0.695892\n",
      "[307]\tvalid_0's auc: 0.696129\n",
      "[308]\tvalid_0's auc: 0.696149\n",
      "[309]\tvalid_0's auc: 0.695904\n",
      "[310]\tvalid_0's auc: 0.695781\n",
      "[311]\tvalid_0's auc: 0.695717\n",
      "[312]\tvalid_0's auc: 0.695528\n",
      "[313]\tvalid_0's auc: 0.695563\n",
      "[314]\tvalid_0's auc: 0.695454\n",
      "[315]\tvalid_0's auc: 0.695353\n",
      "[316]\tvalid_0's auc: 0.695422\n",
      "[317]\tvalid_0's auc: 0.695327\n",
      "[318]\tvalid_0's auc: 0.695194\n",
      "[319]\tvalid_0's auc: 0.695118\n",
      "[320]\tvalid_0's auc: 0.695079\n",
      "[321]\tvalid_0's auc: 0.695394\n",
      "[322]\tvalid_0's auc: 0.695496\n",
      "[323]\tvalid_0's auc: 0.695398\n",
      "[324]\tvalid_0's auc: 0.695097\n",
      "[325]\tvalid_0's auc: 0.695122\n",
      "[326]\tvalid_0's auc: 0.694667\n",
      "[327]\tvalid_0's auc: 0.694573\n",
      "[328]\tvalid_0's auc: 0.694785\n",
      "[329]\tvalid_0's auc: 0.694949\n",
      "[330]\tvalid_0's auc: 0.695029\n",
      "[331]\tvalid_0's auc: 0.695009\n",
      "[332]\tvalid_0's auc: 0.694938\n",
      "[333]\tvalid_0's auc: 0.694765\n",
      "[334]\tvalid_0's auc: 0.694879\n",
      "[335]\tvalid_0's auc: 0.694924\n",
      "[336]\tvalid_0's auc: 0.694751\n",
      "[337]\tvalid_0's auc: 0.694771\n",
      "[338]\tvalid_0's auc: 0.694771\n",
      "[339]\tvalid_0's auc: 0.694774\n",
      "[340]\tvalid_0's auc: 0.694697\n",
      "[341]\tvalid_0's auc: 0.694683\n",
      "[342]\tvalid_0's auc: 0.694502\n",
      "[343]\tvalid_0's auc: 0.694339\n",
      "[344]\tvalid_0's auc: 0.694115\n",
      "[345]\tvalid_0's auc: 0.694457\n",
      "[346]\tvalid_0's auc: 0.694228\n",
      "[347]\tvalid_0's auc: 0.694634\n",
      "[348]\tvalid_0's auc: 0.694849\n",
      "[349]\tvalid_0's auc: 0.694938\n",
      "[350]\tvalid_0's auc: 0.695016\n",
      "[351]\tvalid_0's auc: 0.695077\n",
      "[352]\tvalid_0's auc: 0.695057\n",
      "[353]\tvalid_0's auc: 0.695382\n",
      "[354]\tvalid_0's auc: 0.695355\n",
      "[355]\tvalid_0's auc: 0.695568\n",
      "[356]\tvalid_0's auc: 0.695781\n",
      "[357]\tvalid_0's auc: 0.695844\n",
      "[358]\tvalid_0's auc: 0.696207\n",
      "[359]\tvalid_0's auc: 0.696015\n",
      "[360]\tvalid_0's auc: 0.695837\n",
      "[361]\tvalid_0's auc: 0.695941\n",
      "[362]\tvalid_0's auc: 0.695831\n",
      "[363]\tvalid_0's auc: 0.695815\n",
      "[364]\tvalid_0's auc: 0.695902\n",
      "[365]\tvalid_0's auc: 0.695798\n",
      "[366]\tvalid_0's auc: 0.696139\n",
      "[367]\tvalid_0's auc: 0.69596\n",
      "[368]\tvalid_0's auc: 0.696019\n",
      "[369]\tvalid_0's auc: 0.696052\n",
      "[370]\tvalid_0's auc: 0.69601\n",
      "[371]\tvalid_0's auc: 0.695984\n",
      "[372]\tvalid_0's auc: 0.696009\n",
      "[373]\tvalid_0's auc: 0.695753\n",
      "[374]\tvalid_0's auc: 0.695849\n",
      "[375]\tvalid_0's auc: 0.695729\n",
      "[376]\tvalid_0's auc: 0.695729\n",
      "[377]\tvalid_0's auc: 0.695941\n",
      "[378]\tvalid_0's auc: 0.69609\n",
      "[379]\tvalid_0's auc: 0.696104\n",
      "[380]\tvalid_0's auc: 0.695808\n",
      "[381]\tvalid_0's auc: 0.695963\n",
      "[382]\tvalid_0's auc: 0.696113\n",
      "[383]\tvalid_0's auc: 0.696338\n",
      "[384]\tvalid_0's auc: 0.696536\n",
      "[385]\tvalid_0's auc: 0.696781\n",
      "[386]\tvalid_0's auc: 0.697201\n",
      "[387]\tvalid_0's auc: 0.697175\n",
      "[388]\tvalid_0's auc: 0.697429\n",
      "[389]\tvalid_0's auc: 0.697311\n",
      "[390]\tvalid_0's auc: 0.697033\n",
      "[391]\tvalid_0's auc: 0.696872\n",
      "[392]\tvalid_0's auc: 0.6966\n",
      "[393]\tvalid_0's auc: 0.696659\n",
      "[394]\tvalid_0's auc: 0.696419\n",
      "[395]\tvalid_0's auc: 0.696655\n",
      "[396]\tvalid_0's auc: 0.696635\n",
      "[397]\tvalid_0's auc: 0.696393\n",
      "[398]\tvalid_0's auc: 0.696567\n",
      "[399]\tvalid_0's auc: 0.696546\n",
      "[400]\tvalid_0's auc: 0.696294\n",
      "[401]\tvalid_0's auc: 0.696038\n",
      "[402]\tvalid_0's auc: 0.696169\n",
      "[403]\tvalid_0's auc: 0.696344\n",
      "[404]\tvalid_0's auc: 0.696606\n",
      "[405]\tvalid_0's auc: 0.696695\n",
      "[406]\tvalid_0's auc: 0.696467\n",
      "[407]\tvalid_0's auc: 0.6966\n",
      "[408]\tvalid_0's auc: 0.69697\n",
      "[409]\tvalid_0's auc: 0.696538\n",
      "[410]\tvalid_0's auc: 0.696633\n",
      "[411]\tvalid_0's auc: 0.696555\n",
      "[412]\tvalid_0's auc: 0.696565\n",
      "[413]\tvalid_0's auc: 0.696429\n",
      "[414]\tvalid_0's auc: 0.696364\n",
      "[415]\tvalid_0's auc: 0.696549\n",
      "[416]\tvalid_0's auc: 0.696502\n",
      "[417]\tvalid_0's auc: 0.696327\n",
      "[418]\tvalid_0's auc: 0.696331\n",
      "[419]\tvalid_0's auc: 0.696323\n",
      "[420]\tvalid_0's auc: 0.696208\n",
      "[421]\tvalid_0's auc: 0.69618\n",
      "[422]\tvalid_0's auc: 0.696249\n",
      "[423]\tvalid_0's auc: 0.696154\n",
      "[424]\tvalid_0's auc: 0.696078\n",
      "[425]\tvalid_0's auc: 0.696357\n",
      "[426]\tvalid_0's auc: 0.696305\n",
      "[427]\tvalid_0's auc: 0.696408\n",
      "[428]\tvalid_0's auc: 0.696606\n",
      "[429]\tvalid_0's auc: 0.696539\n",
      "[430]\tvalid_0's auc: 0.696645\n",
      "[431]\tvalid_0's auc: 0.696509\n",
      "[432]\tvalid_0's auc: 0.696549\n",
      "[433]\tvalid_0's auc: 0.696284\n",
      "[434]\tvalid_0's auc: 0.696273\n",
      "[435]\tvalid_0's auc: 0.696453\n",
      "[436]\tvalid_0's auc: 0.69632\n",
      "[437]\tvalid_0's auc: 0.696675\n",
      "[438]\tvalid_0's auc: 0.696398\n",
      "[439]\tvalid_0's auc: 0.696373\n",
      "[440]\tvalid_0's auc: 0.69633\n",
      "[441]\tvalid_0's auc: 0.696402\n",
      "[442]\tvalid_0's auc: 0.696406\n",
      "[443]\tvalid_0's auc: 0.696386\n",
      "[444]\tvalid_0's auc: 0.69631\n",
      "[445]\tvalid_0's auc: 0.69618\n",
      "[446]\tvalid_0's auc: 0.696109\n",
      "[447]\tvalid_0's auc: 0.696057\n",
      "[448]\tvalid_0's auc: 0.696155\n",
      "[449]\tvalid_0's auc: 0.695971\n",
      "[450]\tvalid_0's auc: 0.695732\n",
      "[451]\tvalid_0's auc: 0.69574\n",
      "[452]\tvalid_0's auc: 0.695644\n",
      "[453]\tvalid_0's auc: 0.69562\n",
      "[454]\tvalid_0's auc: 0.695362\n",
      "[455]\tvalid_0's auc: 0.695336\n",
      "[456]\tvalid_0's auc: 0.695489\n",
      "[457]\tvalid_0's auc: 0.695457\n",
      "[458]\tvalid_0's auc: 0.695437\n",
      "[459]\tvalid_0's auc: 0.695446\n",
      "[460]\tvalid_0's auc: 0.69556\n",
      "[461]\tvalid_0's auc: 0.695778\n",
      "[462]\tvalid_0's auc: 0.69571\n",
      "[463]\tvalid_0's auc: 0.695661\n",
      "[464]\tvalid_0's auc: 0.695775\n",
      "[465]\tvalid_0's auc: 0.695989\n",
      "[466]\tvalid_0's auc: 0.695833\n",
      "[467]\tvalid_0's auc: 0.695769\n",
      "[468]\tvalid_0's auc: 0.695736\n",
      "[469]\tvalid_0's auc: 0.695778\n",
      "[470]\tvalid_0's auc: 0.695707\n",
      "[471]\tvalid_0's auc: 0.695865\n",
      "[472]\tvalid_0's auc: 0.695925\n",
      "[473]\tvalid_0's auc: 0.695781\n",
      "[474]\tvalid_0's auc: 0.696194\n",
      "[475]\tvalid_0's auc: 0.696369\n",
      "[476]\tvalid_0's auc: 0.696386\n",
      "[477]\tvalid_0's auc: 0.696158\n",
      "[478]\tvalid_0's auc: 0.695944\n",
      "[479]\tvalid_0's auc: 0.695646\n",
      "[480]\tvalid_0's auc: 0.695729\n",
      "[481]\tvalid_0's auc: 0.695762\n",
      "[482]\tvalid_0's auc: 0.695729\n",
      "[483]\tvalid_0's auc: 0.695823\n",
      "[484]\tvalid_0's auc: 0.69599\n",
      "[485]\tvalid_0's auc: 0.695808\n",
      "[486]\tvalid_0's auc: 0.69575\n",
      "[487]\tvalid_0's auc: 0.695752\n",
      "[488]\tvalid_0's auc: 0.695368\n",
      "[489]\tvalid_0's auc: 0.695391\n",
      "[490]\tvalid_0's auc: 0.695044\n",
      "[491]\tvalid_0's auc: 0.695204\n",
      "[492]\tvalid_0's auc: 0.695454\n",
      "[493]\tvalid_0's auc: 0.695382\n",
      "[494]\tvalid_0's auc: 0.695366\n",
      "[495]\tvalid_0's auc: 0.695368\n",
      "[496]\tvalid_0's auc: 0.695128\n",
      "[497]\tvalid_0's auc: 0.694983\n",
      "[498]\tvalid_0's auc: 0.695009\n",
      "[499]\tvalid_0's auc: 0.695154\n",
      "[500]\tvalid_0's auc: 0.695456\n"
     ]
    }
   ],
   "source": [
    "model = model.fit(X_train, y_train, \n",
    "    eval_set=(X_val, y_val),\n",
    "    eval_metric=['roc_auc', 'accuracy'])"
   ]
  },
  {
   "cell_type": "code",
   "execution_count": 20,
   "metadata": {
    "execution": {
     "iopub.execute_input": "2023-02-22T11:42:05.793504Z",
     "iopub.status.busy": "2023-02-22T11:42:05.793208Z",
     "iopub.status.idle": "2023-02-22T11:42:06.476358Z",
     "shell.execute_reply": "2023-02-22T11:42:06.475857Z"
    },
    "tags": []
   },
   "outputs": [
    {
     "data": {
      "image/png": "[encoded data removed]",
      "text/plain": [
       "<Figure size 640x480 with 1 Axes>"
      ]
     },
     "metadata": {},
     "output_type": "display_data"
    },
    {
     "data": {
      "image/png": "[encoded data removed]",
      "text/plain": [
       "<Figure size 640x480 with 1 Axes>"
      ]
     },
     "metadata": {},
     "output_type": "display_data"
    }
   ],
   "source": [
    "RocCurveDisplay.from_estimator(model, X_train, y_train)\n",
    "plt.title('Train ROC')\n",
    "plt.show()\n",
    "RocCurveDisplay.from_estimator(model, X_val, y_val)\n",
    "plt.title('Val ROC')\n",
    "plt.show()"
   ]
  },
  {
   "cell_type": "code",
   "execution_count": null,
   "metadata": {},
   "outputs": [],
   "source": []
  }
 ],
 "metadata": {
  "interpreter": {
   "hash": "2f728aae16f986a2c144cf3883f774129e3492dba91e5b19b6a631d31adb75e4"
  },
  "kernelspec": {
   "display_name": "ptls-kernel",
   "language": "python",
   "name": "python3"
  },
  "language_info": {
   "codemirror_mode": {
    "name": "ipython",
    "version": 3
   },
   "file_extension": ".py",
   "mimetype": "text/x-python",
   "name": "python",
   "nbconvert_exporter": "python",
   "pygments_lexer": "ipython3",
   "version": "3.8.16"
  }
 },
 "nbformat": 4,
 "nbformat_minor": 4
}
