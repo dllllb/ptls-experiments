{
 "cells": [
  {
   "cell_type": "code",
   "execution_count": 1,
   "metadata": {
    "execution": {
     "iopub.execute_input": "2023-03-16T08:04:24.362507Z",
     "iopub.status.busy": "2023-03-16T08:04:24.362142Z",
     "iopub.status.idle": "2023-03-16T08:04:34.631651Z",
     "shell.execute_reply": "2023-03-16T08:04:34.630466Z"
    }
   },
   "outputs": [],
   "source": [
    "import pyspark\n",
    "import pandas as pd\n",
    "import torch\n",
    "import pytorch_lightning as pl\n",
    "import matplotlib.pyplot as plt\n",
    "import warnings\n",
    "\n",
    "from pathlib import Path\n",
    "\n",
    "from pytorch_lightning.loggers import TensorBoardLogger\n",
    "\n",
    "from pyspark.sql import SparkSession\n",
    "from pyspark.sql import functions as F\n",
    "\n",
    "from functools import partial\n",
    "from ptls.nn import TrxEncoder, RnnSeqEncoder\n",
    "from ptls.frames.coles import CoLESModule\n",
    "from ptls.preprocessing import PandasDataPreprocessor\n",
    "from ptls.data_load.datasets import MemoryMapDataset\n",
    "from ptls.frames.coles import ColesDataset\n",
    "from ptls.frames.coles.split_strategy import SampleSlices\n",
    "from ptls.frames import PtlsDataModule\n",
    "from ptls.data_load.iterable_processing import ISeqLenLimit, FeatureFilter\n",
    "from ptls.data_load.utils import collate_feature_dict\n",
    "from ptls.frames.inference_module import InferenceModule\n",
    "\n",
    "from sklearn.preprocessing import MaxAbsScaler\n",
    "from sklearn.metrics import RocCurveDisplay\n",
    "from lightgbm import LGBMClassifier"
   ]
  },
  {
   "cell_type": "code",
   "execution_count": 2,
   "metadata": {
    "execution": {
     "iopub.execute_input": "2023-03-16T08:04:34.636214Z",
     "iopub.status.busy": "2023-03-16T08:04:34.635751Z",
     "iopub.status.idle": "2023-03-16T08:04:34.653532Z",
     "shell.execute_reply": "2023-03-16T08:04:34.652548Z"
    }
   },
   "outputs": [
    {
     "name": "stderr",
     "output_type": "stream",
     "text": [
      "Global seed set to 42\n"
     ]
    },
    {
     "data": {
      "text/plain": [
       "42"
      ]
     },
     "execution_count": 2,
     "metadata": {},
     "output_type": "execute_result"
    }
   ],
   "source": [
    "warnings.filterwarnings('ignore')\n",
    "data_path = Path('data')\n",
    "pl.seed_everything(42)"
   ]
  },
  {
   "cell_type": "code",
   "execution_count": 3,
   "metadata": {
    "execution": {
     "iopub.execute_input": "2023-03-16T08:04:34.685873Z",
     "iopub.status.busy": "2023-03-16T08:04:34.685459Z",
     "iopub.status.idle": "2023-03-16T08:04:40.846876Z",
     "shell.execute_reply": "2023-03-16T08:04:40.846023Z"
    }
   },
   "outputs": [
    {
     "name": "stderr",
     "output_type": "stream",
     "text": [
      "Setting default log level to \"WARN\".\n",
      "To adjust logging level use sc.setLogLevel(newLevel). For SparkR, use setLogLevel(newLevel).\n"
     ]
    },
    {
     "name": "stdout",
     "output_type": "stream",
     "text": [
      "23/03/16 11:04:39 WARN NativeCodeLoader: Unable to load native-hadoop library for your platform... using builtin-java classes where applicable\n",
      "23/03/16 11:04:39 WARN SparkConf: Note that spark.local.dir will be overridden by the value set by the cluster manager (via SPARK_LOCAL_DIRS in mesos/standalone/kubernetes and LOCAL_DIRS in YARN).\n"
     ]
    },
    {
     "data": {
      "text/plain": [
       "[('spark.driver.extraJavaOptions',\n",
       "  '-XX:+IgnoreUnrecognizedVMOptions --add-opens=java.base/java.lang=ALL-UNNAMED --add-opens=java.base/java.lang.invoke=ALL-UNNAMED --add-opens=java.base/java.lang.reflect=ALL-UNNAMED --add-opens=java.base/java.io=ALL-UNNAMED --add-opens=java.base/java.net=ALL-UNNAMED --add-opens=java.base/java.nio=ALL-UNNAMED --add-opens=java.base/java.util=ALL-UNNAMED --add-opens=java.base/java.util.concurrent=ALL-UNNAMED --add-opens=java.base/java.util.concurrent.atomic=ALL-UNNAMED --add-opens=java.base/sun.nio.ch=ALL-UNNAMED --add-opens=java.base/sun.nio.cs=ALL-UNNAMED --add-opens=java.base/sun.security.action=ALL-UNNAMED --add-opens=java.base/sun.util.calendar=ALL-UNNAMED --add-opens=java.security.jgss/sun.security.krb5=ALL-UNNAMED'),\n",
       " ('spark.driver.memoryOverhead', '4g'),\n",
       " ('spark.driver.port', '42485'),\n",
       " ('spark.local.dir', '../../spark_local_dir'),\n",
       " ('spark.executor.id', 'driver'),\n",
       " ('spark.driver.memory', '16g'),\n",
       " ('spark.executor.memory', '16g'),\n",
       " ('spark.app.id', 'local-1678953880239'),\n",
       " ('spark.app.submitTime', '1678953878763'),\n",
       " ('spark.rdd.compress', 'True'),\n",
       " ('spark.executor.extraJavaOptions',\n",
       "  '-XX:+IgnoreUnrecognizedVMOptions --add-opens=java.base/java.lang=ALL-UNNAMED --add-opens=java.base/java.lang.invoke=ALL-UNNAMED --add-opens=java.base/java.lang.reflect=ALL-UNNAMED --add-opens=java.base/java.io=ALL-UNNAMED --add-opens=java.base/java.net=ALL-UNNAMED --add-opens=java.base/java.nio=ALL-UNNAMED --add-opens=java.base/java.util=ALL-UNNAMED --add-opens=java.base/java.util.concurrent=ALL-UNNAMED --add-opens=java.base/java.util.concurrent.atomic=ALL-UNNAMED --add-opens=java.base/sun.nio.ch=ALL-UNNAMED --add-opens=java.base/sun.nio.cs=ALL-UNNAMED --add-opens=java.base/sun.security.action=ALL-UNNAMED --add-opens=java.base/sun.util.calendar=ALL-UNNAMED --add-opens=java.security.jgss/sun.security.krb5=ALL-UNNAMED'),\n",
       " ('spark.serializer.objectStreamReset', '100'),\n",
       " ('spark.sql.shuffle.partitions', '200'),\n",
       " ('spark.master', 'local[*]'),\n",
       " ('spark.submit.pyFiles', ''),\n",
       " ('spark.submit.deployMode', 'client'),\n",
       " ('spark.app.startTime', '1678953878962'),\n",
       " ('spark.app.name', 'PysparkDataPreprocessor'),\n",
       " ('spark.cores.max', '24'),\n",
       " ('spark.driver.host', 'mashekhunov-vm-0'),\n",
       " ('spark.ui.showConsoleProgress', 'true'),\n",
       " ('spark.driver.maxResultSize', '4g'),\n",
       " ('spark.executor.memoryOverhead', '4g')]"
      ]
     },
     "execution_count": 3,
     "metadata": {},
     "output_type": "execute_result"
    }
   ],
   "source": [
    "spark_conf = pyspark.SparkConf()\n",
    "spark_conf.setMaster(\"local[*]\").setAppName(\"PysparkDataPreprocessor\")\n",
    "spark_conf.set(\"spark.driver.maxResultSize\", \"4g\")\n",
    "spark_conf.set(\"spark.executor.memory\", \"16g\")\n",
    "spark_conf.set(\"spark.executor.memoryOverhead\", \"4g\")\n",
    "spark_conf.set(\"spark.driver.memory\", \"16g\")\n",
    "spark_conf.set(\"spark.driver.memoryOverhead\", \"4g\")\n",
    "spark_conf.set(\"spark.cores.max\", \"24\")\n",
    "spark_conf.set(\"spark.sql.shuffle.partitions\", \"200\")\n",
    "spark_conf.set(\"spark.local.dir\", \"../../spark_local_dir\")\n",
    "\n",
    "\n",
    "spark = SparkSession.builder.config(conf=spark_conf).getOrCreate()\n",
    "spark.sparkContext.getConf().getAll()"
   ]
  },
  {
   "cell_type": "code",
   "execution_count": 4,
   "metadata": {
    "execution": {
     "iopub.execute_input": "2023-03-16T08:04:40.851704Z",
     "iopub.status.busy": "2023-03-16T08:04:40.851194Z",
     "iopub.status.idle": "2023-03-16T08:04:46.959915Z",
     "shell.execute_reply": "2023-03-16T08:04:46.958926Z"
    }
   },
   "outputs": [
    {
     "name": "stderr",
     "output_type": "stream",
     "text": [
      "                                                                                \r"
     ]
    },
    {
     "name": "stdout",
     "output_type": "stream",
     "text": [
      "+-----------+-----------+--------+-------+--------+-------+\n",
      "|customer_id|tr_datetime|mcc_code|tr_type|  amount|term_id|\n",
      "+-----------+-----------+--------+-------+--------+-------+\n",
      "|   39026145| 0 10:23:26|    4814|   1030|-2245.92|   null|\n",
      "|   39026145| 1 10:19:29|    6011|   7010|56147.89|   null|\n",
      "+-----------+-----------+--------+-------+--------+-------+\n",
      "only showing top 2 rows\n",
      "\n"
     ]
    }
   ],
   "source": [
    "transactions = spark.read.options(header=True, inferSchema=True).csv(str(data_path / 'transactions.csv'))\n",
    "transactions.show(2)"
   ]
  },
  {
   "cell_type": "code",
   "execution_count": 5,
   "metadata": {
    "execution": {
     "iopub.execute_input": "2023-03-16T08:04:46.963806Z",
     "iopub.status.busy": "2023-03-16T08:04:46.963508Z",
     "iopub.status.idle": "2023-03-16T08:04:46.969290Z",
     "shell.execute_reply": "2023-03-16T08:04:46.968531Z"
    }
   },
   "outputs": [],
   "source": [
    "def _td_gender(df, col_event_time):\n",
    "    df = df.withColumn('_et_day', F.substring(F.lpad(F.col(col_event_time), 15, '0'), 1, 6).cast('float'))\n",
    "\n",
    "    df = df.withColumn('_et_time', F.substring(F.lpad(F.col(col_event_time), 15, '0'), 8, 8))\n",
    "    df = df.withColumn('_et_time', F.regexp_replace('_et_time', r'\\:60$', ':59'))\n",
    "    df = df.withColumn('_et_time', F.unix_timestamp('_et_time', 'HH:mm:ss') / (24 * 60 * 60))\n",
    "\n",
    "    df = df.withColumn('event_time', F.col('_et_day') + F.col('_et_time'))\n",
    "    df = df.drop('_et_day', '_et_time')\n",
    "    return df"
   ]
  },
  {
   "cell_type": "code",
   "execution_count": 6,
   "metadata": {
    "execution": {
     "iopub.execute_input": "2023-03-16T08:04:46.971782Z",
     "iopub.status.busy": "2023-03-16T08:04:46.971516Z",
     "iopub.status.idle": "2023-03-16T08:05:19.996255Z",
     "shell.execute_reply": "2023-03-16T08:05:19.994922Z"
    }
   },
   "outputs": [
    {
     "name": "stderr",
     "output_type": "stream",
     "text": [
      "                                                                                \r"
     ]
    }
   ],
   "source": [
    "dataset_ = _td_gender(transactions, 'tr_datetime').drop('tr_datetime').toPandas()\n",
    "spark.stop()"
   ]
  },
  {
   "cell_type": "code",
   "execution_count": 7,
   "metadata": {
    "execution": {
     "iopub.execute_input": "2023-03-16T08:05:20.002449Z",
     "iopub.status.busy": "2023-03-16T08:05:20.001961Z",
     "iopub.status.idle": "2023-03-16T08:05:20.007457Z",
     "shell.execute_reply": "2023-03-16T08:05:20.006747Z"
    }
   },
   "outputs": [],
   "source": [
    "preprocessor = PandasDataPreprocessor(\n",
    "    col_id='customer_id',\n",
    "    col_event_time='event_time',\n",
    "    event_time_transformation='none',\n",
    "    cols_category=['tr_type', 'term_id', 'mcc_code'],\n",
    "    cols_numerical=['amount'],\n",
    ")"
   ]
  },
  {
   "cell_type": "code",
   "execution_count": 8,
   "metadata": {
    "execution": {
     "iopub.execute_input": "2023-03-16T08:05:20.011158Z",
     "iopub.status.busy": "2023-03-16T08:05:20.010850Z",
     "iopub.status.idle": "2023-03-16T08:05:49.728534Z",
     "shell.execute_reply": "2023-03-16T08:05:49.727682Z"
    }
   },
   "outputs": [],
   "source": [
    "dataset = MemoryMapDataset(\n",
    "    data=preprocessor.fit_transform(dataset_),\n",
    "    i_filters=[\n",
    "        ISeqLenLimit(max_seq_len=2000),\n",
    "        FeatureFilter(keep_feature_names='customer_id')\n",
    "    ]\n",
    ")"
   ]
  },
  {
   "cell_type": "code",
   "execution_count": 9,
   "metadata": {
    "execution": {
     "iopub.execute_input": "2023-03-16T08:05:49.733586Z",
     "iopub.status.busy": "2023-03-16T08:05:49.733295Z",
     "iopub.status.idle": "2023-03-16T08:05:49.737490Z",
     "shell.execute_reply": "2023-03-16T08:05:49.736929Z"
    }
   },
   "outputs": [],
   "source": [
    "TRAIN_SIZE = int(len(dataset) * 0.8)\n",
    "VAL_SIZE = len(dataset) - TRAIN_SIZE\n",
    "\n",
    "train, val = torch.utils.data.random_split(dataset, [TRAIN_SIZE, VAL_SIZE])"
   ]
  },
  {
   "cell_type": "code",
   "execution_count": 10,
   "metadata": {
    "execution": {
     "iopub.execute_input": "2023-03-16T08:05:49.742814Z",
     "iopub.status.busy": "2023-03-16T08:05:49.742164Z",
     "iopub.status.idle": "2023-03-16T08:05:49.873837Z",
     "shell.execute_reply": "2023-03-16T08:05:49.873074Z"
    }
   },
   "outputs": [],
   "source": [
    "trx_encoder_params = dict(\n",
    "    embeddings_noise=0.003,\n",
    "    numeric_values={'amount': 'identity'},\n",
    "    embeddings={\n",
    "        'tr_type': {'in': 100, 'out': 24},\n",
    "        'mcc_code': {'in': 200, 'out': 48}\n",
    "    },\n",
    "    norm_embeddings=False,\n",
    ")\n",
    "\n",
    "seq_encoder = RnnSeqEncoder(\n",
    "    trx_encoder=TrxEncoder(**trx_encoder_params),\n",
    "    hidden_size=1024,\n",
    "    type='gru',\n",
    "    bidir=False,\n",
    "    trainable_starter='static'\n",
    ")\n",
    "\n",
    "model = CoLESModule(\n",
    "    seq_encoder=seq_encoder,\n",
    "    optimizer_partial=partial(torch.optim.Adam, lr=0.002, weight_decay=0.0),\n",
    "    lr_scheduler_partial=partial(torch.optim.lr_scheduler.StepLR, step_size=10, gamma=0.9025),\n",
    ")"
   ]
  },
  {
   "cell_type": "code",
   "execution_count": 11,
   "metadata": {
    "execution": {
     "iopub.execute_input": "2023-03-16T08:05:49.877855Z",
     "iopub.status.busy": "2023-03-16T08:05:49.877462Z",
     "iopub.status.idle": "2023-03-16T08:05:49.882917Z",
     "shell.execute_reply": "2023-03-16T08:05:49.882349Z"
    }
   },
   "outputs": [],
   "source": [
    "train_dl = PtlsDataModule(\n",
    "    train_data=ColesDataset(\n",
    "        train,\n",
    "        splitter=SampleSlices(\n",
    "            split_count=5,\n",
    "            cnt_min=15,\n",
    "            cnt_max=75,\n",
    "        ),\n",
    "    ),\n",
    "    train_num_workers=8,\n",
    "    train_batch_size=128,\n",
    "    valid_data=ColesDataset(\n",
    "        val,\n",
    "        splitter=SampleSlices(\n",
    "            split_count=5,\n",
    "            cnt_min=25,\n",
    "            cnt_max=100\n",
    "        )\n",
    "    ),\n",
    "    valid_batch_size=512,\n",
    "    valid_num_workers=16\n",
    ")"
   ]
  },
  {
   "cell_type": "code",
   "execution_count": 12,
   "metadata": {
    "execution": {
     "iopub.execute_input": "2023-03-16T08:05:49.886816Z",
     "iopub.status.busy": "2023-03-16T08:05:49.886546Z",
     "iopub.status.idle": "2023-03-16T08:05:50.001758Z",
     "shell.execute_reply": "2023-03-16T08:05:50.000883Z"
    }
   },
   "outputs": [
    {
     "name": "stderr",
     "output_type": "stream",
     "text": [
      "GPU available: True, used: True\n",
      "TPU available: False, using: 0 TPU cores\n",
      "IPU available: False, using: 0 IPUs\n",
      "HPU available: False, using: 0 HPUs\n"
     ]
    }
   ],
   "source": [
    "trainer = pl.Trainer(\n",
    "    max_epochs=150,\n",
    "    gpus=[1] if torch.cuda.is_available() else 0,\n",
    "    enable_progress_bar=False,\n",
    "    logger=TensorBoardLogger('lightning_logs', name='no_mcc_code')\n",
    ")"
   ]
  },
  {
   "cell_type": "code",
   "execution_count": 13,
   "metadata": {
    "execution": {
     "iopub.execute_input": "2023-03-16T08:05:50.005938Z",
     "iopub.status.busy": "2023-03-16T08:05:50.005601Z",
     "iopub.status.idle": "2023-03-16T08:29:37.267766Z",
     "shell.execute_reply": "2023-03-16T08:29:37.267071Z"
    }
   },
   "outputs": [
    {
     "name": "stderr",
     "output_type": "stream",
     "text": [
      "LOCAL_RANK: 0 - CUDA_VISIBLE_DEVICES: [0,1,2,3]\n",
      "\n",
      "  | Name               | Type            | Params\n",
      "-------------------------------------------------------\n",
      "0 | _loss              | ContrastiveLoss | 0     \n",
      "1 | _seq_encoder       | RnnSeqEncoder   | 3.4 M \n",
      "2 | _validation_metric | BatchRecallTopK | 0     \n",
      "3 | _head              | Head            | 0     \n",
      "-------------------------------------------------------\n",
      "3.4 M     Trainable params\n",
      "0         Non-trainable params\n",
      "3.4 M     Total params\n",
      "13.557    Total estimated model params size (MB)\n",
      "2023-03-16 11:05:52.710332: I tensorflow/core/platform/cpu_feature_guard.cc:193] This TensorFlow binary is optimized with oneAPI Deep Neural Network Library (oneDNN) to use the following CPU instructions in performance-critical operations:  AVX2 AVX512F AVX512_VNNI FMA\n",
      "To enable them in other operations, rebuild TensorFlow with the appropriate compiler flags.\n",
      "2023-03-16 11:05:52.856926: I tensorflow/core/util/port.cc:104] oneDNN custom operations are on. You may see slightly different numerical results due to floating-point round-off errors from different computation orders. To turn them off, set the environment variable `TF_ENABLE_ONEDNN_OPTS=0`.\n",
      "2023-03-16 11:05:55.078256: W tensorflow/compiler/xla/stream_executor/platform/default/dso_loader.cc:64] Could not load dynamic library 'libnvinfer.so.7'; dlerror: libnvinfer.so.7: cannot open shared object file: No such file or directory; LD_LIBRARY_PATH: /usr/local/nvidia/lib:/usr/local/nvidia/lib64\n",
      "2023-03-16 11:05:55.078447: W tensorflow/compiler/xla/stream_executor/platform/default/dso_loader.cc:64] Could not load dynamic library 'libnvinfer_plugin.so.7'; dlerror: libnvinfer_plugin.so.7: cannot open shared object file: No such file or directory; LD_LIBRARY_PATH: /usr/local/nvidia/lib:/usr/local/nvidia/lib64\n",
      "2023-03-16 11:05:55.078460: W tensorflow/compiler/tf2tensorrt/utils/py_utils.cc:38] TF-TRT Warning: Cannot dlopen some TensorRT libraries. If you would like to use Nvidia GPU with TensorRT, please make sure the missing libraries mentioned above are installed properly.\n"
     ]
    },
    {
     "name": "stdout",
     "output_type": "stream",
     "text": [
      "{'loss': tensor(116.4818), 'seq_len': tensor(43.8083), 'recall_top_k': tensor(0.7922)}\n",
      "CPU times: user 12min 41s, sys: 12min 26s, total: 25min 7s\n",
      "Wall time: 23min 47s\n"
     ]
    }
   ],
   "source": [
    "%%time\n",
    "trainer.fit(model, train_dl)\n",
    "print(trainer.logged_metrics)"
   ]
  },
  {
   "cell_type": "markdown",
   "metadata": {},
   "source": [
    "### Using embeddings for downstream task"
   ]
  },
  {
   "cell_type": "code",
   "execution_count": 14,
   "metadata": {
    "execution": {
     "iopub.execute_input": "2023-03-16T08:29:37.273598Z",
     "iopub.status.busy": "2023-03-16T08:29:37.273290Z",
     "iopub.status.idle": "2023-03-16T08:29:37.280504Z",
     "shell.execute_reply": "2023-03-16T08:29:37.279881Z"
    }
   },
   "outputs": [],
   "source": [
    "train_dl = torch.utils.data.DataLoader(\n",
    "    dataset=train,\n",
    "    collate_fn=collate_feature_dict,\n",
    "    shuffle=False,\n",
    "    batch_size=512,\n",
    "    num_workers=4\n",
    ")\n",
    "\n",
    "val_dl = torch.utils.data.DataLoader(\n",
    "    dataset=val,\n",
    "    collate_fn=collate_feature_dict,\n",
    "    shuffle=False,\n",
    "    batch_size=512,\n",
    "    num_workers=4\n",
    ")"
   ]
  },
  {
   "cell_type": "code",
   "execution_count": 15,
   "metadata": {
    "execution": {
     "iopub.execute_input": "2023-03-16T08:29:37.283394Z",
     "iopub.status.busy": "2023-03-16T08:29:37.283088Z",
     "iopub.status.idle": "2023-03-16T08:29:37.286528Z",
     "shell.execute_reply": "2023-03-16T08:29:37.285952Z"
    }
   },
   "outputs": [],
   "source": [
    "inf_model = InferenceModule(\n",
    "    seq_encoder\n",
    ")"
   ]
  },
  {
   "cell_type": "code",
   "execution_count": 16,
   "metadata": {
    "execution": {
     "iopub.execute_input": "2023-03-16T08:29:37.289465Z",
     "iopub.status.busy": "2023-03-16T08:29:37.289178Z",
     "iopub.status.idle": "2023-03-16T08:29:43.870410Z",
     "shell.execute_reply": "2023-03-16T08:29:43.869626Z"
    }
   },
   "outputs": [
    {
     "name": "stderr",
     "output_type": "stream",
     "text": [
      "LOCAL_RANK: 0 - CUDA_VISIBLE_DEVICES: [0,1,2,3]\n",
      "LOCAL_RANK: 0 - CUDA_VISIBLE_DEVICES: [0,1,2,3]\n"
     ]
    }
   ],
   "source": [
    "df_train = pd.concat(trainer.predict(inf_model, train_dl))\n",
    "df_val = pd.concat(trainer.predict(inf_model, val_dl))"
   ]
  },
  {
   "cell_type": "code",
   "execution_count": 17,
   "metadata": {
    "execution": {
     "iopub.execute_input": "2023-03-16T08:29:43.876046Z",
     "iopub.status.busy": "2023-03-16T08:29:43.875737Z",
     "iopub.status.idle": "2023-03-16T08:29:43.887846Z",
     "shell.execute_reply": "2023-03-16T08:29:43.887243Z"
    }
   },
   "outputs": [],
   "source": [
    "target_df = pd.read_csv(data_path / 'gender_train.csv')"
   ]
  },
  {
   "cell_type": "code",
   "execution_count": 18,
   "metadata": {
    "execution": {
     "iopub.execute_input": "2023-03-16T08:29:43.892765Z",
     "iopub.status.busy": "2023-03-16T08:29:43.892436Z",
     "iopub.status.idle": "2023-03-16T08:29:43.972445Z",
     "shell.execute_reply": "2023-03-16T08:29:43.971817Z"
    }
   },
   "outputs": [],
   "source": [
    "df_train = df_train.merge(target_df, how='left', on='customer_id').dropna()\n",
    "df_val = df_val.merge(target_df, how='left', on='customer_id').dropna()"
   ]
  },
  {
   "cell_type": "code",
   "execution_count": 19,
   "metadata": {
    "execution": {
     "iopub.execute_input": "2023-03-16T08:29:43.976028Z",
     "iopub.status.busy": "2023-03-16T08:29:43.975754Z",
     "iopub.status.idle": "2023-03-16T08:29:44.129293Z",
     "shell.execute_reply": "2023-03-16T08:29:44.128699Z"
    }
   },
   "outputs": [],
   "source": [
    "X_train = df_train.drop(columns=['gender'])\n",
    "y_train = df_train['gender']\n",
    "X_val = df_val.drop(columns=['gender'])\n",
    "y_val = df_val['gender']\n",
    "scaler = MaxAbsScaler().fit(X_train)\n",
    "X_train = scaler.transform(X_train)\n",
    "X_val = scaler.transform(X_val)"
   ]
  },
  {
   "cell_type": "code",
   "execution_count": 20,
   "metadata": {
    "execution": {
     "iopub.execute_input": "2023-03-16T08:29:44.132444Z",
     "iopub.status.busy": "2023-03-16T08:29:44.132166Z",
     "iopub.status.idle": "2023-03-16T08:29:44.135920Z",
     "shell.execute_reply": "2023-03-16T08:29:44.135458Z"
    }
   },
   "outputs": [],
   "source": [
    "model = LGBMClassifier(\n",
    "    n_estimators=500,\n",
    "    boosting_type='gbdt',\n",
    "    objective='binary',\n",
    "    metric='auc',\n",
    "    subsample=0.5,\n",
    "    subsample_freq=1,\n",
    "    learning_rate=0.02,\n",
    "    feature_fraction=0.75,\n",
    "    max_depth=6,\n",
    "    lambda_l1=1,\n",
    "    lambda_l2=1,\n",
    "    min_data_in_leaf=50,\n",
    "    random_state=42,\n",
    "    n_jobs=8\n",
    ")"
   ]
  },
  {
   "cell_type": "code",
   "execution_count": 21,
   "metadata": {
    "execution": {
     "iopub.execute_input": "2023-03-16T08:29:44.138608Z",
     "iopub.status.busy": "2023-03-16T08:29:44.138359Z",
     "iopub.status.idle": "2023-03-16T08:29:49.925377Z",
     "shell.execute_reply": "2023-03-16T08:29:49.924538Z"
    }
   },
   "outputs": [
    {
     "name": "stdout",
     "output_type": "stream",
     "text": [
      "[LightGBM] [Warning] lambda_l1 is set=1, reg_alpha=0.0 will be ignored. Current value: lambda_l1=1\n",
      "[LightGBM] [Warning] feature_fraction is set=0.75, colsample_bytree=1.0 will be ignored. Current value: feature_fraction=0.75\n",
      "[LightGBM] [Warning] lambda_l2 is set=1, reg_lambda=0.0 will be ignored. Current value: lambda_l2=1\n",
      "[LightGBM] [Warning] min_data_in_leaf is set=50, min_child_samples=20 will be ignored. Current value: min_data_in_leaf=50\n",
      "[1]\tvalid_0's auc: 0.755957\n",
      "[2]\tvalid_0's auc: 0.805457\n",
      "[3]\tvalid_0's auc: 0.82123\n",
      "[4]\tvalid_0's auc: 0.826907\n",
      "[5]\tvalid_0's auc: 0.827904\n",
      "[6]\tvalid_0's auc: 0.832788\n",
      "[7]\tvalid_0's auc: 0.835355\n",
      "[8]\tvalid_0's auc: 0.837039\n",
      "[9]\tvalid_0's auc: 0.839094\n",
      "[10]\tvalid_0's auc: 0.839202\n",
      "[11]\tvalid_0's auc: 0.840985\n",
      "[12]\tvalid_0's auc: 0.840831\n",
      "[13]\tvalid_0's auc: 0.842639\n",
      "[14]\tvalid_0's auc: 0.843937\n",
      "[15]\tvalid_0's auc: 0.844823\n",
      "[16]\tvalid_0's auc: 0.843662\n",
      "[17]\tvalid_0's auc: 0.845069\n",
      "[18]\tvalid_0's auc: 0.845271\n",
      "[19]\tvalid_0's auc: 0.845913\n",
      "[20]\tvalid_0's auc: 0.845784\n",
      "[21]\tvalid_0's auc: 0.845254\n",
      "[22]\tvalid_0's auc: 0.845589\n",
      "[23]\tvalid_0's auc: 0.845307\n",
      "[24]\tvalid_0's auc: 0.845886\n",
      "[25]\tvalid_0's auc: 0.84663\n",
      "[26]\tvalid_0's auc: 0.846426\n",
      "[27]\tvalid_0's auc: 0.846207\n",
      "[28]\tvalid_0's auc: 0.845873\n",
      "[29]\tvalid_0's auc: 0.845416\n",
      "[30]\tvalid_0's auc: 0.845627\n",
      "[31]\tvalid_0's auc: 0.846516\n",
      "[32]\tvalid_0's auc: 0.846504\n",
      "[33]\tvalid_0's auc: 0.847137\n",
      "[34]\tvalid_0's auc: 0.846782\n",
      "[35]\tvalid_0's auc: 0.847254\n",
      "[36]\tvalid_0's auc: 0.847274\n",
      "[37]\tvalid_0's auc: 0.847276\n",
      "[38]\tvalid_0's auc: 0.84753\n",
      "[39]\tvalid_0's auc: 0.847839\n",
      "[40]\tvalid_0's auc: 0.848179\n",
      "[41]\tvalid_0's auc: 0.848199\n",
      "[42]\tvalid_0's auc: 0.848372\n",
      "[43]\tvalid_0's auc: 0.84847\n",
      "[44]\tvalid_0's auc: 0.8487\n",
      "[45]\tvalid_0's auc: 0.848625\n",
      "[46]\tvalid_0's auc: 0.848346\n",
      "[47]\tvalid_0's auc: 0.848183\n",
      "[48]\tvalid_0's auc: 0.847943\n",
      "[49]\tvalid_0's auc: 0.847333\n",
      "[50]\tvalid_0's auc: 0.847273\n",
      "[51]\tvalid_0's auc: 0.847375\n",
      "[52]\tvalid_0's auc: 0.847673\n",
      "[53]\tvalid_0's auc: 0.847817\n",
      "[54]\tvalid_0's auc: 0.848114\n",
      "[55]\tvalid_0's auc: 0.848654\n",
      "[56]\tvalid_0's auc: 0.848616\n",
      "[57]\tvalid_0's auc: 0.848489\n",
      "[58]\tvalid_0's auc: 0.848567\n",
      "[59]\tvalid_0's auc: 0.849119\n",
      "[60]\tvalid_0's auc: 0.84929\n",
      "[61]\tvalid_0's auc: 0.849696\n",
      "[62]\tvalid_0's auc: 0.849698\n",
      "[63]\tvalid_0's auc: 0.849902\n",
      "[64]\tvalid_0's auc: 0.84975\n",
      "[65]\tvalid_0's auc: 0.849795\n",
      "[66]\tvalid_0's auc: 0.849953\n",
      "[67]\tvalid_0's auc: 0.850318\n",
      "[68]\tvalid_0's auc: 0.850607\n",
      "[69]\tvalid_0's auc: 0.850711\n",
      "[70]\tvalid_0's auc: 0.851109\n",
      "[71]\tvalid_0's auc: 0.850847\n",
      "[72]\tvalid_0's auc: 0.8512\n",
      "[73]\tvalid_0's auc: 0.851435\n",
      "[74]\tvalid_0's auc: 0.851692\n",
      "[75]\tvalid_0's auc: 0.852004\n",
      "[76]\tvalid_0's auc: 0.852179\n",
      "[77]\tvalid_0's auc: 0.852183\n",
      "[78]\tvalid_0's auc: 0.85227\n",
      "[79]\tvalid_0's auc: 0.85211\n",
      "[80]\tvalid_0's auc: 0.852344\n",
      "[81]\tvalid_0's auc: 0.852594\n",
      "[82]\tvalid_0's auc: 0.852818\n",
      "[83]\tvalid_0's auc: 0.853134\n",
      "[84]\tvalid_0's auc: 0.853203\n",
      "[85]\tvalid_0's auc: 0.853144\n",
      "[86]\tvalid_0's auc: 0.853011\n",
      "[87]\tvalid_0's auc: 0.853108\n",
      "[88]\tvalid_0's auc: 0.853176\n",
      "[89]\tvalid_0's auc: 0.853361\n",
      "[90]\tvalid_0's auc: 0.853498\n",
      "[91]\tvalid_0's auc: 0.853842\n",
      "[92]\tvalid_0's auc: 0.853945\n",
      "[93]\tvalid_0's auc: 0.854241\n",
      "[94]\tvalid_0's auc: 0.854252\n",
      "[95]\tvalid_0's auc: 0.854531\n",
      "[96]\tvalid_0's auc: 0.854784\n",
      "[97]\tvalid_0's auc: 0.85494\n",
      "[98]\tvalid_0's auc: 0.854839\n",
      "[99]\tvalid_0's auc: 0.854986\n",
      "[100]\tvalid_0's auc: 0.855157\n",
      "[101]\tvalid_0's auc: 0.855649\n",
      "[102]\tvalid_0's auc: 0.855794\n",
      "[103]\tvalid_0's auc: 0.855931\n",
      "[104]\tvalid_0's auc: 0.855911\n",
      "[105]\tvalid_0's auc: 0.855947\n",
      "[106]\tvalid_0's auc: 0.856009\n",
      "[107]\tvalid_0's auc: 0.856123\n",
      "[108]\tvalid_0's auc: 0.856191\n",
      "[109]\tvalid_0's auc: 0.856284\n",
      "[110]\tvalid_0's auc: 0.856402\n",
      "[111]\tvalid_0's auc: 0.856562\n",
      "[112]\tvalid_0's auc: 0.856613\n",
      "[113]\tvalid_0's auc: 0.856561\n",
      "[114]\tvalid_0's auc: 0.85671\n",
      "[115]\tvalid_0's auc: 0.856983\n",
      "[116]\tvalid_0's auc: 0.857094\n",
      "[117]\tvalid_0's auc: 0.857091\n",
      "[118]\tvalid_0's auc: 0.857242\n",
      "[119]\tvalid_0's auc: 0.857247\n",
      "[120]\tvalid_0's auc: 0.857351\n",
      "[121]\tvalid_0's auc: 0.857543\n",
      "[122]\tvalid_0's auc: 0.857551\n",
      "[123]\tvalid_0's auc: 0.857779\n",
      "[124]\tvalid_0's auc: 0.857561\n",
      "[125]\tvalid_0's auc: 0.857425\n",
      "[126]\tvalid_0's auc: 0.857478\n",
      "[127]\tvalid_0's auc: 0.857237\n",
      "[128]\tvalid_0's auc: 0.857487\n",
      "[129]\tvalid_0's auc: 0.857477\n",
      "[130]\tvalid_0's auc: 0.85735\n",
      "[131]\tvalid_0's auc: 0.857428\n",
      "[132]\tvalid_0's auc: 0.85753\n",
      "[133]\tvalid_0's auc: 0.857539\n",
      "[134]\tvalid_0's auc: 0.857477\n",
      "[135]\tvalid_0's auc: 0.857679\n",
      "[136]\tvalid_0's auc: 0.857737\n",
      "[137]\tvalid_0's auc: 0.85777\n",
      "[138]\tvalid_0's auc: 0.857928\n",
      "[139]\tvalid_0's auc: 0.857851\n",
      "[140]\tvalid_0's auc: 0.857991\n",
      "[141]\tvalid_0's auc: 0.858058\n",
      "[142]\tvalid_0's auc: 0.857918\n",
      "[143]\tvalid_0's auc: 0.85815\n",
      "[144]\tvalid_0's auc: 0.858131\n",
      "[145]\tvalid_0's auc: 0.858127\n",
      "[146]\tvalid_0's auc: 0.85836\n",
      "[147]\tvalid_0's auc: 0.858475\n",
      "[148]\tvalid_0's auc: 0.858507\n",
      "[149]\tvalid_0's auc: 0.858367\n",
      "[150]\tvalid_0's auc: 0.858552\n",
      "[151]\tvalid_0's auc: 0.85853\n",
      "[152]\tvalid_0's auc: 0.858509\n",
      "[153]\tvalid_0's auc: 0.858511\n",
      "[154]\tvalid_0's auc: 0.858852\n",
      "[155]\tvalid_0's auc: 0.858891\n",
      "[156]\tvalid_0's auc: 0.858847\n",
      "[157]\tvalid_0's auc: 0.859034\n",
      "[158]\tvalid_0's auc: 0.858975\n",
      "[159]\tvalid_0's auc: 0.859114\n",
      "[160]\tvalid_0's auc: 0.859222\n",
      "[161]\tvalid_0's auc: 0.859211\n",
      "[162]\tvalid_0's auc: 0.859082\n",
      "[163]\tvalid_0's auc: 0.859\n",
      "[164]\tvalid_0's auc: 0.858961\n",
      "[165]\tvalid_0's auc: 0.858893\n",
      "[166]\tvalid_0's auc: 0.859027\n",
      "[167]\tvalid_0's auc: 0.859185\n",
      "[168]\tvalid_0's auc: 0.859347\n",
      "[169]\tvalid_0's auc: 0.859357\n",
      "[170]\tvalid_0's auc: 0.859429\n",
      "[171]\tvalid_0's auc: 0.859439\n",
      "[172]\tvalid_0's auc: 0.859601\n",
      "[173]\tvalid_0's auc: 0.859842\n",
      "[174]\tvalid_0's auc: 0.859919\n",
      "[175]\tvalid_0's auc: 0.859971\n",
      "[176]\tvalid_0's auc: 0.859838\n",
      "[177]\tvalid_0's auc: 0.859732\n",
      "[178]\tvalid_0's auc: 0.859729\n",
      "[179]\tvalid_0's auc: 0.859995\n",
      "[180]\tvalid_0's auc: 0.860173\n",
      "[181]\tvalid_0's auc: 0.860206\n",
      "[182]\tvalid_0's auc: 0.860144\n",
      "[183]\tvalid_0's auc: 0.860226\n",
      "[184]\tvalid_0's auc: 0.86032\n",
      "[185]\tvalid_0's auc: 0.860316\n",
      "[186]\tvalid_0's auc: 0.860147\n",
      "[187]\tvalid_0's auc: 0.860026\n",
      "[188]\tvalid_0's auc: 0.859972\n",
      "[189]\tvalid_0's auc: 0.86\n",
      "[190]\tvalid_0's auc: 0.860114\n",
      "[191]\tvalid_0's auc: 0.860348\n",
      "[192]\tvalid_0's auc: 0.860449\n",
      "[193]\tvalid_0's auc: 0.860505\n",
      "[194]\tvalid_0's auc: 0.860499\n",
      "[195]\tvalid_0's auc: 0.860566\n",
      "[196]\tvalid_0's auc: 0.860638\n",
      "[197]\tvalid_0's auc: 0.860681\n",
      "[198]\tvalid_0's auc: 0.860775\n",
      "[199]\tvalid_0's auc: 0.860811\n",
      "[200]\tvalid_0's auc: 0.860947\n",
      "[201]\tvalid_0's auc: 0.860959\n",
      "[202]\tvalid_0's auc: 0.861046\n",
      "[203]\tvalid_0's auc: 0.861087\n",
      "[204]\tvalid_0's auc: 0.860979\n",
      "[205]\tvalid_0's auc: 0.861077\n",
      "[206]\tvalid_0's auc: 0.860895\n",
      "[207]\tvalid_0's auc: 0.861018\n",
      "[208]\tvalid_0's auc: 0.861186\n",
      "[209]\tvalid_0's auc: 0.861181\n",
      "[210]\tvalid_0's auc: 0.861339\n",
      "[211]\tvalid_0's auc: 0.861402\n",
      "[212]\tvalid_0's auc: 0.861537\n",
      "[213]\tvalid_0's auc: 0.861495\n",
      "[214]\tvalid_0's auc: 0.861392\n",
      "[215]\tvalid_0's auc: 0.861375\n",
      "[216]\tvalid_0's auc: 0.861386\n",
      "[217]\tvalid_0's auc: 0.86142\n",
      "[218]\tvalid_0's auc: 0.861527\n",
      "[219]\tvalid_0's auc: 0.861544\n",
      "[220]\tvalid_0's auc: 0.861499\n",
      "[221]\tvalid_0's auc: 0.86146\n",
      "[222]\tvalid_0's auc: 0.861586\n",
      "[223]\tvalid_0's auc: 0.861518\n",
      "[224]\tvalid_0's auc: 0.861573\n",
      "[225]\tvalid_0's auc: 0.861424\n",
      "[226]\tvalid_0's auc: 0.861531\n",
      "[227]\tvalid_0's auc: 0.861424\n",
      "[228]\tvalid_0's auc: 0.861504\n",
      "[229]\tvalid_0's auc: 0.861535\n",
      "[230]\tvalid_0's auc: 0.861479\n",
      "[231]\tvalid_0's auc: 0.861467\n",
      "[232]\tvalid_0's auc: 0.861452\n",
      "[233]\tvalid_0's auc: 0.861233\n",
      "[234]\tvalid_0's auc: 0.861261\n",
      "[235]\tvalid_0's auc: 0.861333\n",
      "[236]\tvalid_0's auc: 0.861342\n",
      "[237]\tvalid_0's auc: 0.861486\n",
      "[238]\tvalid_0's auc: 0.861748\n",
      "[239]\tvalid_0's auc: 0.861712\n",
      "[240]\tvalid_0's auc: 0.861816\n",
      "[241]\tvalid_0's auc: 0.861725\n",
      "[242]\tvalid_0's auc: 0.861831\n",
      "[243]\tvalid_0's auc: 0.861833\n",
      "[244]\tvalid_0's auc: 0.861706\n",
      "[245]\tvalid_0's auc: 0.862001\n",
      "[246]\tvalid_0's auc: 0.862132\n",
      "[247]\tvalid_0's auc: 0.862198\n",
      "[248]\tvalid_0's auc: 0.862317\n",
      "[249]\tvalid_0's auc: 0.86218\n",
      "[250]\tvalid_0's auc: 0.862149\n",
      "[251]\tvalid_0's auc: 0.862198\n",
      "[252]\tvalid_0's auc: 0.862307\n",
      "[253]\tvalid_0's auc: 0.862341\n",
      "[254]\tvalid_0's auc: 0.862366\n",
      "[255]\tvalid_0's auc: 0.862302\n",
      "[256]\tvalid_0's auc: 0.862432\n",
      "[257]\tvalid_0's auc: 0.862555\n",
      "[258]\tvalid_0's auc: 0.862542\n",
      "[259]\tvalid_0's auc: 0.862445\n",
      "[260]\tvalid_0's auc: 0.862447\n",
      "[261]\tvalid_0's auc: 0.862649\n",
      "[262]\tvalid_0's auc: 0.862563\n",
      "[263]\tvalid_0's auc: 0.862567\n",
      "[264]\tvalid_0's auc: 0.862664\n",
      "[265]\tvalid_0's auc: 0.862619\n",
      "[266]\tvalid_0's auc: 0.862721\n",
      "[267]\tvalid_0's auc: 0.862732\n",
      "[268]\tvalid_0's auc: 0.862659\n",
      "[269]\tvalid_0's auc: 0.862841\n",
      "[270]\tvalid_0's auc: 0.86282\n",
      "[271]\tvalid_0's auc: 0.862773\n",
      "[272]\tvalid_0's auc: 0.862641\n",
      "[273]\tvalid_0's auc: 0.862789\n",
      "[274]\tvalid_0's auc: 0.862833\n",
      "[275]\tvalid_0's auc: 0.862658\n",
      "[276]\tvalid_0's auc: 0.862638\n",
      "[277]\tvalid_0's auc: 0.862597\n",
      "[278]\tvalid_0's auc: 0.862714\n",
      "[279]\tvalid_0's auc: 0.862682\n",
      "[280]\tvalid_0's auc: 0.862628\n",
      "[281]\tvalid_0's auc: 0.862589\n",
      "[282]\tvalid_0's auc: 0.862493\n",
      "[283]\tvalid_0's auc: 0.862565\n",
      "[284]\tvalid_0's auc: 0.86269\n",
      "[285]\tvalid_0's auc: 0.862682\n",
      "[286]\tvalid_0's auc: 0.862811\n",
      "[287]\tvalid_0's auc: 0.86288\n",
      "[288]\tvalid_0's auc: 0.862948\n",
      "[289]\tvalid_0's auc: 0.86307\n",
      "[290]\tvalid_0's auc: 0.86319\n",
      "[291]\tvalid_0's auc: 0.863126\n",
      "[292]\tvalid_0's auc: 0.863151\n",
      "[293]\tvalid_0's auc: 0.863275\n",
      "[294]\tvalid_0's auc: 0.863348\n",
      "[295]\tvalid_0's auc: 0.863226\n",
      "[296]\tvalid_0's auc: 0.863273\n",
      "[297]\tvalid_0's auc: 0.863071\n",
      "[298]\tvalid_0's auc: 0.863047\n",
      "[299]\tvalid_0's auc: 0.863104\n",
      "[300]\tvalid_0's auc: 0.863152\n",
      "[301]\tvalid_0's auc: 0.863165\n",
      "[302]\tvalid_0's auc: 0.863067\n",
      "[303]\tvalid_0's auc: 0.863087\n",
      "[304]\tvalid_0's auc: 0.863062\n",
      "[305]\tvalid_0's auc: 0.863051\n",
      "[306]\tvalid_0's auc: 0.863177\n",
      "[307]\tvalid_0's auc: 0.86323\n",
      "[308]\tvalid_0's auc: 0.863146\n",
      "[309]\tvalid_0's auc: 0.863126\n",
      "[310]\tvalid_0's auc: 0.863159\n",
      "[311]\tvalid_0's auc: 0.86309\n",
      "[312]\tvalid_0's auc: 0.863055\n",
      "[313]\tvalid_0's auc: 0.862895\n",
      "[314]\tvalid_0's auc: 0.862784\n",
      "[315]\tvalid_0's auc: 0.862811\n",
      "[316]\tvalid_0's auc: 0.862836\n",
      "[317]\tvalid_0's auc: 0.862925\n",
      "[318]\tvalid_0's auc: 0.86287\n",
      "[319]\tvalid_0's auc: 0.862889\n",
      "[320]\tvalid_0's auc: 0.862893\n",
      "[321]\tvalid_0's auc: 0.862896\n",
      "[322]\tvalid_0's auc: 0.863003\n",
      "[323]\tvalid_0's auc: 0.862922\n",
      "[324]\tvalid_0's auc: 0.862886\n",
      "[325]\tvalid_0's auc: 0.862957\n",
      "[326]\tvalid_0's auc: 0.863067\n",
      "[327]\tvalid_0's auc: 0.863051\n",
      "[328]\tvalid_0's auc: 0.863097\n",
      "[329]\tvalid_0's auc: 0.863083\n",
      "[330]\tvalid_0's auc: 0.863029\n",
      "[331]\tvalid_0's auc: 0.862964\n",
      "[332]\tvalid_0's auc: 0.862993\n",
      "[333]\tvalid_0's auc: 0.862986\n",
      "[334]\tvalid_0's auc: 0.863022\n",
      "[335]\tvalid_0's auc: 0.862906\n",
      "[336]\tvalid_0's auc: 0.862996\n",
      "[337]\tvalid_0's auc: 0.862935\n",
      "[338]\tvalid_0's auc: 0.862929\n",
      "[339]\tvalid_0's auc: 0.86288\n",
      "[340]\tvalid_0's auc: 0.862837\n",
      "[341]\tvalid_0's auc: 0.862899\n",
      "[342]\tvalid_0's auc: 0.862971\n",
      "[343]\tvalid_0's auc: 0.862954\n",
      "[344]\tvalid_0's auc: 0.862984\n",
      "[345]\tvalid_0's auc: 0.862918\n",
      "[346]\tvalid_0's auc: 0.86287\n",
      "[347]\tvalid_0's auc: 0.862753\n",
      "[348]\tvalid_0's auc: 0.862746\n",
      "[349]\tvalid_0's auc: 0.862723\n",
      "[350]\tvalid_0's auc: 0.86282\n",
      "[351]\tvalid_0's auc: 0.862785\n",
      "[352]\tvalid_0's auc: 0.862872\n",
      "[353]\tvalid_0's auc: 0.862882\n",
      "[354]\tvalid_0's auc: 0.862951\n",
      "[355]\tvalid_0's auc: 0.86294\n",
      "[356]\tvalid_0's auc: 0.862964\n",
      "[357]\tvalid_0's auc: 0.863088\n",
      "[358]\tvalid_0's auc: 0.863107\n",
      "[359]\tvalid_0's auc: 0.863116\n",
      "[360]\tvalid_0's auc: 0.862974\n",
      "[361]\tvalid_0's auc: 0.863045\n",
      "[362]\tvalid_0's auc: 0.862992\n",
      "[363]\tvalid_0's auc: 0.863045\n",
      "[364]\tvalid_0's auc: 0.863025\n",
      "[365]\tvalid_0's auc: 0.862993\n",
      "[366]\tvalid_0's auc: 0.863096\n",
      "[367]\tvalid_0's auc: 0.863054\n",
      "[368]\tvalid_0's auc: 0.863175\n",
      "[369]\tvalid_0's auc: 0.863231\n",
      "[370]\tvalid_0's auc: 0.863169\n",
      "[371]\tvalid_0's auc: 0.863204\n",
      "[372]\tvalid_0's auc: 0.863291\n",
      "[373]\tvalid_0's auc: 0.863315\n",
      "[374]\tvalid_0's auc: 0.863252\n",
      "[375]\tvalid_0's auc: 0.863327\n",
      "[376]\tvalid_0's auc: 0.863309\n",
      "[377]\tvalid_0's auc: 0.863187\n",
      "[378]\tvalid_0's auc: 0.863146\n",
      "[379]\tvalid_0's auc: 0.863096\n",
      "[380]\tvalid_0's auc: 0.863125\n",
      "[381]\tvalid_0's auc: 0.863107\n",
      "[382]\tvalid_0's auc: 0.863195\n",
      "[383]\tvalid_0's auc: 0.863217\n",
      "[384]\tvalid_0's auc: 0.86322\n",
      "[385]\tvalid_0's auc: 0.863161\n",
      "[386]\tvalid_0's auc: 0.863156\n",
      "[387]\tvalid_0's auc: 0.863119\n",
      "[388]\tvalid_0's auc: 0.863139\n",
      "[389]\tvalid_0's auc: 0.863119\n",
      "[390]\tvalid_0's auc: 0.863195\n",
      "[391]\tvalid_0's auc: 0.863243\n",
      "[392]\tvalid_0's auc: 0.863354\n",
      "[393]\tvalid_0's auc: 0.863327\n",
      "[394]\tvalid_0's auc: 0.863324\n",
      "[395]\tvalid_0's auc: 0.863217\n",
      "[396]\tvalid_0's auc: 0.863151\n",
      "[397]\tvalid_0's auc: 0.863151\n",
      "[398]\tvalid_0's auc: 0.863227\n",
      "[399]\tvalid_0's auc: 0.863282\n",
      "[400]\tvalid_0's auc: 0.863188\n",
      "[401]\tvalid_0's auc: 0.863237\n",
      "[402]\tvalid_0's auc: 0.863208\n",
      "[403]\tvalid_0's auc: 0.86326\n",
      "[404]\tvalid_0's auc: 0.863324\n",
      "[405]\tvalid_0's auc: 0.863386\n",
      "[406]\tvalid_0's auc: 0.863544\n",
      "[407]\tvalid_0's auc: 0.863539\n",
      "[408]\tvalid_0's auc: 0.863486\n",
      "[409]\tvalid_0's auc: 0.863478\n",
      "[410]\tvalid_0's auc: 0.863561\n",
      "[411]\tvalid_0's auc: 0.863565\n",
      "[412]\tvalid_0's auc: 0.863601\n",
      "[413]\tvalid_0's auc: 0.863642\n",
      "[414]\tvalid_0's auc: 0.863622\n",
      "[415]\tvalid_0's auc: 0.863596\n",
      "[416]\tvalid_0's auc: 0.863635\n",
      "[417]\tvalid_0's auc: 0.8636\n",
      "[418]\tvalid_0's auc: 0.863648\n",
      "[419]\tvalid_0's auc: 0.863622\n",
      "[420]\tvalid_0's auc: 0.863704\n",
      "[421]\tvalid_0's auc: 0.863574\n",
      "[422]\tvalid_0's auc: 0.863613\n",
      "[423]\tvalid_0's auc: 0.863536\n",
      "[424]\tvalid_0's auc: 0.863507\n",
      "[425]\tvalid_0's auc: 0.863324\n",
      "[426]\tvalid_0's auc: 0.863429\n",
      "[427]\tvalid_0's auc: 0.863408\n",
      "[428]\tvalid_0's auc: 0.863348\n",
      "[429]\tvalid_0's auc: 0.863224\n",
      "[430]\tvalid_0's auc: 0.863321\n",
      "[431]\tvalid_0's auc: 0.863327\n",
      "[432]\tvalid_0's auc: 0.863442\n",
      "[433]\tvalid_0's auc: 0.863444\n",
      "[434]\tvalid_0's auc: 0.863441\n",
      "[435]\tvalid_0's auc: 0.863464\n",
      "[436]\tvalid_0's auc: 0.863452\n",
      "[437]\tvalid_0's auc: 0.863376\n",
      "[438]\tvalid_0's auc: 0.863412\n",
      "[439]\tvalid_0's auc: 0.863317\n",
      "[440]\tvalid_0's auc: 0.863395\n",
      "[441]\tvalid_0's auc: 0.86323\n",
      "[442]\tvalid_0's auc: 0.863177\n",
      "[443]\tvalid_0's auc: 0.863247\n",
      "[444]\tvalid_0's auc: 0.863439\n",
      "[445]\tvalid_0's auc: 0.863435\n",
      "[446]\tvalid_0's auc: 0.863387\n",
      "[447]\tvalid_0's auc: 0.863351\n",
      "[448]\tvalid_0's auc: 0.863361\n",
      "[449]\tvalid_0's auc: 0.863444\n",
      "[450]\tvalid_0's auc: 0.863357\n",
      "[451]\tvalid_0's auc: 0.863403\n",
      "[452]\tvalid_0's auc: 0.863504\n",
      "[453]\tvalid_0's auc: 0.86352\n",
      "[454]\tvalid_0's auc: 0.863432\n",
      "[455]\tvalid_0's auc: 0.863506\n",
      "[456]\tvalid_0's auc: 0.863506\n",
      "[457]\tvalid_0's auc: 0.863419\n",
      "[458]\tvalid_0's auc: 0.863338\n",
      "[459]\tvalid_0's auc: 0.863377\n",
      "[460]\tvalid_0's auc: 0.863444\n",
      "[461]\tvalid_0's auc: 0.8635\n",
      "[462]\tvalid_0's auc: 0.863464\n",
      "[463]\tvalid_0's auc: 0.86349\n",
      "[464]\tvalid_0's auc: 0.863481\n",
      "[465]\tvalid_0's auc: 0.863465\n",
      "[466]\tvalid_0's auc: 0.86349\n",
      "[467]\tvalid_0's auc: 0.863561\n",
      "[468]\tvalid_0's auc: 0.863422\n",
      "[469]\tvalid_0's auc: 0.863398\n",
      "[470]\tvalid_0's auc: 0.863389\n",
      "[471]\tvalid_0's auc: 0.86333\n",
      "[472]\tvalid_0's auc: 0.863432\n",
      "[473]\tvalid_0's auc: 0.863539\n",
      "[474]\tvalid_0's auc: 0.863525\n",
      "[475]\tvalid_0's auc: 0.863447\n",
      "[476]\tvalid_0's auc: 0.863416\n",
      "[477]\tvalid_0's auc: 0.863528\n",
      "[478]\tvalid_0's auc: 0.863476\n",
      "[479]\tvalid_0's auc: 0.863493\n",
      "[480]\tvalid_0's auc: 0.863539\n",
      "[481]\tvalid_0's auc: 0.863623\n",
      "[482]\tvalid_0's auc: 0.863581\n",
      "[483]\tvalid_0's auc: 0.86362\n",
      "[484]\tvalid_0's auc: 0.863656\n",
      "[485]\tvalid_0's auc: 0.863718\n",
      "[486]\tvalid_0's auc: 0.863779\n",
      "[487]\tvalid_0's auc: 0.863884\n",
      "[488]\tvalid_0's auc: 0.863809\n",
      "[489]\tvalid_0's auc: 0.863779\n",
      "[490]\tvalid_0's auc: 0.86377\n",
      "[491]\tvalid_0's auc: 0.86377\n",
      "[492]\tvalid_0's auc: 0.86372\n",
      "[493]\tvalid_0's auc: 0.863661\n",
      "[494]\tvalid_0's auc: 0.863672\n",
      "[495]\tvalid_0's auc: 0.863718\n",
      "[496]\tvalid_0's auc: 0.863753\n",
      "[497]\tvalid_0's auc: 0.863779\n",
      "[498]\tvalid_0's auc: 0.863825\n",
      "[499]\tvalid_0's auc: 0.863825\n",
      "[500]\tvalid_0's auc: 0.863711\n"
     ]
    }
   ],
   "source": [
    "model = model.fit(X_train, y_train, \n",
    "    eval_set=(X_val, y_val),\n",
    "    eval_metric=['roc_auc', 'accuracy'])"
   ]
  },
  {
   "cell_type": "code",
   "execution_count": 22,
   "metadata": {
    "execution": {
     "iopub.execute_input": "2023-03-16T08:29:49.929007Z",
     "iopub.status.busy": "2023-03-16T08:29:49.928696Z",
     "iopub.status.idle": "2023-03-16T08:29:50.268317Z",
     "shell.execute_reply": "2023-03-16T08:29:50.267735Z"
    }
   },
   "outputs": [
    {
     "data": {
      "image/png": "[encoded data removed]",
      "text/plain": [
       "<Figure size 640x480 with 1 Axes>"
      ]
     },
     "metadata": {},
     "output_type": "display_data"
    },
    {
     "data": {
      "image/png": "[encoded data removed]",
      "text/plain": [
       "<Figure size 640x480 with 1 Axes>"
      ]
     },
     "metadata": {},
     "output_type": "display_data"
    }
   ],
   "source": [
    "RocCurveDisplay.from_estimator(model, X_train, y_train)\n",
    "plt.title('Train ROC')\n",
    "plt.show()\n",
    "RocCurveDisplay.from_estimator(model, X_val, y_val)\n",
    "plt.title('Val ROC')\n",
    "plt.show()"
   ]
  },
  {
   "cell_type": "code",
   "execution_count": null,
   "metadata": {},
   "outputs": [],
   "source": []
  }
 ],
 "metadata": {
  "interpreter": {
   "hash": "fe50fdb1ddd3a86a93f9cbfddfe234bf5a5bcb805be9c75eb9f84506ef550b7f"
  },
  "kernelspec": {
   "display_name": "Python 3.8.10 ('ptls-experiments-FXFzbWwZ')",
   "language": "python",
   "name": "python3"
  },
  "language_info": {
   "codemirror_mode": {
    "name": "ipython",
    "version": 3
   },
   "file_extension": ".py",
   "mimetype": "text/x-python",
   "name": "python",
   "nbconvert_exporter": "python",
   "pygments_lexer": "ipython3",
   "version": "3.8.16"
  }
 },
 "nbformat": 4,
 "nbformat_minor": 2
}
