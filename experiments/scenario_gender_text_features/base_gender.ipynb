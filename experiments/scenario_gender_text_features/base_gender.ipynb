{
 "cells": [
  {
   "cell_type": "code",
   "execution_count": 1,
   "metadata": {
    "execution": {
     "iopub.execute_input": "2023-03-16T08:04:24.362507Z",
     "iopub.status.busy": "2023-03-16T08:04:24.362142Z",
     "iopub.status.idle": "2023-03-16T08:04:34.631651Z",
     "shell.execute_reply": "2023-03-16T08:04:34.630466Z"
    }
   },
   "outputs": [],
   "source": [
    "import pyspark\n",
    "import pandas as pd\n",
    "import torch\n",
    "import pytorch_lightning as pl\n",
    "import matplotlib.pyplot as plt\n",
    "import warnings\n",
    "\n",
    "from pathlib import Path\n",
    "\n",
    "from pytorch_lightning.loggers import TensorBoardLogger\n",
    "\n",
    "from pyspark.sql import SparkSession\n",
    "from pyspark.sql import functions as F\n",
    "\n",
    "from functools import partial\n",
    "from ptls.nn import TrxEncoder, RnnSeqEncoder\n",
    "from ptls.frames.coles import CoLESModule\n",
    "from ptls.preprocessing import PandasDataPreprocessor\n",
    "from ptls.data_load.datasets import MemoryMapDataset\n",
    "from ptls.frames.coles import ColesDataset\n",
    "from ptls.frames.coles.split_strategy import SampleSlices\n",
    "from ptls.frames import PtlsDataModule\n",
    "from ptls.data_load.iterable_processing import ISeqLenLimit, FeatureFilter\n",
    "from ptls.data_load.utils import collate_feature_dict\n",
    "from ptls.frames.inference_module import InferenceModule\n",
    "\n",
    "from sklearn.preprocessing import MaxAbsScaler\n",
    "from sklearn.metrics import RocCurveDisplay\n",
    "from lightgbm import LGBMClassifier"
   ]
  },
  {
   "cell_type": "code",
   "execution_count": 2,
   "metadata": {
    "execution": {
     "iopub.execute_input": "2023-03-16T08:04:34.636214Z",
     "iopub.status.busy": "2023-03-16T08:04:34.635751Z",
     "iopub.status.idle": "2023-03-16T08:04:34.653532Z",
     "shell.execute_reply": "2023-03-16T08:04:34.652548Z"
    }
   },
   "outputs": [
    {
     "name": "stderr",
     "output_type": "stream",
     "text": [
      "Global seed set to 42\n"
     ]
    },
    {
     "data": {
      "text/plain": [
       "42"
      ]
     },
     "execution_count": 2,
     "metadata": {},
     "output_type": "execute_result"
    }
   ],
   "source": [
    "warnings.filterwarnings('ignore')\n",
    "data_path = Path('data')\n",
    "pl.seed_everything(42)"
   ]
  },
  {
   "cell_type": "code",
   "execution_count": null,
   "metadata": {
    "execution": {
     "iopub.execute_input": "2023-03-16T08:04:34.685873Z",
     "iopub.status.busy": "2023-03-16T08:04:34.685459Z",
     "iopub.status.idle": "2023-03-16T08:04:40.846876Z",
     "shell.execute_reply": "2023-03-16T08:04:40.846023Z"
    }
   },
   "outputs": [],
   "source": [
    "spark_conf = pyspark.SparkConf()\n",
    "spark_conf.setMaster(\"local[*]\").setAppName(\"PysparkDataPreprocessor\")\n",
    "spark_conf.set(\"spark.driver.maxResultSize\", \"4g\")\n",
    "spark_conf.set(\"spark.executor.memory\", \"16g\")\n",
    "spark_conf.set(\"spark.executor.memoryOverhead\", \"4g\")\n",
    "spark_conf.set(\"spark.driver.memory\", \"16g\")\n",
    "spark_conf.set(\"spark.driver.memoryOverhead\", \"4g\")\n",
    "spark_conf.set(\"spark.cores.max\", \"24\")\n",
    "spark_conf.set(\"spark.sql.shuffle.partitions\", \"200\")\n",
    "spark_conf.set(\"spark.local.dir\", \"../../spark_local_dir\")\n",
    "\n",
    "\n",
    "spark = SparkSession.builder.config(conf=spark_conf).getOrCreate()\n",
    "spark.sparkContext.getConf().getAll()"
   ]
  },
  {
   "cell_type": "code",
   "execution_count": 4,
   "metadata": {
    "execution": {
     "iopub.execute_input": "2023-03-16T08:04:40.851704Z",
     "iopub.status.busy": "2023-03-16T08:04:40.851194Z",
     "iopub.status.idle": "2023-03-16T08:04:46.959915Z",
     "shell.execute_reply": "2023-03-16T08:04:46.958926Z"
    }
   },
   "outputs": [
    {
     "name": "stderr",
     "output_type": "stream",
     "text": [
      "                                                                                \r"
     ]
    },
    {
     "name": "stdout",
     "output_type": "stream",
     "text": [
      "+-----------+-----------+--------+-------+--------+-------+\n",
      "|customer_id|tr_datetime|mcc_code|tr_type|  amount|term_id|\n",
      "+-----------+-----------+--------+-------+--------+-------+\n",
      "|   39026145| 0 10:23:26|    4814|   1030|-2245.92|   null|\n",
      "|   39026145| 1 10:19:29|    6011|   7010|56147.89|   null|\n",
      "+-----------+-----------+--------+-------+--------+-------+\n",
      "only showing top 2 rows\n",
      "\n"
     ]
    }
   ],
   "source": [
    "transactions = spark.read.options(header=True, inferSchema=True).csv(str(data_path / 'transactions.csv'))\n",
    "transactions.show(2)"
   ]
  },
  {
   "cell_type": "code",
   "execution_count": 5,
   "metadata": {
    "execution": {
     "iopub.execute_input": "2023-03-16T08:04:46.963806Z",
     "iopub.status.busy": "2023-03-16T08:04:46.963508Z",
     "iopub.status.idle": "2023-03-16T08:04:46.969290Z",
     "shell.execute_reply": "2023-03-16T08:04:46.968531Z"
    }
   },
   "outputs": [],
   "source": [
    "def _td_gender(df, col_event_time):\n",
    "    df = df.withColumn('_et_day', F.substring(F.lpad(F.col(col_event_time), 15, '0'), 1, 6).cast('float'))\n",
    "\n",
    "    df = df.withColumn('_et_time', F.substring(F.lpad(F.col(col_event_time), 15, '0'), 8, 8))\n",
    "    df = df.withColumn('_et_time', F.regexp_replace('_et_time', r'\\:60$', ':59'))\n",
    "    df = df.withColumn('_et_time', F.unix_timestamp('_et_time', 'HH:mm:ss') / (24 * 60 * 60))\n",
    "\n",
    "    df = df.withColumn('event_time', F.col('_et_day') + F.col('_et_time'))\n",
    "    df = df.drop('_et_day', '_et_time')\n",
    "    return df"
   ]
  },
  {
   "cell_type": "code",
   "execution_count": 6,
   "metadata": {
    "execution": {
     "iopub.execute_input": "2023-03-16T08:04:46.971782Z",
     "iopub.status.busy": "2023-03-16T08:04:46.971516Z",
     "iopub.status.idle": "2023-03-16T08:05:19.996255Z",
     "shell.execute_reply": "2023-03-16T08:05:19.994922Z"
    }
   },
   "outputs": [
    {
     "name": "stderr",
     "output_type": "stream",
     "text": [
      "                                                                                \r"
     ]
    }
   ],
   "source": [
    "dataset_ = _td_gender(transactions, 'tr_datetime').drop('tr_datetime').toPandas()\n",
    "spark.stop()"
   ]
  },
  {
   "cell_type": "code",
   "execution_count": 7,
   "metadata": {
    "execution": {
     "iopub.execute_input": "2023-03-16T08:05:20.002449Z",
     "iopub.status.busy": "2023-03-16T08:05:20.001961Z",
     "iopub.status.idle": "2023-03-16T08:05:20.007457Z",
     "shell.execute_reply": "2023-03-16T08:05:20.006747Z"
    }
   },
   "outputs": [],
   "source": [
    "preprocessor = PandasDataPreprocessor(\n",
    "    col_id='customer_id',\n",
    "    col_event_time='event_time',\n",
    "    event_time_transformation='none',\n",
    "    cols_category=['tr_type', 'term_id', 'mcc_code'],\n",
    "    cols_numerical=['amount'],\n",
    ")"
   ]
  },
  {
   "cell_type": "code",
   "execution_count": 8,
   "metadata": {
    "execution": {
     "iopub.execute_input": "2023-03-16T08:05:20.011158Z",
     "iopub.status.busy": "2023-03-16T08:05:20.010850Z",
     "iopub.status.idle": "2023-03-16T08:05:49.728534Z",
     "shell.execute_reply": "2023-03-16T08:05:49.727682Z"
    }
   },
   "outputs": [],
   "source": [
    "dataset = MemoryMapDataset(\n",
    "    data=preprocessor.fit_transform(dataset_),\n",
    "    i_filters=[\n",
    "        ISeqLenLimit(max_seq_len=2000),\n",
    "        FeatureFilter(keep_feature_names='customer_id')\n",
    "    ]\n",
    ")"
   ]
  },
  {
   "cell_type": "code",
   "execution_count": 9,
   "metadata": {
    "execution": {
     "iopub.execute_input": "2023-03-16T08:05:49.733586Z",
     "iopub.status.busy": "2023-03-16T08:05:49.733295Z",
     "iopub.status.idle": "2023-03-16T08:05:49.737490Z",
     "shell.execute_reply": "2023-03-16T08:05:49.736929Z"
    }
   },
   "outputs": [],
   "source": [
    "TRAIN_SIZE = int(len(dataset) * 0.8)\n",
    "VAL_SIZE = len(dataset) - TRAIN_SIZE\n",
    "\n",
    "train, val = torch.utils.data.random_split(dataset, [TRAIN_SIZE, VAL_SIZE])"
   ]
  },
  {
   "cell_type": "code",
   "execution_count": 10,
   "metadata": {
    "execution": {
     "iopub.execute_input": "2023-03-16T08:05:49.742814Z",
     "iopub.status.busy": "2023-03-16T08:05:49.742164Z",
     "iopub.status.idle": "2023-03-16T08:05:49.873837Z",
     "shell.execute_reply": "2023-03-16T08:05:49.873074Z"
    }
   },
   "outputs": [],
   "source": [
    "trx_encoder_params = dict(\n",
    "    embeddings_noise=0.003,\n",
    "    numeric_values={'amount': 'identity'},\n",
    "    embeddings={\n",
    "        'tr_type': {'in': 100, 'out': 24},\n",
    "        'mcc_code': {'in': 200, 'out': 48}\n",
    "    },\n",
    "    norm_embeddings=False,\n",
    ")\n",
    "\n",
    "seq_encoder = RnnSeqEncoder(\n",
    "    trx_encoder=TrxEncoder(**trx_encoder_params),\n",
    "    hidden_size=1024,\n",
    "    type='gru',\n",
    "    bidir=False,\n",
    "    trainable_starter='static'\n",
    ")\n",
    "\n",
    "model = CoLESModule(\n",
    "    seq_encoder=seq_encoder,\n",
    "    optimizer_partial=partial(torch.optim.Adam, lr=0.002, weight_decay=0.0),\n",
    "    lr_scheduler_partial=partial(torch.optim.lr_scheduler.StepLR, step_size=10, gamma=0.9025),\n",
    ")"
   ]
  },
  {
   "cell_type": "code",
   "execution_count": 11,
   "metadata": {
    "execution": {
     "iopub.execute_input": "2023-03-16T08:05:49.877855Z",
     "iopub.status.busy": "2023-03-16T08:05:49.877462Z",
     "iopub.status.idle": "2023-03-16T08:05:49.882917Z",
     "shell.execute_reply": "2023-03-16T08:05:49.882349Z"
    }
   },
   "outputs": [],
   "source": [
    "train_dl = PtlsDataModule(\n",
    "    train_data=ColesDataset(\n",
    "        train,\n",
    "        splitter=SampleSlices(\n",
    "            split_count=5,\n",
    "            cnt_min=15,\n",
    "            cnt_max=75,\n",
    "        ),\n",
    "    ),\n",
    "    train_num_workers=8,\n",
    "    train_batch_size=128,\n",
    "    valid_data=ColesDataset(\n",
    "        val,\n",
    "        splitter=SampleSlices(\n",
    "            split_count=5,\n",
    "            cnt_min=25,\n",
    "            cnt_max=100\n",
    "        )\n",
    "    ),\n",
    "    valid_batch_size=512,\n",
    "    valid_num_workers=16\n",
    ")"
   ]
  },
  {
   "cell_type": "code",
   "execution_count": 12,
   "metadata": {
    "execution": {
     "iopub.execute_input": "2023-03-16T08:05:49.886816Z",
     "iopub.status.busy": "2023-03-16T08:05:49.886546Z",
     "iopub.status.idle": "2023-03-16T08:05:50.001758Z",
     "shell.execute_reply": "2023-03-16T08:05:50.000883Z"
    }
   },
   "outputs": [
    {
     "name": "stderr",
     "output_type": "stream",
     "text": [
      "GPU available: True, used: True\n",
      "TPU available: False, using: 0 TPU cores\n",
      "IPU available: False, using: 0 IPUs\n",
      "HPU available: False, using: 0 HPUs\n"
     ]
    }
   ],
   "source": [
    "trainer = pl.Trainer(\n",
    "    max_epochs=150,\n",
    "    gpus=[1] if torch.cuda.is_available() else 0,\n",
    "    enable_progress_bar=False,\n",
    "    logger=TensorBoardLogger('lightning_logs', name='no_mcc_code')\n",
    ")"
   ]
  },
  {
   "cell_type": "code",
   "execution_count": null,
   "metadata": {
    "execution": {
     "iopub.execute_input": "2023-03-16T08:05:50.005938Z",
     "iopub.status.busy": "2023-03-16T08:05:50.005601Z",
     "iopub.status.idle": "2023-03-16T08:29:37.267766Z",
     "shell.execute_reply": "2023-03-16T08:29:37.267071Z"
    }
   },
   "outputs": [],
   "source": [
    "%%time\n",
    "trainer.fit(model, train_dl)\n",
    "print(trainer.logged_metrics)"
   ]
  },
  {
   "cell_type": "markdown",
   "metadata": {},
   "source": [
    "### Using embeddings for downstream task"
   ]
  },
  {
   "cell_type": "code",
   "execution_count": 14,
   "metadata": {
    "execution": {
     "iopub.execute_input": "2023-03-16T08:29:37.273598Z",
     "iopub.status.busy": "2023-03-16T08:29:37.273290Z",
     "iopub.status.idle": "2023-03-16T08:29:37.280504Z",
     "shell.execute_reply": "2023-03-16T08:29:37.279881Z"
    }
   },
   "outputs": [],
   "source": [
    "train_dl = torch.utils.data.DataLoader(\n",
    "    dataset=train,\n",
    "    collate_fn=collate_feature_dict,\n",
    "    shuffle=False,\n",
    "    batch_size=512,\n",
    "    num_workers=4\n",
    ")\n",
    "\n",
    "val_dl = torch.utils.data.DataLoader(\n",
    "    dataset=val,\n",
    "    collate_fn=collate_feature_dict,\n",
    "    shuffle=False,\n",
    "    batch_size=512,\n",
    "    num_workers=4\n",
    ")"
   ]
  },
  {
   "cell_type": "code",
   "execution_count": 15,
   "metadata": {
    "execution": {
     "iopub.execute_input": "2023-03-16T08:29:37.283394Z",
     "iopub.status.busy": "2023-03-16T08:29:37.283088Z",
     "iopub.status.idle": "2023-03-16T08:29:37.286528Z",
     "shell.execute_reply": "2023-03-16T08:29:37.285952Z"
    }
   },
   "outputs": [],
   "source": [
    "inf_model = InferenceModule(\n",
    "    seq_encoder\n",
    ")"
   ]
  },
  {
   "cell_type": "code",
   "execution_count": 16,
   "metadata": {
    "execution": {
     "iopub.execute_input": "2023-03-16T08:29:37.289465Z",
     "iopub.status.busy": "2023-03-16T08:29:37.289178Z",
     "iopub.status.idle": "2023-03-16T08:29:43.870410Z",
     "shell.execute_reply": "2023-03-16T08:29:43.869626Z"
    }
   },
   "outputs": [
    {
     "name": "stderr",
     "output_type": "stream",
     "text": [
      "LOCAL_RANK: 0 - CUDA_VISIBLE_DEVICES: [0,1,2,3]\n",
      "LOCAL_RANK: 0 - CUDA_VISIBLE_DEVICES: [0,1,2,3]\n"
     ]
    }
   ],
   "source": [
    "df_train = pd.concat(trainer.predict(inf_model, train_dl))\n",
    "df_val = pd.concat(trainer.predict(inf_model, val_dl))"
   ]
  },
  {
   "cell_type": "code",
   "execution_count": 17,
   "metadata": {
    "execution": {
     "iopub.execute_input": "2023-03-16T08:29:43.876046Z",
     "iopub.status.busy": "2023-03-16T08:29:43.875737Z",
     "iopub.status.idle": "2023-03-16T08:29:43.887846Z",
     "shell.execute_reply": "2023-03-16T08:29:43.887243Z"
    }
   },
   "outputs": [],
   "source": [
    "target_df = pd.read_csv(data_path / 'gender_train.csv')"
   ]
  },
  {
   "cell_type": "code",
   "execution_count": 18,
   "metadata": {
    "execution": {
     "iopub.execute_input": "2023-03-16T08:29:43.892765Z",
     "iopub.status.busy": "2023-03-16T08:29:43.892436Z",
     "iopub.status.idle": "2023-03-16T08:29:43.972445Z",
     "shell.execute_reply": "2023-03-16T08:29:43.971817Z"
    }
   },
   "outputs": [],
   "source": [
    "df_train = df_train.merge(target_df, how='left', on='customer_id').dropna()\n",
    "df_val = df_val.merge(target_df, how='left', on='customer_id').dropna()"
   ]
  },
  {
   "cell_type": "code",
   "execution_count": 19,
   "metadata": {
    "execution": {
     "iopub.execute_input": "2023-03-16T08:29:43.976028Z",
     "iopub.status.busy": "2023-03-16T08:29:43.975754Z",
     "iopub.status.idle": "2023-03-16T08:29:44.129293Z",
     "shell.execute_reply": "2023-03-16T08:29:44.128699Z"
    }
   },
   "outputs": [],
   "source": [
    "X_train = df_train.drop(columns=['gender'])\n",
    "y_train = df_train['gender']\n",
    "X_val = df_val.drop(columns=['gender'])\n",
    "y_val = df_val['gender']\n",
    "scaler = MaxAbsScaler().fit(X_train)\n",
    "X_train = scaler.transform(X_train)\n",
    "X_val = scaler.transform(X_val)"
   ]
  },
  {
   "cell_type": "code",
   "execution_count": 20,
   "metadata": {
    "execution": {
     "iopub.execute_input": "2023-03-16T08:29:44.132444Z",
     "iopub.status.busy": "2023-03-16T08:29:44.132166Z",
     "iopub.status.idle": "2023-03-16T08:29:44.135920Z",
     "shell.execute_reply": "2023-03-16T08:29:44.135458Z"
    }
   },
   "outputs": [],
   "source": [
    "model = LGBMClassifier(\n",
    "    n_estimators=500,\n",
    "    boosting_type='gbdt',\n",
    "    objective='binary',\n",
    "    metric='auc',\n",
    "    subsample=0.5,\n",
    "    subsample_freq=1,\n",
    "    learning_rate=0.02,\n",
    "    feature_fraction=0.75,\n",
    "    max_depth=6,\n",
    "    lambda_l1=1,\n",
    "    lambda_l2=1,\n",
    "    min_data_in_leaf=50,\n",
    "    random_state=42,\n",
    "    n_jobs=8\n",
    ")"
   ]
  },
  {
   "cell_type": "code",
   "execution_count": null,
   "metadata": {
    "execution": {
     "iopub.execute_input": "2023-03-16T08:29:44.138608Z",
     "iopub.status.busy": "2023-03-16T08:29:44.138359Z",
     "iopub.status.idle": "2023-03-16T08:29:49.925377Z",
     "shell.execute_reply": "2023-03-16T08:29:49.924538Z"
    }
   },
   "outputs": [],
   "source": [
    "model = model.fit(X_train, y_train, \n",
    "    eval_set=(X_val, y_val),\n",
    "    eval_metric=['roc_auc', 'accuracy'])"
   ]
  },
  {
   "cell_type": "code",
   "execution_count": 22,
   "metadata": {
    "execution": {
     "iopub.execute_input": "2023-03-16T08:29:49.929007Z",
     "iopub.status.busy": "2023-03-16T08:29:49.928696Z",
     "iopub.status.idle": "2023-03-16T08:29:50.268317Z",
     "shell.execute_reply": "2023-03-16T08:29:50.267735Z"
    }
   },
   "outputs": [
    {
     "data": {
      "image/png": "[encoded data removed]",
      "text/plain": [
       "<Figure size 640x480 with 1 Axes>"
      ]
     },
     "metadata": {},
     "output_type": "display_data"
    },
    {
     "data": {
      "image/png": "[encoded data removed]",
      "text/plain": [
       "<Figure size 640x480 with 1 Axes>"
      ]
     },
     "metadata": {},
     "output_type": "display_data"
    }
   ],
   "source": [
    "RocCurveDisplay.from_estimator(model, X_train, y_train)\n",
    "plt.title('Train ROC')\n",
    "plt.show()\n",
    "RocCurveDisplay.from_estimator(model, X_val, y_val)\n",
    "plt.title('Val ROC')\n",
    "plt.show()"
   ]
  },
  {
   "cell_type": "code",
   "execution_count": null,
   "metadata": {},
   "outputs": [],
   "source": []
  }
 ],
 "metadata": {
  "interpreter": {
   "hash": "fe50fdb1ddd3a86a93f9cbfddfe234bf5a5bcb805be9c75eb9f84506ef550b7f"
  },
  "kernelspec": {
   "display_name": "Python 3.8.10 ('ptls-experiments-FXFzbWwZ')",
   "language": "python",
   "name": "python3"
  },
  "language_info": {
   "codemirror_mode": {
    "name": "ipython",
    "version": 3
   },
   "file_extension": ".py",
   "mimetype": "text/x-python",
   "name": "python",
   "nbconvert_exporter": "python",
   "pygments_lexer": "ipython3",
   "version": "3.8.16"
  }
 },
 "nbformat": 4,
 "nbformat_minor": 2
}
