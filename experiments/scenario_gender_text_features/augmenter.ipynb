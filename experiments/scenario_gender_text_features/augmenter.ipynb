{
 "cells": [
  {
   "cell_type": "code",
   "execution_count": 1,
   "id": "09a2beb9-6fd3-4d0a-89ae-f4304c108287",
   "metadata": {
    "execution": {
     "iopub.execute_input": "2023-02-16T09:56:40.485848Z",
     "iopub.status.busy": "2023-02-16T09:56:40.485194Z",
     "iopub.status.idle": "2023-02-16T09:56:43.122015Z",
     "shell.execute_reply": "2023-02-16T09:56:43.120674Z"
    },
    "tags": []
   },
   "outputs": [],
   "source": [
    "import warnings\n",
    "import pandas as pd\n",
    "\n",
    "from augmenter import Augmenter\n",
    "from synonimizer import Synonimizer\n",
    "from pathlib import Path"
   ]
  },
  {
   "cell_type": "code",
   "execution_count": 2,
   "id": "ca102328-7a73-42e5-a539-026c8b04c1b1",
   "metadata": {
    "execution": {
     "iopub.execute_input": "2023-02-16T09:56:43.128470Z",
     "iopub.status.busy": "2023-02-16T09:56:43.127916Z",
     "iopub.status.idle": "2023-02-16T09:56:43.134149Z",
     "shell.execute_reply": "2023-02-16T09:56:43.132849Z"
    },
    "tags": []
   },
   "outputs": [],
   "source": [
    "warnings.filterwarnings('ignore')\n",
    "data_path = Path('data')"
   ]
  },
  {
   "cell_type": "code",
   "execution_count": 3,
   "id": "f9d97a20-c326-495e-a2bf-8cfd663f55e6",
   "metadata": {
    "execution": {
     "iopub.execute_input": "2023-02-16T09:56:43.139805Z",
     "iopub.status.busy": "2023-02-16T09:56:43.138909Z",
     "iopub.status.idle": "2023-02-16T09:56:55.679510Z",
     "shell.execute_reply": "2023-02-16T09:56:55.677726Z"
    },
    "tags": []
   },
   "outputs": [],
   "source": [
    "dataset = pd.read_csv(data_path / 'dataset_with_synonimized_desc_005.csv').drop(columns=['Unnamed: 0', 'syn_mcc_description'])"
   ]
  },
  {
   "cell_type": "code",
   "execution_count": 4,
   "id": "2bb27984-57fb-4362-aad8-76fc11bcefaf",
   "metadata": {
    "execution": {
     "iopub.execute_input": "2023-02-16T09:56:55.685799Z",
     "iopub.status.busy": "2023-02-16T09:56:55.685526Z",
     "iopub.status.idle": "2023-02-16T09:56:55.695923Z",
     "shell.execute_reply": "2023-02-16T09:56:55.694915Z"
    },
    "tags": []
   },
   "outputs": [],
   "source": [
    "with open(data_path / '10000-russian-words-cyrillic-only.txt', 'r') as f:\n",
    "    wordlist = list(map(lambda x: x[:-1], f.readlines()))"
   ]
  },
  {
   "cell_type": "code",
   "execution_count": 5,
   "id": "0709cf31-6763-4c53-bf28-d91e5bbd3b9d",
   "metadata": {
    "execution": {
     "iopub.execute_input": "2023-02-16T09:56:55.698756Z",
     "iopub.status.busy": "2023-02-16T09:56:55.698460Z",
     "iopub.status.idle": "2023-02-16T09:56:57.666734Z",
     "shell.execute_reply": "2023-02-16T09:56:57.665757Z"
    },
    "tags": []
   },
   "outputs": [],
   "source": [
    "augmenter = Augmenter(wordlist)\n",
    "synonimizer = Synonimizer()"
   ]
  },
  {
   "cell_type": "code",
   "execution_count": 6,
   "id": "0875bcb4-421b-478a-b3c6-24f2ddcc1da0",
   "metadata": {
    "execution": {
     "iopub.execute_input": "2023-02-16T09:56:57.672163Z",
     "iopub.status.busy": "2023-02-16T09:56:57.671768Z",
     "iopub.status.idle": "2023-02-16T09:56:57.677634Z",
     "shell.execute_reply": "2023-02-16T09:56:57.676671Z"
    },
    "tags": []
   },
   "outputs": [],
   "source": [
    "def make_augment(synonimizer, p_synonimize, augmenter, p_skip, p_swap, p_replace, p_add, p_abb):\n",
    "    def f(text):\n",
    "        text = synonimizer.synonimize_text(text, word_types=['NOUN'], word_change_prob=p_synonimize)\n",
    "        text = augmenter.skip_symbol(text, p_skip)\n",
    "        text = augmenter.swap_symbols(text, p_swap)\n",
    "        text = augmenter.replace_symbol(text, p_replace)\n",
    "        text = augmenter.add_entity(text, p_add)\n",
    "        text = augmenter.word_abb(text, p_abb)\n",
    "        return text\n",
    "    \n",
    "    return f\n",
    "    "
   ]
  },
  {
   "cell_type": "code",
   "execution_count": 7,
   "id": "4a2683a4-5437-4eb3-b144-317edd9e9842",
   "metadata": {
    "execution": {
     "iopub.execute_input": "2023-02-16T09:56:57.680574Z",
     "iopub.status.busy": "2023-02-16T09:56:57.680161Z",
     "iopub.status.idle": "2023-02-16T12:57:05.008579Z",
     "shell.execute_reply": "2023-02-16T12:57:05.007213Z"
    },
    "tags": []
   },
   "outputs": [],
   "source": [
    "dataset['aug_mcc_description'] = dataset['mcc_description'].apply(make_augment(synonimizer, 0.3, augmenter, 0.3, 0.3, 0.3, 0.3, 0.3))"
   ]
  },
  {
   "cell_type": "code",
   "execution_count": 8,
   "id": "8bddea0f-6deb-46ef-9865-573672c08f1c",
   "metadata": {
    "execution": {
     "iopub.execute_input": "2023-02-16T12:57:05.016471Z",
     "iopub.status.busy": "2023-02-16T12:57:05.015543Z",
     "iopub.status.idle": "2023-02-16T12:57:35.810401Z",
     "shell.execute_reply": "2023-02-16T12:57:35.809240Z"
    }
   },
   "outputs": [],
   "source": [
    "dataset.to_csv(data_path / 'dataset_aug_syn_03.csv', index=False)"
   ]
  },
  {
   "cell_type": "code",
   "execution_count": null,
   "id": "884b02de-1515-4014-8f8a-f1fa66a0b3f4",
   "metadata": {},
   "outputs": [],
   "source": []
  }
 ],
 "metadata": {
  "kernelspec": {
   "display_name": "ptls",
   "language": "python",
   "name": "ptls"
  },
  "language_info": {
   "codemirror_mode": {
    "name": "ipython",
    "version": 3
   },
   "file_extension": ".py",
   "mimetype": "text/x-python",
   "name": "python",
   "nbconvert_exporter": "python",
   "pygments_lexer": "ipython3",
   "version": "3.8.16"
  }
 },
 "nbformat": 4,
 "nbformat_minor": 5
}
