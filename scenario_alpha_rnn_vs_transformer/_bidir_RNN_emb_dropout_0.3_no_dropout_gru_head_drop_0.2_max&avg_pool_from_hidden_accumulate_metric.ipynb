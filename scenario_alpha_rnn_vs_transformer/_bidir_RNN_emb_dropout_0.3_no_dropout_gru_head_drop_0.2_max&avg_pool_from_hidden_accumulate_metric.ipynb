{
 "cells": [
  {
   "cell_type": "code",
   "execution_count": 1,
   "id": "59549d14",
   "metadata": {},
   "outputs": [],
   "source": [
    "%load_ext autoreload\n",
    "%autoreload 2"
   ]
  },
  {
   "cell_type": "code",
   "execution_count": 2,
   "id": "51570287",
   "metadata": {},
   "outputs": [
    {
     "name": "stdout",
     "output_type": "stream",
     "text": [
      "22/08/29 17:03:35 WARN Utils: Your hostname, vm2 resolves to a loopback address: 127.0.1.1; using 192.168.0.6 instead (on interface ens192)\n",
      "22/08/29 17:03:35 WARN Utils: Set SPARK_LOCAL_IP if you need to bind to another address\n"
     ]
    },
    {
     "name": "stderr",
     "output_type": "stream",
     "text": [
      "Setting default log level to \"WARN\".\n",
      "To adjust logging level use sc.setLogLevel(newLevel). For SparkR, use setLogLevel(newLevel).\n"
     ]
    },
    {
     "name": "stdout",
     "output_type": "stream",
     "text": [
      "22/08/29 17:03:35 WARN NativeCodeLoader: Unable to load native-hadoop library for your platform... using builtin-java classes where applicable\n",
      "22/08/29 17:03:36 WARN Utils: Service 'SparkUI' could not bind on port 4040. Attempting port 4041.\n"
     ]
    }
   ],
   "source": [
    "import os\n",
    "os.environ[\"CUDA_DEVICE_ORDER\"]=\"PCI_BUS_ID\"   # see issue #152\n",
    "os.environ[\"CUDA_VISIBLE_DEVICES\"]=\"1\"\n",
    "import sys\n",
    "\n",
    "from pyspark.sql import SparkSession\n",
    "import pyspark.sql.functions as F\n",
    "import pyspark.sql.types as T\n",
    "from pyspark.sql import Window\n",
    "\n",
    "SparkAppName = 'alpha'\n",
    "\n",
    "# spark_home = '/opt/cloudera/parcels/SPARK2/lib/spark2'\n",
    "# os.environ['SPARK_HOME'] = spark_home\n",
    "# os.environ['PYSPARK_DRIVER_PYTHON'] = 'python'\n",
    "# os.environ['PYSPARK_PYTHON'] = '/opt/cloudera/parcels/PYENV.GPUAI-3.6.pyenv.p0.2/bin/python'\n",
    "# os.environ['LD_LIBRARY_PATH'] = '/opt/python/virtualenv/jupyter/lib'\n",
    "# sys.path.insert(0, os.path.join (spark_home,'python'))\n",
    "# sys.path.insert(0, os.path.join (spark_home,'python/lib/py4j-0.10.7-src.zip'))\n",
    "\n",
    "spark = SparkSession.builder\\\n",
    "    .appName(SparkAppName)\\\n",
    "    .master(\"local[*]\")\\\n",
    "    .config('spark.driver.memory', '64g')\\\n",
    "    .config('spark.driver.maxResultSize', '16g')\\\n",
    "    .getOrCreate()\n",
    "\n",
    "#     .master(\"yarn-client\")\\\n",
    "#     .config('spark.dynamicAllocation.enabled', 'true')\\\n",
    "#     .config('spark.dynamicAllocation.minExecutors',4)\\\n",
    "#     .config('spark.executor.memory','10g')\\\n",
    "#     .config('spark.executor.cores', 7)\\\n",
    "#     .config('spark.yarn.executor.memoryOverhead', '10g')\\\n",
    "#     .config('spark.driver.memory', '6g')\\\n",
    "#     .config('spark.driver.maxResultSize','6g')\\\n",
    "#     .config('spark.kryoserializer.buffer.max', '1g')\\\n",
    "#     .config('spark.excludeOnFailure.enabled', 'true')\\\n",
    "#     .config('spark.excludeOnFailure.timeout', '3h')\\\n",
    "#     .config('spark.excludeOnFailure.task.maxTaskAttemptsPerNode', 2)\\\n",
    "#     .config('spark.sql.broadcastTimeout', 36000)\\\n",
    "#     .config('spark.sql.shuffle.partitions', 2000)\\\n",
    "#     .config('spark.sql.autoBroadcastJoinThreshold', '-1')\\\n",
    "#     .enableHiveSupport()\\"
   ]
  },
  {
   "cell_type": "code",
   "execution_count": 6,
   "id": "3c17d8d8",
   "metadata": {},
   "outputs": [
    {
     "name": "stdout",
     "output_type": "stream",
     "text": [
      "data_for_competition.zip  test_target.csv   train_data_2.pq  train_data_7.pq\r\n",
      "description.xlsx\t  train_data_0.pq   train_data_3.pq  train_data_8.pq\r\n",
      "sample_submission.csv\t  train_data_10.pq  train_data_4.pq  train_data_9.pq\r\n",
      "test_data_0.pq\t\t  train_data_11.pq  train_data_5.pq  train_target.csv\r\n",
      "test_data_1.pq\t\t  train_data_1.pq   train_data_6.pq\r\n"
     ]
    }
   ],
   "source": [
    "!ls data"
   ]
  },
  {
   "cell_type": "code",
   "execution_count": 7,
   "id": "b18d2d47",
   "metadata": {},
   "outputs": [
    {
     "data": {
      "text/plain": [
       "'/home/alge/.local/share/virtualenvs/ptls-experiments-vguyIwOn/src/pytorch-lifestream/ptls/__init__.py'"
      ]
     },
     "execution_count": 7,
     "metadata": {},
     "output_type": "execute_result"
    }
   ],
   "source": [
    "import ptls\n",
    "ptls.__file__"
   ]
  },
  {
   "cell_type": "code",
   "execution_count": 8,
   "id": "cd5f0d77",
   "metadata": {},
   "outputs": [
    {
     "data": {
      "text/plain": [
       "3000000"
      ]
     },
     "execution_count": 8,
     "metadata": {},
     "output_type": "execute_result"
    }
   ],
   "source": [
    "train_target = spark.read.csv(\"data/train_target.csv\", header=True)\n",
    "train_target.count()"
   ]
  },
  {
   "cell_type": "code",
   "execution_count": 9,
   "id": "ff7daf53",
   "metadata": {},
   "outputs": [
    {
     "data": {
      "text/plain": [
       "500000"
      ]
     },
     "execution_count": 9,
     "metadata": {},
     "output_type": "execute_result"
    }
   ],
   "source": [
    "test_target = spark.read.csv(\"data/test_target.csv\", header=True)\n",
    "test_target.count()"
   ]
  },
  {
   "cell_type": "code",
   "execution_count": 10,
   "id": "fd258ff8",
   "metadata": {},
   "outputs": [
    {
     "name": "stdout",
     "output_type": "stream",
     "text": [
      "+---+----+\n",
      "| id|flag|\n",
      "+---+----+\n",
      "|  0|   0|\n",
      "|  1|   0|\n",
      "|  2|   0|\n",
      "|  3|   0|\n",
      "|  4|   0|\n",
      "|  5|   0|\n",
      "|  6|   0|\n",
      "|  7|   0|\n",
      "|  8|   0|\n",
      "|  9|   0|\n",
      "| 10|   0|\n",
      "| 11|   0|\n",
      "| 12|   0|\n",
      "| 13|   0|\n",
      "| 14|   0|\n",
      "| 15|   0|\n",
      "| 16|   0|\n",
      "| 17|   0|\n",
      "| 18|   0|\n",
      "| 19|   0|\n",
      "+---+----+\n",
      "only showing top 20 rows\n",
      "\n"
     ]
    }
   ],
   "source": [
    "train_target.show()"
   ]
  },
  {
   "cell_type": "code",
   "execution_count": 11,
   "id": "304cceb8",
   "metadata": {},
   "outputs": [
    {
     "name": "stderr",
     "output_type": "stream",
     "text": [
      "                                                                                \r"
     ]
    },
    {
     "data": {
      "text/plain": [
       "106442.0"
      ]
     },
     "execution_count": 11,
     "metadata": {},
     "output_type": "execute_result"
    }
   ],
   "source": [
    "train_target.select(F.sum('flag')).collect()[0][0]"
   ]
  },
  {
   "cell_type": "code",
   "execution_count": 12,
   "id": "708b09ce",
   "metadata": {},
   "outputs": [
    {
     "data": {
      "text/plain": [
       "3.5480666666666667"
      ]
     },
     "execution_count": 12,
     "metadata": {},
     "output_type": "execute_result"
    }
   ],
   "source": [
    "106442/3000000*100"
   ]
  },
  {
   "cell_type": "code",
   "execution_count": 15,
   "id": "30d6b87e",
   "metadata": {},
   "outputs": [
    {
     "name": "stdout",
     "output_type": "stream",
     "text": [
      "data_for_competition.zip  test_target.csv   train_data_2.pq  train_data_7.pq\r\n",
      "description.xlsx\t  train_data_0.pq   train_data_3.pq  train_data_8.pq\r\n",
      "sample_submission.csv\t  train_data_10.pq  train_data_4.pq  train_data_9.pq\r\n",
      "test_data_0.pq\t\t  train_data_11.pq  train_data_5.pq  train_target.csv\r\n",
      "test_data_1.pq\t\t  train_data_1.pq   train_data_6.pq\r\n"
     ]
    }
   ],
   "source": [
    "!ls data"
   ]
  },
  {
   "cell_type": "code",
   "execution_count": 16,
   "id": "1dc807ef",
   "metadata": {},
   "outputs": [
    {
     "data": {
      "text/plain": [
       "26162717"
      ]
     },
     "execution_count": 16,
     "metadata": {},
     "output_type": "execute_result"
    }
   ],
   "source": [
    "train_data = spark.read.parquet(\"data/train_data\")\n",
    "train_data.count()"
   ]
  },
  {
   "cell_type": "code",
   "execution_count": 18,
   "id": "641bc00a",
   "metadata": {},
   "outputs": [
    {
     "data": {
      "text/plain": [
       "4724601"
      ]
     },
     "execution_count": 18,
     "metadata": {},
     "output_type": "execute_result"
    }
   ],
   "source": [
    "test_data = spark.read.parquet(\"data/test_data\")\n",
    "test_data.count()"
   ]
  },
  {
   "cell_type": "code",
   "execution_count": 19,
   "id": "2bc83370",
   "metadata": {},
   "outputs": [
    {
     "name": "stdout",
     "output_type": "stream",
     "text": [
      "61\n"
     ]
    },
    {
     "data": {
      "text/plain": [
       "[('id', 'bigint'),\n",
       " ('rn', 'bigint'),\n",
       " ('pre_since_opened', 'bigint'),\n",
       " ('pre_since_confirmed', 'bigint'),\n",
       " ('pre_pterm', 'bigint'),\n",
       " ('pre_fterm', 'bigint'),\n",
       " ('pre_till_pclose', 'bigint'),\n",
       " ('pre_till_fclose', 'bigint'),\n",
       " ('pre_loans_credit_limit', 'bigint'),\n",
       " ('pre_loans_next_pay_summ', 'bigint'),\n",
       " ('pre_loans_outstanding', 'bigint'),\n",
       " ('pre_loans_total_overdue', 'bigint'),\n",
       " ('pre_loans_max_overdue_sum', 'bigint'),\n",
       " ('pre_loans_credit_cost_rate', 'bigint'),\n",
       " ('pre_loans5', 'bigint'),\n",
       " ('pre_loans530', 'bigint'),\n",
       " ('pre_loans3060', 'bigint'),\n",
       " ('pre_loans6090', 'bigint'),\n",
       " ('pre_loans90', 'bigint'),\n",
       " ('is_zero_loans5', 'bigint'),\n",
       " ('is_zero_loans530', 'bigint'),\n",
       " ('is_zero_loans3060', 'bigint'),\n",
       " ('is_zero_loans6090', 'bigint'),\n",
       " ('is_zero_loans90', 'bigint'),\n",
       " ('pre_util', 'bigint'),\n",
       " ('pre_over2limit', 'bigint'),\n",
       " ('pre_maxover2limit', 'bigint'),\n",
       " ('is_zero_util', 'bigint'),\n",
       " ('is_zero_over2limit', 'bigint'),\n",
       " ('is_zero_maxover2limit', 'bigint'),\n",
       " ('enc_paym_0', 'bigint'),\n",
       " ('enc_paym_1', 'bigint'),\n",
       " ('enc_paym_2', 'bigint'),\n",
       " ('enc_paym_3', 'bigint'),\n",
       " ('enc_paym_4', 'bigint'),\n",
       " ('enc_paym_5', 'bigint'),\n",
       " ('enc_paym_6', 'bigint'),\n",
       " ('enc_paym_7', 'bigint'),\n",
       " ('enc_paym_8', 'bigint'),\n",
       " ('enc_paym_9', 'bigint'),\n",
       " ('enc_paym_10', 'bigint'),\n",
       " ('enc_paym_11', 'bigint'),\n",
       " ('enc_paym_12', 'bigint'),\n",
       " ('enc_paym_13', 'bigint'),\n",
       " ('enc_paym_14', 'bigint'),\n",
       " ('enc_paym_15', 'bigint'),\n",
       " ('enc_paym_16', 'bigint'),\n",
       " ('enc_paym_17', 'bigint'),\n",
       " ('enc_paym_18', 'bigint'),\n",
       " ('enc_paym_19', 'bigint'),\n",
       " ('enc_paym_20', 'bigint'),\n",
       " ('enc_paym_21', 'bigint'),\n",
       " ('enc_paym_22', 'bigint'),\n",
       " ('enc_paym_23', 'bigint'),\n",
       " ('enc_paym_24', 'bigint'),\n",
       " ('enc_loans_account_holder_type', 'bigint'),\n",
       " ('enc_loans_credit_status', 'bigint'),\n",
       " ('enc_loans_credit_type', 'bigint'),\n",
       " ('enc_loans_account_cur', 'bigint'),\n",
       " ('pclose_flag', 'bigint'),\n",
       " ('fclose_flag', 'bigint')]"
      ]
     },
     "execution_count": 19,
     "metadata": {},
     "output_type": "execute_result"
    }
   ],
   "source": [
    "print(len(train_data.dtypes))\n",
    "train_data.dtypes"
   ]
  },
  {
   "cell_type": "markdown",
   "id": "e03e4f1c",
   "metadata": {},
   "source": [
    "### Add 1 to all except rn col"
   ]
  },
  {
   "cell_type": "code",
   "execution_count": 20,
   "id": "d8552237",
   "metadata": {},
   "outputs": [],
   "source": [
    "for column in train_data.columns:\n",
    "    if column != 'id' and column != 'rn' and column != 'enc_paym_24' and column != 'enc_paym_20' and column != 'enc_paym_11' and column != 'pre_loans90' and column != 'pre_loans_outstanding':\n",
    "        train_data = train_data.withColumn(column, F.col(column) + F.lit(1))\n",
    "        test_data = test_data.withColumn(column, F.col(column) + F.lit(1))"
   ]
  },
  {
   "cell_type": "code",
   "execution_count": 21,
   "id": "13497d37",
   "metadata": {},
   "outputs": [
    {
     "name": "stdout",
     "output_type": "stream",
     "text": [
      "22/08/29 18:04:42 WARN package: Truncated the string representation of a plan since it was too large. This behavior can be adjusted by setting 'spark.sql.debug.maxToStringFields'.\n"
     ]
    },
    {
     "data": {
      "text/html": [
       "<div>\n",
       "<style scoped>\n",
       "    .dataframe tbody tr th:only-of-type {\n",
       "        vertical-align: middle;\n",
       "    }\n",
       "\n",
       "    .dataframe tbody tr th {\n",
       "        vertical-align: top;\n",
       "    }\n",
       "\n",
       "    .dataframe thead th {\n",
       "        text-align: right;\n",
       "    }\n",
       "</style>\n",
       "<table border=\"1\" class=\"dataframe\">\n",
       "  <thead>\n",
       "    <tr style=\"text-align: right;\">\n",
       "      <th></th>\n",
       "      <th>id</th>\n",
       "      <th>rn</th>\n",
       "      <th>pre_since_opened</th>\n",
       "      <th>pre_since_confirmed</th>\n",
       "      <th>pre_pterm</th>\n",
       "      <th>pre_fterm</th>\n",
       "      <th>pre_till_pclose</th>\n",
       "      <th>pre_till_fclose</th>\n",
       "      <th>pre_loans_credit_limit</th>\n",
       "      <th>pre_loans_next_pay_summ</th>\n",
       "      <th>...</th>\n",
       "      <th>enc_paym_21</th>\n",
       "      <th>enc_paym_22</th>\n",
       "      <th>enc_paym_23</th>\n",
       "      <th>enc_paym_24</th>\n",
       "      <th>enc_loans_account_holder_type</th>\n",
       "      <th>enc_loans_credit_status</th>\n",
       "      <th>enc_loans_credit_type</th>\n",
       "      <th>enc_loans_account_cur</th>\n",
       "      <th>pclose_flag</th>\n",
       "      <th>fclose_flag</th>\n",
       "    </tr>\n",
       "  </thead>\n",
       "  <tbody>\n",
       "    <tr>\n",
       "      <th>0</th>\n",
       "      <td>250000</td>\n",
       "      <td>1</td>\n",
       "      <td>9</td>\n",
       "      <td>8</td>\n",
       "      <td>8</td>\n",
       "      <td>3</td>\n",
       "      <td>5</td>\n",
       "      <td>10</td>\n",
       "      <td>6</td>\n",
       "      <td>3</td>\n",
       "      <td>...</td>\n",
       "      <td>4</td>\n",
       "      <td>4</td>\n",
       "      <td>4</td>\n",
       "      <td>4</td>\n",
       "      <td>2</td>\n",
       "      <td>4</td>\n",
       "      <td>5</td>\n",
       "      <td>2</td>\n",
       "      <td>1</td>\n",
       "      <td>1</td>\n",
       "    </tr>\n",
       "    <tr>\n",
       "      <th>1</th>\n",
       "      <td>250000</td>\n",
       "      <td>2</td>\n",
       "      <td>15</td>\n",
       "      <td>9</td>\n",
       "      <td>13</td>\n",
       "      <td>11</td>\n",
       "      <td>7</td>\n",
       "      <td>4</td>\n",
       "      <td>13</td>\n",
       "      <td>7</td>\n",
       "      <td>...</td>\n",
       "      <td>4</td>\n",
       "      <td>4</td>\n",
       "      <td>4</td>\n",
       "      <td>4</td>\n",
       "      <td>2</td>\n",
       "      <td>4</td>\n",
       "      <td>5</td>\n",
       "      <td>2</td>\n",
       "      <td>1</td>\n",
       "      <td>1</td>\n",
       "    </tr>\n",
       "    <tr>\n",
       "      <th>2</th>\n",
       "      <td>250000</td>\n",
       "      <td>3</td>\n",
       "      <td>11</td>\n",
       "      <td>5</td>\n",
       "      <td>9</td>\n",
       "      <td>12</td>\n",
       "      <td>7</td>\n",
       "      <td>14</td>\n",
       "      <td>6</td>\n",
       "      <td>3</td>\n",
       "      <td>...</td>\n",
       "      <td>4</td>\n",
       "      <td>4</td>\n",
       "      <td>4</td>\n",
       "      <td>4</td>\n",
       "      <td>2</td>\n",
       "      <td>4</td>\n",
       "      <td>5</td>\n",
       "      <td>2</td>\n",
       "      <td>1</td>\n",
       "      <td>1</td>\n",
       "    </tr>\n",
       "    <tr>\n",
       "      <th>3</th>\n",
       "      <td>250000</td>\n",
       "      <td>4</td>\n",
       "      <td>14</td>\n",
       "      <td>13</td>\n",
       "      <td>9</td>\n",
       "      <td>7</td>\n",
       "      <td>14</td>\n",
       "      <td>6</td>\n",
       "      <td>13</td>\n",
       "      <td>3</td>\n",
       "      <td>...</td>\n",
       "      <td>4</td>\n",
       "      <td>4</td>\n",
       "      <td>4</td>\n",
       "      <td>4</td>\n",
       "      <td>2</td>\n",
       "      <td>4</td>\n",
       "      <td>5</td>\n",
       "      <td>2</td>\n",
       "      <td>1</td>\n",
       "      <td>1</td>\n",
       "    </tr>\n",
       "    <tr>\n",
       "      <th>4</th>\n",
       "      <td>250000</td>\n",
       "      <td>5</td>\n",
       "      <td>7</td>\n",
       "      <td>13</td>\n",
       "      <td>5</td>\n",
       "      <td>15</td>\n",
       "      <td>2</td>\n",
       "      <td>8</td>\n",
       "      <td>5</td>\n",
       "      <td>3</td>\n",
       "      <td>...</td>\n",
       "      <td>4</td>\n",
       "      <td>4</td>\n",
       "      <td>4</td>\n",
       "      <td>4</td>\n",
       "      <td>2</td>\n",
       "      <td>4</td>\n",
       "      <td>2</td>\n",
       "      <td>2</td>\n",
       "      <td>2</td>\n",
       "      <td>1</td>\n",
       "    </tr>\n",
       "    <tr>\n",
       "      <th>...</th>\n",
       "      <td>...</td>\n",
       "      <td>...</td>\n",
       "      <td>...</td>\n",
       "      <td>...</td>\n",
       "      <td>...</td>\n",
       "      <td>...</td>\n",
       "      <td>...</td>\n",
       "      <td>...</td>\n",
       "      <td>...</td>\n",
       "      <td>...</td>\n",
       "      <td>...</td>\n",
       "      <td>...</td>\n",
       "      <td>...</td>\n",
       "      <td>...</td>\n",
       "      <td>...</td>\n",
       "      <td>...</td>\n",
       "      <td>...</td>\n",
       "      <td>...</td>\n",
       "      <td>...</td>\n",
       "      <td>...</td>\n",
       "      <td>...</td>\n",
       "    </tr>\n",
       "    <tr>\n",
       "      <th>95</th>\n",
       "      <td>250014</td>\n",
       "      <td>7</td>\n",
       "      <td>7</td>\n",
       "      <td>3</td>\n",
       "      <td>1</td>\n",
       "      <td>9</td>\n",
       "      <td>15</td>\n",
       "      <td>12</td>\n",
       "      <td>12</td>\n",
       "      <td>3</td>\n",
       "      <td>...</td>\n",
       "      <td>1</td>\n",
       "      <td>1</td>\n",
       "      <td>1</td>\n",
       "      <td>1</td>\n",
       "      <td>2</td>\n",
       "      <td>3</td>\n",
       "      <td>4</td>\n",
       "      <td>2</td>\n",
       "      <td>1</td>\n",
       "      <td>2</td>\n",
       "    </tr>\n",
       "    <tr>\n",
       "      <th>96</th>\n",
       "      <td>250014</td>\n",
       "      <td>8</td>\n",
       "      <td>12</td>\n",
       "      <td>18</td>\n",
       "      <td>9</td>\n",
       "      <td>12</td>\n",
       "      <td>16</td>\n",
       "      <td>15</td>\n",
       "      <td>5</td>\n",
       "      <td>3</td>\n",
       "      <td>...</td>\n",
       "      <td>4</td>\n",
       "      <td>4</td>\n",
       "      <td>4</td>\n",
       "      <td>4</td>\n",
       "      <td>2</td>\n",
       "      <td>4</td>\n",
       "      <td>4</td>\n",
       "      <td>2</td>\n",
       "      <td>1</td>\n",
       "      <td>1</td>\n",
       "    </tr>\n",
       "    <tr>\n",
       "      <th>97</th>\n",
       "      <td>250014</td>\n",
       "      <td>9</td>\n",
       "      <td>2</td>\n",
       "      <td>10</td>\n",
       "      <td>5</td>\n",
       "      <td>9</td>\n",
       "      <td>2</td>\n",
       "      <td>12</td>\n",
       "      <td>16</td>\n",
       "      <td>6</td>\n",
       "      <td>...</td>\n",
       "      <td>4</td>\n",
       "      <td>4</td>\n",
       "      <td>4</td>\n",
       "      <td>4</td>\n",
       "      <td>2</td>\n",
       "      <td>3</td>\n",
       "      <td>4</td>\n",
       "      <td>2</td>\n",
       "      <td>2</td>\n",
       "      <td>2</td>\n",
       "    </tr>\n",
       "    <tr>\n",
       "      <th>98</th>\n",
       "      <td>250014</td>\n",
       "      <td>10</td>\n",
       "      <td>13</td>\n",
       "      <td>11</td>\n",
       "      <td>17</td>\n",
       "      <td>9</td>\n",
       "      <td>13</td>\n",
       "      <td>3</td>\n",
       "      <td>15</td>\n",
       "      <td>3</td>\n",
       "      <td>...</td>\n",
       "      <td>4</td>\n",
       "      <td>4</td>\n",
       "      <td>4</td>\n",
       "      <td>4</td>\n",
       "      <td>2</td>\n",
       "      <td>4</td>\n",
       "      <td>2</td>\n",
       "      <td>2</td>\n",
       "      <td>1</td>\n",
       "      <td>1</td>\n",
       "    </tr>\n",
       "    <tr>\n",
       "      <th>99</th>\n",
       "      <td>250015</td>\n",
       "      <td>1</td>\n",
       "      <td>8</td>\n",
       "      <td>10</td>\n",
       "      <td>5</td>\n",
       "      <td>9</td>\n",
       "      <td>2</td>\n",
       "      <td>12</td>\n",
       "      <td>11</td>\n",
       "      <td>5</td>\n",
       "      <td>...</td>\n",
       "      <td>4</td>\n",
       "      <td>4</td>\n",
       "      <td>4</td>\n",
       "      <td>4</td>\n",
       "      <td>2</td>\n",
       "      <td>3</td>\n",
       "      <td>5</td>\n",
       "      <td>2</td>\n",
       "      <td>2</td>\n",
       "      <td>2</td>\n",
       "    </tr>\n",
       "  </tbody>\n",
       "</table>\n",
       "<p>100 rows × 61 columns</p>\n",
       "</div>"
      ],
      "text/plain": [
       "        id  rn  pre_since_opened  pre_since_confirmed  pre_pterm  pre_fterm  \\\n",
       "0   250000   1                 9                    8          8          3   \n",
       "1   250000   2                15                    9         13         11   \n",
       "2   250000   3                11                    5          9         12   \n",
       "3   250000   4                14                   13          9          7   \n",
       "4   250000   5                 7                   13          5         15   \n",
       "..     ...  ..               ...                  ...        ...        ...   \n",
       "95  250014   7                 7                    3          1          9   \n",
       "96  250014   8                12                   18          9         12   \n",
       "97  250014   9                 2                   10          5          9   \n",
       "98  250014  10                13                   11         17          9   \n",
       "99  250015   1                 8                   10          5          9   \n",
       "\n",
       "    pre_till_pclose  pre_till_fclose  pre_loans_credit_limit  \\\n",
       "0                 5               10                       6   \n",
       "1                 7                4                      13   \n",
       "2                 7               14                       6   \n",
       "3                14                6                      13   \n",
       "4                 2                8                       5   \n",
       "..              ...              ...                     ...   \n",
       "95               15               12                      12   \n",
       "96               16               15                       5   \n",
       "97                2               12                      16   \n",
       "98               13                3                      15   \n",
       "99                2               12                      11   \n",
       "\n",
       "    pre_loans_next_pay_summ  ...  enc_paym_21  enc_paym_22  enc_paym_23  \\\n",
       "0                         3  ...            4            4            4   \n",
       "1                         7  ...            4            4            4   \n",
       "2                         3  ...            4            4            4   \n",
       "3                         3  ...            4            4            4   \n",
       "4                         3  ...            4            4            4   \n",
       "..                      ...  ...          ...          ...          ...   \n",
       "95                        3  ...            1            1            1   \n",
       "96                        3  ...            4            4            4   \n",
       "97                        6  ...            4            4            4   \n",
       "98                        3  ...            4            4            4   \n",
       "99                        5  ...            4            4            4   \n",
       "\n",
       "    enc_paym_24  enc_loans_account_holder_type  enc_loans_credit_status  \\\n",
       "0             4                              2                        4   \n",
       "1             4                              2                        4   \n",
       "2             4                              2                        4   \n",
       "3             4                              2                        4   \n",
       "4             4                              2                        4   \n",
       "..          ...                            ...                      ...   \n",
       "95            1                              2                        3   \n",
       "96            4                              2                        4   \n",
       "97            4                              2                        3   \n",
       "98            4                              2                        4   \n",
       "99            4                              2                        3   \n",
       "\n",
       "    enc_loans_credit_type  enc_loans_account_cur  pclose_flag  fclose_flag  \n",
       "0                       5                      2            1            1  \n",
       "1                       5                      2            1            1  \n",
       "2                       5                      2            1            1  \n",
       "3                       5                      2            1            1  \n",
       "4                       2                      2            2            1  \n",
       "..                    ...                    ...          ...          ...  \n",
       "95                      4                      2            1            2  \n",
       "96                      4                      2            1            1  \n",
       "97                      4                      2            2            2  \n",
       "98                      2                      2            1            1  \n",
       "99                      5                      2            2            2  \n",
       "\n",
       "[100 rows x 61 columns]"
      ]
     },
     "execution_count": 21,
     "metadata": {},
     "output_type": "execute_result"
    }
   ],
   "source": [
    "train_data.limit(100).toPandas()"
   ]
  },
  {
   "cell_type": "markdown",
   "id": "8a71387f",
   "metadata": {},
   "source": [
    "### Train"
   ]
  },
  {
   "cell_type": "code",
   "execution_count": 14,
   "id": "3fd324d3",
   "metadata": {},
   "outputs": [
    {
     "name": "stdout",
     "output_type": "stream",
     "text": [
      "\n"
     ]
    },
    {
     "name": "stderr",
     "output_type": "stream",
     "text": [
      "                                                                                \r"
     ]
    },
    {
     "name": "stdout",
     "output_type": "stream",
     "text": [
      "Num clients in train:  3000000\n",
      "\n",
      "Max num trx:  58\n",
      "Min num trx:  1\n",
      "Mean num trx:  8.720905666666667\n",
      "\n",
      "% of clients with 1 trx:  7.35\n",
      "% of clients with 2 trx:  7.62\n",
      "% of clients < 5 trx:  30.19\n",
      "% of clients < 10 trx:  62.32\n",
      "% of clients > 30 trx:  0.27\n"
     ]
    },
    {
     "data": {
      "image/png": "[encoded data removed]",
      "text/plain": [
       "<Figure size 432x288 with 1 Axes>"
      ]
     },
     "metadata": {
      "needs_background": "light"
     },
     "output_type": "display_data"
    },
    {
     "name": "stdout",
     "output_type": "stream",
     "text": [
      "+------+------+\n",
      "|    id|number|\n",
      "+------+------+\n",
      "|250267|     5|\n",
      "|250622|    15|\n",
      "|250722|     4|\n",
      "|250780|    17|\n",
      "|250953|     4|\n",
      "|250956|     1|\n",
      "|251092|    10|\n",
      "|251310|     4|\n",
      "|251492|    19|\n",
      "|251605|     7|\n",
      "|251719|     1|\n",
      "|251952|     6|\n",
      "|252057|    14|\n",
      "|252993|    13|\n",
      "|253095|     1|\n",
      "|253232|    11|\n",
      "|253472|    14|\n",
      "|253498|     8|\n",
      "|253804|    13|\n",
      "|253815|     9|\n",
      "+------+------+\n",
      "only showing top 20 rows\n",
      "\n"
     ]
    }
   ],
   "source": [
    "import numpy as np\n",
    "import matplotlib.pyplot as plt\n",
    "\n",
    "\n",
    "agg = train_data.groupBy('id').agg(F.count(F.lit(1)).alias(\"number\")).cache()\n",
    "\n",
    "print()\n",
    "print('Num clients in train: ', agg.count())\n",
    "print()\n",
    "print('Max num trx: ', agg.select(F.max('number').alias('max')).collect()[0]['max'])\n",
    "print('Min num trx: ', agg.select(F.min('number').alias('min')).collect()[0]['min'])\n",
    "print('Mean num trx: ', agg.select(F.mean('number').alias('mean')).collect()[0]['mean'])\n",
    "print()\n",
    "lens = np.array(agg.select('number').collect())\n",
    "print('% of clients with 1 trx: ', round(np.sum(lens.squeeze() == 1)/len(lens) * 100, 2))\n",
    "print('% of clients with 2 trx: ', round(np.sum(lens.squeeze() == 2)/len(lens) * 100, 2))\n",
    "print('% of clients < 5 trx: ', round(np.sum(lens.squeeze() < 5)/len(lens) * 100, 2))\n",
    "print('% of clients < 10 trx: ', round(np.sum(lens.squeeze() < 10)/len(lens) * 100, 2))\n",
    "print('% of clients > 30 trx: ', round(np.sum(lens.squeeze() > 30)/len(lens) * 100, 2))\n",
    "plt.hist(lens, bins=100)\n",
    "plt.show()\n",
    "\n",
    "agg.show()"
   ]
  },
  {
   "cell_type": "markdown",
   "id": "81babe20",
   "metadata": {},
   "source": [
    "### Test"
   ]
  },
  {
   "cell_type": "code",
   "execution_count": 13,
   "id": "7be0ba92",
   "metadata": {},
   "outputs": [
    {
     "name": "stdout",
     "output_type": "stream",
     "text": [
      "\n",
      "Num clients in train:  500000\n",
      "\n",
      "Max num trx:  57\n",
      "Min num trx:  1\n",
      "Mean num trx:  9.449202\n",
      "\n",
      "% of clients with 1 trx:  6.94\n",
      "% of clients with 2 trx:  7.07\n",
      "% of clients < 5 trx:  27.84\n",
      "% of clients < 10 trx:  57.5\n",
      "% of clients > 30 trx:  0.37\n"
     ]
    },
    {
     "data": {
      "image/png": "[encoded data removed]",
      "text/plain": [
       "<Figure size 432x288 with 1 Axes>"
      ]
     },
     "metadata": {
      "needs_background": "light"
     },
     "output_type": "display_data"
    },
    {
     "name": "stdout",
     "output_type": "stream",
     "text": [
      "+-------+------+\n",
      "|     id|number|\n",
      "+-------+------+\n",
      "|3250053|    12|\n",
      "|3250074|     4|\n",
      "|3250218|     3|\n",
      "|3250294|    12|\n",
      "|3250308|     8|\n",
      "|3250333|    17|\n",
      "|3250394|     1|\n",
      "|3251104|     2|\n",
      "|3251171|    21|\n",
      "|3251607|    13|\n",
      "|3251786|     1|\n",
      "|3251883|    19|\n",
      "|3252246|     6|\n",
      "|3252721|     5|\n",
      "|3252799|    18|\n",
      "|3253046|     1|\n",
      "|3253172|    17|\n",
      "|3253292|     3|\n",
      "|3253341|    21|\n",
      "|3253386|    12|\n",
      "+-------+------+\n",
      "only showing top 20 rows\n",
      "\n"
     ]
    }
   ],
   "source": [
    "agg_test = test_data.groupBy('id').agg(F.count(F.lit(1)).alias(\"number\")).cache()\n",
    "\n",
    "print()\n",
    "print('Num clients in train: ', agg_test.count())\n",
    "print()\n",
    "print('Max num trx: ', agg_test.select(F.max('number').alias('max')).collect()[0]['max'])\n",
    "print('Min num trx: ', agg_test.select(F.min('number').alias('min')).collect()[0]['min'])\n",
    "print('Mean num trx: ', agg_test.select(F.mean('number').alias('mean')).collect()[0]['mean'])\n",
    "print()\n",
    "lens_test = np.array(agg_test.select('number').collect())\n",
    "print('% of clients with 1 trx: ', round(np.sum(lens_test.squeeze() == 1)/len(lens_test) * 100, 2))\n",
    "print('% of clients with 2 trx: ', round(np.sum(lens_test.squeeze() == 2)/len(lens_test) * 100, 2))\n",
    "print('% of clients < 5 trx: ', round(np.sum(lens_test.squeeze() < 5)/len(lens_test) * 100, 2))\n",
    "print('% of clients < 10 trx: ', round(np.sum(lens_test.squeeze() < 10)/len(lens_test) * 100, 2))\n",
    "print('% of clients > 30 trx: ', round(np.sum(lens_test.squeeze() > 30)/len(lens_test) * 100, 2))\n",
    "plt.hist(lens_test, bins=100)\n",
    "plt.show()\n",
    "\n",
    "agg_test.show()"
   ]
  },
  {
   "cell_type": "code",
   "execution_count": 14,
   "id": "ffe355fc",
   "metadata": {},
   "outputs": [
    {
     "data": {
      "text/plain": [
       "7.3515"
      ]
     },
     "execution_count": 14,
     "metadata": {},
     "output_type": "execute_result"
    }
   ],
   "source": [
    "np.sum(lens.squeeze() < 2)/len(lens)* 100"
   ]
  },
  {
   "cell_type": "markdown",
   "id": "368ecd22",
   "metadata": {},
   "source": [
    "### Number of categories"
   ]
  },
  {
   "cell_type": "code",
   "execution_count": 14,
   "id": "b575e161",
   "metadata": {},
   "outputs": [
    {
     "name": "stderr",
     "output_type": "stream",
     "text": [
      "                                                                                \r"
     ]
    },
    {
     "name": "stdout",
     "output_type": "stream",
     "text": [
      "id                             3000000    0          2999999    |     500000     3000000    3499999\n",
      "rn                             58         1          58         |     57         1          57\n",
      "pre_since_opened               20         1          20         |     20         1          20\n",
      "pre_since_confirmed            18         1          18         |     17         1          18\n",
      "pre_pterm                      18         1          18         |     18         1          18\n",
      "pre_fterm                      17         1          17         |     17         1          17\n",
      "pre_till_pclose                17         1          17         |     17         1          17\n",
      "pre_till_fclose                16         1          16         |     16         1          16\n",
      "pre_loans_credit_limit         20         1          20         |     20         1          20\n",
      "pre_loans_next_pay_summ        7          1          7          |     8          1          8\n",
      "pre_loans_outstanding          5          1          5          |     5          1          5\n",
      "pre_loans_total_overdue        2          1          2          |     1          1          1\n",
      "pre_loans_max_overdue_sum      4          1          4          |     3          2          4\n",
      "pre_loans_credit_cost_rate     14         1          14         |     14         1          14\n",
      "pre_loans5                     13         1          17         |     17         1          18\n",
      "pre_loans530                   20         1          20         |     20         1          20\n",
      "pre_loans3060                  10         1          10         |     9          1          10\n",
      "pre_loans6090                  5          1          5          |     6          1          6\n",
      "pre_loans90                    7          2          19         |     11         1          19\n",
      "is_zero_loans5                 2          1          2          |     2          1          2\n",
      "is_zero_loans530               2          1          2          |     2          1          2\n",
      "is_zero_loans3060              2          1          2          |     2          1          2\n",
      "is_zero_loans6090              2          1          2          |     2          1          2\n",
      "is_zero_loans90                2          1          2          |     2          1          2\n",
      "pre_util                       20         1          20         |     20         1          20\n",
      "pre_over2limit                 20         1          20         |     20         1          20\n",
      "pre_maxover2limit              20         1          20         |     20         1          20\n",
      "is_zero_util                   2          1          2          |     2          1          2\n",
      "is_zero_over2limit             2          1          2          |     2          1          2\n",
      "is_zero_maxover2limit          2          1          2          |     2          1          2\n",
      "enc_paym_0                     4          1          4          |     4          1          4\n",
      "enc_paym_1                     4          1          4          |     4          1          4\n",
      "enc_paym_2                     4          1          4          |     4          1          4\n",
      "enc_paym_3                     4          1          4          |     4          1          4\n",
      "enc_paym_4                     4          1          4          |     4          1          4\n",
      "enc_paym_5                     4          1          4          |     4          1          4\n",
      "enc_paym_6                     4          1          4          |     4          1          4\n",
      "enc_paym_7                     4          1          4          |     4          1          4\n",
      "enc_paym_8                     4          1          4          |     4          1          4\n",
      "enc_paym_9                     4          1          4          |     4          1          4\n",
      "enc_paym_10                    4          1          4          |     4          1          4\n",
      "enc_paym_11                    4          1          4          |     4          1          4\n",
      "enc_paym_12                    4          1          4          |     4          1          4\n",
      "enc_paym_13                    4          1          4          |     4          1          4\n",
      "enc_paym_14                    4          1          4          |     4          1          4\n",
      "enc_paym_15                    4          1          4          |     4          1          4\n",
      "enc_paym_16                    4          1          4          |     4          1          4\n",
      "enc_paym_17                    4          1          4          |     4          1          4\n",
      "enc_paym_18                    4          1          4          |     4          1          4\n",
      "enc_paym_19                    4          1          4          |     4          1          4\n",
      "enc_paym_20                    4          1          4          |     4          1          4\n",
      "enc_paym_21                    4          1          4          |     4          1          4\n",
      "enc_paym_22                    4          1          4          |     4          1          4\n",
      "enc_paym_23                    4          1          4          |     4          1          4\n",
      "enc_paym_24                    4          1          4          |     4          1          4\n",
      "enc_loans_account_holder_type  7          1          7          |     7          1          7\n",
      "enc_loans_credit_status        7          1          7          |     7          1          7\n",
      "enc_loans_credit_type          8          1          8          |     8          1          8\n",
      "enc_loans_account_cur          4          1          4          |     4          1          4\n",
      "pclose_flag                    2          1          2          |     2          1          2\n",
      "fclose_flag                    2          1          2          |     2          1          2\n"
     ]
    }
   ],
   "source": [
    "for col in train_data.columns:\n",
    "    distinct_in_col_train = train_data.select(F.col(col)).distinct()\n",
    "    distinct_in_col_test = test_data.select(F.col(col)).distinct()\n",
    "    print('{0: <30} {1: <10} {2: <10} {3: <10} |     {4: <10} {5: <10} {6}'.format(col, train_data.select(F.col(col)).distinct().count(),\n",
    "                                                                                  distinct_in_col_train.select(F.min(F.col(col))).toPandas().to_numpy().squeeze().tolist(),\n",
    "                                                                                  distinct_in_col_train.select(F.max(F.col(col))).toPandas().to_numpy().squeeze().tolist(),\n",
    "                                                                                  test_data.select(F.col(col)).distinct().count(),\n",
    "                                                                                  distinct_in_col_test.select(F.min(F.col(col))).toPandas().to_numpy().squeeze().tolist(),\n",
    "                                                                                  distinct_in_col_test.select(F.max(F.col(col))).toPandas().to_numpy().squeeze().tolist()\n",
    "                                                                            )\n",
    "    )"
   ]
  },
  {
   "cell_type": "markdown",
   "id": "132047bf",
   "metadata": {},
   "source": [
    "### Check for missing values"
   ]
  },
  {
   "cell_type": "code",
   "execution_count": 40,
   "id": "0b19a907",
   "metadata": {},
   "outputs": [],
   "source": [
    "# for c in train_data.columns:\n",
    "#     print(np.sum(train_data.select([F.count(F.when(F.isnan(c) | F.isnull(c), c))]).toPandas().to_numpy().squeeze()))"
   ]
  },
  {
   "cell_type": "markdown",
   "id": "58be3c76",
   "metadata": {},
   "source": [
    "### Check for zeros"
   ]
  },
  {
   "cell_type": "code",
   "execution_count": 14,
   "id": "c3260ce4",
   "metadata": {},
   "outputs": [],
   "source": [
    "# for c in train_data.columns:\n",
    "#     print(np.sum(train_data.filter(train_data[c] == 0).limit(100).toPandas().to_numpy().squeeze()), c)"
   ]
  },
  {
   "cell_type": "markdown",
   "id": "bebc495e",
   "metadata": {},
   "source": [
    "### Collect lists"
   ]
  },
  {
   "cell_type": "code",
   "execution_count": 14,
   "id": "2721b786",
   "metadata": {},
   "outputs": [],
   "source": [
    "# full_train_df = train_data.groupBy('id').agg(*[F.collect_list(col).alias(col) for col in train_data.columns if col != 'id']).join(train_target, ['id']).withColumn('rn', F.reverse('rn'))\n",
    "# full_train_df = full_train_df.withColumn('flag', full_train_df['flag'].cast('int')).cache()\n",
    "# valid_df = full_train_df.sample(0.01).cache()\n",
    "# train_df = full_train_df.join(valid_df, full_train_df.id == valid_df.id, how='left_anti').cache()\n",
    "# test_df = test_data.groupBy('id').agg(*[F.collect_list(col).alias(col) for col in test_data.columns if col != 'id']).withColumn('rn', F.reverse('rn')).cache()\n",
    "\n",
    "# print('Full train size:', full_train_df.count())\n",
    "# print('Valid size:', valid_df.count())\n",
    "# print('Train size:', train_df.count())\n",
    "# print('Test size:', test_df.count())\n",
    "\n",
    "# full_train_df.write.parquet(\"./full_train.parquet\")\n",
    "# train_df.write.parquet(\"./train.parquet\")\n",
    "# valid_df.write.parquet(\"./valid.parquet\")\n",
    "# test_df.write.parquet(\"./test.parquet\")\n",
    "\n",
    "full_train_df = spark.read.parquet(\"./full_train.parquet\")\n",
    "train_df = spark.read.parquet(\"./train.parquet\")\n",
    "valid_df = spark.read.parquet(\"./valid.parquet\")\n",
    "test_df = spark.read.parquet(\"./test.parquet\")"
   ]
  },
  {
   "cell_type": "code",
   "execution_count": 15,
   "id": "49f68057",
   "metadata": {},
   "outputs": [
    {
     "data": {
      "text/plain": [
       "3.469184890656064"
      ]
     },
     "execution_count": 15,
     "metadata": {},
     "output_type": "execute_result"
    }
   ],
   "source": [
    "valid_df.select(F.sum('flag')).collect()[0][0] / 30180 * 100"
   ]
  },
  {
   "cell_type": "code",
   "execution_count": 16,
   "id": "9826f93c",
   "metadata": {
    "scrolled": false
   },
   "outputs": [
    {
     "data": {
      "text/html": [
       "<div>\n",
       "<style scoped>\n",
       "    .dataframe tbody tr th:only-of-type {\n",
       "        vertical-align: middle;\n",
       "    }\n",
       "\n",
       "    .dataframe tbody tr th {\n",
       "        vertical-align: top;\n",
       "    }\n",
       "\n",
       "    .dataframe thead th {\n",
       "        text-align: right;\n",
       "    }\n",
       "</style>\n",
       "<table border=\"1\" class=\"dataframe\">\n",
       "  <thead>\n",
       "    <tr style=\"text-align: right;\">\n",
       "      <th></th>\n",
       "      <th>id</th>\n",
       "      <th>rn</th>\n",
       "      <th>pre_since_opened</th>\n",
       "      <th>pre_since_confirmed</th>\n",
       "      <th>pre_pterm</th>\n",
       "      <th>pre_fterm</th>\n",
       "      <th>pre_till_pclose</th>\n",
       "      <th>pre_till_fclose</th>\n",
       "      <th>pre_loans_credit_limit</th>\n",
       "      <th>pre_loans_next_pay_summ</th>\n",
       "      <th>...</th>\n",
       "      <th>enc_paym_22</th>\n",
       "      <th>enc_paym_23</th>\n",
       "      <th>enc_paym_24</th>\n",
       "      <th>enc_loans_account_holder_type</th>\n",
       "      <th>enc_loans_credit_status</th>\n",
       "      <th>enc_loans_credit_type</th>\n",
       "      <th>enc_loans_account_cur</th>\n",
       "      <th>pclose_flag</th>\n",
       "      <th>fclose_flag</th>\n",
       "      <th>flag</th>\n",
       "    </tr>\n",
       "  </thead>\n",
       "  <tbody>\n",
       "    <tr>\n",
       "      <th>0</th>\n",
       "      <td>201</td>\n",
       "      <td>[4, 3, 2, 1]</td>\n",
       "      <td>[12, 12, 3, 10]</td>\n",
       "      <td>[11, 4, 14, 10]</td>\n",
       "      <td>[5, 10, 14, 5]</td>\n",
       "      <td>[9, 1, 3, 9]</td>\n",
       "      <td>[2, 16, 3, 2]</td>\n",
       "      <td>[12, 15, 7, 12]</td>\n",
       "      <td>[5, 7, 6, 18]</td>\n",
       "      <td>[3, 3, 3, 5]</td>\n",
       "      <td>...</td>\n",
       "      <td>[4, 4, 4, 4]</td>\n",
       "      <td>[4, 4, 4, 4]</td>\n",
       "      <td>[4, 4, 4, 4]</td>\n",
       "      <td>[5, 2, 2, 2]</td>\n",
       "      <td>[2, 4, 4, 3]</td>\n",
       "      <td>[2, 5, 5, 4]</td>\n",
       "      <td>[2, 2, 2, 2]</td>\n",
       "      <td>[2, 1, 1, 2]</td>\n",
       "      <td>[2, 1, 1, 2]</td>\n",
       "      <td>0</td>\n",
       "    </tr>\n",
       "    <tr>\n",
       "      <th>1</th>\n",
       "      <td>232</td>\n",
       "      <td>[11, 10, 9, 8, 7, 6, 5, 4, 3, 2, 1]</td>\n",
       "      <td>[9, 9, 9, 9, 16, 15, 1, 14, 14, 2, 2]</td>\n",
       "      <td>[8, 7, 5, 13, 4, 9, 9, 7, 7, 4, 4]</td>\n",
       "      <td>[14, 16, 2, 3, 9, 12, 2, 4, 5, 5, 5]</td>\n",
       "      <td>[1, 10, 15, 15, 7, 14, 17, 6, 11, 9, 9]</td>\n",
       "      <td>[5, 5, 10, 10, 10, 6, 6, 14, 2, 2, 2]</td>\n",
       "      <td>[10, 10, 2, 2, 2, 11, 11, 4, 11, 12, 12]</td>\n",
       "      <td>[6, 13, 12, 15, 14, 1, 12, 6, 14, 20, 8]</td>\n",
       "      <td>[3, 2, 3, 3, 3, 3, 3, 2, 7, 3, 3]</td>\n",
       "      <td>...</td>\n",
       "      <td>[4, 4, 1, 4, 4, 1, 1, 4, 4, 4, 4]</td>\n",
       "      <td>[4, 4, 1, 4, 4, 1, 1, 4, 4, 4, 4]</td>\n",
       "      <td>[4, 4, 1, 4, 4, 1, 1, 4, 4, 4, 4]</td>\n",
       "      <td>[2, 2, 2, 2, 2, 2, 2, 2, 2, 2, 2]</td>\n",
       "      <td>[4, 4, 4, 3, 4, 4, 4, 4, 4, 4, 4]</td>\n",
       "      <td>[5, 5, 5, 4, 2, 5, 5, 5, 4, 4, 4]</td>\n",
       "      <td>[2, 2, 2, 2, 2, 2, 2, 2, 2, 2, 2]</td>\n",
       "      <td>[1, 1, 1, 1, 1, 1, 1, 1, 2, 2, 2]</td>\n",
       "      <td>[1, 1, 1, 1, 1, 1, 1, 1, 1, 2, 2]</td>\n",
       "      <td>0</td>\n",
       "    </tr>\n",
       "    <tr>\n",
       "      <th>2</th>\n",
       "      <td>402</td>\n",
       "      <td>[13, 12, 11, 10, 9, 8, 7, 6, 5, 4, 3, 2, 1]</td>\n",
       "      <td>[1, 14, 14, 7, 5, 5, 5, 5, 6, 4, 12, 10, 10]</td>\n",
       "      <td>[2, 15, 9, 7, 18, 18, 7, 6, 17, 1, 1, 17, 3]</td>\n",
       "      <td>[3, 2, 2, 5, 15, 5, 5, 3, 7, 15, 12, 18, 10]</td>\n",
       "      <td>[15, 17, 11, 15, 8, 11, 16, 15, 9, 9, 14, 9, 1]</td>\n",
       "      <td>[4, 17, 17, 2, 9, 2, 2, 12, 1, 15, 15, 9, 2]</td>\n",
       "      <td>[6, 13, 11, 13, 9, 1, 13, 1, 12, 12, 9, 12, 12]</td>\n",
       "      <td>[2, 17, 15, 9, 9, 9, 12, 15, 3, 8, 8, 11, 12]</td>\n",
       "      <td>[3, 3, 3, 4, 3, 3, 1, 3, 6, 3, 6, 7, 6]</td>\n",
       "      <td>...</td>\n",
       "      <td>[4, 4, 4, 1, 4, 4, 4, 1, 4, 4, 4, 4, 4]</td>\n",
       "      <td>[4, 4, 4, 1, 4, 4, 4, 1, 4, 4, 4, 4, 4]</td>\n",
       "      <td>[4, 4, 4, 4, 4, 4, 4, 1, 4, 4, 4, 4, 4]</td>\n",
       "      <td>[2, 2, 2, 2, 2, 2, 2, 2, 2, 2, 2, 2, 2]</td>\n",
       "      <td>[4, 3, 4, 4, 4, 4, 4, 3, 3, 3, 3, 3, 3]</td>\n",
       "      <td>[4, 4, 4, 4, 4, 4, 4, 4, 1, 4, 4, 2, 5]</td>\n",
       "      <td>[2, 2, 2, 2, 2, 2, 2, 2, 2, 2, 2, 2, 2]</td>\n",
       "      <td>[1, 1, 1, 2, 1, 2, 2, 1, 1, 1, 1, 1, 1]</td>\n",
       "      <td>[1, 1, 1, 1, 1, 1, 1, 1, 2, 2, 1, 2, 1]</td>\n",
       "      <td>0</td>\n",
       "    </tr>\n",
       "    <tr>\n",
       "      <th>3</th>\n",
       "      <td>990</td>\n",
       "      <td>[6, 5, 4, 3, 2, 1]</td>\n",
       "      <td>[14, 19, 4, 12, 18, 8]</td>\n",
       "      <td>[18, 15, 3, 4, 10, 10]</td>\n",
       "      <td>[5, 9, 18, 12, 17, 5]</td>\n",
       "      <td>[9, 6, 9, 3, 3, 9]</td>\n",
       "      <td>[2, 4, 13, 9, 16, 2]</td>\n",
       "      <td>[12, 6, 12, 15, 1, 12]</td>\n",
       "      <td>[9, 18, 18, 1, 12, 8]</td>\n",
       "      <td>[3, 3, 3, 3, 1, 1]</td>\n",
       "      <td>...</td>\n",
       "      <td>[4, 4, 4, 4, 4, 4]</td>\n",
       "      <td>[4, 4, 4, 4, 4, 4]</td>\n",
       "      <td>[4, 4, 4, 4, 4, 4]</td>\n",
       "      <td>[2, 2, 2, 2, 2, 2]</td>\n",
       "      <td>[4, 4, 3, 4, 4, 3]</td>\n",
       "      <td>[4, 2, 4, 5, 5, 4]</td>\n",
       "      <td>[2, 2, 2, 2, 2, 2]</td>\n",
       "      <td>[2, 1, 1, 1, 1, 2]</td>\n",
       "      <td>[2, 1, 2, 1, 1, 2]</td>\n",
       "      <td>0</td>\n",
       "    </tr>\n",
       "    <tr>\n",
       "      <th>4</th>\n",
       "      <td>1141</td>\n",
       "      <td>[5, 4, 3, 2, 1]</td>\n",
       "      <td>[9, 1, 1, 1, 7]</td>\n",
       "      <td>[8, 10, 10, 15, 7]</td>\n",
       "      <td>[14, 3, 5, 13, 7]</td>\n",
       "      <td>[1, 11, 15, 16, 2]</td>\n",
       "      <td>[5, 4, 2, 4, 1]</td>\n",
       "      <td>[10, 6, 11, 6, 5]</td>\n",
       "      <td>[13, 20, 11, 4, 15]</td>\n",
       "      <td>[3, 7, 5, 3, 2]</td>\n",
       "      <td>...</td>\n",
       "      <td>[4, 1, 4, 4, 4]</td>\n",
       "      <td>[4, 1, 4, 4, 4]</td>\n",
       "      <td>[4, 4, 4, 4, 4]</td>\n",
       "      <td>[2, 2, 2, 2, 2]</td>\n",
       "      <td>[4, 4, 4, 4, 3]</td>\n",
       "      <td>[5, 5, 4, 5, 4]</td>\n",
       "      <td>[2, 2, 2, 2, 2]</td>\n",
       "      <td>[1, 1, 2, 1, 1]</td>\n",
       "      <td>[1, 1, 1, 1, 1]</td>\n",
       "      <td>0</td>\n",
       "    </tr>\n",
       "    <tr>\n",
       "      <th>...</th>\n",
       "      <td>...</td>\n",
       "      <td>...</td>\n",
       "      <td>...</td>\n",
       "      <td>...</td>\n",
       "      <td>...</td>\n",
       "      <td>...</td>\n",
       "      <td>...</td>\n",
       "      <td>...</td>\n",
       "      <td>...</td>\n",
       "      <td>...</td>\n",
       "      <td>...</td>\n",
       "      <td>...</td>\n",
       "      <td>...</td>\n",
       "      <td>...</td>\n",
       "      <td>...</td>\n",
       "      <td>...</td>\n",
       "      <td>...</td>\n",
       "      <td>...</td>\n",
       "      <td>...</td>\n",
       "      <td>...</td>\n",
       "      <td>...</td>\n",
       "    </tr>\n",
       "    <tr>\n",
       "      <th>95</th>\n",
       "      <td>17901</td>\n",
       "      <td>[23, 22, 21, 20, 19, 18, 17, 16, 15, 14, 13, 1...</td>\n",
       "      <td>[9, 1, 7, 5, 4, 12, 3, 3, 2, 2, 2, 10, 10, 10,...</td>\n",
       "      <td>[8, 15, 6, 14, 4, 13, 6, 6, 6, 6, 6, 6, 6, 6, ...</td>\n",
       "      <td>[16, 13, 12, 2, 10, 4, 5, 13, 5, 5, 5, 5, 5, 5...</td>\n",
       "      <td>[10, 16, 14, 17, 1, 4, 9, 13, 9, 9, 9, 9, 9, 9...</td>\n",
       "      <td>[10, 4, 8, 3, 16, 12, 2, 2, 2, 2, 2, 2, 2, 2, ...</td>\n",
       "      <td>[2, 6, 16, 7, 15, 1, 12, 16, 12, 12, 12, 12, 1...</td>\n",
       "      <td>[13, 4, 15, 15, 6, 19, 19, 4, 19, 19, 19, 5, 5...</td>\n",
       "      <td>[3, 3, 3, 3, 3, 3, 3, 3, 3, 3, 3, 3, 3, 3, 3, ...</td>\n",
       "      <td>...</td>\n",
       "      <td>[4, 4, 1, 4, 4, 4, 4, 4, 4, 4, 4, 4, 4, 4, 4, ...</td>\n",
       "      <td>[4, 4, 1, 4, 4, 4, 4, 4, 4, 4, 4, 4, 4, 4, 4, ...</td>\n",
       "      <td>[4, 4, 1, 4, 4, 4, 4, 4, 4, 4, 4, 4, 4, 4, 4, ...</td>\n",
       "      <td>[2, 2, 2, 2, 2, 2, 2, 2, 2, 2, 2, 2, 2, 2, 2, ...</td>\n",
       "      <td>[4, 4, 4, 4, 4, 4, 4, 4, 4, 4, 4, 4, 4, 4, 4, ...</td>\n",
       "      <td>[5, 5, 5, 4, 2, 5, 5, 5, 5, 5, 5, 5, 5, 5, 5, ...</td>\n",
       "      <td>[2, 2, 2, 2, 2, 2, 2, 2, 2, 2, 2, 2, 2, 2, 2, ...</td>\n",
       "      <td>[1, 1, 1, 1, 1, 1, 2, 1, 2, 2, 2, 2, 2, 2, 2, ...</td>\n",
       "      <td>[1, 1, 1, 1, 1, 1, 2, 1, 2, 2, 2, 2, 2, 2, 2, ...</td>\n",
       "      <td>0</td>\n",
       "    </tr>\n",
       "    <tr>\n",
       "      <th>96</th>\n",
       "      <td>17954</td>\n",
       "      <td>[2, 1]</td>\n",
       "      <td>[2, 20]</td>\n",
       "      <td>[6, 7]</td>\n",
       "      <td>[10, 5]</td>\n",
       "      <td>[1, 9]</td>\n",
       "      <td>[8, 2]</td>\n",
       "      <td>[16, 12]</td>\n",
       "      <td>[11, 12]</td>\n",
       "      <td>[3, 1]</td>\n",
       "      <td>...</td>\n",
       "      <td>[4, 4]</td>\n",
       "      <td>[4, 4]</td>\n",
       "      <td>[4, 4]</td>\n",
       "      <td>[2, 2]</td>\n",
       "      <td>[4, 3]</td>\n",
       "      <td>[5, 4]</td>\n",
       "      <td>[2, 2]</td>\n",
       "      <td>[1, 2]</td>\n",
       "      <td>[1, 2]</td>\n",
       "      <td>0</td>\n",
       "    </tr>\n",
       "    <tr>\n",
       "      <th>97</th>\n",
       "      <td>18051</td>\n",
       "      <td>[11, 10, 9, 8, 7, 6, 5, 4, 3, 2, 1]</td>\n",
       "      <td>[9, 16, 16, 11, 1, 1, 14, 14, 14, 19, 5]</td>\n",
       "      <td>[8, 6, 8, 4, 10, 10, 10, 10, 10, 10, 10]</td>\n",
       "      <td>[2, 7, 10, 9, 17, 17, 5, 2, 5, 15, 3]</td>\n",
       "      <td>[15, 9, 1, 12, 10, 7, 12, 11, 9, 4, 11]</td>\n",
       "      <td>[7, 1, 10, 7, 14, 14, 2, 17, 2, 13, 12]</td>\n",
       "      <td>[2, 12, 2, 4, 4, 4, 4, 11, 12, 11, 1]</td>\n",
       "      <td>[2, 3, 11, 7, 8, 13, 19, 1, 1, 3, 10]</td>\n",
       "      <td>[3, 6, 3, 3, 1, 5, 3, 1, 6, 6, 1]</td>\n",
       "      <td>...</td>\n",
       "      <td>[1, 1, 4, 4, 4, 4, 4, 4, 1, 4, 1]</td>\n",
       "      <td>[1, 1, 4, 4, 4, 4, 4, 4, 1, 4, 1]</td>\n",
       "      <td>[1, 1, 4, 4, 4, 4, 4, 4, 4, 4, 4]</td>\n",
       "      <td>[2, 2, 2, 2, 2, 2, 2, 2, 2, 2, 2]</td>\n",
       "      <td>[4, 3, 4, 4, 4, 4, 4, 4, 3, 4, 4]</td>\n",
       "      <td>[5, 1, 5, 2, 5, 5, 4, 5, 4, 5, 5]</td>\n",
       "      <td>[2, 2, 2, 2, 2, 2, 2, 2, 2, 2, 2]</td>\n",
       "      <td>[1, 1, 1, 1, 1, 1, 2, 1, 2, 1, 1]</td>\n",
       "      <td>[1, 2, 1, 1, 1, 1, 1, 1, 2, 1, 1]</td>\n",
       "      <td>0</td>\n",
       "    </tr>\n",
       "    <tr>\n",
       "      <th>98</th>\n",
       "      <td>18193</td>\n",
       "      <td>[5, 4, 3, 2, 1]</td>\n",
       "      <td>[17, 16, 16, 16, 8]</td>\n",
       "      <td>[15, 8, 15, 15, 2]</td>\n",
       "      <td>[2, 5, 12, 16, 5]</td>\n",
       "      <td>[15, 9, 10, 10, 9]</td>\n",
       "      <td>[10, 2, 7, 10, 2]</td>\n",
       "      <td>[10, 12, 2, 2, 12]</td>\n",
       "      <td>[5, 2, 5, 12, 5]</td>\n",
       "      <td>[3, 3, 3, 3, 3]</td>\n",
       "      <td>...</td>\n",
       "      <td>[3, 4, 4, 4, 4]</td>\n",
       "      <td>[2, 4, 4, 4, 4]</td>\n",
       "      <td>[2, 4, 4, 4, 4]</td>\n",
       "      <td>[2, 2, 2, 2, 2]</td>\n",
       "      <td>[4, 4, 4, 4, 4]</td>\n",
       "      <td>[4, 4, 4, 5, 4]</td>\n",
       "      <td>[2, 2, 2, 2, 2]</td>\n",
       "      <td>[1, 2, 1, 1, 2]</td>\n",
       "      <td>[1, 2, 1, 1, 2]</td>\n",
       "      <td>0</td>\n",
       "    </tr>\n",
       "    <tr>\n",
       "      <th>99</th>\n",
       "      <td>18288</td>\n",
       "      <td>[16, 15, 14, 13, 12, 11, 10, 9, 8, 7, 6, 5, 4,...</td>\n",
       "      <td>[9, 16, 11, 11, 11, 14, 7, 7, 19, 19, 19, 5, 4...</td>\n",
       "      <td>[8, 15, 5, 14, 5, 15, 9, 10, 4, 12, 12, 10, 13...</td>\n",
       "      <td>[14, 18, 16, 13, 10, 3, 4, 4, 13, 5, 15, 5, 2,...</td>\n",
       "      <td>[3, 15, 13, 11, 1, 11, 6, 6, 11, 9, 8, 9, 12, ...</td>\n",
       "      <td>[5, 7, 14, 14, 14, 6, 14, 4, 17, 2, 13, 2, 13,...</td>\n",
       "      <td>[10, 14, 4, 6, 4, 11, 6, 6, 13, 12, 12, 12, 1,...</td>\n",
       "      <td>[7, 9, 20, 2, 7, 8, 19, 6, 11, 4, 12, 17, 12, ...</td>\n",
       "      <td>[3, 3, 3, 3, 3, 3, 3, 2, 3, 3, 3, 5, 3, 3, 7, 2]</td>\n",
       "      <td>...</td>\n",
       "      <td>[4, 4, 4, 1, 4, 4, 4, 4, 4, 4, 1, 1, 4, 1, 4, 4]</td>\n",
       "      <td>[4, 4, 4, 1, 4, 4, 4, 4, 4, 4, 1, 1, 4, 4, 4, 4]</td>\n",
       "      <td>[4, 4, 4, 4, 4, 4, 4, 4, 4, 4, 4, 4, 4, 4, 4, 4]</td>\n",
       "      <td>[2, 2, 2, 2, 2, 2, 2, 2, 2, 2, 2, 2, 2, 2, 2, 2]</td>\n",
       "      <td>[4, 4, 4, 4, 4, 4, 4, 4, 4, 3, 4, 3, 4, 3, 3, 3]</td>\n",
       "      <td>[5, 5, 5, 2, 5, 5, 5, 5, 5, 4, 5, 4, 5, 4, 5, 2]</td>\n",
       "      <td>[2, 2, 2, 2, 2, 2, 2, 2, 2, 2, 2, 2, 2, 2, 2, 2]</td>\n",
       "      <td>[1, 1, 1, 1, 1, 1, 1, 1, 1, 2, 1, 2, 1, 1, 1, 1]</td>\n",
       "      <td>[1, 1, 1, 1, 1, 1, 1, 1, 1, 2, 1, 2, 1, 2, 2, 2]</td>\n",
       "      <td>0</td>\n",
       "    </tr>\n",
       "  </tbody>\n",
       "</table>\n",
       "<p>100 rows × 62 columns</p>\n",
       "</div>"
      ],
      "text/plain": [
       "       id                                                 rn  \\\n",
       "0     201                                       [4, 3, 2, 1]   \n",
       "1     232                [11, 10, 9, 8, 7, 6, 5, 4, 3, 2, 1]   \n",
       "2     402        [13, 12, 11, 10, 9, 8, 7, 6, 5, 4, 3, 2, 1]   \n",
       "3     990                                 [6, 5, 4, 3, 2, 1]   \n",
       "4    1141                                    [5, 4, 3, 2, 1]   \n",
       "..    ...                                                ...   \n",
       "95  17901  [23, 22, 21, 20, 19, 18, 17, 16, 15, 14, 13, 1...   \n",
       "96  17954                                             [2, 1]   \n",
       "97  18051                [11, 10, 9, 8, 7, 6, 5, 4, 3, 2, 1]   \n",
       "98  18193                                    [5, 4, 3, 2, 1]   \n",
       "99  18288  [16, 15, 14, 13, 12, 11, 10, 9, 8, 7, 6, 5, 4,...   \n",
       "\n",
       "                                     pre_since_opened  \\\n",
       "0                                     [12, 12, 3, 10]   \n",
       "1               [9, 9, 9, 9, 16, 15, 1, 14, 14, 2, 2]   \n",
       "2        [1, 14, 14, 7, 5, 5, 5, 5, 6, 4, 12, 10, 10]   \n",
       "3                              [14, 19, 4, 12, 18, 8]   \n",
       "4                                     [9, 1, 1, 1, 7]   \n",
       "..                                                ...   \n",
       "95  [9, 1, 7, 5, 4, 12, 3, 3, 2, 2, 2, 10, 10, 10,...   \n",
       "96                                            [2, 20]   \n",
       "97           [9, 16, 16, 11, 1, 1, 14, 14, 14, 19, 5]   \n",
       "98                                [17, 16, 16, 16, 8]   \n",
       "99  [9, 16, 11, 11, 11, 14, 7, 7, 19, 19, 19, 5, 4...   \n",
       "\n",
       "                                  pre_since_confirmed  \\\n",
       "0                                     [11, 4, 14, 10]   \n",
       "1                  [8, 7, 5, 13, 4, 9, 9, 7, 7, 4, 4]   \n",
       "2        [2, 15, 9, 7, 18, 18, 7, 6, 17, 1, 1, 17, 3]   \n",
       "3                              [18, 15, 3, 4, 10, 10]   \n",
       "4                                  [8, 10, 10, 15, 7]   \n",
       "..                                                ...   \n",
       "95  [8, 15, 6, 14, 4, 13, 6, 6, 6, 6, 6, 6, 6, 6, ...   \n",
       "96                                             [6, 7]   \n",
       "97           [8, 6, 8, 4, 10, 10, 10, 10, 10, 10, 10]   \n",
       "98                                 [15, 8, 15, 15, 2]   \n",
       "99  [8, 15, 5, 14, 5, 15, 9, 10, 4, 12, 12, 10, 13...   \n",
       "\n",
       "                                            pre_pterm  \\\n",
       "0                                      [5, 10, 14, 5]   \n",
       "1                [14, 16, 2, 3, 9, 12, 2, 4, 5, 5, 5]   \n",
       "2        [3, 2, 2, 5, 15, 5, 5, 3, 7, 15, 12, 18, 10]   \n",
       "3                               [5, 9, 18, 12, 17, 5]   \n",
       "4                                   [14, 3, 5, 13, 7]   \n",
       "..                                                ...   \n",
       "95  [16, 13, 12, 2, 10, 4, 5, 13, 5, 5, 5, 5, 5, 5...   \n",
       "96                                            [10, 5]   \n",
       "97              [2, 7, 10, 9, 17, 17, 5, 2, 5, 15, 3]   \n",
       "98                                  [2, 5, 12, 16, 5]   \n",
       "99  [14, 18, 16, 13, 10, 3, 4, 4, 13, 5, 15, 5, 2,...   \n",
       "\n",
       "                                            pre_fterm  \\\n",
       "0                                        [9, 1, 3, 9]   \n",
       "1             [1, 10, 15, 15, 7, 14, 17, 6, 11, 9, 9]   \n",
       "2     [15, 17, 11, 15, 8, 11, 16, 15, 9, 9, 14, 9, 1]   \n",
       "3                                  [9, 6, 9, 3, 3, 9]   \n",
       "4                                  [1, 11, 15, 16, 2]   \n",
       "..                                                ...   \n",
       "95  [10, 16, 14, 17, 1, 4, 9, 13, 9, 9, 9, 9, 9, 9...   \n",
       "96                                             [1, 9]   \n",
       "97            [15, 9, 1, 12, 10, 7, 12, 11, 9, 4, 11]   \n",
       "98                                 [15, 9, 10, 10, 9]   \n",
       "99  [3, 15, 13, 11, 1, 11, 6, 6, 11, 9, 8, 9, 12, ...   \n",
       "\n",
       "                                      pre_till_pclose  \\\n",
       "0                                       [2, 16, 3, 2]   \n",
       "1               [5, 5, 10, 10, 10, 6, 6, 14, 2, 2, 2]   \n",
       "2        [4, 17, 17, 2, 9, 2, 2, 12, 1, 15, 15, 9, 2]   \n",
       "3                                [2, 4, 13, 9, 16, 2]   \n",
       "4                                     [5, 4, 2, 4, 1]   \n",
       "..                                                ...   \n",
       "95  [10, 4, 8, 3, 16, 12, 2, 2, 2, 2, 2, 2, 2, 2, ...   \n",
       "96                                             [8, 2]   \n",
       "97            [7, 1, 10, 7, 14, 14, 2, 17, 2, 13, 12]   \n",
       "98                                  [10, 2, 7, 10, 2]   \n",
       "99  [5, 7, 14, 14, 14, 6, 14, 4, 17, 2, 13, 2, 13,...   \n",
       "\n",
       "                                      pre_till_fclose  \\\n",
       "0                                     [12, 15, 7, 12]   \n",
       "1            [10, 10, 2, 2, 2, 11, 11, 4, 11, 12, 12]   \n",
       "2     [6, 13, 11, 13, 9, 1, 13, 1, 12, 12, 9, 12, 12]   \n",
       "3                              [12, 6, 12, 15, 1, 12]   \n",
       "4                                   [10, 6, 11, 6, 5]   \n",
       "..                                                ...   \n",
       "95  [2, 6, 16, 7, 15, 1, 12, 16, 12, 12, 12, 12, 1...   \n",
       "96                                           [16, 12]   \n",
       "97              [2, 12, 2, 4, 4, 4, 4, 11, 12, 11, 1]   \n",
       "98                                 [10, 12, 2, 2, 12]   \n",
       "99  [10, 14, 4, 6, 4, 11, 6, 6, 13, 12, 12, 12, 1,...   \n",
       "\n",
       "                               pre_loans_credit_limit  \\\n",
       "0                                       [5, 7, 6, 18]   \n",
       "1            [6, 13, 12, 15, 14, 1, 12, 6, 14, 20, 8]   \n",
       "2       [2, 17, 15, 9, 9, 9, 12, 15, 3, 8, 8, 11, 12]   \n",
       "3                               [9, 18, 18, 1, 12, 8]   \n",
       "4                                 [13, 20, 11, 4, 15]   \n",
       "..                                                ...   \n",
       "95  [13, 4, 15, 15, 6, 19, 19, 4, 19, 19, 19, 5, 5...   \n",
       "96                                           [11, 12]   \n",
       "97              [2, 3, 11, 7, 8, 13, 19, 1, 1, 3, 10]   \n",
       "98                                   [5, 2, 5, 12, 5]   \n",
       "99  [7, 9, 20, 2, 7, 8, 19, 6, 11, 4, 12, 17, 12, ...   \n",
       "\n",
       "                              pre_loans_next_pay_summ  ...  \\\n",
       "0                                        [3, 3, 3, 5]  ...   \n",
       "1                   [3, 2, 3, 3, 3, 3, 3, 2, 7, 3, 3]  ...   \n",
       "2             [3, 3, 3, 4, 3, 3, 1, 3, 6, 3, 6, 7, 6]  ...   \n",
       "3                                  [3, 3, 3, 3, 1, 1]  ...   \n",
       "4                                     [3, 7, 5, 3, 2]  ...   \n",
       "..                                                ...  ...   \n",
       "95  [3, 3, 3, 3, 3, 3, 3, 3, 3, 3, 3, 3, 3, 3, 3, ...  ...   \n",
       "96                                             [3, 1]  ...   \n",
       "97                  [3, 6, 3, 3, 1, 5, 3, 1, 6, 6, 1]  ...   \n",
       "98                                    [3, 3, 3, 3, 3]  ...   \n",
       "99   [3, 3, 3, 3, 3, 3, 3, 2, 3, 3, 3, 5, 3, 3, 7, 2]  ...   \n",
       "\n",
       "                                          enc_paym_22  \\\n",
       "0                                        [4, 4, 4, 4]   \n",
       "1                   [4, 4, 1, 4, 4, 1, 1, 4, 4, 4, 4]   \n",
       "2             [4, 4, 4, 1, 4, 4, 4, 1, 4, 4, 4, 4, 4]   \n",
       "3                                  [4, 4, 4, 4, 4, 4]   \n",
       "4                                     [4, 1, 4, 4, 4]   \n",
       "..                                                ...   \n",
       "95  [4, 4, 1, 4, 4, 4, 4, 4, 4, 4, 4, 4, 4, 4, 4, ...   \n",
       "96                                             [4, 4]   \n",
       "97                  [1, 1, 4, 4, 4, 4, 4, 4, 1, 4, 1]   \n",
       "98                                    [3, 4, 4, 4, 4]   \n",
       "99   [4, 4, 4, 1, 4, 4, 4, 4, 4, 4, 1, 1, 4, 1, 4, 4]   \n",
       "\n",
       "                                          enc_paym_23  \\\n",
       "0                                        [4, 4, 4, 4]   \n",
       "1                   [4, 4, 1, 4, 4, 1, 1, 4, 4, 4, 4]   \n",
       "2             [4, 4, 4, 1, 4, 4, 4, 1, 4, 4, 4, 4, 4]   \n",
       "3                                  [4, 4, 4, 4, 4, 4]   \n",
       "4                                     [4, 1, 4, 4, 4]   \n",
       "..                                                ...   \n",
       "95  [4, 4, 1, 4, 4, 4, 4, 4, 4, 4, 4, 4, 4, 4, 4, ...   \n",
       "96                                             [4, 4]   \n",
       "97                  [1, 1, 4, 4, 4, 4, 4, 4, 1, 4, 1]   \n",
       "98                                    [2, 4, 4, 4, 4]   \n",
       "99   [4, 4, 4, 1, 4, 4, 4, 4, 4, 4, 1, 1, 4, 4, 4, 4]   \n",
       "\n",
       "                                          enc_paym_24  \\\n",
       "0                                        [4, 4, 4, 4]   \n",
       "1                   [4, 4, 1, 4, 4, 1, 1, 4, 4, 4, 4]   \n",
       "2             [4, 4, 4, 4, 4, 4, 4, 1, 4, 4, 4, 4, 4]   \n",
       "3                                  [4, 4, 4, 4, 4, 4]   \n",
       "4                                     [4, 4, 4, 4, 4]   \n",
       "..                                                ...   \n",
       "95  [4, 4, 1, 4, 4, 4, 4, 4, 4, 4, 4, 4, 4, 4, 4, ...   \n",
       "96                                             [4, 4]   \n",
       "97                  [1, 1, 4, 4, 4, 4, 4, 4, 4, 4, 4]   \n",
       "98                                    [2, 4, 4, 4, 4]   \n",
       "99   [4, 4, 4, 4, 4, 4, 4, 4, 4, 4, 4, 4, 4, 4, 4, 4]   \n",
       "\n",
       "                        enc_loans_account_holder_type  \\\n",
       "0                                        [5, 2, 2, 2]   \n",
       "1                   [2, 2, 2, 2, 2, 2, 2, 2, 2, 2, 2]   \n",
       "2             [2, 2, 2, 2, 2, 2, 2, 2, 2, 2, 2, 2, 2]   \n",
       "3                                  [2, 2, 2, 2, 2, 2]   \n",
       "4                                     [2, 2, 2, 2, 2]   \n",
       "..                                                ...   \n",
       "95  [2, 2, 2, 2, 2, 2, 2, 2, 2, 2, 2, 2, 2, 2, 2, ...   \n",
       "96                                             [2, 2]   \n",
       "97                  [2, 2, 2, 2, 2, 2, 2, 2, 2, 2, 2]   \n",
       "98                                    [2, 2, 2, 2, 2]   \n",
       "99   [2, 2, 2, 2, 2, 2, 2, 2, 2, 2, 2, 2, 2, 2, 2, 2]   \n",
       "\n",
       "                              enc_loans_credit_status  \\\n",
       "0                                        [2, 4, 4, 3]   \n",
       "1                   [4, 4, 4, 3, 4, 4, 4, 4, 4, 4, 4]   \n",
       "2             [4, 3, 4, 4, 4, 4, 4, 3, 3, 3, 3, 3, 3]   \n",
       "3                                  [4, 4, 3, 4, 4, 3]   \n",
       "4                                     [4, 4, 4, 4, 3]   \n",
       "..                                                ...   \n",
       "95  [4, 4, 4, 4, 4, 4, 4, 4, 4, 4, 4, 4, 4, 4, 4, ...   \n",
       "96                                             [4, 3]   \n",
       "97                  [4, 3, 4, 4, 4, 4, 4, 4, 3, 4, 4]   \n",
       "98                                    [4, 4, 4, 4, 4]   \n",
       "99   [4, 4, 4, 4, 4, 4, 4, 4, 4, 3, 4, 3, 4, 3, 3, 3]   \n",
       "\n",
       "                                enc_loans_credit_type  \\\n",
       "0                                        [2, 5, 5, 4]   \n",
       "1                   [5, 5, 5, 4, 2, 5, 5, 5, 4, 4, 4]   \n",
       "2             [4, 4, 4, 4, 4, 4, 4, 4, 1, 4, 4, 2, 5]   \n",
       "3                                  [4, 2, 4, 5, 5, 4]   \n",
       "4                                     [5, 5, 4, 5, 4]   \n",
       "..                                                ...   \n",
       "95  [5, 5, 5, 4, 2, 5, 5, 5, 5, 5, 5, 5, 5, 5, 5, ...   \n",
       "96                                             [5, 4]   \n",
       "97                  [5, 1, 5, 2, 5, 5, 4, 5, 4, 5, 5]   \n",
       "98                                    [4, 4, 4, 5, 4]   \n",
       "99   [5, 5, 5, 2, 5, 5, 5, 5, 5, 4, 5, 4, 5, 4, 5, 2]   \n",
       "\n",
       "                                enc_loans_account_cur  \\\n",
       "0                                        [2, 2, 2, 2]   \n",
       "1                   [2, 2, 2, 2, 2, 2, 2, 2, 2, 2, 2]   \n",
       "2             [2, 2, 2, 2, 2, 2, 2, 2, 2, 2, 2, 2, 2]   \n",
       "3                                  [2, 2, 2, 2, 2, 2]   \n",
       "4                                     [2, 2, 2, 2, 2]   \n",
       "..                                                ...   \n",
       "95  [2, 2, 2, 2, 2, 2, 2, 2, 2, 2, 2, 2, 2, 2, 2, ...   \n",
       "96                                             [2, 2]   \n",
       "97                  [2, 2, 2, 2, 2, 2, 2, 2, 2, 2, 2]   \n",
       "98                                    [2, 2, 2, 2, 2]   \n",
       "99   [2, 2, 2, 2, 2, 2, 2, 2, 2, 2, 2, 2, 2, 2, 2, 2]   \n",
       "\n",
       "                                          pclose_flag  \\\n",
       "0                                        [2, 1, 1, 2]   \n",
       "1                   [1, 1, 1, 1, 1, 1, 1, 1, 2, 2, 2]   \n",
       "2             [1, 1, 1, 2, 1, 2, 2, 1, 1, 1, 1, 1, 1]   \n",
       "3                                  [2, 1, 1, 1, 1, 2]   \n",
       "4                                     [1, 1, 2, 1, 1]   \n",
       "..                                                ...   \n",
       "95  [1, 1, 1, 1, 1, 1, 2, 1, 2, 2, 2, 2, 2, 2, 2, ...   \n",
       "96                                             [1, 2]   \n",
       "97                  [1, 1, 1, 1, 1, 1, 2, 1, 2, 1, 1]   \n",
       "98                                    [1, 2, 1, 1, 2]   \n",
       "99   [1, 1, 1, 1, 1, 1, 1, 1, 1, 2, 1, 2, 1, 1, 1, 1]   \n",
       "\n",
       "                                          fclose_flag flag  \n",
       "0                                        [2, 1, 1, 2]    0  \n",
       "1                   [1, 1, 1, 1, 1, 1, 1, 1, 1, 2, 2]    0  \n",
       "2             [1, 1, 1, 1, 1, 1, 1, 1, 2, 2, 1, 2, 1]    0  \n",
       "3                                  [2, 1, 2, 1, 1, 2]    0  \n",
       "4                                     [1, 1, 1, 1, 1]    0  \n",
       "..                                                ...  ...  \n",
       "95  [1, 1, 1, 1, 1, 1, 2, 1, 2, 2, 2, 2, 2, 2, 2, ...    0  \n",
       "96                                             [1, 2]    0  \n",
       "97                  [1, 2, 1, 1, 1, 1, 1, 1, 2, 1, 1]    0  \n",
       "98                                    [1, 2, 1, 1, 2]    0  \n",
       "99   [1, 1, 1, 1, 1, 1, 1, 1, 1, 2, 1, 2, 1, 2, 2, 2]    0  \n",
       "\n",
       "[100 rows x 62 columns]"
      ]
     },
     "execution_count": 16,
     "metadata": {},
     "output_type": "execute_result"
    }
   ],
   "source": [
    "train_df.limit(100).toPandas()"
   ]
  },
  {
   "cell_type": "code",
   "execution_count": null,
   "id": "f048c886",
   "metadata": {},
   "outputs": [],
   "source": []
  },
  {
   "cell_type": "code",
   "execution_count": null,
   "id": "ad0dc390",
   "metadata": {},
   "outputs": [],
   "source": []
  },
  {
   "cell_type": "code",
   "execution_count": null,
   "id": "b18ca0af",
   "metadata": {},
   "outputs": [],
   "source": []
  },
  {
   "cell_type": "markdown",
   "id": "7b5b1276",
   "metadata": {},
   "source": [
    "### trx_encoder params"
   ]
  },
  {
   "cell_type": "code",
   "execution_count": 17,
   "id": "cb23f150",
   "metadata": {},
   "outputs": [
    {
     "data": {
      "text/plain": [
       "{'rn': {'in': 59, 'out': 16},\n",
       " 'pre_since_opened': {'in': 21, 'out': 16},\n",
       " 'pre_since_confirmed': {'in': 19, 'out': 16},\n",
       " 'pre_pterm': {'in': 19, 'out': 16},\n",
       " 'pre_fterm': {'in': 18, 'out': 16},\n",
       " 'pre_till_pclose': {'in': 18, 'out': 16},\n",
       " 'pre_till_fclose': {'in': 17, 'out': 16},\n",
       " 'pre_loans_credit_limit': {'in': 21, 'out': 16},\n",
       " 'pre_loans_outstanding': {'in': 6, 'out': 16},\n",
       " 'pre_loans_total_overdue': {'in': 3, 'out': 16},\n",
       " 'pre_loans_max_overdue_sum': {'in': 5, 'out': 16},\n",
       " 'pre_loans_credit_cost_rate': {'in': 15, 'out': 16},\n",
       " 'is_zero_loans5': {'in': 3, 'out': 16},\n",
       " 'is_zero_loans530': {'in': 3, 'out': 16},\n",
       " 'is_zero_loans3060': {'in': 3, 'out': 16},\n",
       " 'is_zero_loans6090': {'in': 3, 'out': 16},\n",
       " 'is_zero_loans90': {'in': 3, 'out': 16},\n",
       " 'pre_util': {'in': 21, 'out': 16},\n",
       " 'pre_over2limit': {'in': 21, 'out': 16},\n",
       " 'pre_maxover2limit': {'in': 21, 'out': 16},\n",
       " 'is_zero_util': {'in': 3, 'out': 16},\n",
       " 'is_zero_over2limit': {'in': 3, 'out': 16},\n",
       " 'is_zero_maxover2limit': {'in': 3, 'out': 16},\n",
       " 'enc_paym_0': {'in': 5, 'out': 16},\n",
       " 'enc_paym_1': {'in': 5, 'out': 16},\n",
       " 'enc_paym_2': {'in': 5, 'out': 16},\n",
       " 'enc_paym_3': {'in': 5, 'out': 16},\n",
       " 'enc_paym_4': {'in': 5, 'out': 16},\n",
       " 'enc_paym_5': {'in': 5, 'out': 16},\n",
       " 'enc_paym_6': {'in': 5, 'out': 16},\n",
       " 'enc_paym_7': {'in': 5, 'out': 16},\n",
       " 'enc_paym_8': {'in': 5, 'out': 16},\n",
       " 'enc_paym_9': {'in': 5, 'out': 16},\n",
       " 'enc_paym_10': {'in': 5, 'out': 16},\n",
       " 'enc_paym_11': {'in': 5, 'out': 16},\n",
       " 'enc_paym_12': {'in': 5, 'out': 16},\n",
       " 'enc_paym_13': {'in': 5, 'out': 16},\n",
       " 'enc_paym_14': {'in': 5, 'out': 16},\n",
       " 'enc_paym_15': {'in': 5, 'out': 16},\n",
       " 'enc_paym_16': {'in': 5, 'out': 16},\n",
       " 'enc_paym_17': {'in': 5, 'out': 16},\n",
       " 'enc_paym_18': {'in': 5, 'out': 16},\n",
       " 'enc_paym_19': {'in': 5, 'out': 16},\n",
       " 'enc_paym_20': {'in': 5, 'out': 16},\n",
       " 'enc_paym_21': {'in': 5, 'out': 16},\n",
       " 'enc_paym_22': {'in': 5, 'out': 16},\n",
       " 'enc_paym_23': {'in': 5, 'out': 16},\n",
       " 'enc_paym_24': {'in': 5, 'out': 16},\n",
       " 'enc_loans_account_holder_type': {'in': 8, 'out': 16},\n",
       " 'enc_loans_credit_status': {'in': 8, 'out': 16},\n",
       " 'enc_loans_credit_type': {'in': 9, 'out': 16},\n",
       " 'enc_loans_account_cur': {'in': 5, 'out': 16},\n",
       " 'pclose_flag': {'in': 3, 'out': 16},\n",
       " 'fclose_flag': {'in': 3, 'out': 16}}"
      ]
     },
     "execution_count": 17,
     "metadata": {},
     "output_type": "execute_result"
    }
   ],
   "source": [
    "feature_emb_dim = 16\n",
    "\n",
    "numeric_values={'pre_loans_next_pay_summ': 'identity',\n",
    "                'pre_loans5': 'identity',\n",
    "                'pre_loans530': 'identity',\n",
    "                'pre_loans3060': 'identity',\n",
    "                'pre_loans6090': 'identity',\n",
    "                'pre_loans90': 'identity'\n",
    "}\n",
    "\n",
    "embeddings={}\n",
    "for col in train_data.columns:\n",
    "    if col not in ['id'] + list(numeric_values.keys()):\n",
    "        distinct_in_col_train = train_data.select(F.col(col)).distinct()\n",
    "        max_train = distinct_in_col_train.select(F.max(F.col(col))).toPandas().to_numpy().squeeze().tolist()\n",
    "\n",
    "        distinct_in_col_test = test_data.select(F.col(col)).distinct()\n",
    "        max_test = distinct_in_col_test.select(F.max(F.col(col))).toPandas().to_numpy().squeeze().tolist()\n",
    "\n",
    "        in_dim = max(max_train, max_test) + 1\n",
    "        embeddings[col] = {'in': in_dim, 'out': feature_emb_dim}\n",
    "\n",
    "embeddings\n"
   ]
  },
  {
   "cell_type": "markdown",
   "id": "2ea14d63",
   "metadata": {},
   "source": [
    "### model"
   ]
  },
  {
   "cell_type": "code",
   "execution_count": 18,
   "id": "c266ef85",
   "metadata": {},
   "outputs": [
    {
     "name": "stderr",
     "output_type": "stream",
     "text": [
      "INFO:pytorch_lightning.utilities.seed:Global seed set to 80\n"
     ]
    }
   ],
   "source": [
    "import numpy as np\n",
    "import random\n",
    "from functools import partial\n",
    "import torch\n",
    "import pytorch_lightning as pl\n",
    "import torchmetrics\n",
    "from ptls.frames.supervised import SequenceToTarget\n",
    "from ptls.nn import Head\n",
    "\n",
    "torch.multiprocessing.set_sharing_strategy('file_system')\n",
    "\n",
    "pl.seed_everything(80, workers=True)\n",
    "# torch.manual_seed(80)\n",
    "# random.seed(80)\n",
    "# np.random.seed(80)\n",
    "torch.backends.cudnn.benchmark = False\n",
    "torch.backends.cudnn.deterministic = True\n",
    "torch.use_deterministic_algorithms(True)"
   ]
  },
  {
   "cell_type": "code",
   "execution_count": 19,
   "id": "385322c4",
   "metadata": {},
   "outputs": [],
   "source": [
    "from ptls.nn import TrxEncoder, RnnSeqEncoder\n",
    "\n",
    "\n",
    "trx_encoder_params = dict(\n",
    "    embeddings_noise=0,\n",
    "    numeric_values=numeric_values,\n",
    "    embeddings=embeddings\n",
    ")\n",
    "\n",
    "seq_encoder = RnnSeqEncoder(\n",
    "    trx_encoder=TrxEncoder(**trx_encoder_params),\n",
    "    hidden_size=64,\n",
    "    type='gru',\n",
    "    bidir=True\n",
    ")"
   ]
  },
  {
   "cell_type": "code",
   "execution_count": 20,
   "id": "8e047a0a",
   "metadata": {},
   "outputs": [],
   "source": [
    "# check for different categories:\n",
    "\n",
    "# for col in train_data.columns:\n",
    "#     if col != 'id':\n",
    "#         train_vals = train_data.select(F.col(col)).distinct().toPandas().values.squeeze()\n",
    "#         test_vals = test_data.select(F.col(col)).distinct().toPandas().values.squeeze()\n",
    "#         if len(test_vals.shape) == 0:\n",
    "#             test_vals = [test_vals]\n",
    "#         if len(train_vals.shape) == 0:\n",
    "#             train_vals = [train_vals]\n",
    "#         test_vals = set(map(str, test_vals))\n",
    "#         train_vals = set(map(str, train_vals))\n",
    "#         print(col)\n",
    "#         print(test_vals^train_vals)\n",
    "#         test_vals = sorted(list(test_vals))\n",
    "#         train_vals = sorted(list(train_vals))\n",
    "#         print(' '.join(train_vals))\n",
    "#         print(' '.join(test_vals))\n",
    "#         print()\n",
    "#         print()"
   ]
  },
  {
   "cell_type": "code",
   "execution_count": 21,
   "id": "36db78c0",
   "metadata": {},
   "outputs": [
    {
     "data": {
      "text/plain": [
       "64"
      ]
     },
     "execution_count": 21,
     "metadata": {},
     "output_type": "execute_result"
    }
   ],
   "source": [
    "seq_encoder.embedding_size"
   ]
  },
  {
   "cell_type": "code",
   "execution_count": 22,
   "id": "463a0576",
   "metadata": {},
   "outputs": [
    {
     "name": "stderr",
     "output_type": "stream",
     "text": [
      "/home/alge/.local/share/virtualenvs/pytorch-lifestream-j3MrdFh4/lib/python3.8/site-packages/torchmetrics/utilities/prints.py:36: UserWarning: Metric `AUROC` will save all targets and predictions in buffer. For large datasets this may lead to large memory footprint.\n",
      "  warnings.warn(*args, **kwargs)\n"
     ]
    }
   ],
   "source": [
    "downstream_model = SequenceToTarget(\n",
    "    seq_encoder=seq_encoder,\n",
    "    head=Head(\n",
    "        input_size=seq_encoder.embedding_size * 6,\n",
    "        hidden_layers_sizes=[128, 32],\n",
    "        use_batch_norm=True,\n",
    "        objective='classification',\n",
    "        num_classes=2,\n",
    "    ),\n",
    "    loss=torch.nn.NLLLoss(),\n",
    "    metric_list=torchmetrics.AUROC(num_classes=2, compute_on_step=False),\n",
    "    pretrained_lr=0.001,\n",
    "    optimizer_partial=partial(torch.optim.Adam, lr=0.001),\n",
    "    lr_scheduler_partial=partial(torch.optim.lr_scheduler.StepLR, step_size=2000, gamma=1),\n",
    ")"
   ]
  },
  {
   "cell_type": "markdown",
   "id": "7222aaae",
   "metadata": {},
   "source": [
    "### data module"
   ]
  },
  {
   "cell_type": "code",
   "execution_count": 23,
   "id": "e02a9338",
   "metadata": {},
   "outputs": [],
   "source": [
    "from ptls.data_load.datasets import ParquetDataset, ParquetFiles\n",
    "from ptls.data_load.iterable_processing import SeqLenFilter, FeatureFilter, ToTorch\n",
    "from ptls.frames.supervised.seq_to_target_dataset import SeqToTargetIterableDataset\n",
    "from ptls.data_load import IterableChain\n",
    "from ptls.frames import PtlsDataModule\n",
    "\n",
    "\n",
    "train_pq_files = ParquetFiles('./train.parquet/')\n",
    "valid_pq_files = ParquetFiles('./valid.parquet/')\n",
    "\n",
    "train_dataset = ParquetDataset(data_files=train_pq_files.data_files, shuffle_files=True)\n",
    "valid_dataset = ParquetDataset(data_files=valid_pq_files.data_files, shuffle_files=True)\n",
    "\n",
    "finetune_dm = PtlsDataModule(\n",
    "    train_data=SeqToTargetIterableDataset(train_dataset, target_col_name='flag'),\n",
    "    valid_data=SeqToTargetIterableDataset(valid_dataset, target_col_name='flag'),\n",
    "    train_num_workers=20,\n",
    "    train_batch_size=1024,\n",
    "    valid_batch_size=1024,\n",
    ")"
   ]
  },
  {
   "cell_type": "markdown",
   "id": "54a9a1cd",
   "metadata": {},
   "source": [
    "# 1 layer gru + dropout 0.2: 64 hidden + max_pool + avg_pool + [128, 32] in head\n",
    "\n",
    "# correct dropout (0.3!) + no dropout on gru + dropout in head (0.2)"
   ]
  },
  {
   "cell_type": "code",
   "execution_count": 24,
   "id": "7c11eacd",
   "metadata": {
    "scrolled": false
   },
   "outputs": [
    {
     "name": "stderr",
     "output_type": "stream",
     "text": [
      "INFO:pytorch_lightning.utilities.rank_zero:GPU available: True, used: True\n",
      "INFO:pytorch_lightning.utilities.rank_zero:TPU available: False, using: 0 TPU cores\n",
      "INFO:pytorch_lightning.utilities.rank_zero:IPU available: False, using: 0 IPUs\n",
      "INFO:pytorch_lightning.utilities.rank_zero:HPU available: False, using: 0 HPUs\n"
     ]
    }
   ],
   "source": [
    "logger = pl.loggers.TensorBoardLogger(\n",
    "                save_dir='.',\n",
    "                version='_bidir_RNN_emb_dropout_0.3_no_dropout_gru_head_drop_0.2_max&avg_pool_from_hidden_acc_metrics'\n",
    "            )\n",
    "\n",
    "\n",
    "checkpoint_callback = pl.callbacks.ModelCheckpoint(dirpath=\"./ckpts/_bidir_RNN_emb_dropout_0.3_no_dropout_gru_head_drop_0.2_max&avg_pool_from_hidden_acc_metrics/\", save_top_k=40, mode='max', monitor=\"val_AUROC\")\n",
    "\n",
    "trainer_ft = pl.Trainer(\n",
    "    max_epochs=100,\n",
    "    gpus=1 if torch.cuda.is_available() else 0,\n",
    "    enable_progress_bar=True,\n",
    "    callbacks=[checkpoint_callback],\n",
    "    logger=logger\n",
    ")"
   ]
  },
  {
   "cell_type": "code",
   "execution_count": null,
   "id": "c18d6cbb",
   "metadata": {},
   "outputs": [
    {
     "name": "stdout",
     "output_type": "stream",
     "text": [
      "logger.version = _bidir_RNN_emb_dropout_0.3_no_dropout_gru_head_drop_0.2_max&avg_pool_from_hidden_acc_metrics\n"
     ]
    },
    {
     "name": "stderr",
     "output_type": "stream",
     "text": [
      "INFO:pytorch_lightning.accelerators.gpu:LOCAL_RANK: 0 - CUDA_VISIBLE_DEVICES: [1]\n",
      "INFO:pytorch_lightning.callbacks.model_summary:\n",
      "  | Name          | Type          | Params\n",
      "------------------------------------------------\n",
      "0 | seq_encoder   | RnnSeqEncoder | 367 K \n",
      "1 | head          | Head          | 53.8 K\n",
      "2 | loss          | NLLLoss       | 0     \n",
      "3 | train_metrics | ModuleDict    | 0     \n",
      "4 | valid_metrics | ModuleDict    | 0     \n",
      "5 | test_metrics  | ModuleDict    | 0     \n",
      "------------------------------------------------\n",
      "420 K     Trainable params\n",
      "0         Non-trainable params\n",
      "420 K     Total params\n",
      "1.683     Total estimated model params size (MB)\n"
     ]
    },
    {
     "data": {
      "application/vnd.jupyter.widget-view+json": {
       "model_id": "",
       "version_major": 2,
       "version_minor": 0
      },
      "text/plain": [
       "Sanity Checking: 0it [00:00, ?it/s]"
      ]
     },
     "metadata": {},
     "output_type": "display_data"
    },
    {
     "data": {
      "application/vnd.jupyter.widget-view+json": {
       "model_id": "f121eba4e1d547209730c69566d7718d",
       "version_major": 2,
       "version_minor": 0
      },
      "text/plain": [
       "Training: 0it [00:00, ?it/s]"
      ]
     },
     "metadata": {},
     "output_type": "display_data"
    },
    {
     "name": "stderr",
     "output_type": "stream",
     "text": [
      "IOPub message rate exceeded.\n",
      "The notebook server will temporarily stop sending output\n",
      "to the client in order to avoid crashing it.\n",
      "To change this limit, set the config variable\n",
      "`--NotebookApp.iopub_msg_rate_limit`.\n",
      "\n",
      "Current values:\n",
      "NotebookApp.iopub_msg_rate_limit=1000.0 (msgs/sec)\n",
      "NotebookApp.rate_limit_window=3.0 (secs)\n",
      "\n"
     ]
    },
    {
     "data": {
      "application/vnd.jupyter.widget-view+json": {
       "model_id": "",
       "version_major": 2,
       "version_minor": 0
      },
      "text/plain": [
       "Validation: 0it [00:00, ?it/s]"
      ]
     },
     "metadata": {},
     "output_type": "display_data"
    },
    {
     "data": {
      "application/vnd.jupyter.widget-view+json": {
       "model_id": "",
       "version_major": 2,
       "version_minor": 0
      },
      "text/plain": [
       "Validation: 0it [00:00, ?it/s]"
      ]
     },
     "metadata": {},
     "output_type": "display_data"
    }
   ],
   "source": [
    "print(f'logger.version = {trainer_ft.logger.version}')\n",
    "trainer_ft.fit(downstream_model, finetune_dm)\n",
    "print(trainer_ft.logged_metrics)"
   ]
  },
  {
   "cell_type": "code",
   "execution_count": null,
   "id": "c177bcf0",
   "metadata": {},
   "outputs": [],
   "source": []
  },
  {
   "cell_type": "code",
   "execution_count": null,
   "id": "f59fdf0e",
   "metadata": {},
   "outputs": [],
   "source": []
  },
  {
   "cell_type": "code",
   "execution_count": null,
   "id": "b1dfa8fd",
   "metadata": {},
   "outputs": [],
   "source": []
  }
 ],
 "metadata": {
  "kernelspec": {
   "display_name": "Python 3 (ipykernel)",
   "language": "python",
   "name": "python3"
  },
  "language_info": {
   "codemirror_mode": {
    "name": "ipython",
    "version": 3
   },
   "file_extension": ".py",
   "mimetype": "text/x-python",
   "name": "python",
   "nbconvert_exporter": "python",
   "pygments_lexer": "ipython3",
   "version": "3.8.10"
  }
 },
 "nbformat": 4,
 "nbformat_minor": 5
}
