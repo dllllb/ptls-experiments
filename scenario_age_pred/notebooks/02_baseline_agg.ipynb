{
 "cells": [
  {
   "cell_type": "markdown",
   "id": "aaed367a-693d-4928-802f-ca92c41e1001",
   "metadata": {},
   "source": [
    "# Baseline model\n",
    "\n",
    "Use `AggFeatureSeqEncoder` to make handcraft aggregated features.\n",
    "Estimate the quality for downstream task."
   ]
  },
  {
   "cell_type": "code",
   "execution_count": 1,
   "id": "be09b619-0576-4693-8a9f-c7dfe1e2a346",
   "metadata": {},
   "outputs": [],
   "source": [
    "import pickle\n",
    "\n",
    "import numpy as np\n",
    "import pandas as pd\n",
    "\n",
    "from pathlib import Path"
   ]
  },
  {
   "cell_type": "code",
   "execution_count": 2,
   "id": "08fce4c6-4133-4498-ab86-94207d18d954",
   "metadata": {},
   "outputs": [
    {
     "name": "stderr",
     "output_type": "stream",
     "text": [
      "\n",
      "libgomp: Invalid value for environment variable OMP_NUM_THREADS\n",
      "\n",
      "libgomp: Invalid value for environment variable OMP_NUM_THREADS\n"
     ]
    }
   ],
   "source": [
    "from ptls.preprocessing import PandasDataPreprocessor"
   ]
  },
  {
   "cell_type": "code",
   "execution_count": 3,
   "id": "15d23f98-e5de-4615-ade3-bd2031695455",
   "metadata": {},
   "outputs": [],
   "source": [
    "from sklearn.model_selection import StratifiedKFold, train_test_split"
   ]
  },
  {
   "cell_type": "code",
   "execution_count": 4,
   "id": "f9e01b18-03e5-4248-8494-ebe92cfe99da",
   "metadata": {},
   "outputs": [],
   "source": [
    "for fold_i in [4,]:\n",
    "\n",
    "    df_trx_pretrain = pd.read_pickle(f'data/fold_{fold_i}/df_trx_pretrain.pickle')\n",
    "    df_seq_pretrain = pd.read_pickle(f'data/fold_{fold_i}/df_seq_pretrain.pickle')\n",
    "    df_gbm_train = pd.read_pickle(f'data/fold_{fold_i}/df_gbm_train.pickle')\n",
    "    df_gbm_test = pd.read_pickle(f'data/fold_{fold_i}/df_gbm_test.pickle')\n",
    "\n",
    "    with open(f'data/fold_{fold_i}/pdp.pickle', 'rb') as f:\n",
    "        pdp = pickle.load(f)\n",
    "        \n",
    "    break"
   ]
  },
  {
   "cell_type": "code",
   "execution_count": null,
   "id": "e1decaf3-2414-4f1e-8ad6-27ba0bfa6bd7",
   "metadata": {},
   "outputs": [],
   "source": []
  },
  {
   "cell_type": "code",
   "execution_count": 5,
   "id": "574b7060-4db2-43d3-a70c-be23ae978a2c",
   "metadata": {},
   "outputs": [],
   "source": [
    "import ptls.data_load\n",
    "import ptls.data_load.datasets\n",
    "import ptls.frames\n",
    "import ptls.frames.coles\n",
    "import ptls.frames.inference_module\n",
    "import ptls.nn"
   ]
  },
  {
   "cell_type": "code",
   "execution_count": 6,
   "id": "c3363116-5aa9-43f8-97f4-b2b0845d80b6",
   "metadata": {},
   "outputs": [],
   "source": [
    "import torch"
   ]
  },
  {
   "cell_type": "code",
   "execution_count": 7,
   "id": "7f1d76c2-175c-4366-8098-98a63dac153d",
   "metadata": {},
   "outputs": [],
   "source": [
    "from functools import partial"
   ]
  },
  {
   "cell_type": "code",
   "execution_count": null,
   "id": "8b705202-a186-4528-a4a6-bc854cbde960",
   "metadata": {},
   "outputs": [],
   "source": []
  },
  {
   "cell_type": "code",
   "execution_count": 8,
   "id": "5867bed2-118c-47a4-b608-135e1eccdde5",
   "metadata": {},
   "outputs": [],
   "source": [
    "pl_agg_module = ptls.frames.coles.CoLESModule(\n",
    "    seq_encoder=ptls.nn.AggFeatureSeqEncoder(\n",
    "        embeddings={\n",
    "            'weekday': {'in': 10},\n",
    "            'small_group': {'in': 250},\n",
    "        },\n",
    "        numeric_values={ \n",
    "            'amount_rur': 'identity',\n",
    "        },\n",
    "        was_logified=False,\n",
    "    )\n",
    ")"
   ]
  },
  {
   "cell_type": "code",
   "execution_count": null,
   "id": "c16c27c7-de60-4fcd-ac8a-78dad8bb2b25",
   "metadata": {},
   "outputs": [],
   "source": []
  },
  {
   "cell_type": "code",
   "execution_count": 9,
   "id": "357dc0a7-1801-4c76-adea-ffe692df7699",
   "metadata": {},
   "outputs": [],
   "source": [
    "import pytorch_lightning as pl"
   ]
  },
  {
   "cell_type": "code",
   "execution_count": null,
   "id": "33169a90-cad3-4a0f-bd38-16ffca360d43",
   "metadata": {},
   "outputs": [],
   "source": []
  },
  {
   "cell_type": "code",
   "execution_count": 10,
   "id": "a2d38715-9e42-4973-90f7-f74bf81073e3",
   "metadata": {},
   "outputs": [],
   "source": [
    "inference_dl_gbm_train = torch.utils.data.DataLoader(\n",
    "    dataset=ptls.data_load.datasets.MemoryMapDataset(\n",
    "        df_gbm_train.to_dict(orient='records'),\n",
    "        i_filters=[\n",
    "            ptls.data_load.iterable_processing.ISeqLenLimit(max_seq_len=2000), \n",
    "        ],\n",
    "    ),\n",
    "    collate_fn=ptls.data_load.utils.collate_feature_dict,\n",
    "    shuffle=False,\n",
    "    batch_size=1000,\n",
    "    num_workers=12,\n",
    ")\n",
    "\n",
    "inference_dl_gbm_test = torch.utils.data.DataLoader(\n",
    "    dataset=ptls.data_load.datasets.MemoryMapDataset(\n",
    "        df_gbm_test.to_dict(orient='records'),\n",
    "        i_filters=[\n",
    "            ptls.data_load.iterable_processing.ISeqLenLimit(max_seq_len=2000), \n",
    "        ],\n",
    "    ),\n",
    "    collate_fn=ptls.data_load.utils.collate_feature_dict,\n",
    "    shuffle=False,\n",
    "    batch_size=1000,\n",
    "    num_workers=12,\n",
    ")"
   ]
  },
  {
   "cell_type": "code",
   "execution_count": 11,
   "id": "91da479e-ee9c-4d00-90a7-c1e4fe37f07f",
   "metadata": {},
   "outputs": [],
   "source": [
    "inf_model = ptls.frames.inference_module.InferenceModule(\n",
    "    model=pl_agg_module.seq_encoder, pandas_output=True, model_out_name='emb')"
   ]
  },
  {
   "cell_type": "code",
   "execution_count": 12,
   "id": "4e7dc4fd-c80c-4f2c-a209-042b8b6647bf",
   "metadata": {},
   "outputs": [
    {
     "name": "stderr",
     "output_type": "stream",
     "text": [
      "/home/jovyan/.local/share/virtualenvs/ptls-experiments-Evn9g0Hu/lib/python3.8/site-packages/pytorch_lightning/loops/utilities.py:92: PossibleUserWarning: `max_epochs` was not set. Setting it to 1000 epochs. To train without an epoch limit, set `max_epochs=-1`.\n",
      "  rank_zero_warn(\n",
      "GPU available: True, used: True\n",
      "TPU available: False, using: 0 TPU cores\n",
      "IPU available: False, using: 0 IPUs\n",
      "HPU available: False, using: 0 HPUs\n",
      "LOCAL_RANK: 0 - CUDA_VISIBLE_DEVICES: [0]\n"
     ]
    }
   ],
   "source": [
    "predict_gbm_train = pl.Trainer(gpus=1, enable_progress_bar=False, logger=None)\\\n",
    ".predict(inf_model, inference_dl_gbm_train)"
   ]
  },
  {
   "cell_type": "code",
   "execution_count": 13,
   "id": "971659dc-af37-4c1f-8c52-f0276ab7d63b",
   "metadata": {},
   "outputs": [
    {
     "name": "stderr",
     "output_type": "stream",
     "text": [
      "/home/jovyan/.local/share/virtualenvs/ptls-experiments-Evn9g0Hu/lib/python3.8/site-packages/pytorch_lightning/loops/utilities.py:92: PossibleUserWarning: `max_epochs` was not set. Setting it to 1000 epochs. To train without an epoch limit, set `max_epochs=-1`.\n",
      "  rank_zero_warn(\n",
      "GPU available: True, used: True\n",
      "TPU available: False, using: 0 TPU cores\n",
      "IPU available: False, using: 0 IPUs\n",
      "HPU available: False, using: 0 HPUs\n",
      "LOCAL_RANK: 0 - CUDA_VISIBLE_DEVICES: [0]\n"
     ]
    }
   ],
   "source": [
    "predict_gbm_test = pl.Trainer(gpus=1, enable_progress_bar=False, logger=None)\\\n",
    ".predict(inf_model, inference_dl_gbm_test)"
   ]
  },
  {
   "cell_type": "code",
   "execution_count": 14,
   "id": "e0583ec3-a0c2-4e3f-86e0-d36fe98b3321",
   "metadata": {},
   "outputs": [],
   "source": [
    "predict_gbm_train = pd.concat(predict_gbm_train, axis=0)"
   ]
  },
  {
   "cell_type": "code",
   "execution_count": 15,
   "id": "6732fe6b-8e2a-4502-848d-bd4613b6eb26",
   "metadata": {},
   "outputs": [],
   "source": [
    "predict_gbm_test = pd.concat(predict_gbm_test, axis=0)"
   ]
  },
  {
   "cell_type": "code",
   "execution_count": 16,
   "id": "5b96750d-23d8-4f44-b405-f436eb18db0c",
   "metadata": {},
   "outputs": [],
   "source": [
    "predict_gbm_train.set_index('client_id', inplace=True)\n",
    "predict_gbm_test.set_index('client_id', inplace=True)"
   ]
  },
  {
   "cell_type": "code",
   "execution_count": null,
   "id": "7209865b-ccbc-447b-b0ca-31adbf60789d",
   "metadata": {},
   "outputs": [],
   "source": []
  },
  {
   "cell_type": "code",
   "execution_count": 17,
   "id": "bbb031d2-992e-4769-958a-bf5653b45a2c",
   "metadata": {},
   "outputs": [],
   "source": [
    "from lightgbm import LGBMClassifier\n",
    "from sklearn.metrics import accuracy_score"
   ]
  },
  {
   "cell_type": "code",
   "execution_count": 18,
   "id": "9bda0490-f9c1-463b-9d3f-47f8502c80b8",
   "metadata": {},
   "outputs": [],
   "source": [
    "gbm_model = LGBMClassifier(**{\n",
    "      'n_estimators': 1000,\n",
    "      'boosting_type': 'gbdt',\n",
    "      'objective': 'multiclass',\n",
    "      'num_class': 4,\n",
    "      'metric': 'multi_error',\n",
    "      'learning_rate': 0.02,\n",
    "      'subsample': 0.75,\n",
    "      'subsample_freq': 1,\n",
    "      'feature_fraction': 0.75,\n",
    "      'colsample_bytree': None,\n",
    "      'max_depth': 12,\n",
    "      'lambda_l1': 1,\n",
    "      'reg_alpha': None,\n",
    "      'lambda_l2': 1,\n",
    "      'reg_lambda': None,\n",
    "      'min_data_in_leaf': 50,\n",
    "      'min_child_samples': None,\n",
    "      'num_leaves': 50,\n",
    "      'random_state': 42,\n",
    "      'n_jobs': 4,\n",
    "})"
   ]
  },
  {
   "cell_type": "code",
   "execution_count": 19,
   "id": "b40bf839-c8d7-4254-9efe-eb19d78b874c",
   "metadata": {},
   "outputs": [
    {
     "data": {
      "text/html": [
       "<style>#sk-container-id-1 {color: black;background-color: white;}#sk-container-id-1 pre{padding: 0;}#sk-container-id-1 div.sk-toggleable {background-color: white;}#sk-container-id-1 label.sk-toggleable__label {cursor: pointer;display: block;width: 100%;margin-bottom: 0;padding: 0.3em;box-sizing: border-box;text-align: center;}#sk-container-id-1 label.sk-toggleable__label-arrow:before {content: \"▸\";float: left;margin-right: 0.25em;color: #696969;}#sk-container-id-1 label.sk-toggleable__label-arrow:hover:before {color: black;}#sk-container-id-1 div.sk-estimator:hover label.sk-toggleable__label-arrow:before {color: black;}#sk-container-id-1 div.sk-toggleable__content {max-height: 0;max-width: 0;overflow: hidden;text-align: left;background-color: #f0f8ff;}#sk-container-id-1 div.sk-toggleable__content pre {margin: 0.2em;color: black;border-radius: 0.25em;background-color: #f0f8ff;}#sk-container-id-1 input.sk-toggleable__control:checked~div.sk-toggleable__content {max-height: 200px;max-width: 100%;overflow: auto;}#sk-container-id-1 input.sk-toggleable__control:checked~label.sk-toggleable__label-arrow:before {content: \"▾\";}#sk-container-id-1 div.sk-estimator input.sk-toggleable__control:checked~label.sk-toggleable__label {background-color: #d4ebff;}#sk-container-id-1 div.sk-label input.sk-toggleable__control:checked~label.sk-toggleable__label {background-color: #d4ebff;}#sk-container-id-1 input.sk-hidden--visually {border: 0;clip: rect(1px 1px 1px 1px);clip: rect(1px, 1px, 1px, 1px);height: 1px;margin: -1px;overflow: hidden;padding: 0;position: absolute;width: 1px;}#sk-container-id-1 div.sk-estimator {font-family: monospace;background-color: #f0f8ff;border: 1px dotted black;border-radius: 0.25em;box-sizing: border-box;margin-bottom: 0.5em;}#sk-container-id-1 div.sk-estimator:hover {background-color: #d4ebff;}#sk-container-id-1 div.sk-parallel-item::after {content: \"\";width: 100%;border-bottom: 1px solid gray;flex-grow: 1;}#sk-container-id-1 div.sk-label:hover label.sk-toggleable__label {background-color: #d4ebff;}#sk-container-id-1 div.sk-serial::before {content: \"\";position: absolute;border-left: 1px solid gray;box-sizing: border-box;top: 0;bottom: 0;left: 50%;z-index: 0;}#sk-container-id-1 div.sk-serial {display: flex;flex-direction: column;align-items: center;background-color: white;padding-right: 0.2em;padding-left: 0.2em;position: relative;}#sk-container-id-1 div.sk-item {position: relative;z-index: 1;}#sk-container-id-1 div.sk-parallel {display: flex;align-items: stretch;justify-content: center;background-color: white;position: relative;}#sk-container-id-1 div.sk-item::before, #sk-container-id-1 div.sk-parallel-item::before {content: \"\";position: absolute;border-left: 1px solid gray;box-sizing: border-box;top: 0;bottom: 0;left: 50%;z-index: -1;}#sk-container-id-1 div.sk-parallel-item {display: flex;flex-direction: column;z-index: 1;position: relative;background-color: white;}#sk-container-id-1 div.sk-parallel-item:first-child::after {align-self: flex-end;width: 50%;}#sk-container-id-1 div.sk-parallel-item:last-child::after {align-self: flex-start;width: 50%;}#sk-container-id-1 div.sk-parallel-item:only-child::after {width: 0;}#sk-container-id-1 div.sk-dashed-wrapped {border: 1px dashed gray;margin: 0 0.4em 0.5em 0.4em;box-sizing: border-box;padding-bottom: 0.4em;background-color: white;}#sk-container-id-1 div.sk-label label {font-family: monospace;font-weight: bold;display: inline-block;line-height: 1.2em;}#sk-container-id-1 div.sk-label-container {text-align: center;}#sk-container-id-1 div.sk-container {/* jupyter's `normalize.less` sets `[hidden] { display: none; }` but bootstrap.min.css set `[hidden] { display: none !important; }` so we also need the `!important` here to be able to override the default hidden behavior on the sphinx rendered scikit-learn.org. See: https://github.com/scikit-learn/scikit-learn/issues/21755 */display: inline-block !important;position: relative;}#sk-container-id-1 div.sk-text-repr-fallback {display: none;}</style><div id=\"sk-container-id-1\" class=\"sk-top-container\"><div class=\"sk-text-repr-fallback\"><pre>LGBMClassifier(colsample_bytree=None, feature_fraction=0.75, lambda_l1=1,\n",
       "               lambda_l2=1, learning_rate=0.02, max_depth=12,\n",
       "               metric=&#x27;multi_error&#x27;, min_child_samples=None,\n",
       "               min_data_in_leaf=50, n_estimators=1000, n_jobs=4, num_class=4,\n",
       "               num_leaves=50, objective=&#x27;multiclass&#x27;, random_state=42,\n",
       "               reg_alpha=None, reg_lambda=None, subsample=0.75,\n",
       "               subsample_freq=1)</pre><b>In a Jupyter environment, please rerun this cell to show the HTML representation or trust the notebook. <br />On GitHub, the HTML representation is unable to render, please try loading this page with nbviewer.org.</b></div><div class=\"sk-container\" hidden><div class=\"sk-item\"><div class=\"sk-estimator sk-toggleable\"><input class=\"sk-toggleable__control sk-hidden--visually\" id=\"sk-estimator-id-1\" type=\"checkbox\" checked><label for=\"sk-estimator-id-1\" class=\"sk-toggleable__label sk-toggleable__label-arrow\">LGBMClassifier</label><div class=\"sk-toggleable__content\"><pre>LGBMClassifier(colsample_bytree=None, feature_fraction=0.75, lambda_l1=1,\n",
       "               lambda_l2=1, learning_rate=0.02, max_depth=12,\n",
       "               metric=&#x27;multi_error&#x27;, min_child_samples=None,\n",
       "               min_data_in_leaf=50, n_estimators=1000, n_jobs=4, num_class=4,\n",
       "               num_leaves=50, objective=&#x27;multiclass&#x27;, random_state=42,\n",
       "               reg_alpha=None, reg_lambda=None, subsample=0.75,\n",
       "               subsample_freq=1)</pre></div></div></div></div></div>"
      ],
      "text/plain": [
       "LGBMClassifier(colsample_bytree=None, feature_fraction=0.75, lambda_l1=1,\n",
       "               lambda_l2=1, learning_rate=0.02, max_depth=12,\n",
       "               metric='multi_error', min_child_samples=None,\n",
       "               min_data_in_leaf=50, n_estimators=1000, n_jobs=4, num_class=4,\n",
       "               num_leaves=50, objective='multiclass', random_state=42,\n",
       "               reg_alpha=None, reg_lambda=None, subsample=0.75,\n",
       "               subsample_freq=1)"
      ]
     },
     "execution_count": 19,
     "metadata": {},
     "output_type": "execute_result"
    }
   ],
   "source": [
    "gbm_model.fit(predict_gbm_train.drop(columns='bins'), predict_gbm_train['bins'])"
   ]
  },
  {
   "cell_type": "code",
   "execution_count": 20,
   "id": "ae1f4a6e-7b3a-4e9a-adae-037ee4d76d30",
   "metadata": {},
   "outputs": [
    {
     "data": {
      "text/plain": [
       "0.629"
      ]
     },
     "execution_count": 20,
     "metadata": {},
     "output_type": "execute_result"
    }
   ],
   "source": [
    "acc = accuracy_score(\n",
    "    gbm_model.predict(predict_gbm_test.drop(columns='bins')), \n",
    "    predict_gbm_test['bins'],\n",
    ")\n",
    "acc"
   ]
  },
  {
   "cell_type": "code",
   "execution_count": 21,
   "id": "8c15e721-b217-4b30-aec1-473ff834b359",
   "metadata": {},
   "outputs": [],
   "source": [
    "import datetime"
   ]
  },
  {
   "cell_type": "code",
   "execution_count": 22,
   "id": "a2fe3bd4-9c23-4128-860f-a3f4959abbbc",
   "metadata": {},
   "outputs": [],
   "source": [
    "pretrain_logger_version = -1"
   ]
  },
  {
   "cell_type": "code",
   "execution_count": 23,
   "id": "86f95e21-dcea-4f63-b06f-1222acee01ee",
   "metadata": {},
   "outputs": [],
   "source": [
    "with open('results.log', 'at') as f:\n",
    "    print('\\t'.join([\n",
    "        '02_agg_baseline',\n",
    "        f'{datetime.datetime.now():%Y-%m-%d %H:%M:%S}',\n",
    "        f'{fold_i}',\n",
    "        'accuracy',\n",
    "        f'{acc:.4f}',\n",
    "        f'{pretrain_logger_version}',\n",
    "]), file=f)"
   ]
  },
  {
   "cell_type": "code",
   "execution_count": 25,
   "id": "7d115b2b-f81d-4475-85f0-26cbf8020857",
   "metadata": {},
   "outputs": [
    {
     "data": {
      "text/html": [
       "<div>\n",
       "<style scoped>\n",
       "    .dataframe tbody tr th:only-of-type {\n",
       "        vertical-align: middle;\n",
       "    }\n",
       "\n",
       "    .dataframe tbody tr th {\n",
       "        vertical-align: top;\n",
       "    }\n",
       "\n",
       "    .dataframe thead th {\n",
       "        text-align: right;\n",
       "    }\n",
       "</style>\n",
       "<table border=\"1\" class=\"dataframe\">\n",
       "  <thead>\n",
       "    <tr style=\"text-align: right;\">\n",
       "      <th></th>\n",
       "      <th>model</th>\n",
       "      <th>time</th>\n",
       "      <th>fold_i</th>\n",
       "      <th>metric</th>\n",
       "      <th>value</th>\n",
       "      <th>pretrain_logger_version</th>\n",
       "    </tr>\n",
       "  </thead>\n",
       "  <tbody>\n",
       "    <tr>\n",
       "      <th>0</th>\n",
       "      <td>02_coles_baseline</td>\n",
       "      <td>2024-01-17 01:55:47</td>\n",
       "      <td>0</td>\n",
       "      <td>accuracy</td>\n",
       "      <td>0.6245</td>\n",
       "      <td>8</td>\n",
       "    </tr>\n",
       "    <tr>\n",
       "      <th>1</th>\n",
       "      <td>02_agg_baseline</td>\n",
       "      <td>2024-01-17 08:54:59</td>\n",
       "      <td>0</td>\n",
       "      <td>accuracy</td>\n",
       "      <td>0.6297</td>\n",
       "      <td>-1</td>\n",
       "    </tr>\n",
       "    <tr>\n",
       "      <th>2</th>\n",
       "      <td>02_agg_baseline</td>\n",
       "      <td>2024-01-17 08:57:20</td>\n",
       "      <td>1</td>\n",
       "      <td>accuracy</td>\n",
       "      <td>0.6350</td>\n",
       "      <td>-1</td>\n",
       "    </tr>\n",
       "    <tr>\n",
       "      <th>3</th>\n",
       "      <td>02_agg_baseline</td>\n",
       "      <td>2024-01-17 09:00:16</td>\n",
       "      <td>2</td>\n",
       "      <td>accuracy</td>\n",
       "      <td>0.6362</td>\n",
       "      <td>-1</td>\n",
       "    </tr>\n",
       "    <tr>\n",
       "      <th>4</th>\n",
       "      <td>02_agg_baseline</td>\n",
       "      <td>2024-01-17 09:03:30</td>\n",
       "      <td>3</td>\n",
       "      <td>accuracy</td>\n",
       "      <td>0.6325</td>\n",
       "      <td>-1</td>\n",
       "    </tr>\n",
       "    <tr>\n",
       "      <th>5</th>\n",
       "      <td>02_agg_baseline</td>\n",
       "      <td>2024-01-17 09:07:43</td>\n",
       "      <td>4</td>\n",
       "      <td>accuracy</td>\n",
       "      <td>0.6290</td>\n",
       "      <td>-1</td>\n",
       "    </tr>\n",
       "  </tbody>\n",
       "</table>\n",
       "</div>"
      ],
      "text/plain": [
       "               model                 time  fold_i    metric   value  \\\n",
       "0  02_coles_baseline  2024-01-17 01:55:47       0  accuracy  0.6245   \n",
       "1    02_agg_baseline  2024-01-17 08:54:59       0  accuracy  0.6297   \n",
       "2    02_agg_baseline  2024-01-17 08:57:20       1  accuracy  0.6350   \n",
       "3    02_agg_baseline  2024-01-17 09:00:16       2  accuracy  0.6362   \n",
       "4    02_agg_baseline  2024-01-17 09:03:30       3  accuracy  0.6325   \n",
       "5    02_agg_baseline  2024-01-17 09:07:43       4  accuracy  0.6290   \n",
       "\n",
       "   pretrain_logger_version  \n",
       "0                        8  \n",
       "1                       -1  \n",
       "2                       -1  \n",
       "3                       -1  \n",
       "4                       -1  \n",
       "5                       -1  "
      ]
     },
     "execution_count": 25,
     "metadata": {},
     "output_type": "execute_result"
    }
   ],
   "source": [
    "df_res = pd.read_csv(\n",
    "    'results.log', sep='\\t', header=None,\n",
    "    names=['model', 'time', 'fold_i', 'metric', 'value', 'pretrain_logger_version']\n",
    ")\n",
    "df_res.tail(10)"
   ]
  },
  {
   "cell_type": "code",
   "execution_count": 30,
   "id": "a3c31661-f5f2-49ff-8cdf-8fb1c697498b",
   "metadata": {},
   "outputs": [
    {
     "data": {
      "text/html": [
       "<div>\n",
       "<style scoped>\n",
       "    .dataframe tbody tr th:only-of-type {\n",
       "        vertical-align: middle;\n",
       "    }\n",
       "\n",
       "    .dataframe tbody tr th {\n",
       "        vertical-align: top;\n",
       "    }\n",
       "\n",
       "    .dataframe thead th {\n",
       "        text-align: right;\n",
       "    }\n",
       "</style>\n",
       "<table border=\"1\" class=\"dataframe\">\n",
       "  <thead>\n",
       "    <tr style=\"text-align: right;\">\n",
       "      <th></th>\n",
       "      <th>mean</th>\n",
       "      <th>std</th>\n",
       "      <th>&lt;lambda_0&gt;</th>\n",
       "    </tr>\n",
       "    <tr>\n",
       "      <th>model</th>\n",
       "      <th></th>\n",
       "      <th></th>\n",
       "      <th></th>\n",
       "    </tr>\n",
       "  </thead>\n",
       "  <tbody>\n",
       "    <tr>\n",
       "      <th>02_agg_baseline</th>\n",
       "      <td>0.63248</td>\n",
       "      <td>0.003163</td>\n",
       "      <td>[0.629, 0.6297, 0.6325, 0.635, 0.6362]</td>\n",
       "    </tr>\n",
       "    <tr>\n",
       "      <th>02_coles_baseline</th>\n",
       "      <td>0.62450</td>\n",
       "      <td>NaN</td>\n",
       "      <td>[0.6245]</td>\n",
       "    </tr>\n",
       "  </tbody>\n",
       "</table>\n",
       "</div>"
      ],
      "text/plain": [
       "                      mean       std                              <lambda_0>\n",
       "model                                                                       \n",
       "02_agg_baseline    0.63248  0.003163  [0.629, 0.6297, 0.6325, 0.635, 0.6362]\n",
       "02_coles_baseline  0.62450       NaN                                [0.6245]"
      ]
     },
     "execution_count": 30,
     "metadata": {},
     "output_type": "execute_result"
    }
   ],
   "source": [
    "df_res.groupby('model')['value'].agg(['mean', 'std', lambda x: sorted(x)])"
   ]
  },
  {
   "cell_type": "code",
   "execution_count": null,
   "id": "424da86b-a1f0-4c78-ba88-619552adcfff",
   "metadata": {},
   "outputs": [],
   "source": []
  }
 ],
 "metadata": {
  "kernelspec": {
   "display_name": "ptls-experiments",
   "language": "python",
   "name": "ptls-experiments"
  },
  "language_info": {
   "codemirror_mode": {
    "name": "ipython",
    "version": 3
   },
   "file_extension": ".py",
   "mimetype": "text/x-python",
   "name": "python",
   "nbconvert_exporter": "python",
   "pygments_lexer": "ipython3",
   "version": "3.8.18"
  }
 },
 "nbformat": 4,
 "nbformat_minor": 5
}
