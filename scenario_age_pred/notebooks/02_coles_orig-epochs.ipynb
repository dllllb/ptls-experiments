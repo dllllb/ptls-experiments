{
 "cells": [
  {
   "cell_type": "markdown",
   "id": "6af9abb8-242a-43c4-a8b5-4c36b71ab2f7",
   "metadata": {},
   "source": [
    "# Pretrain duration\n",
    "\n",
    "CoLES downstream task quality depends on pretrain time.\n"
   ]
  },
  {
   "cell_type": "code",
   "execution_count": 1,
   "id": "be09b619-0576-4693-8a9f-c7dfe1e2a346",
   "metadata": {},
   "outputs": [],
   "source": [
    "import pickle\n",
    "\n",
    "import numpy as np\n",
    "import pandas as pd\n",
    "\n",
    "from pathlib import Path"
   ]
  },
  {
   "cell_type": "code",
   "execution_count": 2,
   "id": "08fce4c6-4133-4498-ab86-94207d18d954",
   "metadata": {},
   "outputs": [],
   "source": [
    "from ptls.preprocessing import PandasDataPreprocessor"
   ]
  },
  {
   "cell_type": "code",
   "execution_count": 3,
   "id": "15d23f98-e5de-4615-ade3-bd2031695455",
   "metadata": {},
   "outputs": [],
   "source": [
    "from sklearn.model_selection import StratifiedKFold, train_test_split"
   ]
  },
  {
   "cell_type": "code",
   "execution_count": 4,
   "id": "f9e01b18-03e5-4248-8494-ebe92cfe99da",
   "metadata": {},
   "outputs": [],
   "source": [
    "MODEL_NAME='02_coles_250'\n",
    "\n",
    "for fold_i in [0,]:\n",
    "\n",
    "    df_trx_pretrain = pd.read_pickle(f'data/fold_{fold_i}/df_trx_pretrain.pickle')\n",
    "    df_seq_pretrain = pd.read_pickle(f'data/fold_{fold_i}/df_seq_pretrain.pickle')\n",
    "    df_gbm_train = pd.read_pickle(f'data/fold_{fold_i}/df_gbm_train.pickle')\n",
    "    df_gbm_test = pd.read_pickle(f'data/fold_{fold_i}/df_gbm_test.pickle')\n",
    "\n",
    "    with open(f'data/fold_{fold_i}/pdp.pickle', 'rb') as f:\n",
    "        pdp = pickle.load(f)\n",
    "        \n",
    "    break"
   ]
  },
  {
   "cell_type": "code",
   "execution_count": 5,
   "id": "04aaa460-b179-4739-87b0-6a9e1aeaa61b",
   "metadata": {},
   "outputs": [],
   "source": [
    "from time import sleep"
   ]
  },
  {
   "cell_type": "code",
   "execution_count": 6,
   "id": "1b5917b6-8b3f-4a73-9d2a-942423909633",
   "metadata": {},
   "outputs": [],
   "source": [
    "sleep(60 * 10 * fold_i)"
   ]
  },
  {
   "cell_type": "code",
   "execution_count": null,
   "id": "e1decaf3-2414-4f1e-8ad6-27ba0bfa6bd7",
   "metadata": {},
   "outputs": [],
   "source": []
  },
  {
   "cell_type": "code",
   "execution_count": 7,
   "id": "574b7060-4db2-43d3-a70c-be23ae978a2c",
   "metadata": {},
   "outputs": [],
   "source": [
    "import ptls.data_load\n",
    "import ptls.data_load.datasets\n",
    "import ptls.frames\n",
    "import ptls.frames.coles\n",
    "import ptls.frames.inference_module\n",
    "import ptls.nn"
   ]
  },
  {
   "cell_type": "code",
   "execution_count": 8,
   "id": "c3363116-5aa9-43f8-97f4-b2b0845d80b6",
   "metadata": {},
   "outputs": [],
   "source": [
    "import torch"
   ]
  },
  {
   "cell_type": "code",
   "execution_count": 9,
   "id": "7f1d76c2-175c-4366-8098-98a63dac153d",
   "metadata": {},
   "outputs": [],
   "source": [
    "from functools import partial"
   ]
  },
  {
   "cell_type": "code",
   "execution_count": null,
   "id": "8b705202-a186-4528-a4a6-bc854cbde960",
   "metadata": {},
   "outputs": [],
   "source": []
  },
  {
   "cell_type": "code",
   "execution_count": 10,
   "id": "08c65246-e7aa-4fd2-9e36-dafbc0179114",
   "metadata": {},
   "outputs": [],
   "source": [
    "df_seq_pretrain_train, df_seq_pretrain_valid = train_test_split(\n",
    "    df_seq_pretrain, test_size=0.05, shuffle=True, random_state=42)"
   ]
  },
  {
   "cell_type": "code",
   "execution_count": 11,
   "id": "b6097c40-91bd-4457-9a2a-8b8a6906464a",
   "metadata": {},
   "outputs": [
    {
     "data": {
      "text/plain": [
       "(24700, 1300)"
      ]
     },
     "execution_count": 11,
     "metadata": {},
     "output_type": "execute_result"
    }
   ],
   "source": [
    "len(df_seq_pretrain_train), len(df_seq_pretrain_valid)"
   ]
  },
  {
   "cell_type": "code",
   "execution_count": 12,
   "id": "d1e59213-2fcc-4f69-acae-2cb9ed9cb85a",
   "metadata": {},
   "outputs": [],
   "source": [
    "coles_data_module = ptls.frames.PtlsDataModule(\n",
    "    train_data=ptls.frames.coles.ColesDataset(\n",
    "        data=ptls.data_load.datasets.MemoryMapDataset(\n",
    "            df_seq_pretrain_train.to_dict(orient='records') + \n",
    "            df_trx_pretrain.to_dict(orient='records')\n",
    "        ),\n",
    "        splitter=ptls.frames.coles.split_strategy.SampleSlices(\n",
    "            split_count=5,\n",
    "            cnt_min=25,\n",
    "            cnt_max=200,\n",
    "        ),\n",
    "    ),\n",
    "    valid_data=ptls.frames.coles.ColesDataset(\n",
    "        data=ptls.data_load.datasets.MemoryMapDataset(\n",
    "            df_seq_pretrain_train.to_dict(orient='records')),\n",
    "        splitter=ptls.frames.coles.split_strategy.SampleSlices(\n",
    "            split_count=5,\n",
    "            cnt_min=25,\n",
    "            cnt_max=100,\n",
    "        ),\n",
    "    ),\n",
    "    train_batch_size=64,\n",
    "    train_num_workers=4,\n",
    "    valid_batch_size=650,\n",
    ")"
   ]
  },
  {
   "cell_type": "code",
   "execution_count": 13,
   "id": "5867bed2-118c-47a4-b608-135e1eccdde5",
   "metadata": {},
   "outputs": [],
   "source": [
    "pl_coles_module = ptls.frames.coles.CoLESModule(\n",
    "    validation_metric=ptls.frames.coles.metric.BatchRecallTopK(\n",
    "        K=4,\n",
    "        metric='cosine',\n",
    "    ),\n",
    "    seq_encoder=torch.nn.Sequential(\n",
    "        ptls.nn.TrxEncoder(\n",
    "            norm_embeddings=False,\n",
    "            embeddings_noise=0.003,\n",
    "            embeddings={\n",
    "                'weekday': {'in': 10, 'out': 8},\n",
    "                'small_group': {'in': 250, 'out': 16},\n",
    "                'event_time': {'in': 800, 'out': 8},\n",
    "            },\n",
    "            numeric_values={ \n",
    "                # 'amount_rur': 'identity',\n",
    "                'amount_rur': 'log',\n",
    "            },\n",
    "        ),\n",
    "        ptls.nn.RnnEncoder(\n",
    "            input_size=33,\n",
    "            type='gru',\n",
    "            hidden_size=800,\n",
    "            is_reduce_sequence=True,\n",
    "        ),\n",
    "    ),\n",
    "    head=ptls.nn.Head(use_norm_encoder=True),\n",
    "    loss=ptls.frames.coles.losses.ContrastiveLoss(\n",
    "        margin=0.5,\n",
    "        sampling_strategy=ptls.frames.coles.sampling_strategies.HardNegativePairSelector(\n",
    "          neg_count=5,\n",
    "        ),\n",
    "    ),\n",
    "    optimizer_partial=partial(torch.optim.Adam, lr=0.001, weight_decay=0.0),\n",
    "    lr_scheduler_partial=partial(torch.optim.lr_scheduler.StepLR, step_size=30, gamma=0.9025)\n",
    ")"
   ]
  },
  {
   "cell_type": "code",
   "execution_count": null,
   "id": "c16c27c7-de60-4fcd-ac8a-78dad8bb2b25",
   "metadata": {},
   "outputs": [],
   "source": []
  },
  {
   "cell_type": "code",
   "execution_count": 14,
   "id": "357dc0a7-1801-4c76-adea-ffe692df7699",
   "metadata": {},
   "outputs": [],
   "source": [
    "import pytorch_lightning as pl"
   ]
  },
  {
   "cell_type": "code",
   "execution_count": 15,
   "id": "f044a695-988d-4ba8-8d07-96bb7024600b",
   "metadata": {},
   "outputs": [
    {
     "name": "stderr",
     "output_type": "stream",
     "text": [
      "GPU available: True, used: True\n",
      "TPU available: False, using: 0 TPU cores\n",
      "IPU available: False, using: 0 IPUs\n",
      "HPU available: False, using: 0 HPUs\n"
     ]
    }
   ],
   "source": [
    "trainer = pl.Trainer(\n",
    "    gpus=1,\n",
    "    max_epochs=250, # 150,\n",
    "    enable_checkpointing=False,\n",
    "    enable_progress_bar=False,\n",
    "    gradient_clip_val=0.5,\n",
    "    gradient_clip_algorithm=\"value\",    \n",
    ")   "
   ]
  },
  {
   "cell_type": "code",
   "execution_count": null,
   "id": "80f5542c-7811-41e1-8a6c-fc8b9829bd02",
   "metadata": {},
   "outputs": [
    {
     "name": "stdout",
     "output_type": "stream",
     "text": [
      "pretrain_logger_version = 97\n"
     ]
    },
    {
     "name": "stderr",
     "output_type": "stream",
     "text": [
      "LOCAL_RANK: 0 - CUDA_VISIBLE_DEVICES: [0]\n",
      "\n",
      "  | Name               | Type            | Params\n",
      "-------------------------------------------------------\n",
      "0 | _loss              | ContrastiveLoss | 0     \n",
      "1 | _seq_encoder       | Sequential      | 2.0 M \n",
      "2 | _validation_metric | BatchRecallTopK | 0     \n",
      "3 | _head              | Head            | 0     \n",
      "-------------------------------------------------------\n",
      "2.0 M     Trainable params\n",
      "0         Non-trainable params\n",
      "2.0 M     Total params\n",
      "8.061     Total estimated model params size (MB)\n"
     ]
    }
   ],
   "source": [
    "pretrain_logger_version = trainer.logger.version\n",
    "print(f'pretrain_logger_version = {pretrain_logger_version}')\n",
    "trainer.fit(pl_coles_module, coles_data_module)"
   ]
  },
  {
   "cell_type": "code",
   "execution_count": null,
   "id": "33169a90-cad3-4a0f-bd38-16ffca360d43",
   "metadata": {},
   "outputs": [],
   "source": []
  },
  {
   "cell_type": "code",
   "execution_count": null,
   "id": "a2d38715-9e42-4973-90f7-f74bf81073e3",
   "metadata": {},
   "outputs": [],
   "source": [
    "inference_dl_gbm_train = torch.utils.data.DataLoader(\n",
    "    dataset=ptls.data_load.datasets.MemoryMapDataset(\n",
    "        df_gbm_train.to_dict(orient='records'),\n",
    "        i_filters=[\n",
    "            ptls.data_load.iterable_processing.ISeqLenLimit(max_seq_len=2000), \n",
    "        ],\n",
    "    ),\n",
    "    collate_fn=ptls.data_load.utils.collate_feature_dict,\n",
    "    shuffle=False,\n",
    "    batch_size=1000,\n",
    "    num_workers=12,\n",
    ")\n",
    "\n",
    "inference_dl_gbm_test = torch.utils.data.DataLoader(\n",
    "    dataset=ptls.data_load.datasets.MemoryMapDataset(\n",
    "        df_gbm_test.to_dict(orient='records'),\n",
    "        i_filters=[\n",
    "            ptls.data_load.iterable_processing.ISeqLenLimit(max_seq_len=2000), \n",
    "        ],\n",
    "    ),\n",
    "    collate_fn=ptls.data_load.utils.collate_feature_dict,\n",
    "    shuffle=False,\n",
    "    batch_size=1000,\n",
    "    num_workers=12,\n",
    ")"
   ]
  },
  {
   "cell_type": "code",
   "execution_count": null,
   "id": "91da479e-ee9c-4d00-90a7-c1e4fe37f07f",
   "metadata": {},
   "outputs": [],
   "source": [
    "inf_model = ptls.frames.inference_module.InferenceModule(\n",
    "    model=pl_coles_module.seq_encoder, pandas_output=True, model_out_name='emb')"
   ]
  },
  {
   "cell_type": "code",
   "execution_count": null,
   "id": "4e7dc4fd-c80c-4f2c-a209-042b8b6647bf",
   "metadata": {},
   "outputs": [],
   "source": [
    "predict_gbm_train = pl.Trainer(gpus=1, enable_progress_bar=False, logger=None)\\\n",
    ".predict(inf_model, inference_dl_gbm_train)"
   ]
  },
  {
   "cell_type": "code",
   "execution_count": null,
   "id": "971659dc-af37-4c1f-8c52-f0276ab7d63b",
   "metadata": {},
   "outputs": [],
   "source": [
    "predict_gbm_test = pl.Trainer(gpus=1, enable_progress_bar=False, logger=None)\\\n",
    ".predict(inf_model, inference_dl_gbm_test)"
   ]
  },
  {
   "cell_type": "code",
   "execution_count": null,
   "id": "e0583ec3-a0c2-4e3f-86e0-d36fe98b3321",
   "metadata": {},
   "outputs": [],
   "source": [
    "predict_gbm_train = pd.concat(predict_gbm_train, axis=0)"
   ]
  },
  {
   "cell_type": "code",
   "execution_count": null,
   "id": "6732fe6b-8e2a-4502-848d-bd4613b6eb26",
   "metadata": {},
   "outputs": [],
   "source": [
    "predict_gbm_test = pd.concat(predict_gbm_test, axis=0)"
   ]
  },
  {
   "cell_type": "code",
   "execution_count": null,
   "id": "5b96750d-23d8-4f44-b405-f436eb18db0c",
   "metadata": {},
   "outputs": [],
   "source": [
    "predict_gbm_train.set_index('client_id', inplace=True)\n",
    "predict_gbm_test.set_index('client_id', inplace=True)"
   ]
  },
  {
   "cell_type": "code",
   "execution_count": null,
   "id": "7209865b-ccbc-447b-b0ca-31adbf60789d",
   "metadata": {},
   "outputs": [],
   "source": []
  },
  {
   "cell_type": "code",
   "execution_count": null,
   "id": "bbb031d2-992e-4769-958a-bf5653b45a2c",
   "metadata": {},
   "outputs": [],
   "source": [
    "from lightgbm import LGBMClassifier\n",
    "from sklearn.metrics import accuracy_score"
   ]
  },
  {
   "cell_type": "code",
   "execution_count": null,
   "id": "9bda0490-f9c1-463b-9d3f-47f8502c80b8",
   "metadata": {},
   "outputs": [],
   "source": [
    "gbm_model = LGBMClassifier(**{\n",
    "      'n_estimators': 1000,\n",
    "      'boosting_type': 'gbdt',\n",
    "      'objective': 'multiclass',\n",
    "      'num_class': 4,\n",
    "      'metric': 'multi_error',\n",
    "      'learning_rate': 0.02,\n",
    "      'subsample': 0.75,\n",
    "      'subsample_freq': 1,\n",
    "      'feature_fraction': 0.75,\n",
    "      'colsample_bytree': None,\n",
    "      'max_depth': 12,\n",
    "      'lambda_l1': 1,\n",
    "      'reg_alpha': None,\n",
    "      'lambda_l2': 1,\n",
    "      'reg_lambda': None,\n",
    "      'min_data_in_leaf': 50,\n",
    "      'min_child_samples': None,\n",
    "      'num_leaves': 50,\n",
    "      'random_state': 42,\n",
    "      'n_jobs': 4,\n",
    "})"
   ]
  },
  {
   "cell_type": "code",
   "execution_count": null,
   "id": "b40bf839-c8d7-4254-9efe-eb19d78b874c",
   "metadata": {},
   "outputs": [],
   "source": [
    "gbm_model.fit(predict_gbm_train.drop(columns='bins'), predict_gbm_train['bins'])"
   ]
  },
  {
   "cell_type": "code",
   "execution_count": null,
   "id": "ae1f4a6e-7b3a-4e9a-adae-037ee4d76d30",
   "metadata": {},
   "outputs": [],
   "source": [
    "acc = accuracy_score(\n",
    "    gbm_model.predict(predict_gbm_test.drop(columns='bins')), \n",
    "    predict_gbm_test['bins'],\n",
    ")\n",
    "acc"
   ]
  },
  {
   "cell_type": "code",
   "execution_count": null,
   "id": "8c15e721-b217-4b30-aec1-473ff834b359",
   "metadata": {},
   "outputs": [],
   "source": [
    "import datetime"
   ]
  },
  {
   "cell_type": "code",
   "execution_count": null,
   "id": "86f95e21-dcea-4f63-b06f-1222acee01ee",
   "metadata": {},
   "outputs": [],
   "source": [
    "with open('results.log', 'at') as f:\n",
    "    print('\\t'.join([\n",
    "        MODEL_NAME,\n",
    "        f'{datetime.datetime.now():%Y-%m-%d %H:%M:%S}',\n",
    "        f'{fold_i}',\n",
    "        'accuracy',\n",
    "        f'{acc:.4f}',\n",
    "        f'{pretrain_logger_version}',\n",
    "]), file=f)"
   ]
  },
  {
   "cell_type": "code",
   "execution_count": null,
   "id": "284724a0-6e8f-482a-a5ea-d06aa19d9196",
   "metadata": {},
   "outputs": [],
   "source": []
  },
  {
   "cell_type": "code",
   "execution_count": 55,
   "id": "7d115b2b-f81d-4475-85f0-26cbf8020857",
   "metadata": {},
   "outputs": [
    {
     "data": {
      "text/html": [
       "<div>\n",
       "<style scoped>\n",
       "    .dataframe tbody tr th:only-of-type {\n",
       "        vertical-align: middle;\n",
       "    }\n",
       "\n",
       "    .dataframe tbody tr th {\n",
       "        vertical-align: top;\n",
       "    }\n",
       "\n",
       "    .dataframe thead th {\n",
       "        text-align: right;\n",
       "    }\n",
       "</style>\n",
       "<table border=\"1\" class=\"dataframe\">\n",
       "  <thead>\n",
       "    <tr style=\"text-align: right;\">\n",
       "      <th></th>\n",
       "      <th>model</th>\n",
       "      <th>time</th>\n",
       "      <th>fold_i</th>\n",
       "      <th>metric</th>\n",
       "      <th>value</th>\n",
       "      <th>pretrain_logger_version</th>\n",
       "    </tr>\n",
       "  </thead>\n",
       "  <tbody>\n",
       "    <tr>\n",
       "      <th>45</th>\n",
       "      <td>02_coles_1</td>\n",
       "      <td>2024-01-24 18:32:06</td>\n",
       "      <td>0</td>\n",
       "      <td>accuracy</td>\n",
       "      <td>0.5767</td>\n",
       "      <td>92</td>\n",
       "    </tr>\n",
       "    <tr>\n",
       "      <th>46</th>\n",
       "      <td>02_coles_1</td>\n",
       "      <td>2024-01-24 18:32:39</td>\n",
       "      <td>1</td>\n",
       "      <td>accuracy</td>\n",
       "      <td>0.5808</td>\n",
       "      <td>93</td>\n",
       "    </tr>\n",
       "    <tr>\n",
       "      <th>47</th>\n",
       "      <td>02_coles_1</td>\n",
       "      <td>2024-01-24 18:46:15</td>\n",
       "      <td>2</td>\n",
       "      <td>accuracy</td>\n",
       "      <td>0.5807</td>\n",
       "      <td>94</td>\n",
       "    </tr>\n",
       "    <tr>\n",
       "      <th>48</th>\n",
       "      <td>02_coles_1</td>\n",
       "      <td>2024-01-24 19:08:08</td>\n",
       "      <td>3</td>\n",
       "      <td>accuracy</td>\n",
       "      <td>0.5888</td>\n",
       "      <td>95</td>\n",
       "    </tr>\n",
       "    <tr>\n",
       "      <th>49</th>\n",
       "      <td>02_coles_1</td>\n",
       "      <td>2024-01-24 19:10:37</td>\n",
       "      <td>4</td>\n",
       "      <td>accuracy</td>\n",
       "      <td>0.5768</td>\n",
       "      <td>96</td>\n",
       "    </tr>\n",
       "    <tr>\n",
       "      <th>50</th>\n",
       "      <td>02_coles_0</td>\n",
       "      <td>2024-01-24 19:34:13</td>\n",
       "      <td>0</td>\n",
       "      <td>accuracy</td>\n",
       "      <td>0.3872</td>\n",
       "      <td>-1</td>\n",
       "    </tr>\n",
       "    <tr>\n",
       "      <th>51</th>\n",
       "      <td>02_coles_0</td>\n",
       "      <td>2024-01-24 19:34:32</td>\n",
       "      <td>1</td>\n",
       "      <td>accuracy</td>\n",
       "      <td>0.3855</td>\n",
       "      <td>-1</td>\n",
       "    </tr>\n",
       "    <tr>\n",
       "      <th>52</th>\n",
       "      <td>02_coles_0</td>\n",
       "      <td>2024-01-24 19:34:49</td>\n",
       "      <td>2</td>\n",
       "      <td>accuracy</td>\n",
       "      <td>0.3845</td>\n",
       "      <td>-1</td>\n",
       "    </tr>\n",
       "    <tr>\n",
       "      <th>53</th>\n",
       "      <td>02_coles_0</td>\n",
       "      <td>2024-01-24 19:39:27</td>\n",
       "      <td>3</td>\n",
       "      <td>accuracy</td>\n",
       "      <td>0.3947</td>\n",
       "      <td>-1</td>\n",
       "    </tr>\n",
       "    <tr>\n",
       "      <th>54</th>\n",
       "      <td>02_coles_0</td>\n",
       "      <td>2024-01-24 19:39:36</td>\n",
       "      <td>4</td>\n",
       "      <td>accuracy</td>\n",
       "      <td>0.3812</td>\n",
       "      <td>-1</td>\n",
       "    </tr>\n",
       "  </tbody>\n",
       "</table>\n",
       "</div>"
      ],
      "text/plain": [
       "         model                 time  fold_i    metric   value  \\\n",
       "45  02_coles_1  2024-01-24 18:32:06       0  accuracy  0.5767   \n",
       "46  02_coles_1  2024-01-24 18:32:39       1  accuracy  0.5808   \n",
       "47  02_coles_1  2024-01-24 18:46:15       2  accuracy  0.5807   \n",
       "48  02_coles_1  2024-01-24 19:08:08       3  accuracy  0.5888   \n",
       "49  02_coles_1  2024-01-24 19:10:37       4  accuracy  0.5768   \n",
       "50  02_coles_0  2024-01-24 19:34:13       0  accuracy  0.3872   \n",
       "51  02_coles_0  2024-01-24 19:34:32       1  accuracy  0.3855   \n",
       "52  02_coles_0  2024-01-24 19:34:49       2  accuracy  0.3845   \n",
       "53  02_coles_0  2024-01-24 19:39:27       3  accuracy  0.3947   \n",
       "54  02_coles_0  2024-01-24 19:39:36       4  accuracy  0.3812   \n",
       "\n",
       "    pretrain_logger_version  \n",
       "45                       92  \n",
       "46                       93  \n",
       "47                       94  \n",
       "48                       95  \n",
       "49                       96  \n",
       "50                       -1  \n",
       "51                       -1  \n",
       "52                       -1  \n",
       "53                       -1  \n",
       "54                       -1  "
      ]
     },
     "execution_count": 55,
     "metadata": {},
     "output_type": "execute_result"
    }
   ],
   "source": [
    "df_res = pd.read_csv(\n",
    "    # 'results.log',\n",
    "    'results-orig-epochs.log',\n",
    "    sep='\\t', header=None,\n",
    "    names=['model', 'time', 'fold_i', 'metric', 'value', 'pretrain_logger_version']\n",
    ")\n",
    "df_res.tail(10)"
   ]
  },
  {
   "cell_type": "code",
   "execution_count": 56,
   "id": "a3c31661-f5f2-49ff-8cdf-8fb1c697498b",
   "metadata": {},
   "outputs": [
    {
     "data": {
      "text/html": [
       "<div>\n",
       "<style scoped>\n",
       "    .dataframe tbody tr th:only-of-type {\n",
       "        vertical-align: middle;\n",
       "    }\n",
       "\n",
       "    .dataframe tbody tr th {\n",
       "        vertical-align: top;\n",
       "    }\n",
       "\n",
       "    .dataframe thead th {\n",
       "        text-align: right;\n",
       "    }\n",
       "</style>\n",
       "<table border=\"1\" class=\"dataframe\">\n",
       "  <thead>\n",
       "    <tr style=\"text-align: right;\">\n",
       "      <th></th>\n",
       "      <th>mean</th>\n",
       "      <th>std</th>\n",
       "      <th>&lt;lambda_0&gt;</th>\n",
       "    </tr>\n",
       "    <tr>\n",
       "      <th>model</th>\n",
       "      <th></th>\n",
       "      <th></th>\n",
       "      <th></th>\n",
       "    </tr>\n",
       "  </thead>\n",
       "  <tbody>\n",
       "    <tr>\n",
       "      <th>02_agg_baseline</th>\n",
       "      <td>0.63248</td>\n",
       "      <td>0.003163</td>\n",
       "      <td>[0.629, 0.6297, 0.6325, 0.635, 0.6362]</td>\n",
       "    </tr>\n",
       "    <tr>\n",
       "      <th>02_coles_0</th>\n",
       "      <td>0.38662</td>\n",
       "      <td>0.005019</td>\n",
       "      <td>[0.3812, 0.3845, 0.3855, 0.3872, 0.3947]</td>\n",
       "    </tr>\n",
       "    <tr>\n",
       "      <th>02_coles_1</th>\n",
       "      <td>0.58076</td>\n",
       "      <td>0.004920</td>\n",
       "      <td>[0.5767, 0.5768, 0.5807, 0.5808, 0.5888]</td>\n",
       "    </tr>\n",
       "    <tr>\n",
       "      <th>02_coles_10</th>\n",
       "      <td>0.61780</td>\n",
       "      <td>0.005479</td>\n",
       "      <td>[0.6135, 0.6147, 0.6148, 0.6192, 0.6268]</td>\n",
       "    </tr>\n",
       "    <tr>\n",
       "      <th>02_coles_100</th>\n",
       "      <td>0.63676</td>\n",
       "      <td>0.005622</td>\n",
       "      <td>[0.6268, 0.638, 0.6392, 0.6398, 0.64]</td>\n",
       "    </tr>\n",
       "    <tr>\n",
       "      <th>02_coles_2</th>\n",
       "      <td>0.59610</td>\n",
       "      <td>0.003958</td>\n",
       "      <td>[0.5915, 0.5928, 0.5962, 0.5997, 0.6003]</td>\n",
       "    </tr>\n",
       "    <tr>\n",
       "      <th>02_coles_25</th>\n",
       "      <td>0.62910</td>\n",
       "      <td>0.006899</td>\n",
       "      <td>[0.6225, 0.6237, 0.6268, 0.634, 0.6385]</td>\n",
       "    </tr>\n",
       "    <tr>\n",
       "      <th>02_coles_250</th>\n",
       "      <td>0.64106</td>\n",
       "      <td>0.007117</td>\n",
       "      <td>[0.6322, 0.6382, 0.6413, 0.6418, 0.6518]</td>\n",
       "    </tr>\n",
       "    <tr>\n",
       "      <th>02_coles_5</th>\n",
       "      <td>0.61200</td>\n",
       "      <td>0.007319</td>\n",
       "      <td>[0.6055, 0.6067, 0.6083, 0.6175, 0.622]</td>\n",
       "    </tr>\n",
       "    <tr>\n",
       "      <th>02_coles_50</th>\n",
       "      <td>0.63290</td>\n",
       "      <td>0.003962</td>\n",
       "      <td>[0.6292, 0.6302, 0.6307, 0.6372, 0.6372]</td>\n",
       "    </tr>\n",
       "    <tr>\n",
       "      <th>02_coles_orig</th>\n",
       "      <td>0.63938</td>\n",
       "      <td>0.004827</td>\n",
       "      <td>[0.634, 0.6358, 0.6387, 0.6427, 0.6457]</td>\n",
       "    </tr>\n",
       "  </tbody>\n",
       "</table>\n",
       "</div>"
      ],
      "text/plain": [
       "                    mean       std                                <lambda_0>\n",
       "model                                                                       \n",
       "02_agg_baseline  0.63248  0.003163    [0.629, 0.6297, 0.6325, 0.635, 0.6362]\n",
       "02_coles_0       0.38662  0.005019  [0.3812, 0.3845, 0.3855, 0.3872, 0.3947]\n",
       "02_coles_1       0.58076  0.004920  [0.5767, 0.5768, 0.5807, 0.5808, 0.5888]\n",
       "02_coles_10      0.61780  0.005479  [0.6135, 0.6147, 0.6148, 0.6192, 0.6268]\n",
       "02_coles_100     0.63676  0.005622     [0.6268, 0.638, 0.6392, 0.6398, 0.64]\n",
       "02_coles_2       0.59610  0.003958  [0.5915, 0.5928, 0.5962, 0.5997, 0.6003]\n",
       "02_coles_25      0.62910  0.006899   [0.6225, 0.6237, 0.6268, 0.634, 0.6385]\n",
       "02_coles_250     0.64106  0.007117  [0.6322, 0.6382, 0.6413, 0.6418, 0.6518]\n",
       "02_coles_5       0.61200  0.007319   [0.6055, 0.6067, 0.6083, 0.6175, 0.622]\n",
       "02_coles_50      0.63290  0.003962  [0.6292, 0.6302, 0.6307, 0.6372, 0.6372]\n",
       "02_coles_orig    0.63938  0.004827   [0.634, 0.6358, 0.6387, 0.6427, 0.6457]"
      ]
     },
     "execution_count": 56,
     "metadata": {},
     "output_type": "execute_result"
    }
   ],
   "source": [
    "df_res.groupby('model')['value'].agg(['mean', 'std', lambda x: sorted(x)])"
   ]
  },
  {
   "cell_type": "code",
   "execution_count": 57,
   "id": "53e17723-beac-43bc-81f3-6ed5040adb70",
   "metadata": {},
   "outputs": [],
   "source": [
    "import seaborn as sns\n",
    "import matplotlib.pyplot as plt"
   ]
  },
  {
   "cell_type": "code",
   "execution_count": 66,
   "id": "f23e1826-d0b5-43ed-a2a7-442772b9141d",
   "metadata": {},
   "outputs": [
    {
     "data": {
      "image/png": "[encoded data removed]",
      "text/plain": [
       "<Figure size 1600x400 with 1 Axes>"
      ]
     },
     "metadata": {},
     "output_type": "display_data"
    }
   ],
   "source": [
    "_, ax = plt.subplots(1, 1, figsize=(16, 4))\n",
    "sns.boxplot(\n",
    "    data=df_res[lambda x: ~x['model'].isin(['02_coles_0'])],\n",
    "    x='model',\n",
    "    y='value',\n",
    ")\n",
    "sns.scatterplot(\n",
    "    data=df_res[lambda x: ~x['model'].isin(['02_coles_0'])],\n",
    "    x='model',\n",
    "    y='value',\n",
    "    marker=\"x\",\n",
    "    c='k',\n",
    "    s=150,\n",
    ")\n",
    "\n",
    "plt.grid()\n",
    "plt.show()"
   ]
  },
  {
   "cell_type": "code",
   "execution_count": 67,
   "id": "193d4af1-ac00-4e8e-8f33-1265a35e3e76",
   "metadata": {},
   "outputs": [
    {
     "data": {
      "image/png": "[encoded data removed]",
      "text/plain": [
       "<Figure size 800x400 with 1 Axes>"
      ]
     },
     "metadata": {},
     "output_type": "display_data"
    }
   ],
   "source": [
    "_, ax = plt.subplots(1, 1, figsize=(8, 4))\n",
    "df_res.pivot(\n",
    "    index='model', columns='fold_i', values='value')\\\n",
    ".loc[['02_agg_baseline', '02_coles_100', '02_coles_orig', '02_coles_250']]\\\n",
    ".plot(ax=ax, marker='x')\n",
    "plt.show()"
   ]
  },
  {
   "cell_type": "code",
   "execution_count": null,
   "id": "1f37a751-4468-4b9c-bf31-8bb5620f9032",
   "metadata": {},
   "outputs": [],
   "source": []
  },
  {
   "cell_type": "code",
   "execution_count": null,
   "id": "c278eae6-51a1-4348-9c71-ce3e73f264f9",
   "metadata": {},
   "outputs": [],
   "source": []
  }
 ],
 "metadata": {
  "kernelspec": {
   "display_name": "ptls-experiments",
   "language": "python",
   "name": "ptls-experiments"
  },
  "language_info": {
   "codemirror_mode": {
    "name": "ipython",
    "version": 3
   },
   "file_extension": ".py",
   "mimetype": "text/x-python",
   "name": "python",
   "nbconvert_exporter": "python",
   "pygments_lexer": "ipython3",
   "version": "3.8.18"
  }
 },
 "nbformat": 4,
 "nbformat_minor": 5
}
