{
 "cells": [
  {
   "cell_type": "markdown",
   "id": "9a40a487-feae-4700-8d37-555f10ce22b0",
   "metadata": {},
   "source": [
    "# Data preparation\n",
    "\n",
    "Let's start from data preparation:\n",
    "1. Download files from `https://huggingface.co/datasets/dllllb/age-group-prediction/tree/main` to `data/` folder\n",
    "2. Run this script to split it into 5 folds"
   ]
  },
  {
   "cell_type": "code",
   "execution_count": null,
   "id": "65ae648a-01c3-46ec-a6be-50433c59181d",
   "metadata": {},
   "outputs": [],
   "source": []
  },
  {
   "cell_type": "code",
   "execution_count": 1,
   "id": "2d8aa1b8-5385-444b-95fc-8c6c0368010e",
   "metadata": {},
   "outputs": [
    {
     "name": "stdout",
     "output_type": "stream",
     "text": [
      "total 816964\n",
      "drwxr-xr-x 2 jovyan jovyan      4096 Jan 16 01:04 fold_0\n",
      "-rwxr-xr-x 1 jovyan jovyan     10694 Oct 30  2019 small_group_description.csv\n",
      "-rwxr-xr-x 1 jovyan jovyan    115609 Oct 30  2019 test.csv\n",
      "-rwxr-xr-x 1 jovyan jovyan    233306 Oct 30  2019 train_target.csv\n",
      "-rwxr-xr-x 1 jovyan jovyan 333549487 Oct 30  2019 transactions_test.csv\n",
      "-rwxr-xr-x 1 jovyan jovyan 499354971 Oct 30  2019 transactions_train.csv\n"
     ]
    }
   ],
   "source": [
    "!ls -l data/"
   ]
  },
  {
   "cell_type": "code",
   "execution_count": 2,
   "id": "be09b619-0576-4693-8a9f-c7dfe1e2a346",
   "metadata": {},
   "outputs": [],
   "source": [
    "import pickle\n",
    "\n",
    "import numpy as np\n",
    "import pandas as pd\n",
    "\n",
    "from pathlib import Path"
   ]
  },
  {
   "cell_type": "code",
   "execution_count": 3,
   "id": "27360014-b9db-4680-9d3b-618c59e9e5b1",
   "metadata": {},
   "outputs": [],
   "source": [
    "df_trx_test = pd.read_csv('data/transactions_test.csv')\n",
    "df_trx_train = pd.read_csv('data/transactions_train.csv')"
   ]
  },
  {
   "cell_type": "code",
   "execution_count": 4,
   "id": "a72fc0e3-8e98-4189-87b7-58152e17310c",
   "metadata": {},
   "outputs": [],
   "source": [
    "df_target = pd.read_csv('data/train_target.csv')"
   ]
  },
  {
   "cell_type": "code",
   "execution_count": 5,
   "id": "dbbac628-4f89-4402-8c97-61f93abd200e",
   "metadata": {},
   "outputs": [
    {
     "data": {
      "text/html": [
       "<div>\n",
       "<style scoped>\n",
       "    .dataframe tbody tr th:only-of-type {\n",
       "        vertical-align: middle;\n",
       "    }\n",
       "\n",
       "    .dataframe tbody tr th {\n",
       "        vertical-align: top;\n",
       "    }\n",
       "\n",
       "    .dataframe thead th {\n",
       "        text-align: right;\n",
       "    }\n",
       "</style>\n",
       "<table border=\"1\" class=\"dataframe\">\n",
       "  <thead>\n",
       "    <tr style=\"text-align: right;\">\n",
       "      <th></th>\n",
       "      <th>client_id</th>\n",
       "      <th>trans_date</th>\n",
       "      <th>small_group</th>\n",
       "      <th>amount_rur</th>\n",
       "    </tr>\n",
       "  </thead>\n",
       "  <tbody>\n",
       "    <tr>\n",
       "      <th>0</th>\n",
       "      <td>46445</td>\n",
       "      <td>3</td>\n",
       "      <td>0</td>\n",
       "      <td>19.555</td>\n",
       "    </tr>\n",
       "    <tr>\n",
       "      <th>1</th>\n",
       "      <td>46445</td>\n",
       "      <td>3</td>\n",
       "      <td>1</td>\n",
       "      <td>27.774</td>\n",
       "    </tr>\n",
       "    <tr>\n",
       "      <th>2</th>\n",
       "      <td>46445</td>\n",
       "      <td>4</td>\n",
       "      <td>0</td>\n",
       "      <td>18.114</td>\n",
       "    </tr>\n",
       "    <tr>\n",
       "      <th>3</th>\n",
       "      <td>46445</td>\n",
       "      <td>4</td>\n",
       "      <td>1</td>\n",
       "      <td>22.183</td>\n",
       "    </tr>\n",
       "    <tr>\n",
       "      <th>4</th>\n",
       "      <td>46445</td>\n",
       "      <td>5</td>\n",
       "      <td>2</td>\n",
       "      <td>45.795</td>\n",
       "    </tr>\n",
       "  </tbody>\n",
       "</table>\n",
       "</div>"
      ],
      "text/plain": [
       "   client_id  trans_date  small_group  amount_rur\n",
       "0      46445           3            0      19.555\n",
       "1      46445           3            1      27.774\n",
       "2      46445           4            0      18.114\n",
       "3      46445           4            1      22.183\n",
       "4      46445           5            2      45.795"
      ]
     },
     "execution_count": 5,
     "metadata": {},
     "output_type": "execute_result"
    }
   ],
   "source": [
    "df_trx_test.head()"
   ]
  },
  {
   "cell_type": "code",
   "execution_count": 6,
   "id": "90ee1c21-d973-406f-a1bb-b88c51d2c49f",
   "metadata": {},
   "outputs": [
    {
     "data": {
      "text/html": [
       "<div>\n",
       "<style scoped>\n",
       "    .dataframe tbody tr th:only-of-type {\n",
       "        vertical-align: middle;\n",
       "    }\n",
       "\n",
       "    .dataframe tbody tr th {\n",
       "        vertical-align: top;\n",
       "    }\n",
       "\n",
       "    .dataframe thead th {\n",
       "        text-align: right;\n",
       "    }\n",
       "</style>\n",
       "<table border=\"1\" class=\"dataframe\">\n",
       "  <thead>\n",
       "    <tr style=\"text-align: right;\">\n",
       "      <th></th>\n",
       "      <th>client_id</th>\n",
       "      <th>trans_date</th>\n",
       "      <th>small_group</th>\n",
       "      <th>amount_rur</th>\n",
       "    </tr>\n",
       "  </thead>\n",
       "  <tbody>\n",
       "    <tr>\n",
       "      <th>0</th>\n",
       "      <td>33172</td>\n",
       "      <td>6</td>\n",
       "      <td>4</td>\n",
       "      <td>71.463</td>\n",
       "    </tr>\n",
       "    <tr>\n",
       "      <th>1</th>\n",
       "      <td>33172</td>\n",
       "      <td>6</td>\n",
       "      <td>35</td>\n",
       "      <td>45.017</td>\n",
       "    </tr>\n",
       "    <tr>\n",
       "      <th>2</th>\n",
       "      <td>33172</td>\n",
       "      <td>8</td>\n",
       "      <td>11</td>\n",
       "      <td>13.887</td>\n",
       "    </tr>\n",
       "    <tr>\n",
       "      <th>3</th>\n",
       "      <td>33172</td>\n",
       "      <td>9</td>\n",
       "      <td>11</td>\n",
       "      <td>15.983</td>\n",
       "    </tr>\n",
       "    <tr>\n",
       "      <th>4</th>\n",
       "      <td>33172</td>\n",
       "      <td>10</td>\n",
       "      <td>11</td>\n",
       "      <td>21.341</td>\n",
       "    </tr>\n",
       "  </tbody>\n",
       "</table>\n",
       "</div>"
      ],
      "text/plain": [
       "   client_id  trans_date  small_group  amount_rur\n",
       "0      33172           6            4      71.463\n",
       "1      33172           6           35      45.017\n",
       "2      33172           8           11      13.887\n",
       "3      33172           9           11      15.983\n",
       "4      33172          10           11      21.341"
      ]
     },
     "execution_count": 6,
     "metadata": {},
     "output_type": "execute_result"
    }
   ],
   "source": [
    "df_trx_train.head()"
   ]
  },
  {
   "cell_type": "code",
   "execution_count": 7,
   "id": "4be422d3-7d99-4871-87ae-8f712b4c0422",
   "metadata": {},
   "outputs": [
    {
     "data": {
      "text/plain": [
       "(30000, 20000)"
      ]
     },
     "execution_count": 7,
     "metadata": {},
     "output_type": "execute_result"
    }
   ],
   "source": [
    "df_trx_train['client_id'].unique().size, df_trx_test['client_id'].unique().size"
   ]
  },
  {
   "cell_type": "code",
   "execution_count": 8,
   "id": "d49f2a23-3978-4983-9f20-2a7a457e4490",
   "metadata": {},
   "outputs": [
    {
     "data": {
      "text/html": [
       "<div>\n",
       "<style scoped>\n",
       "    .dataframe tbody tr th:only-of-type {\n",
       "        vertical-align: middle;\n",
       "    }\n",
       "\n",
       "    .dataframe tbody tr th {\n",
       "        vertical-align: top;\n",
       "    }\n",
       "\n",
       "    .dataframe thead th {\n",
       "        text-align: right;\n",
       "    }\n",
       "</style>\n",
       "<table border=\"1\" class=\"dataframe\">\n",
       "  <thead>\n",
       "    <tr style=\"text-align: right;\">\n",
       "      <th></th>\n",
       "      <th>client_id</th>\n",
       "      <th>bins</th>\n",
       "    </tr>\n",
       "  </thead>\n",
       "  <tbody>\n",
       "    <tr>\n",
       "      <th>0</th>\n",
       "      <td>24662</td>\n",
       "      <td>2</td>\n",
       "    </tr>\n",
       "    <tr>\n",
       "      <th>1</th>\n",
       "      <td>1046</td>\n",
       "      <td>0</td>\n",
       "    </tr>\n",
       "    <tr>\n",
       "      <th>2</th>\n",
       "      <td>34089</td>\n",
       "      <td>2</td>\n",
       "    </tr>\n",
       "    <tr>\n",
       "      <th>3</th>\n",
       "      <td>34848</td>\n",
       "      <td>1</td>\n",
       "    </tr>\n",
       "    <tr>\n",
       "      <th>4</th>\n",
       "      <td>47076</td>\n",
       "      <td>3</td>\n",
       "    </tr>\n",
       "  </tbody>\n",
       "</table>\n",
       "</div>"
      ],
      "text/plain": [
       "   client_id  bins\n",
       "0      24662     2\n",
       "1       1046     0\n",
       "2      34089     2\n",
       "3      34848     1\n",
       "4      47076     3"
      ]
     },
     "execution_count": 8,
     "metadata": {},
     "output_type": "execute_result"
    }
   ],
   "source": [
    "df_target.head()"
   ]
  },
  {
   "cell_type": "code",
   "execution_count": null,
   "id": "b4aa4d41-adf4-4cac-a32c-605ad7e68cac",
   "metadata": {},
   "outputs": [],
   "source": []
  },
  {
   "cell_type": "code",
   "execution_count": 9,
   "id": "aa6c88ac-31d8-49f4-ba05-cf359e3d0ced",
   "metadata": {},
   "outputs": [],
   "source": [
    "def trx_transform(df):\n",
    "    df['event_time'] = df['trans_date'].astype(float)\n",
    "    df['weekday'] = df['trans_date'] % 7\n",
    "    return df\n",
    "\n",
    "df_trx_train = trx_transform(df_trx_train)\n",
    "df_trx_test = trx_transform(df_trx_test)"
   ]
  },
  {
   "cell_type": "code",
   "execution_count": 10,
   "id": "8f1e6b1a-d012-4e80-9ddc-ebdb7eca7a20",
   "metadata": {},
   "outputs": [
    {
     "data": {
      "text/html": [
       "<div>\n",
       "<style scoped>\n",
       "    .dataframe tbody tr th:only-of-type {\n",
       "        vertical-align: middle;\n",
       "    }\n",
       "\n",
       "    .dataframe tbody tr th {\n",
       "        vertical-align: top;\n",
       "    }\n",
       "\n",
       "    .dataframe thead th {\n",
       "        text-align: right;\n",
       "    }\n",
       "</style>\n",
       "<table border=\"1\" class=\"dataframe\">\n",
       "  <thead>\n",
       "    <tr style=\"text-align: right;\">\n",
       "      <th></th>\n",
       "      <th>client_id</th>\n",
       "      <th>trans_date</th>\n",
       "      <th>small_group</th>\n",
       "      <th>amount_rur</th>\n",
       "      <th>event_time</th>\n",
       "      <th>weekday</th>\n",
       "    </tr>\n",
       "  </thead>\n",
       "  <tbody>\n",
       "    <tr>\n",
       "      <th>0</th>\n",
       "      <td>33172</td>\n",
       "      <td>6</td>\n",
       "      <td>4</td>\n",
       "      <td>71.463</td>\n",
       "      <td>6.0</td>\n",
       "      <td>6</td>\n",
       "    </tr>\n",
       "    <tr>\n",
       "      <th>1</th>\n",
       "      <td>33172</td>\n",
       "      <td>6</td>\n",
       "      <td>35</td>\n",
       "      <td>45.017</td>\n",
       "      <td>6.0</td>\n",
       "      <td>6</td>\n",
       "    </tr>\n",
       "    <tr>\n",
       "      <th>2</th>\n",
       "      <td>33172</td>\n",
       "      <td>8</td>\n",
       "      <td>11</td>\n",
       "      <td>13.887</td>\n",
       "      <td>8.0</td>\n",
       "      <td>1</td>\n",
       "    </tr>\n",
       "    <tr>\n",
       "      <th>3</th>\n",
       "      <td>33172</td>\n",
       "      <td>9</td>\n",
       "      <td>11</td>\n",
       "      <td>15.983</td>\n",
       "      <td>9.0</td>\n",
       "      <td>2</td>\n",
       "    </tr>\n",
       "    <tr>\n",
       "      <th>4</th>\n",
       "      <td>33172</td>\n",
       "      <td>10</td>\n",
       "      <td>11</td>\n",
       "      <td>21.341</td>\n",
       "      <td>10.0</td>\n",
       "      <td>3</td>\n",
       "    </tr>\n",
       "  </tbody>\n",
       "</table>\n",
       "</div>"
      ],
      "text/plain": [
       "   client_id  trans_date  small_group  amount_rur  event_time  weekday\n",
       "0      33172           6            4      71.463         6.0        6\n",
       "1      33172           6           35      45.017         6.0        6\n",
       "2      33172           8           11      13.887         8.0        1\n",
       "3      33172           9           11      15.983         9.0        2\n",
       "4      33172          10           11      21.341        10.0        3"
      ]
     },
     "execution_count": 10,
     "metadata": {},
     "output_type": "execute_result"
    }
   ],
   "source": [
    "df_trx_train.head()"
   ]
  },
  {
   "cell_type": "code",
   "execution_count": 11,
   "id": "08fce4c6-4133-4498-ab86-94207d18d954",
   "metadata": {},
   "outputs": [
    {
     "name": "stderr",
     "output_type": "stream",
     "text": [
      "\n",
      "libgomp: Invalid value for environment variable OMP_NUM_THREADS\n",
      "\n",
      "libgomp: Invalid value for environment variable OMP_NUM_THREADS\n"
     ]
    }
   ],
   "source": [
    "from ptls.preprocessing import PandasDataPreprocessor"
   ]
  },
  {
   "cell_type": "code",
   "execution_count": 12,
   "id": "d5682a2f-9c7f-40a7-b1b7-7a436d7c509f",
   "metadata": {},
   "outputs": [],
   "source": [
    "pdp = PandasDataPreprocessor(\n",
    "    col_id='client_id',\n",
    "    col_event_time='trans_date',\n",
    "    event_time_transformation='none',\n",
    "    cols_category=['small_group', 'weekday'],\n",
    "    category_transformation='frequency',\n",
    "    cols_numerical=['amount_rur'],\n",
    "    return_records=False,\n",
    ")"
   ]
  },
  {
   "cell_type": "code",
   "execution_count": 13,
   "id": "8302321c-928f-447a-9862-0f5e85bc6771",
   "metadata": {},
   "outputs": [],
   "source": [
    "pdp.fit(pd.concat([df_trx_train, df_trx_test], axis=0));"
   ]
  },
  {
   "cell_type": "code",
   "execution_count": 14,
   "id": "301744b6-e463-4d6a-8507-fdf9b539d33b",
   "metadata": {},
   "outputs": [],
   "source": [
    "df_group_train = pdp.transform(df_trx_train)\n",
    "df_group_test = pdp.transform(df_trx_test)"
   ]
  },
  {
   "cell_type": "code",
   "execution_count": 15,
   "id": "9ae652b8-8b20-4053-a7aa-90d7e7cc3542",
   "metadata": {},
   "outputs": [],
   "source": [
    "del df_group_train['trans_date']\n",
    "del df_group_test['trans_date']"
   ]
  },
  {
   "cell_type": "code",
   "execution_count": null,
   "id": "304f6578-0bec-46a5-9e4b-0c8cac9d897a",
   "metadata": {},
   "outputs": [],
   "source": []
  },
  {
   "cell_type": "code",
   "execution_count": 16,
   "id": "15d23f98-e5de-4615-ade3-bd2031695455",
   "metadata": {},
   "outputs": [],
   "source": [
    "from sklearn.model_selection import StratifiedKFold, train_test_split"
   ]
  },
  {
   "cell_type": "code",
   "execution_count": 17,
   "id": "f9e01b18-03e5-4248-8494-ebe92cfe99da",
   "metadata": {},
   "outputs": [
    {
     "name": "stdout",
     "output_type": "stream",
     "text": [
      "0 [18000, 26000, 24000, 6000]\n",
      "1 [18000, 26000, 24000, 6000]\n",
      "2 [18000, 26000, 24000, 6000]\n",
      "3 [18000, 26000, 24000, 6000]\n",
      "4 [18000, 26000, 24000, 6000]\n",
      "Done\n"
     ]
    }
   ],
   "source": [
    "for fold_i, (i_train, i_test) in enumerate(\n",
    "    StratifiedKFold(n_splits=5, shuffle=True, random_state=42).split(df_target['client_id'], df_target['bins'])):\n",
    "\n",
    "    i_trx_pretrain, i_seq_pretrain = train_test_split(\n",
    "        i_train, train_size=8000, shuffle=True, random_state=42, stratify=df_target.iloc[i_train]['bins'])\n",
    "\n",
    "    i_trx_pretrain_uns, i_seq_pretrain_uns = train_test_split(\n",
    "        df_trx_test[['client_id']].drop_duplicates(), train_size=0.5, shuffle=True, random_state=42)\n",
    "\n",
    "\n",
    "\n",
    "    df_trx_pretrain = pd.concat([\n",
    "        df_group_train.merge(df_target.iloc[i_trx_pretrain][['client_id']], left_on='client_id', right_on='client_id'),\n",
    "        df_group_test.merge(i_trx_pretrain_uns, left_on='client_id', right_on='client_id'),\n",
    "    ], axis=0)\n",
    "\n",
    "    df_seq_pretrain = pd.concat([\n",
    "        df_group_train.merge(df_target.iloc[i_seq_pretrain][['client_id']], left_on='client_id', right_on='client_id'),\n",
    "        df_group_test.merge(i_seq_pretrain_uns, left_on='client_id', right_on='client_id'),\n",
    "    ], axis=0)\n",
    "\n",
    "    df_gbm_train = pd.concat([\n",
    "        df_group_train.merge(df_target.iloc[i_trx_pretrain], left_on='client_id', right_on='client_id'),\n",
    "        df_group_train.merge(df_target.iloc[i_seq_pretrain], left_on='client_id', right_on='client_id'),\n",
    "    ], axis=0)\n",
    "\n",
    "    df_gbm_test = pd.concat([\n",
    "        df_group_train.merge(df_target.iloc[i_test], left_on='client_id', right_on='client_id'),\n",
    "    ], axis=0)\n",
    "\n",
    "    print(fold_i, [len(df) for df in [df_trx_pretrain, df_seq_pretrain, df_gbm_train, df_gbm_test]])\n",
    "\n",
    "    Path(f'data/fold_{fold_i}/').mkdir(exist_ok=True)\n",
    "\n",
    "    df_trx_pretrain.to_pickle(f'data/fold_{fold_i}/df_trx_pretrain.pickle')\n",
    "    df_seq_pretrain.to_pickle(f'data/fold_{fold_i}/df_seq_pretrain.pickle')\n",
    "    df_gbm_train.to_pickle(f'data/fold_{fold_i}/df_gbm_train.pickle')\n",
    "    df_gbm_test.to_pickle(f'data/fold_{fold_i}/df_gbm_test.pickle')\n",
    "\n",
    "    with open(f'data/fold_{fold_i}/pdp.pickle', 'wb') as f:\n",
    "        pickle.dump(pdp, f)\n",
    "\n",
    "print('Done')"
   ]
  },
  {
   "cell_type": "code",
   "execution_count": null,
   "id": "8e3542a5-7dee-477e-b612-ac8fe71c24fc",
   "metadata": {},
   "outputs": [],
   "source": []
  }
 ],
 "metadata": {
  "kernelspec": {
   "display_name": "ptls-experiments",
   "language": "python",
   "name": "ptls-experiments"
  },
  "language_info": {
   "codemirror_mode": {
    "name": "ipython",
    "version": 3
   },
   "file_extension": ".py",
   "mimetype": "text/x-python",
   "name": "python",
   "nbconvert_exporter": "python",
   "pygments_lexer": "ipython3",
   "version": "3.8.18"
  }
 },
 "nbformat": 4,
 "nbformat_minor": 5
}
